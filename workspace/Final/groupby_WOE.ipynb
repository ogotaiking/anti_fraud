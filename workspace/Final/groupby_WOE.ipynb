{
 "cells": [
  {
   "cell_type": "code",
   "execution_count": 1,
   "metadata": {},
   "outputs": [
    {
     "data": {
      "text/html": [
       "<style>.container { width:100% !important; }</style>"
      ],
      "text/plain": [
       "<IPython.core.display.HTML object>"
      ]
     },
     "metadata": {},
     "output_type": "display_data"
    }
   ],
   "source": [
    "from IPython.core.display import display, HTML\n",
    "display(HTML(\"<style>.container { width:100% !important; }</style>\"))\n",
    "%matplotlib inline\n",
    "import matplotlib\n",
    "import matplotlib.pyplot as plt\n",
    "import matplotlib.gridspec as gridspec\n",
    "import seaborn as sns\n",
    "import os\n",
    "\n",
    "import numpy as np\n",
    "import pandas as pd\n",
    "import tensorflow as tf\n",
    "\n",
    "import atecml.data\n",
    "\n",
    "from contextlib import contextmanager\n",
    "from tqdm import tqdm\n",
    "from sklearn.neighbors import KNeighborsClassifier\n",
    "from sklearn.preprocessing import StandardScaler, MinMaxScaler\n",
    "from sklearn.decomposition import PCA\n",
    "from sklearn.externals import joblib\n",
    "from sklearn.linear_model import LogisticRegressionCV\n",
    "#build Models...\n",
    "from sklearn.ensemble import RandomForestClassifier\n",
    "from sklearn.ensemble import ExtraTreesClassifier\n",
    "from sklearn.ensemble import GradientBoostingClassifier\n",
    "from sklearn.tree import DecisionTreeClassifier\n",
    "import lightgbm as lgb\n",
    "from xgboost import XGBClassifier\n",
    "from sklearn.model_selection import train_test_split\n",
    "from sklearn.externals import joblib\n",
    "from imblearn.over_sampling import SMOTE, ADASYN\n",
    "import random\n",
    "\n",
    "plt.style.use('ggplot')"
   ]
  },
  {
   "cell_type": "code",
   "execution_count": 2,
   "metadata": {},
   "outputs": [],
   "source": [
    "train_df = pd.read_pickle('./01_train.dat')\n"
   ]
  },
  {
   "cell_type": "code",
   "execution_count": 3,
   "metadata": {},
   "outputs": [],
   "source": [
    "#unknown_idx = list(train_df[train_df.label == -1].index)\n",
    "#train_df.loc[unknown_idx,'Fraud'] =1"
   ]
  },
  {
   "cell_type": "code",
   "execution_count": 4,
   "metadata": {},
   "outputs": [
    {
     "data": {
      "text/plain": [
       "(765667, 229064)"
      ]
     },
     "execution_count": 4,
     "metadata": {},
     "output_type": "execute_result"
    }
   ],
   "source": [
    "#Fold\n",
    "foo = atecml.data.load_train()\n",
    "\n",
    "predictors = [x for x in foo.columns if x not in atecml.data.NOT_FEATURE_COLUMNS2]\n",
    "predictors.append('mean')\n",
    "DateFold={}\n",
    "\n",
    "DateFold[0] = set(atecml.data.filter_date(train_df,start_date='2017-09-05',end_date='2017-09-13').index)\n",
    "DateFold[1] = set(atecml.data.filter_date(train_df,start_date='2017-09-14',end_date='2017-09-22').index)\n",
    "DateFold[2] = set(atecml.data.filter_date(train_df,start_date='2017-09-23',end_date='2017-10-01').index)\n",
    "DateFold[3] = set(atecml.data.filter_date(train_df,start_date='2017-10-02',end_date='2017-10-12').index)\n",
    "DateFold[4] = set(atecml.data.filter_date(train_df,start_date='2017-10-13',end_date='2017-10-22').index)\n",
    "DateFold[5] = list(atecml.data.filter_date(train_df,start_date='2017-10-23',end_date='2017-11-24').index)\n",
    "\n",
    "all_list = set(train_df.index) - set(DateFold[5])\n",
    "len(all_list),len(DateFold[5])"
   ]
  },
  {
   "cell_type": "code",
   "execution_count": 22,
   "metadata": {},
   "outputs": [
    {
     "data": {
      "text/plain": [
       "\"\\nWOE_RANGE =[]\\nWOE_RANGE.append({ 'low': -1000, 'high': -0.75 })\\nWOE_RANGE.append({ 'low': -0.75, 'high': 4000 })\\n\""
      ]
     },
     "execution_count": 22,
     "metadata": {},
     "output_type": "execute_result"
    }
   ],
   "source": [
    "#将WOE mean作为信用分，进行分组，这里有测试集的leakage，根据测试集分组的， 因为各个WOE mean的权重不同\n",
    "\n",
    "WOE_RANGE =[]\n",
    "WOE_RANGE.append({ 'low': -1000, 'high': -0.75 })\n",
    "WOE_RANGE.append({ 'low': -0.75, 'high': -0.5 })\n",
    "WOE_RANGE.append({ 'low': -0.5, 'high': -0.2 })\n",
    "WOE_RANGE.append({ 'low': -0.2, 'high': 0.2 })\n",
    "WOE_RANGE.append({ 'low': 0.2, 'high': 0.5 })\n",
    "WOE_RANGE.append({ 'low': 0.5, 'high': 1000 })\n",
    "\n",
    "'''\n",
    "WOE_RANGE =[]\n",
    "WOE_RANGE.append({ 'low': -1000, 'high': -0.75 })\n",
    "WOE_RANGE.append({ 'low': -0.75, 'high': 4000 })\n",
    "'''"
   ]
  },
  {
   "cell_type": "code",
   "execution_count": 23,
   "metadata": {},
   "outputs": [
    {
     "data": {
      "text/plain": [
       "6"
      ]
     },
     "execution_count": 23,
     "metadata": {},
     "output_type": "execute_result"
    }
   ],
   "source": [
    "len(WOE_RANGE)"
   ]
  },
  {
   "cell_type": "code",
   "execution_count": 24,
   "metadata": {},
   "outputs": [],
   "source": [
    "WOE_LIST = joblib.load('./woe_feature.dat')\n",
    "CATE_LIST = WOE_LIST + atecml.data.CATE_FEATURE_LIST\n",
    "\n",
    "categorical=[]\n",
    "for item in predictors:\n",
    "    if (item in CATE_LIST):\n",
    "        categorical.append(item)"
   ]
  },
  {
   "cell_type": "code",
   "execution_count": 25,
   "metadata": {},
   "outputs": [],
   "source": [
    "num_boosting_round = 1000\n",
    "early_stop_round = 200"
   ]
  },
  {
   "cell_type": "code",
   "execution_count": 28,
   "metadata": {},
   "outputs": [],
   "source": [
    "params = {\n",
    "    \n",
    "    'objective': 'binary',\n",
    "    'metric': 'auc',\n",
    "    'use_missing' : True,\n",
    "    'is_unbalance': True,\n",
    "    #'scale_pos_weight': 98,\n",
    "    'learning_rate': 0.05,\n",
    "    'num_leaves': 80,  # we should let it be smaller than 2^(max_depth)\n",
    "    'max_depth': -1,  # -1 means no limit\n",
    "    'min_child_samples': 5,  # Minimum number of data need in a child(min_data_in_leaf)\n",
    "    'max_bin': 255,  # Number of bucketed bin for feature values\n",
    "    'colsample_bytree': 0.7,\n",
    "    'subsample': 0.85,  # Subsample ratio of the training instance.\n",
    "    'subsample_freq': 1,  # frequence of subsample, <=0 means no enable\n",
    "    'min_child_weight': 0,  # Minimum sum of instance weight(hessian) needed in a child(leaf)\n",
    "    'subsample_for_bin': 200000,  # Number of samples for constructing bin\n",
    "    'min_split_gain': 0,  # lambda_l1, lambda_l2 and min_gain_to_split to regularization\n",
    "    'reg_alpha': 0.01,  # L1 regularization term on weights\n",
    "    'reg_lambda': 0.1,  # L2 regularization term on weights\n",
    "    'nthread': 40,\n",
    "    'n_estimators': num_boosting_round,\n",
    "    'verbose': -1,\n",
    "}\n",
    "\n",
    "rf = {\n",
    "    'boosting_type': 'rf',\n",
    "}\n",
    "rf.update(params)\n",
    "\n",
    "dart = {\n",
    "    'boosting_type': 'dart',\n",
    "}\n",
    "dart.update(params)\n",
    "\n",
    "gbdt = {\n",
    "    'boosting_type': 'gbdt',\n",
    "}\n",
    "gbdt.update(params)\n",
    "\n",
    "param_list = [gbdt,dart]"
   ]
  },
  {
   "cell_type": "code",
   "execution_count": 29,
   "metadata": {
    "scrolled": true
   },
   "outputs": [
    {
     "name": "stderr",
     "output_type": "stream",
     "text": [
      "\n",
      "  0%|          | 0/15 [00:00<?, ?it/s]\u001b[A"
     ]
    },
    {
     "name": "stdout",
     "output_type": "stream",
     "text": [
      "3535 79309 43830 22791\n",
      "starting fit model...\n",
      "Training until validation scores don't improve for 200 rounds.\n",
      "[200]\tvalid_0's auc: 0.950791\n",
      "[400]\tvalid_0's auc: 0.950959\n",
      "Early stopping, best iteration is:\n",
      "[296]\tvalid_0's auc: 0.951347\n",
      "starting fit model...\n",
      "Training until validation scores don't improve for 200 rounds.\n",
      "[200]\tvalid_0's auc: 0.94607\n",
      "[400]\tvalid_0's auc: 0.949088\n",
      "[600]\tvalid_0's auc: 0.950202\n"
     ]
    },
    {
     "name": "stderr",
     "output_type": "stream",
     "text": [
      "\n",
      "  7%|▋         | 1/15 [00:41<09:42, 41.60s/it]\u001b[A"
     ]
    },
    {
     "name": "stdout",
     "output_type": "stream",
     "text": [
      "Early stopping, best iteration is:\n",
      "[566]\tvalid_0's auc: 0.950383\n",
      "3535 79309 43989 22791\n",
      "starting fit model...\n",
      "Training until validation scores don't improve for 200 rounds.\n",
      "[200]\tvalid_0's auc: 0.950164\n",
      "[400]\tvalid_0's auc: 0.949957\n",
      "[600]\tvalid_0's auc: 0.950392\n",
      "[800]\tvalid_0's auc: 0.950583\n",
      "[1000]\tvalid_0's auc: 0.950541\n",
      "Did not meet early stopping. Best iteration is:\n",
      "[903]\tvalid_0's auc: 0.950722\n",
      "starting fit model...\n",
      "Training until validation scores don't improve for 200 rounds.\n",
      "[200]\tvalid_0's auc: 0.947376\n",
      "[400]\tvalid_0's auc: 0.94946\n",
      "[600]\tvalid_0's auc: 0.950063\n",
      "[800]\tvalid_0's auc: 0.950314\n"
     ]
    },
    {
     "name": "stderr",
     "output_type": "stream",
     "text": [
      "\n",
      " 13%|█▎        | 2/15 [01:39<10:49, 49.94s/it]\u001b[A"
     ]
    },
    {
     "name": "stdout",
     "output_type": "stream",
     "text": [
      "[1000]\tvalid_0's auc: 0.950827\n",
      "Did not meet early stopping. Best iteration is:\n",
      "[999]\tvalid_0's auc: 0.950829\n",
      "3535 79309 43986 22791\n",
      "starting fit model...\n",
      "Training until validation scores don't improve for 200 rounds.\n",
      "[200]\tvalid_0's auc: 0.948983\n",
      "[400]\tvalid_0's auc: 0.948411\n",
      "Early stopping, best iteration is:\n",
      "[203]\tvalid_0's auc: 0.949004\n",
      "starting fit model...\n",
      "Training until validation scores don't improve for 200 rounds.\n",
      "[200]\tvalid_0's auc: 0.946677\n",
      "[400]\tvalid_0's auc: 0.947753\n",
      "[600]\tvalid_0's auc: 0.948798\n"
     ]
    },
    {
     "name": "stderr",
     "output_type": "stream",
     "text": [
      "\n",
      " 20%|██        | 3/15 [02:17<09:11, 45.97s/it]\u001b[A"
     ]
    },
    {
     "name": "stdout",
     "output_type": "stream",
     "text": [
      "Early stopping, best iteration is:\n",
      "[545]\tvalid_0's auc: 0.949269\n",
      "3381 84128 42900 18090\n",
      "starting fit model...\n",
      "Training until validation scores don't improve for 200 rounds.\n",
      "[200]\tvalid_0's auc: 0.947554\n",
      "Early stopping, best iteration is:\n",
      "[152]\tvalid_0's auc: 0.94817\n",
      "starting fit model...\n",
      "Training until validation scores don't improve for 200 rounds.\n",
      "[200]\tvalid_0's auc: 0.94732\n",
      "[400]\tvalid_0's auc: 0.94979\n",
      "[600]\tvalid_0's auc: 0.950087\n"
     ]
    },
    {
     "name": "stderr",
     "output_type": "stream",
     "text": [
      "\n",
      " 27%|██▋       | 4/15 [02:53<07:57, 43.37s/it]\u001b[A"
     ]
    },
    {
     "name": "stdout",
     "output_type": "stream",
     "text": [
      "Early stopping, best iteration is:\n",
      "[547]\tvalid_0's auc: 0.950266\n",
      "3381 84128 43020 18090\n",
      "starting fit model...\n",
      "Training until validation scores don't improve for 200 rounds.\n",
      "[200]\tvalid_0's auc: 0.94833\n",
      "Early stopping, best iteration is:\n",
      "[158]\tvalid_0's auc: 0.949011\n",
      "starting fit model...\n",
      "Training until validation scores don't improve for 200 rounds.\n",
      "[200]\tvalid_0's auc: 0.947988\n",
      "[400]\tvalid_0's auc: 0.94957\n",
      "[600]\tvalid_0's auc: 0.949765\n"
     ]
    },
    {
     "name": "stderr",
     "output_type": "stream",
     "text": [
      "\n",
      " 33%|███▎      | 5/15 [03:28<06:56, 41.68s/it]\u001b[A"
     ]
    },
    {
     "name": "stdout",
     "output_type": "stream",
     "text": [
      "Early stopping, best iteration is:\n",
      "[527]\tvalid_0's auc: 0.950051\n",
      "3381 84128 42882 18090\n",
      "starting fit model...\n",
      "Training until validation scores don't improve for 200 rounds.\n",
      "[200]\tvalid_0's auc: 0.946543\n",
      "Early stopping, best iteration is:\n",
      "[147]\tvalid_0's auc: 0.946938\n",
      "starting fit model...\n",
      "Training until validation scores don't improve for 200 rounds.\n",
      "[200]\tvalid_0's auc: 0.947158\n",
      "[400]\tvalid_0's auc: 0.94891\n"
     ]
    },
    {
     "name": "stderr",
     "output_type": "stream",
     "text": [
      "\n",
      " 40%|████      | 6/15 [03:58<05:58, 39.83s/it]\u001b[A"
     ]
    },
    {
     "name": "stdout",
     "output_type": "stream",
     "text": [
      "Early stopping, best iteration is:\n",
      "[387]\tvalid_0's auc: 0.949116\n",
      "2898 85774 38073 16918\n",
      "starting fit model...\n",
      "Training until validation scores don't improve for 200 rounds.\n",
      "[200]\tvalid_0's auc: 0.948975\n",
      "Early stopping, best iteration is:\n",
      "[80]\tvalid_0's auc: 0.953994\n",
      "starting fit model...\n",
      "Training until validation scores don't improve for 200 rounds.\n",
      "[200]\tvalid_0's auc: 0.953288\n"
     ]
    },
    {
     "name": "stderr",
     "output_type": "stream",
     "text": [
      "\n",
      " 47%|████▋     | 7/15 [04:20<04:57, 37.19s/it]\u001b[A"
     ]
    },
    {
     "name": "stdout",
     "output_type": "stream",
     "text": [
      "Early stopping, best iteration is:\n",
      "[187]\tvalid_0's auc: 0.954125\n",
      "2898 85774 38133 16918\n",
      "starting fit model...\n",
      "Training until validation scores don't improve for 200 rounds.\n",
      "[200]\tvalid_0's auc: 0.948755\n",
      "Early stopping, best iteration is:\n",
      "[71]\tvalid_0's auc: 0.954966\n",
      "starting fit model...\n",
      "Training until validation scores don't improve for 200 rounds.\n",
      "[200]\tvalid_0's auc: 0.954493\n",
      "[400]\tvalid_0's auc: 0.954807\n"
     ]
    },
    {
     "name": "stderr",
     "output_type": "stream",
     "text": [
      "\n",
      " 53%|█████▎    | 8/15 [04:45<04:10, 35.73s/it]\u001b[A"
     ]
    },
    {
     "name": "stdout",
     "output_type": "stream",
     "text": [
      "Early stopping, best iteration is:\n",
      "[323]\tvalid_0's auc: 0.955327\n",
      "2898 85774 38083 16918\n",
      "starting fit model...\n",
      "Training until validation scores don't improve for 200 rounds.\n",
      "[200]\tvalid_0's auc: 0.948266\n",
      "Early stopping, best iteration is:\n",
      "[47]\tvalid_0's auc: 0.95446\n",
      "starting fit model...\n",
      "Training until validation scores don't improve for 200 rounds.\n",
      "[200]\tvalid_0's auc: 0.954226\n",
      "[400]\tvalid_0's auc: 0.953662\n"
     ]
    },
    {
     "name": "stderr",
     "output_type": "stream",
     "text": [
      "\n",
      " 60%|██████    | 9/15 [05:09<03:26, 34.39s/it]\u001b[A"
     ]
    },
    {
     "name": "stdout",
     "output_type": "stream",
     "text": [
      "Early stopping, best iteration is:\n",
      "[262]\tvalid_0's auc: 0.955567\n",
      "3273 76314 40975 26034\n",
      "starting fit model...\n",
      "Training until validation scores don't improve for 200 rounds.\n",
      "[200]\tvalid_0's auc: 0.959794\n",
      "Early stopping, best iteration is:\n",
      "[109]\tvalid_0's auc: 0.961914\n",
      "starting fit model...\n",
      "Training until validation scores don't improve for 200 rounds.\n",
      "[200]\tvalid_0's auc: 0.960504\n",
      "[400]\tvalid_0's auc: 0.96206\n",
      "[600]\tvalid_0's auc: 0.962716\n"
     ]
    },
    {
     "name": "stderr",
     "output_type": "stream",
     "text": [
      "\n",
      " 67%|██████▋   | 10/15 [05:43<02:51, 34.37s/it]\u001b[A"
     ]
    },
    {
     "name": "stdout",
     "output_type": "stream",
     "text": [
      "Early stopping, best iteration is:\n",
      "[458]\tvalid_0's auc: 0.963521\n",
      "3273 76314 40894 26034\n",
      "starting fit model...\n",
      "Training until validation scores don't improve for 200 rounds.\n",
      "[200]\tvalid_0's auc: 0.961746\n",
      "[400]\tvalid_0's auc: 0.963348\n",
      "[600]\tvalid_0's auc: 0.964345\n",
      "[800]\tvalid_0's auc: 0.965348\n",
      "[1000]\tvalid_0's auc: 0.965797\n",
      "Did not meet early stopping. Best iteration is:\n",
      "[974]\tvalid_0's auc: 0.965922\n",
      "starting fit model...\n",
      "Training until validation scores don't improve for 200 rounds.\n",
      "[200]\tvalid_0's auc: 0.962714\n",
      "[400]\tvalid_0's auc: 0.964385\n",
      "[600]\tvalid_0's auc: 0.964996\n",
      "[800]\tvalid_0's auc: 0.963566\n"
     ]
    },
    {
     "name": "stderr",
     "output_type": "stream",
     "text": [
      "\n",
      " 73%|███████▎  | 11/15 [06:35<02:23, 35.95s/it]\u001b[A"
     ]
    },
    {
     "name": "stdout",
     "output_type": "stream",
     "text": [
      "Early stopping, best iteration is:\n",
      "[623]\tvalid_0's auc: 0.965271\n",
      "3273 76314 40969 26034\n",
      "starting fit model...\n",
      "Training until validation scores don't improve for 200 rounds.\n",
      "[200]\tvalid_0's auc: 0.961051\n",
      "Early stopping, best iteration is:\n",
      "[126]\tvalid_0's auc: 0.962402\n",
      "starting fit model...\n",
      "Training until validation scores don't improve for 200 rounds.\n",
      "[200]\tvalid_0's auc: 0.962657\n",
      "[400]\tvalid_0's auc: 0.964715\n"
     ]
    },
    {
     "name": "stderr",
     "output_type": "stream",
     "text": [
      "\n",
      " 80%|████████  | 12/15 [07:07<01:46, 35.65s/it]\u001b[A"
     ]
    },
    {
     "name": "stdout",
     "output_type": "stream",
     "text": [
      "Early stopping, best iteration is:\n",
      "[386]\tvalid_0's auc: 0.965088\n",
      "3485 79359 43463 22783\n",
      "starting fit model...\n",
      "Training until validation scores don't improve for 200 rounds.\n",
      "[200]\tvalid_0's auc: 0.935597\n",
      "[400]\tvalid_0's auc: 0.936911\n",
      "[600]\tvalid_0's auc: 0.937321\n",
      "Early stopping, best iteration is:\n",
      "[469]\tvalid_0's auc: 0.937675\n",
      "starting fit model...\n",
      "Training until validation scores don't improve for 200 rounds.\n",
      "[200]\tvalid_0's auc: 0.929858\n",
      "[400]\tvalid_0's auc: 0.935372\n",
      "[600]\tvalid_0's auc: 0.934926\n"
     ]
    },
    {
     "name": "stderr",
     "output_type": "stream",
     "text": [
      "\n",
      " 87%|████████▋ | 13/15 [07:48<01:12, 36.01s/it]\u001b[A"
     ]
    },
    {
     "name": "stdout",
     "output_type": "stream",
     "text": [
      "Early stopping, best iteration is:\n",
      "[519]\tvalid_0's auc: 0.936263\n",
      "3485 79359 43574 22783\n",
      "starting fit model...\n",
      "Training until validation scores don't improve for 200 rounds.\n",
      "[200]\tvalid_0's auc: 0.934576\n",
      "[400]\tvalid_0's auc: 0.935873\n",
      "[600]\tvalid_0's auc: 0.936949\n",
      "[800]\tvalid_0's auc: 0.937391\n",
      "[1000]\tvalid_0's auc: 0.938786\n",
      "Did not meet early stopping. Best iteration is:\n",
      "[931]\tvalid_0's auc: 0.938827\n",
      "starting fit model...\n",
      "Training until validation scores don't improve for 200 rounds.\n",
      "[200]\tvalid_0's auc: 0.930714\n",
      "[400]\tvalid_0's auc: 0.933375\n"
     ]
    },
    {
     "name": "stderr",
     "output_type": "stream",
     "text": [
      "\n",
      " 93%|█████████▎| 14/15 [08:25<00:36, 36.13s/it]\u001b[A"
     ]
    },
    {
     "name": "stdout",
     "output_type": "stream",
     "text": [
      "Early stopping, best iteration is:\n",
      "[289]\tvalid_0's auc: 0.935105\n",
      "3485 79359 43410 22783\n",
      "starting fit model...\n",
      "Training until validation scores don't improve for 200 rounds.\n",
      "[200]\tvalid_0's auc: 0.935745\n",
      "[400]\tvalid_0's auc: 0.937231\n",
      "[600]\tvalid_0's auc: 0.938772\n",
      "[800]\tvalid_0's auc: 0.939824\n",
      "[1000]\tvalid_0's auc: 0.939201\n",
      "Did not meet early stopping. Best iteration is:\n",
      "[885]\tvalid_0's auc: 0.940004\n",
      "starting fit model...\n",
      "Training until validation scores don't improve for 200 rounds.\n",
      "[200]\tvalid_0's auc: 0.930691\n",
      "[400]\tvalid_0's auc: 0.935476\n",
      "[600]\tvalid_0's auc: 0.936161\n"
     ]
    },
    {
     "name": "stderr",
     "output_type": "stream",
     "text": [
      "\n",
      "100%|██████████| 15/15 [09:12<00:00, 36.85s/it]\u001b[A\n",
      "\u001b[A\n",
      "  0%|          | 0/15 [00:00<?, ?it/s]\u001b[A"
     ]
    },
    {
     "name": "stdout",
     "output_type": "stream",
     "text": [
      "Early stopping, best iteration is:\n",
      "[548]\tvalid_0's auc: 0.937119\n",
      "133 129 395 7\n",
      "starting fit model...\n",
      "Training until validation scores don't improve for 200 rounds.\n",
      "[200]\tvalid_0's auc: 1\n",
      "Early stopping, best iteration is:\n",
      "[15]\tvalid_0's auc: 1\n",
      "starting fit model...\n",
      "Training until validation scores don't improve for 200 rounds.\n"
     ]
    },
    {
     "name": "stderr",
     "output_type": "stream",
     "text": [
      "\n",
      "  7%|▋         | 1/15 [00:05<01:16,  5.46s/it]\u001b[A"
     ]
    },
    {
     "name": "stdout",
     "output_type": "stream",
     "text": [
      "[200]\tvalid_0's auc: 1\n",
      "Early stopping, best iteration is:\n",
      "[15]\tvalid_0's auc: 1\n",
      "133 129 395 7\n",
      "starting fit model...\n",
      "Training until validation scores don't improve for 200 rounds.\n",
      "[200]\tvalid_0's auc: 1\n",
      "Early stopping, best iteration is:\n",
      "[15]\tvalid_0's auc: 1\n",
      "starting fit model...\n",
      "Training until validation scores don't improve for 200 rounds.\n"
     ]
    },
    {
     "name": "stderr",
     "output_type": "stream",
     "text": [
      "\n",
      " 13%|█▎        | 2/15 [00:10<01:10,  5.44s/it]\u001b[A"
     ]
    },
    {
     "name": "stdout",
     "output_type": "stream",
     "text": [
      "[200]\tvalid_0's auc: 1\n",
      "Early stopping, best iteration is:\n",
      "[15]\tvalid_0's auc: 1\n",
      "133 129 395 7\n",
      "starting fit model...\n",
      "Training until validation scores don't improve for 200 rounds.\n",
      "[200]\tvalid_0's auc: 1\n",
      "Early stopping, best iteration is:\n",
      "[15]\tvalid_0's auc: 1\n",
      "starting fit model...\n",
      "Training until validation scores don't improve for 200 rounds.\n"
     ]
    },
    {
     "name": "stderr",
     "output_type": "stream",
     "text": [
      "\n",
      " 20%|██        | 3/15 [00:16<01:04,  5.38s/it]\u001b[A"
     ]
    },
    {
     "name": "stdout",
     "output_type": "stream",
     "text": [
      "[200]\tvalid_0's auc: 1\n",
      "Early stopping, best iteration is:\n",
      "[15]\tvalid_0's auc: 1\n",
      "107 85 299 78\n",
      "starting fit model...\n",
      "Training until validation scores don't improve for 200 rounds.\n",
      "[200]\tvalid_0's auc: 0.612857\n",
      "Early stopping, best iteration is:\n",
      "[63]\tvalid_0's auc: 0.632143\n",
      "starting fit model...\n",
      "Training until validation scores don't improve for 200 rounds.\n",
      "[200]\tvalid_0's auc: 0.637143\n",
      "[400]\tvalid_0's auc: 0.65\n",
      "[600]\tvalid_0's auc: 0.653571\n"
     ]
    },
    {
     "name": "stderr",
     "output_type": "stream",
     "text": [
      "\n",
      " 27%|██▋       | 4/15 [00:23<01:03,  5.76s/it]\u001b[A"
     ]
    },
    {
     "name": "stdout",
     "output_type": "stream",
     "text": [
      "Early stopping, best iteration is:\n",
      "[590]\tvalid_0's auc: 0.656429\n",
      "107 85 299 78\n",
      "starting fit model...\n",
      "Training until validation scores don't improve for 200 rounds.\n",
      "[200]\tvalid_0's auc: 0.612857\n",
      "Early stopping, best iteration is:\n",
      "[63]\tvalid_0's auc: 0.632143\n",
      "starting fit model...\n",
      "Training until validation scores don't improve for 200 rounds.\n",
      "[200]\tvalid_0's auc: 0.637143\n",
      "[400]\tvalid_0's auc: 0.65\n",
      "[600]\tvalid_0's auc: 0.653571\n"
     ]
    },
    {
     "name": "stderr",
     "output_type": "stream",
     "text": [
      "\n",
      " 33%|███▎      | 5/15 [00:30<01:00,  6.04s/it]\u001b[A"
     ]
    },
    {
     "name": "stdout",
     "output_type": "stream",
     "text": [
      "Early stopping, best iteration is:\n",
      "[590]\tvalid_0's auc: 0.656429\n",
      "107 85 299 78\n",
      "starting fit model...\n",
      "Training until validation scores don't improve for 200 rounds.\n",
      "[200]\tvalid_0's auc: 0.612857\n",
      "Early stopping, best iteration is:\n",
      "[63]\tvalid_0's auc: 0.632143\n",
      "starting fit model...\n",
      "Training until validation scores don't improve for 200 rounds.\n",
      "[200]\tvalid_0's auc: 0.637143\n",
      "[400]\tvalid_0's auc: 0.65\n",
      "[600]\tvalid_0's auc: 0.653571\n"
     ]
    },
    {
     "name": "stderr",
     "output_type": "stream",
     "text": [
      "\n",
      " 40%|████      | 6/15 [00:37<00:56,  6.23s/it]\u001b[A"
     ]
    },
    {
     "name": "stdout",
     "output_type": "stream",
     "text": [
      "Early stopping, best iteration is:\n",
      "[590]\tvalid_0's auc: 0.656429\n",
      "119 103 341 53\n",
      "starting fit model...\n",
      "Training until validation scores don't improve for 200 rounds.\n",
      "[200]\tvalid_0's auc: 0.518581\n",
      "Early stopping, best iteration is:\n",
      "[2]\tvalid_0's auc: 0.865709\n",
      "starting fit model...\n",
      "Training until validation scores don't improve for 200 rounds.\n"
     ]
    },
    {
     "name": "stderr",
     "output_type": "stream",
     "text": [
      "\n",
      " 47%|████▋     | 7/15 [00:42<00:48,  6.08s/it]\u001b[A"
     ]
    },
    {
     "name": "stdout",
     "output_type": "stream",
     "text": [
      "[200]\tvalid_0's auc: 0.603041\n",
      "Early stopping, best iteration is:\n",
      "[2]\tvalid_0's auc: 0.865709\n",
      "119 103 341 53\n",
      "starting fit model...\n",
      "Training until validation scores don't improve for 200 rounds.\n",
      "[200]\tvalid_0's auc: 0.518581\n",
      "Early stopping, best iteration is:\n",
      "[2]\tvalid_0's auc: 0.865709\n",
      "starting fit model...\n",
      "Training until validation scores don't improve for 200 rounds.\n"
     ]
    },
    {
     "name": "stderr",
     "output_type": "stream",
     "text": [
      "\n",
      " 53%|█████▎    | 8/15 [00:46<00:41,  5.87s/it]\u001b[A"
     ]
    },
    {
     "name": "stdout",
     "output_type": "stream",
     "text": [
      "[200]\tvalid_0's auc: 0.603041\n",
      "Early stopping, best iteration is:\n",
      "[2]\tvalid_0's auc: 0.865709\n",
      "119 103 341 53\n",
      "starting fit model...\n",
      "Training until validation scores don't improve for 200 rounds.\n",
      "[200]\tvalid_0's auc: 0.518581\n",
      "Early stopping, best iteration is:\n",
      "[2]\tvalid_0's auc: 0.865709\n",
      "starting fit model...\n",
      "Training until validation scores don't improve for 200 rounds.\n"
     ]
    },
    {
     "name": "stderr",
     "output_type": "stream",
     "text": [
      "\n",
      " 60%|██████    | 9/15 [00:51<00:34,  5.76s/it]\u001b[A"
     ]
    },
    {
     "name": "stdout",
     "output_type": "stream",
     "text": [
      "[200]\tvalid_0's auc: 0.603041\n",
      "Early stopping, best iteration is:\n",
      "[2]\tvalid_0's auc: 0.865709\n",
      "118 106 342 47\n",
      "starting fit model...\n",
      "Training until validation scores don't improve for 200 rounds.\n",
      "[200]\tvalid_0's auc: 0.696078\n",
      "Early stopping, best iteration is:\n",
      "[9]\tvalid_0's auc: 0.8\n",
      "starting fit model...\n",
      "Training until validation scores don't improve for 200 rounds.\n"
     ]
    },
    {
     "name": "stderr",
     "output_type": "stream",
     "text": [
      "\n",
      " 67%|██████▋   | 10/15 [00:56<00:28,  5.68s/it]\u001b[A"
     ]
    },
    {
     "name": "stdout",
     "output_type": "stream",
     "text": [
      "[200]\tvalid_0's auc: 0.711765\n",
      "Early stopping, best iteration is:\n",
      "[11]\tvalid_0's auc: 0.810784\n",
      "118 106 342 47\n",
      "starting fit model...\n",
      "Training until validation scores don't improve for 200 rounds.\n",
      "[200]\tvalid_0's auc: 0.696078\n",
      "Early stopping, best iteration is:\n",
      "[9]\tvalid_0's auc: 0.8\n",
      "starting fit model...\n",
      "Training until validation scores don't improve for 200 rounds.\n"
     ]
    },
    {
     "name": "stderr",
     "output_type": "stream",
     "text": [
      "\n",
      " 73%|███████▎  | 11/15 [01:01<00:22,  5.63s/it]\u001b[A"
     ]
    },
    {
     "name": "stdout",
     "output_type": "stream",
     "text": [
      "[200]\tvalid_0's auc: 0.711765\n",
      "Early stopping, best iteration is:\n",
      "[11]\tvalid_0's auc: 0.810784\n",
      "118 106 342 47\n",
      "starting fit model...\n",
      "Training until validation scores don't improve for 200 rounds.\n",
      "[200]\tvalid_0's auc: 0.696078\n",
      "Early stopping, best iteration is:\n",
      "[9]\tvalid_0's auc: 0.8\n",
      "starting fit model...\n",
      "Training until validation scores don't improve for 200 rounds.\n"
     ]
    },
    {
     "name": "stderr",
     "output_type": "stream",
     "text": [
      "\n",
      " 80%|████████  | 12/15 [01:07<00:16,  5.60s/it]\u001b[A"
     ]
    },
    {
     "name": "stdout",
     "output_type": "stream",
     "text": [
      "[200]\tvalid_0's auc: 0.711765\n",
      "Early stopping, best iteration is:\n",
      "[11]\tvalid_0's auc: 0.810784\n",
      "63 109 235 100\n",
      "starting fit model...\n",
      "Training until validation scores don't improve for 200 rounds.\n",
      "[200]\tvalid_0's auc: 0.344742\n",
      "Early stopping, best iteration is:\n",
      "[2]\tvalid_0's auc: 0.564484\n",
      "starting fit model...\n",
      "Training until validation scores don't improve for 200 rounds.\n"
     ]
    },
    {
     "name": "stderr",
     "output_type": "stream",
     "text": [
      "\n",
      " 87%|████████▋ | 13/15 [01:11<00:10,  5.50s/it]\u001b[A"
     ]
    },
    {
     "name": "stdout",
     "output_type": "stream",
     "text": [
      "[200]\tvalid_0's auc: 0.354663\n",
      "Early stopping, best iteration is:\n",
      "[2]\tvalid_0's auc: 0.564484\n",
      "63 109 235 100\n",
      "starting fit model...\n",
      "Training until validation scores don't improve for 200 rounds.\n",
      "[200]\tvalid_0's auc: 0.344742\n",
      "Early stopping, best iteration is:\n",
      "[2]\tvalid_0's auc: 0.564484\n",
      "starting fit model...\n",
      "Training until validation scores don't improve for 200 rounds.\n"
     ]
    },
    {
     "name": "stderr",
     "output_type": "stream",
     "text": [
      "\n",
      " 93%|█████████▎| 14/15 [01:16<00:05,  5.45s/it]\u001b[A"
     ]
    },
    {
     "name": "stdout",
     "output_type": "stream",
     "text": [
      "[200]\tvalid_0's auc: 0.354663\n",
      "Early stopping, best iteration is:\n",
      "[2]\tvalid_0's auc: 0.564484\n",
      "63 109 235 100\n",
      "starting fit model...\n",
      "Training until validation scores don't improve for 200 rounds.\n",
      "[200]\tvalid_0's auc: 0.344742\n",
      "Early stopping, best iteration is:\n",
      "[2]\tvalid_0's auc: 0.564484\n",
      "starting fit model...\n",
      "Training until validation scores don't improve for 200 rounds.\n"
     ]
    },
    {
     "name": "stderr",
     "output_type": "stream",
     "text": [
      "\n",
      "100%|██████████| 15/15 [01:20<00:00,  5.37s/it]\u001b[A\n",
      "\u001b[A\n",
      "  0%|          | 0/15 [00:00<?, ?it/s]\u001b[A"
     ]
    },
    {
     "name": "stdout",
     "output_type": "stream",
     "text": [
      "[200]\tvalid_0's auc: 0.354663\n",
      "Early stopping, best iteration is:\n",
      "[2]\tvalid_0's auc: 0.564484\n",
      "773 2227 3753 291\n",
      "starting fit model...\n",
      "Training until validation scores don't improve for 200 rounds.\n",
      "[200]\tvalid_0's auc: 0.778506\n",
      "[400]\tvalid_0's auc: 0.787552\n",
      "[600]\tvalid_0's auc: 0.792116\n",
      "[800]\tvalid_0's auc: 0.792282\n",
      "Early stopping, best iteration is:\n",
      "[751]\tvalid_0's auc: 0.792946\n",
      "starting fit model...\n",
      "Training until validation scores don't improve for 200 rounds.\n",
      "[200]\tvalid_0's auc: 0.748465\n",
      "[400]\tvalid_0's auc: 0.794689\n",
      "[600]\tvalid_0's auc: 0.805726\n",
      "[800]\tvalid_0's auc: 0.814523\n"
     ]
    },
    {
     "name": "stderr",
     "output_type": "stream",
     "text": [
      "\n",
      "  7%|▋         | 1/15 [00:33<07:48, 33.47s/it]\u001b[A"
     ]
    },
    {
     "name": "stdout",
     "output_type": "stream",
     "text": [
      "[1000]\tvalid_0's auc: 0.827303\n",
      "Did not meet early stopping. Best iteration is:\n",
      "[999]\tvalid_0's auc: 0.827386\n",
      "773 2227 3755 291\n",
      "starting fit model...\n",
      "Training until validation scores don't improve for 200 rounds.\n",
      "[200]\tvalid_0's auc: 0.823402\n",
      "[400]\tvalid_0's auc: 0.832365\n",
      "Early stopping, best iteration is:\n",
      "[373]\tvalid_0's auc: 0.83444\n",
      "starting fit model...\n",
      "Training until validation scores don't improve for 200 rounds.\n",
      "[200]\tvalid_0's auc: 0.740664\n",
      "[400]\tvalid_0's auc: 0.790456\n",
      "[600]\tvalid_0's auc: 0.799087\n",
      "[800]\tvalid_0's auc: 0.810788\n"
     ]
    },
    {
     "name": "stderr",
     "output_type": "stream",
     "text": [
      "\n",
      " 13%|█▎        | 2/15 [01:03<06:55, 31.95s/it]\u001b[A"
     ]
    },
    {
     "name": "stdout",
     "output_type": "stream",
     "text": [
      "[1000]\tvalid_0's auc: 0.815021\n",
      "Did not meet early stopping. Best iteration is:\n",
      "[998]\tvalid_0's auc: 0.815519\n",
      "773 2227 3756 291\n",
      "starting fit model...\n",
      "Training until validation scores don't improve for 200 rounds.\n",
      "[200]\tvalid_0's auc: 0.800249\n",
      "[400]\tvalid_0's auc: 0.815353\n",
      "[600]\tvalid_0's auc: 0.815851\n",
      "Early stopping, best iteration is:\n",
      "[567]\tvalid_0's auc: 0.817427\n",
      "starting fit model...\n",
      "Training until validation scores don't improve for 200 rounds.\n",
      "[200]\tvalid_0's auc: 0.783402\n",
      "[400]\tvalid_0's auc: 0.805975\n",
      "[600]\tvalid_0's auc: 0.826722\n"
     ]
    },
    {
     "name": "stderr",
     "output_type": "stream",
     "text": [
      "\n",
      " 20%|██        | 3/15 [01:31<06:04, 30.40s/it]\u001b[A"
     ]
    },
    {
     "name": "stdout",
     "output_type": "stream",
     "text": [
      "Early stopping, best iteration is:\n",
      "[580]\tvalid_0's auc: 0.830207\n",
      "707 2063 3469 561\n",
      "starting fit model...\n",
      "Training until validation scores don't improve for 200 rounds.\n",
      "[200]\tvalid_0's auc: 0.749361\n",
      "Early stopping, best iteration is:\n",
      "[59]\tvalid_0's auc: 0.771426\n",
      "starting fit model...\n",
      "Training until validation scores don't improve for 200 rounds.\n",
      "[200]\tvalid_0's auc: 0.743956\n"
     ]
    },
    {
     "name": "stderr",
     "output_type": "stream",
     "text": [
      "\n",
      " 27%|██▋       | 4/15 [01:42<04:41, 25.62s/it]\u001b[A"
     ]
    },
    {
     "name": "stdout",
     "output_type": "stream",
     "text": [
      "Early stopping, best iteration is:\n",
      "[48]\tvalid_0's auc: 0.771077\n",
      "707 2063 3457 561\n",
      "starting fit model...\n",
      "Training until validation scores don't improve for 200 rounds.\n",
      "[200]\tvalid_0's auc: 0.74659\n",
      "Early stopping, best iteration is:\n",
      "[84]\tvalid_0's auc: 0.758408\n",
      "starting fit model...\n",
      "Training until validation scores don't improve for 200 rounds.\n",
      "[200]\tvalid_0's auc: 0.754552\n"
     ]
    },
    {
     "name": "stderr",
     "output_type": "stream",
     "text": [
      "\n",
      " 33%|███▎      | 5/15 [01:56<03:52, 23.21s/it]\u001b[A"
     ]
    },
    {
     "name": "stdout",
     "output_type": "stream",
     "text": [
      "Early stopping, best iteration is:\n",
      "[133]\tvalid_0's auc: 0.775901\n",
      "707 2063 3464 561\n",
      "starting fit model...\n",
      "Training until validation scores don't improve for 200 rounds.\n",
      "[200]\tvalid_0's auc: 0.733301\n",
      "Early stopping, best iteration is:\n",
      "[84]\tvalid_0's auc: 0.744924\n",
      "starting fit model...\n",
      "Training until validation scores don't improve for 200 rounds.\n",
      "[200]\tvalid_0's auc: 0.748508\n"
     ]
    },
    {
     "name": "stderr",
     "output_type": "stream",
     "text": [
      "\n",
      " 40%|████      | 6/15 [02:08<03:12, 21.40s/it]\u001b[A"
     ]
    },
    {
     "name": "stdout",
     "output_type": "stream",
     "text": [
      "Early stopping, best iteration is:\n",
      "[86]\tvalid_0's auc: 0.760849\n",
      "653 1865 3154 810\n",
      "starting fit model...\n",
      "Training until validation scores don't improve for 200 rounds.\n",
      "[200]\tvalid_0's auc: 0.739329\n",
      "[400]\tvalid_0's auc: 0.734173\n",
      "Early stopping, best iteration is:\n",
      "[204]\tvalid_0's auc: 0.740818\n",
      "starting fit model...\n",
      "Training until validation scores don't improve for 200 rounds.\n",
      "[200]\tvalid_0's auc: 0.736397\n"
     ]
    },
    {
     "name": "stderr",
     "output_type": "stream",
     "text": [
      "\n",
      " 47%|████▋     | 7/15 [02:23<02:43, 20.45s/it]\u001b[A"
     ]
    },
    {
     "name": "stdout",
     "output_type": "stream",
     "text": [
      "Early stopping, best iteration is:\n",
      "[129]\tvalid_0's auc: 0.749669\n",
      "653 1865 3162 810\n",
      "starting fit model...\n",
      "Training until validation scores don't improve for 200 rounds.\n",
      "[200]\tvalid_0's auc: 0.733419\n",
      "Early stopping, best iteration is:\n",
      "[12]\tvalid_0's auc: 0.742422\n",
      "starting fit model...\n",
      "Training until validation scores don't improve for 200 rounds.\n",
      "[200]\tvalid_0's auc: 0.734678\n"
     ]
    },
    {
     "name": "stderr",
     "output_type": "stream",
     "text": [
      "\n",
      " 53%|█████▎    | 8/15 [02:33<02:14, 19.20s/it]\u001b[A"
     ]
    },
    {
     "name": "stdout",
     "output_type": "stream",
     "text": [
      "Early stopping, best iteration is:\n",
      "[52]\tvalid_0's auc: 0.747665\n",
      "653 1865 3150 810\n",
      "starting fit model...\n",
      "Training until validation scores don't improve for 200 rounds.\n",
      "[200]\tvalid_0's auc: 0.742509\n",
      "Early stopping, best iteration is:\n",
      "[31]\tvalid_0's auc: 0.756673\n",
      "starting fit model...\n",
      "Training until validation scores don't improve for 200 rounds.\n",
      "[200]\tvalid_0's auc: 0.748051\n"
     ]
    },
    {
     "name": "stderr",
     "output_type": "stream",
     "text": [
      "\n",
      " 60%|██████    | 9/15 [02:47<01:51, 18.57s/it]\u001b[A"
     ]
    },
    {
     "name": "stdout",
     "output_type": "stream",
     "text": [
      "[400]\tvalid_0's auc: 0.736967\n",
      "Early stopping, best iteration is:\n",
      "[207]\tvalid_0's auc: 0.749347\n",
      "531 1666 2700 1139\n",
      "starting fit model...\n",
      "Training until validation scores don't improve for 200 rounds.\n",
      "[200]\tvalid_0's auc: 0.670198\n",
      "[400]\tvalid_0's auc: 0.678426\n",
      "[600]\tvalid_0's auc: 0.683626\n",
      "[800]\tvalid_0's auc: 0.685963\n",
      "[1000]\tvalid_0's auc: 0.687794\n",
      "Did not meet early stopping. Best iteration is:\n",
      "[999]\tvalid_0's auc: 0.687806\n",
      "starting fit model...\n",
      "Training until validation scores don't improve for 200 rounds.\n",
      "[200]\tvalid_0's auc: 0.669341\n",
      "[400]\tvalid_0's auc: 0.684086\n",
      "[600]\tvalid_0's auc: 0.685781\n",
      "[800]\tvalid_0's auc: 0.686609\n"
     ]
    },
    {
     "name": "stderr",
     "output_type": "stream",
     "text": [
      "\n",
      " 67%|██████▋   | 10/15 [03:17<01:38, 19.79s/it]\u001b[A"
     ]
    },
    {
     "name": "stdout",
     "output_type": "stream",
     "text": [
      "[1000]\tvalid_0's auc: 0.690317\n",
      "Did not meet early stopping. Best iteration is:\n",
      "[887]\tvalid_0's auc: 0.6913\n",
      "531 1666 2713 1139\n",
      "starting fit model...\n",
      "Training until validation scores don't improve for 200 rounds.\n",
      "[200]\tvalid_0's auc: 0.661897\n",
      "[400]\tvalid_0's auc: 0.671718\n",
      "[600]\tvalid_0's auc: 0.676057\n",
      "[800]\tvalid_0's auc: 0.678575\n",
      "[1000]\tvalid_0's auc: 0.680221\n",
      "Did not meet early stopping. Best iteration is:\n",
      "[1000]\tvalid_0's auc: 0.680221\n",
      "starting fit model...\n",
      "Training until validation scores don't improve for 200 rounds.\n",
      "[200]\tvalid_0's auc: 0.634932\n",
      "[400]\tvalid_0's auc: 0.666923\n"
     ]
    },
    {
     "name": "stderr",
     "output_type": "stream",
     "text": [
      "\n",
      " 73%|███████▎  | 11/15 [03:41<01:20, 20.10s/it]\u001b[A"
     ]
    },
    {
     "name": "stdout",
     "output_type": "stream",
     "text": [
      "Early stopping, best iteration is:\n",
      "[398]\tvalid_0's auc: 0.667764\n",
      "531 1666 2710 1139\n",
      "starting fit model...\n",
      "Training until validation scores don't improve for 200 rounds.\n",
      "[200]\tvalid_0's auc: 0.657094\n",
      "Early stopping, best iteration is:\n",
      "[1]\tvalid_0's auc: 0.687368\n",
      "starting fit model...\n",
      "Training until validation scores don't improve for 200 rounds.\n"
     ]
    },
    {
     "name": "stderr",
     "output_type": "stream",
     "text": [
      "\n",
      " 80%|████████  | 12/15 [03:51<00:57, 19.26s/it]\u001b[A"
     ]
    },
    {
     "name": "stdout",
     "output_type": "stream",
     "text": [
      "[200]\tvalid_0's auc: 0.651898\n",
      "Early stopping, best iteration is:\n",
      "[1]\tvalid_0's auc: 0.687368\n",
      "628 1979 3212 701\n",
      "starting fit model...\n",
      "Training until validation scores don't improve for 200 rounds.\n",
      "[200]\tvalid_0's auc: 0.687494\n",
      "[400]\tvalid_0's auc: 0.690727\n",
      "[600]\tvalid_0's auc: 0.688294\n",
      "Early stopping, best iteration is:\n",
      "[407]\tvalid_0's auc: 0.691152\n",
      "starting fit model...\n",
      "Training until validation scores don't improve for 200 rounds.\n",
      "[200]\tvalid_0's auc: 0.673396\n",
      "[400]\tvalid_0's auc: 0.681453\n"
     ]
    },
    {
     "name": "stderr",
     "output_type": "stream",
     "text": [
      "\n",
      " 87%|████████▋ | 13/15 [04:09<00:38, 19.22s/it]\u001b[A"
     ]
    },
    {
     "name": "stdout",
     "output_type": "stream",
     "text": [
      "Early stopping, best iteration is:\n",
      "[267]\tvalid_0's auc: 0.683835\n",
      "628 1979 3220 701\n",
      "starting fit model...\n",
      "Training until validation scores don't improve for 200 rounds.\n",
      "[200]\tvalid_0's auc: 0.676062\n",
      "[400]\tvalid_0's auc: 0.678747\n",
      "Early stopping, best iteration is:\n",
      "[284]\tvalid_0's auc: 0.6797\n",
      "starting fit model...\n",
      "Training until validation scores don't improve for 200 rounds.\n",
      "[200]\tvalid_0's auc: 0.652103\n"
     ]
    },
    {
     "name": "stderr",
     "output_type": "stream",
     "text": [
      "\n",
      " 93%|█████████▎| 14/15 [04:23<00:18, 18.81s/it]\u001b[A"
     ]
    },
    {
     "name": "stdout",
     "output_type": "stream",
     "text": [
      "Early stopping, best iteration is:\n",
      "[23]\tvalid_0's auc: 0.662638\n",
      "628 1979 3211 701\n",
      "starting fit model...\n",
      "Training until validation scores don't improve for 200 rounds.\n",
      "[200]\tvalid_0's auc: 0.671785\n",
      "[400]\tvalid_0's auc: 0.676112\n",
      "[600]\tvalid_0's auc: 0.677957\n",
      "[800]\tvalid_0's auc: 0.678909\n",
      "[1000]\tvalid_0's auc: 0.679406\n",
      "Did not meet early stopping. Best iteration is:\n",
      "[908]\tvalid_0's auc: 0.67969\n",
      "starting fit model...\n",
      "Training until validation scores don't improve for 200 rounds.\n",
      "[200]\tvalid_0's auc: 0.660039\n",
      "[400]\tvalid_0's auc: 0.672727\n",
      "[600]\tvalid_0's auc: 0.674045\n"
     ]
    },
    {
     "name": "stderr",
     "output_type": "stream",
     "text": [
      "\n",
      "100%|██████████| 15/15 [04:48<00:00, 19.27s/it]\u001b[A\n",
      "\u001b[A\n",
      "  0%|          | 0/15 [00:00<?, ?it/s]\u001b[A"
     ]
    },
    {
     "name": "stdout",
     "output_type": "stream",
     "text": [
      "Early stopping, best iteration is:\n",
      "[480]\tvalid_0's auc: 0.677633\n",
      "1754 17198 16587 5798\n",
      "starting fit model...\n",
      "Training until validation scores don't improve for 200 rounds.\n",
      "[200]\tvalid_0's auc: 0.77202\n",
      "[400]\tvalid_0's auc: 0.772461\n",
      "[600]\tvalid_0's auc: 0.776675\n",
      "Early stopping, best iteration is:\n",
      "[559]\tvalid_0's auc: 0.777794\n",
      "starting fit model...\n",
      "Training until validation scores don't improve for 200 rounds.\n",
      "[200]\tvalid_0's auc: 0.77308\n",
      "[400]\tvalid_0's auc: 0.786248\n",
      "[600]\tvalid_0's auc: 0.778291\n"
     ]
    },
    {
     "name": "stderr",
     "output_type": "stream",
     "text": [
      "\n",
      "  7%|▋         | 1/15 [00:35<08:14, 35.29s/it]\u001b[A"
     ]
    },
    {
     "name": "stdout",
     "output_type": "stream",
     "text": [
      "Early stopping, best iteration is:\n",
      "[408]\tvalid_0's auc: 0.787085\n",
      "1754 17198 16552 5798\n",
      "starting fit model...\n",
      "Training until validation scores don't improve for 200 rounds.\n",
      "[200]\tvalid_0's auc: 0.771691\n",
      "Early stopping, best iteration is:\n",
      "[133]\tvalid_0's auc: 0.779179\n",
      "starting fit model...\n",
      "Training until validation scores don't improve for 200 rounds.\n",
      "[200]\tvalid_0's auc: 0.763726\n"
     ]
    },
    {
     "name": "stderr",
     "output_type": "stream",
     "text": [
      "\n",
      " 13%|█▎        | 2/15 [00:55<06:00, 27.72s/it]\u001b[A"
     ]
    },
    {
     "name": "stdout",
     "output_type": "stream",
     "text": [
      "Early stopping, best iteration is:\n",
      "[140]\tvalid_0's auc: 0.77194\n",
      "1754 17198 16605 5798\n",
      "starting fit model...\n",
      "Training until validation scores don't improve for 200 rounds.\n",
      "[200]\tvalid_0's auc: 0.77327\n",
      "[400]\tvalid_0's auc: 0.774503\n",
      "[600]\tvalid_0's auc: 0.776154\n",
      "Early stopping, best iteration is:\n",
      "[586]\tvalid_0's auc: 0.7772\n",
      "starting fit model...\n",
      "Training until validation scores don't improve for 200 rounds.\n",
      "[200]\tvalid_0's auc: 0.764933\n"
     ]
    },
    {
     "name": "stderr",
     "output_type": "stream",
     "text": [
      "\n",
      " 20%|██        | 3/15 [01:20<05:22, 26.87s/it]\u001b[A"
     ]
    },
    {
     "name": "stdout",
     "output_type": "stream",
     "text": [
      "Early stopping, best iteration is:\n",
      "[19]\tvalid_0's auc: 0.77071\n",
      "1927 19186 18371 3609\n",
      "starting fit model...\n",
      "Training until validation scores don't improve for 200 rounds.\n",
      "[200]\tvalid_0's auc: 0.808672\n",
      "Early stopping, best iteration is:\n",
      "[156]\tvalid_0's auc: 0.810658\n",
      "starting fit model...\n",
      "Training until validation scores don't improve for 200 rounds.\n",
      "[200]\tvalid_0's auc: 0.814406\n",
      "[400]\tvalid_0's auc: 0.818549\n",
      "[600]\tvalid_0's auc: 0.819068\n"
     ]
    },
    {
     "name": "stderr",
     "output_type": "stream",
     "text": [
      "\n",
      " 27%|██▋       | 4/15 [01:51<05:07, 27.97s/it]\u001b[A"
     ]
    },
    {
     "name": "stdout",
     "output_type": "stream",
     "text": [
      "Early stopping, best iteration is:\n",
      "[468]\tvalid_0's auc: 0.822109\n",
      "1927 19186 18317 3609\n",
      "starting fit model...\n",
      "Training until validation scores don't improve for 200 rounds.\n",
      "[200]\tvalid_0's auc: 0.80694\n",
      "[400]\tvalid_0's auc: 0.809066\n",
      "[600]\tvalid_0's auc: 0.810545\n",
      "[800]\tvalid_0's auc: 0.812149\n",
      "Early stopping, best iteration is:\n",
      "[765]\tvalid_0's auc: 0.812997\n",
      "starting fit model...\n",
      "Training until validation scores don't improve for 200 rounds.\n",
      "[200]\tvalid_0's auc: 0.812011\n"
     ]
    },
    {
     "name": "stderr",
     "output_type": "stream",
     "text": [
      "\n",
      " 33%|███▎      | 5/15 [02:27<04:54, 29.44s/it]\u001b[A"
     ]
    },
    {
     "name": "stdout",
     "output_type": "stream",
     "text": [
      "Early stopping, best iteration is:\n",
      "[194]\tvalid_0's auc: 0.813188\n",
      "1927 19186 18315 3609\n",
      "starting fit model...\n",
      "Training until validation scores don't improve for 200 rounds.\n",
      "[200]\tvalid_0's auc: 0.821455\n",
      "Early stopping, best iteration is:\n",
      "[177]\tvalid_0's auc: 0.823117\n",
      "starting fit model...\n",
      "Training until validation scores don't improve for 200 rounds.\n",
      "[200]\tvalid_0's auc: 0.819841\n"
     ]
    },
    {
     "name": "stderr",
     "output_type": "stream",
     "text": [
      "\n",
      " 40%|████      | 6/15 [02:49<04:14, 28.23s/it]\u001b[A"
     ]
    },
    {
     "name": "stdout",
     "output_type": "stream",
     "text": [
      "Early stopping, best iteration is:\n",
      "[150]\tvalid_0's auc: 0.824067\n",
      "1796 18548 17373 4373\n",
      "starting fit model...\n",
      "Training until validation scores don't improve for 200 rounds.\n",
      "[200]\tvalid_0's auc: 0.801455\n",
      "[400]\tvalid_0's auc: 0.806966\n",
      "[600]\tvalid_0's auc: 0.811049\n",
      "[800]\tvalid_0's auc: 0.812613\n",
      "[1000]\tvalid_0's auc: 0.813768\n",
      "Did not meet early stopping. Best iteration is:\n",
      "[1000]\tvalid_0's auc: 0.813768\n",
      "starting fit model...\n",
      "Training until validation scores don't improve for 200 rounds.\n",
      "[200]\tvalid_0's auc: 0.804968\n",
      "[400]\tvalid_0's auc: 0.806152\n"
     ]
    },
    {
     "name": "stderr",
     "output_type": "stream",
     "text": [
      "\n",
      " 47%|████▋     | 7/15 [03:27<03:56, 29.57s/it]\u001b[A"
     ]
    },
    {
     "name": "stdout",
     "output_type": "stream",
     "text": [
      "Early stopping, best iteration is:\n",
      "[297]\tvalid_0's auc: 0.80892\n",
      "1796 18548 17407 4373\n",
      "starting fit model...\n",
      "Training until validation scores don't improve for 200 rounds.\n",
      "[200]\tvalid_0's auc: 0.802343\n",
      "Early stopping, best iteration is:\n",
      "[163]\tvalid_0's auc: 0.804905\n",
      "starting fit model...\n",
      "Training until validation scores don't improve for 200 rounds.\n",
      "[200]\tvalid_0's auc: 0.802149\n",
      "[400]\tvalid_0's auc: 0.808661\n",
      "[600]\tvalid_0's auc: 0.810703\n"
     ]
    },
    {
     "name": "stderr",
     "output_type": "stream",
     "text": [
      "\n",
      " 53%|█████▎    | 8/15 [03:57<03:28, 29.73s/it]\u001b[A"
     ]
    },
    {
     "name": "stdout",
     "output_type": "stream",
     "text": [
      "Early stopping, best iteration is:\n",
      "[445]\tvalid_0's auc: 0.811126\n",
      "1796 18548 17308 4373\n",
      "starting fit model...\n",
      "Training until validation scores don't improve for 200 rounds.\n",
      "[200]\tvalid_0's auc: 0.801003\n",
      "Early stopping, best iteration is:\n",
      "[107]\tvalid_0's auc: 0.805645\n",
      "starting fit model...\n",
      "Training until validation scores don't improve for 200 rounds.\n",
      "[200]\tvalid_0's auc: 0.806477\n",
      "[400]\tvalid_0's auc: 0.815623\n"
     ]
    },
    {
     "name": "stderr",
     "output_type": "stream",
     "text": [
      "\n",
      " 60%|██████    | 9/15 [04:25<02:57, 29.52s/it]\u001b[A"
     ]
    },
    {
     "name": "stdout",
     "output_type": "stream",
     "text": [
      "Early stopping, best iteration is:\n",
      "[397]\tvalid_0's auc: 0.816267\n",
      "1582 16459 15339 6776\n",
      "starting fit model...\n",
      "Training until validation scores don't improve for 200 rounds.\n",
      "[200]\tvalid_0's auc: 0.866867\n",
      "[400]\tvalid_0's auc: 0.869339\n",
      "[600]\tvalid_0's auc: 0.87077\n",
      "[800]\tvalid_0's auc: 0.871986\n",
      "[1000]\tvalid_0's auc: 0.873534\n",
      "Did not meet early stopping. Best iteration is:\n",
      "[998]\tvalid_0's auc: 0.873546\n",
      "starting fit model...\n",
      "Training until validation scores don't improve for 200 rounds.\n",
      "[200]\tvalid_0's auc: 0.851267\n",
      "[400]\tvalid_0's auc: 0.858332\n",
      "[600]\tvalid_0's auc: 0.860734\n",
      "[800]\tvalid_0's auc: 0.863307\n"
     ]
    },
    {
     "name": "stderr",
     "output_type": "stream",
     "text": [
      "\n",
      " 67%|██████▋   | 10/15 [05:17<02:38, 31.77s/it]\u001b[A"
     ]
    },
    {
     "name": "stdout",
     "output_type": "stream",
     "text": [
      "[1000]\tvalid_0's auc: 0.865408\n",
      "Did not meet early stopping. Best iteration is:\n",
      "[969]\tvalid_0's auc: 0.86664\n",
      "1582 16459 15334 6776\n",
      "starting fit model...\n",
      "Training until validation scores don't improve for 200 rounds.\n",
      "[200]\tvalid_0's auc: 0.857958\n",
      "[400]\tvalid_0's auc: 0.865898\n",
      "[600]\tvalid_0's auc: 0.868581\n",
      "[800]\tvalid_0's auc: 0.871099\n",
      "[1000]\tvalid_0's auc: 0.87186\n",
      "Did not meet early stopping. Best iteration is:\n",
      "[992]\tvalid_0's auc: 0.87195\n",
      "starting fit model...\n",
      "Training until validation scores don't improve for 200 rounds.\n",
      "[200]\tvalid_0's auc: 0.846786\n",
      "[400]\tvalid_0's auc: 0.854571\n",
      "[600]\tvalid_0's auc: 0.859046\n",
      "[800]\tvalid_0's auc: 0.859826\n"
     ]
    },
    {
     "name": "stderr",
     "output_type": "stream",
     "text": [
      "\n",
      " 73%|███████▎  | 11/15 [06:11<02:15, 33.77s/it]\u001b[A"
     ]
    },
    {
     "name": "stdout",
     "output_type": "stream",
     "text": [
      "[1000]\tvalid_0's auc: 0.860903\n",
      "Did not meet early stopping. Best iteration is:\n",
      "[995]\tvalid_0's auc: 0.861396\n",
      "1582 16459 15347 6776\n",
      "starting fit model...\n",
      "Training until validation scores don't improve for 200 rounds.\n",
      "[200]\tvalid_0's auc: 0.855318\n",
      "[400]\tvalid_0's auc: 0.857058\n",
      "[600]\tvalid_0's auc: 0.862255\n",
      "[800]\tvalid_0's auc: 0.865954\n",
      "[1000]\tvalid_0's auc: 0.86788\n",
      "Did not meet early stopping. Best iteration is:\n",
      "[998]\tvalid_0's auc: 0.867908\n",
      "starting fit model...\n",
      "Training until validation scores don't improve for 200 rounds.\n",
      "[200]\tvalid_0's auc: 0.850611\n"
     ]
    },
    {
     "name": "stderr",
     "output_type": "stream",
     "text": [
      "\n",
      " 80%|████████  | 12/15 [06:41<01:40, 33.45s/it]\u001b[A"
     ]
    },
    {
     "name": "stdout",
     "output_type": "stream",
     "text": [
      "Early stopping, best iteration is:\n",
      "[21]\tvalid_0's auc: 0.852187\n",
      "1645 17853 16214 5254\n",
      "starting fit model...\n",
      "Training until validation scores don't improve for 200 rounds.\n",
      "[200]\tvalid_0's auc: 0.82624\n",
      "Early stopping, best iteration is:\n",
      "[88]\tvalid_0's auc: 0.833138\n",
      "starting fit model...\n",
      "Training until validation scores don't improve for 200 rounds.\n",
      "[200]\tvalid_0's auc: 0.833489\n",
      "[400]\tvalid_0's auc: 0.834732\n",
      "[600]\tvalid_0's auc: 0.835026\n"
     ]
    },
    {
     "name": "stderr",
     "output_type": "stream",
     "text": [
      "\n",
      " 87%|████████▋ | 13/15 [07:12<01:06, 33.23s/it]\u001b[A"
     ]
    },
    {
     "name": "stdout",
     "output_type": "stream",
     "text": [
      "Early stopping, best iteration is:\n",
      "[476]\tvalid_0's auc: 0.839913\n",
      "1645 17853 16285 5254\n",
      "starting fit model...\n",
      "Training until validation scores don't improve for 200 rounds.\n",
      "[200]\tvalid_0's auc: 0.832493\n",
      "Early stopping, best iteration is:\n",
      "[141]\tvalid_0's auc: 0.836937\n",
      "starting fit model...\n",
      "Training until validation scores don't improve for 200 rounds.\n",
      "[200]\tvalid_0's auc: 0.83583\n",
      "[400]\tvalid_0's auc: 0.838669\n"
     ]
    },
    {
     "name": "stderr",
     "output_type": "stream",
     "text": [
      "\n",
      " 93%|█████████▎| 14/15 [07:38<00:32, 32.75s/it]\u001b[A"
     ]
    },
    {
     "name": "stdout",
     "output_type": "stream",
     "text": [
      "Early stopping, best iteration is:\n",
      "[369]\tvalid_0's auc: 0.840577\n",
      "1645 17853 16214 5254\n",
      "starting fit model...\n",
      "Training until validation scores don't improve for 200 rounds.\n",
      "[200]\tvalid_0's auc: 0.829389\n",
      "[400]\tvalid_0's auc: 0.831824\n",
      "[600]\tvalid_0's auc: 0.832923\n",
      "[800]\tvalid_0's auc: 0.833608\n",
      "Early stopping, best iteration is:\n",
      "[655]\tvalid_0's auc: 0.83423\n",
      "starting fit model...\n",
      "Training until validation scores don't improve for 200 rounds.\n",
      "[200]\tvalid_0's auc: 0.837415\n",
      "[400]\tvalid_0's auc: 0.838679\n"
     ]
    },
    {
     "name": "stderr",
     "output_type": "stream",
     "text": [
      "\n",
      "100%|██████████| 15/15 [08:13<00:00, 32.89s/it]\u001b[A\n",
      "\u001b[A\n",
      "  0%|          | 0/15 [00:00<?, ?it/s]\u001b[A"
     ]
    },
    {
     "name": "stdout",
     "output_type": "stream",
     "text": [
      "Early stopping, best iteration is:\n",
      "[308]\tvalid_0's auc: 0.840512\n",
      "1062 106719 15962 72206\n",
      "starting fit model...\n",
      "Training until validation scores don't improve for 200 rounds.\n",
      "[200]\tvalid_0's auc: 0.899579\n",
      "[400]\tvalid_0's auc: 0.904597\n",
      "[600]\tvalid_0's auc: 0.906595\n",
      "[800]\tvalid_0's auc: 0.906563\n",
      "Early stopping, best iteration is:\n",
      "[622]\tvalid_0's auc: 0.906944\n",
      "starting fit model...\n",
      "Training until validation scores don't improve for 200 rounds.\n",
      "[200]\tvalid_0's auc: 0.885978\n",
      "[400]\tvalid_0's auc: 0.896071\n",
      "[600]\tvalid_0's auc: 0.899108\n",
      "[800]\tvalid_0's auc: 0.9005\n"
     ]
    },
    {
     "name": "stderr",
     "output_type": "stream",
     "text": [
      "\n",
      "  7%|▋         | 1/15 [01:11<16:43, 71.71s/it]\u001b[A"
     ]
    },
    {
     "name": "stdout",
     "output_type": "stream",
     "text": [
      "[1000]\tvalid_0's auc: 0.901171\n",
      "Did not meet early stopping. Best iteration is:\n",
      "[842]\tvalid_0's auc: 0.90164\n",
      "1062 106719 15991 72206\n",
      "starting fit model...\n",
      "Training until validation scores don't improve for 200 rounds.\n",
      "[200]\tvalid_0's auc: 0.913874\n",
      "[400]\tvalid_0's auc: 0.919698\n",
      "[600]\tvalid_0's auc: 0.920095\n",
      "Early stopping, best iteration is:\n",
      "[530]\tvalid_0's auc: 0.920264\n",
      "starting fit model...\n",
      "Training until validation scores don't improve for 200 rounds.\n",
      "[200]\tvalid_0's auc: 0.902736\n",
      "[400]\tvalid_0's auc: 0.911083\n",
      "[600]\tvalid_0's auc: 0.913377\n",
      "[800]\tvalid_0's auc: 0.913003\n"
     ]
    },
    {
     "name": "stderr",
     "output_type": "stream",
     "text": [
      "\n",
      " 13%|█▎        | 2/15 [02:21<15:18, 70.62s/it]\u001b[A"
     ]
    },
    {
     "name": "stdout",
     "output_type": "stream",
     "text": [
      "[1000]\tvalid_0's auc: 0.915076\n",
      "Did not meet early stopping. Best iteration is:\n",
      "[941]\tvalid_0's auc: 0.91573\n",
      "1062 106719 16034 72206\n",
      "starting fit model...\n",
      "Training until validation scores don't improve for 200 rounds.\n",
      "[200]\tvalid_0's auc: 0.899478\n",
      "[400]\tvalid_0's auc: 0.904656\n",
      "[600]\tvalid_0's auc: 0.906405\n",
      "[800]\tvalid_0's auc: 0.907684\n",
      "Early stopping, best iteration is:\n",
      "[764]\tvalid_0's auc: 0.907883\n",
      "starting fit model...\n",
      "Training until validation scores don't improve for 200 rounds.\n",
      "[200]\tvalid_0's auc: 0.900728\n",
      "[400]\tvalid_0's auc: 0.904364\n",
      "[600]\tvalid_0's auc: 0.907216\n",
      "[800]\tvalid_0's auc: 0.909897\n"
     ]
    },
    {
     "name": "stderr",
     "output_type": "stream",
     "text": [
      "\n",
      " 20%|██        | 3/15 [03:32<14:10, 70.86s/it]\u001b[A"
     ]
    },
    {
     "name": "stdout",
     "output_type": "stream",
     "text": [
      "Early stopping, best iteration is:\n",
      "[700]\tvalid_0's auc: 0.910487\n",
      "1233 144073 18684 34644\n",
      "starting fit model...\n",
      "Training until validation scores don't improve for 200 rounds.\n",
      "[200]\tvalid_0's auc: 0.9214\n",
      "[400]\tvalid_0's auc: 0.925325\n",
      "[600]\tvalid_0's auc: 0.925945\n",
      "Early stopping, best iteration is:\n",
      "[499]\tvalid_0's auc: 0.926751\n",
      "starting fit model...\n",
      "Training until validation scores don't improve for 200 rounds.\n",
      "[200]\tvalid_0's auc: 0.909738\n",
      "[400]\tvalid_0's auc: 0.92155\n",
      "[600]\tvalid_0's auc: 0.926469\n",
      "[800]\tvalid_0's auc: 0.930191\n"
     ]
    },
    {
     "name": "stderr",
     "output_type": "stream",
     "text": [
      "\n",
      " 27%|██▋       | 4/15 [04:30<12:25, 67.74s/it]\u001b[A"
     ]
    },
    {
     "name": "stdout",
     "output_type": "stream",
     "text": [
      "[1000]\tvalid_0's auc: 0.931539\n",
      "Did not meet early stopping. Best iteration is:\n",
      "[984]\tvalid_0's auc: 0.932041\n",
      "1233 144073 18715 34644\n",
      "starting fit model...\n",
      "Training until validation scores don't improve for 200 rounds.\n",
      "[200]\tvalid_0's auc: 0.921193\n",
      "[400]\tvalid_0's auc: 0.923476\n",
      "Early stopping, best iteration is:\n",
      "[351]\tvalid_0's auc: 0.924078\n",
      "starting fit model...\n",
      "Training until validation scores don't improve for 200 rounds.\n",
      "[200]\tvalid_0's auc: 0.909741\n",
      "[400]\tvalid_0's auc: 0.922197\n",
      "[600]\tvalid_0's auc: 0.92322\n"
     ]
    },
    {
     "name": "stderr",
     "output_type": "stream",
     "text": [
      "\n",
      " 33%|███▎      | 5/15 [05:14<10:29, 62.94s/it]\u001b[A"
     ]
    },
    {
     "name": "stdout",
     "output_type": "stream",
     "text": [
      "Early stopping, best iteration is:\n",
      "[489]\tvalid_0's auc: 0.924744\n",
      "1233 144073 18749 34644\n",
      "starting fit model...\n",
      "Training until validation scores don't improve for 200 rounds.\n",
      "[200]\tvalid_0's auc: 0.923393\n",
      "[400]\tvalid_0's auc: 0.931645\n",
      "[600]\tvalid_0's auc: 0.93102\n",
      "Early stopping, best iteration is:\n",
      "[493]\tvalid_0's auc: 0.932014\n",
      "starting fit model...\n",
      "Training until validation scores don't improve for 200 rounds.\n",
      "[200]\tvalid_0's auc: 0.917127\n",
      "[400]\tvalid_0's auc: 0.925244\n",
      "[600]\tvalid_0's auc: 0.926883\n",
      "[800]\tvalid_0's auc: 0.927103\n"
     ]
    },
    {
     "name": "stderr",
     "output_type": "stream",
     "text": [
      "\n",
      " 40%|████      | 6/15 [06:07<09:11, 61.30s/it]\u001b[A"
     ]
    },
    {
     "name": "stdout",
     "output_type": "stream",
     "text": [
      "Early stopping, best iteration is:\n",
      "[655]\tvalid_0's auc: 0.929212\n",
      "1118 154937 17120 23873\n",
      "starting fit model...\n",
      "Training until validation scores don't improve for 200 rounds.\n",
      "[200]\tvalid_0's auc: 0.892146\n",
      "[400]\tvalid_0's auc: 0.886927\n",
      "Early stopping, best iteration is:\n",
      "[206]\tvalid_0's auc: 0.892758\n",
      "starting fit model...\n",
      "Training until validation scores don't improve for 200 rounds.\n",
      "[200]\tvalid_0's auc: 0.875972\n",
      "[400]\tvalid_0's auc: 0.886129\n"
     ]
    },
    {
     "name": "stderr",
     "output_type": "stream",
     "text": [
      "\n",
      " 47%|████▋     | 7/15 [06:41<07:38, 57.37s/it]\u001b[A"
     ]
    },
    {
     "name": "stdout",
     "output_type": "stream",
     "text": [
      "Early stopping, best iteration is:\n",
      "[375]\tvalid_0's auc: 0.890121\n",
      "1118 154937 17146 23873\n",
      "starting fit model...\n",
      "Training until validation scores don't improve for 200 rounds.\n",
      "[200]\tvalid_0's auc: 0.87826\n",
      "Early stopping, best iteration is:\n",
      "[161]\tvalid_0's auc: 0.88227\n",
      "starting fit model...\n",
      "Training until validation scores don't improve for 200 rounds.\n",
      "[200]\tvalid_0's auc: 0.891405\n"
     ]
    },
    {
     "name": "stderr",
     "output_type": "stream",
     "text": [
      "\n",
      " 53%|█████▎    | 8/15 [07:07<06:14, 53.45s/it]\u001b[A"
     ]
    },
    {
     "name": "stdout",
     "output_type": "stream",
     "text": [
      "Early stopping, best iteration is:\n",
      "[173]\tvalid_0's auc: 0.892401\n",
      "1118 154937 17131 23873\n",
      "starting fit model...\n",
      "Training until validation scores don't improve for 200 rounds.\n",
      "[200]\tvalid_0's auc: 0.887812\n",
      "Early stopping, best iteration is:\n",
      "[114]\tvalid_0's auc: 0.890913\n",
      "starting fit model...\n",
      "Training until validation scores don't improve for 200 rounds.\n",
      "[200]\tvalid_0's auc: 0.893787\n",
      "[400]\tvalid_0's auc: 0.895379\n"
     ]
    },
    {
     "name": "stderr",
     "output_type": "stream",
     "text": [
      "\n",
      " 60%|██████    | 9/15 [07:34<05:03, 50.53s/it]\u001b[A"
     ]
    },
    {
     "name": "stdout",
     "output_type": "stream",
     "text": [
      "Early stopping, best iteration is:\n",
      "[256]\tvalid_0's auc: 0.897529\n",
      "1151 154302 17615 24520\n",
      "starting fit model...\n",
      "Training until validation scores don't improve for 200 rounds.\n",
      "[200]\tvalid_0's auc: 0.937083\n",
      "[400]\tvalid_0's auc: 0.937433\n",
      "[600]\tvalid_0's auc: 0.937784\n",
      "Early stopping, best iteration is:\n",
      "[476]\tvalid_0's auc: 0.937982\n",
      "starting fit model...\n",
      "Training until validation scores don't improve for 200 rounds.\n",
      "[200]\tvalid_0's auc: 0.93289\n",
      "[400]\tvalid_0's auc: 0.937482\n",
      "[600]\tvalid_0's auc: 0.938043\n"
     ]
    },
    {
     "name": "stderr",
     "output_type": "stream",
     "text": [
      "\n",
      " 67%|██████▋   | 10/15 [08:18<04:09, 49.87s/it]\u001b[A"
     ]
    },
    {
     "name": "stdout",
     "output_type": "stream",
     "text": [
      "Early stopping, best iteration is:\n",
      "[486]\tvalid_0's auc: 0.940338\n",
      "1151 154302 17602 24520\n",
      "starting fit model...\n",
      "Training until validation scores don't improve for 200 rounds.\n",
      "[200]\tvalid_0's auc: 0.93211\n",
      "[400]\tvalid_0's auc: 0.935412\n",
      "[600]\tvalid_0's auc: 0.93699\n",
      "[800]\tvalid_0's auc: 0.93779\n",
      "[1000]\tvalid_0's auc: 0.937838\n",
      "Did not meet early stopping. Best iteration is:\n",
      "[890]\tvalid_0's auc: 0.938079\n",
      "starting fit model...\n",
      "Training until validation scores don't improve for 200 rounds.\n",
      "[200]\tvalid_0's auc: 0.931256\n",
      "[400]\tvalid_0's auc: 0.934313\n",
      "[600]\tvalid_0's auc: 0.936963\n",
      "[800]\tvalid_0's auc: 0.939314\n"
     ]
    },
    {
     "name": "stderr",
     "output_type": "stream",
     "text": [
      "\n",
      " 73%|███████▎  | 11/15 [09:20<03:23, 50.97s/it]\u001b[A"
     ]
    },
    {
     "name": "stdout",
     "output_type": "stream",
     "text": [
      "[1000]\tvalid_0's auc: 0.939074\n",
      "Did not meet early stopping. Best iteration is:\n",
      "[890]\tvalid_0's auc: 0.939938\n",
      "1151 154302 17619 24520\n",
      "starting fit model...\n",
      "Training until validation scores don't improve for 200 rounds.\n",
      "[200]\tvalid_0's auc: 0.938223\n",
      "[400]\tvalid_0's auc: 0.939446\n",
      "[600]\tvalid_0's auc: 0.93871\n",
      "Early stopping, best iteration is:\n",
      "[433]\tvalid_0's auc: 0.940276\n",
      "starting fit model...\n",
      "Training until validation scores don't improve for 200 rounds.\n",
      "[200]\tvalid_0's auc: 0.930196\n",
      "[400]\tvalid_0's auc: 0.939137\n",
      "[600]\tvalid_0's auc: 0.938914\n"
     ]
    },
    {
     "name": "stderr",
     "output_type": "stream",
     "text": [
      "\n",
      " 80%|████████  | 12/15 [10:00<02:30, 50.02s/it]\u001b[A"
     ]
    },
    {
     "name": "stdout",
     "output_type": "stream",
     "text": [
      "Early stopping, best iteration is:\n",
      "[414]\tvalid_0's auc: 0.939266\n",
      "1160 153529 17692 25268\n",
      "starting fit model...\n",
      "Training until validation scores don't improve for 200 rounds.\n",
      "[200]\tvalid_0's auc: 0.882601\n",
      "[400]\tvalid_0's auc: 0.886419\n",
      "Early stopping, best iteration is:\n",
      "[360]\tvalid_0's auc: 0.888716\n",
      "starting fit model...\n",
      "Training until validation scores don't improve for 200 rounds.\n",
      "[200]\tvalid_0's auc: 0.861179\n",
      "[400]\tvalid_0's auc: 0.869405\n",
      "[600]\tvalid_0's auc: 0.880167\n",
      "[800]\tvalid_0's auc: 0.884497\n"
     ]
    },
    {
     "name": "stderr",
     "output_type": "stream",
     "text": [
      "\n",
      " 87%|████████▋ | 13/15 [10:52<01:40, 50.16s/it]\u001b[A"
     ]
    },
    {
     "name": "stdout",
     "output_type": "stream",
     "text": [
      "[1000]\tvalid_0's auc: 0.890004\n",
      "Did not meet early stopping. Best iteration is:\n",
      "[978]\tvalid_0's auc: 0.890591\n",
      "1160 153529 17723 25268\n",
      "starting fit model...\n",
      "Training until validation scores don't improve for 200 rounds.\n",
      "[200]\tvalid_0's auc: 0.878495\n",
      "[400]\tvalid_0's auc: 0.885242\n",
      "[600]\tvalid_0's auc: 0.883665\n",
      "Early stopping, best iteration is:\n",
      "[484]\tvalid_0's auc: 0.886355\n",
      "starting fit model...\n",
      "Training until validation scores don't improve for 200 rounds.\n",
      "[200]\tvalid_0's auc: 0.856912\n",
      "[400]\tvalid_0's auc: 0.867575\n",
      "[600]\tvalid_0's auc: 0.876063\n",
      "[800]\tvalid_0's auc: 0.879515\n"
     ]
    },
    {
     "name": "stderr",
     "output_type": "stream",
     "text": [
      "\n",
      " 93%|█████████▎| 14/15 [11:47<00:50, 50.57s/it]\u001b[A"
     ]
    },
    {
     "name": "stdout",
     "output_type": "stream",
     "text": [
      "[1000]\tvalid_0's auc: 0.882576\n",
      "Did not meet early stopping. Best iteration is:\n",
      "[996]\tvalid_0's auc: 0.882983\n",
      "1160 153529 17683 25268\n",
      "starting fit model...\n",
      "Training until validation scores don't improve for 200 rounds.\n",
      "[200]\tvalid_0's auc: 0.884618\n",
      "[400]\tvalid_0's auc: 0.885552\n",
      "Early stopping, best iteration is:\n",
      "[298]\tvalid_0's auc: 0.887928\n",
      "starting fit model...\n",
      "Training until validation scores don't improve for 200 rounds.\n",
      "[200]\tvalid_0's auc: 0.862828\n",
      "[400]\tvalid_0's auc: 0.877281\n",
      "[600]\tvalid_0's auc: 0.885598\n"
     ]
    },
    {
     "name": "stderr",
     "output_type": "stream",
     "text": [
      "\n",
      "100%|██████████| 15/15 [12:30<00:00, 50.03s/it]\u001b[A\n",
      "\u001b[A\n",
      "  0%|          | 0/15 [00:00<?, ?it/s]\u001b[A"
     ]
    },
    {
     "name": "stdout",
     "output_type": "stream",
     "text": [
      "Early stopping, best iteration is:\n",
      "[568]\tvalid_0's auc: 0.8871\n",
      "315 400804 5021 47583\n",
      "starting fit model...\n",
      "Training until validation scores don't improve for 200 rounds.\n",
      "[200]\tvalid_0's auc: 0.945604\n",
      "[400]\tvalid_0's auc: 0.948824\n",
      "[600]\tvalid_0's auc: 0.949123\n",
      "[800]\tvalid_0's auc: 0.949395\n",
      "[1000]\tvalid_0's auc: 0.949541\n",
      "Did not meet early stopping. Best iteration is:\n",
      "[991]\tvalid_0's auc: 0.94956\n",
      "starting fit model...\n",
      "Training until validation scores don't improve for 200 rounds.\n"
     ]
    },
    {
     "name": "stderr",
     "output_type": "stream",
     "text": [
      "\n",
      "  7%|▋         | 1/15 [00:24<05:45, 24.67s/it]\u001b[A"
     ]
    },
    {
     "name": "stdout",
     "output_type": "stream",
     "text": [
      "[200]\tvalid_0's auc: 0.937256\n",
      "Early stopping, best iteration is:\n",
      "[5]\tvalid_0's auc: 0.94502\n",
      "315 400804 5013 47583\n",
      "starting fit model...\n",
      "Training until validation scores don't improve for 200 rounds.\n",
      "[200]\tvalid_0's auc: 0.952414\n",
      "[400]\tvalid_0's auc: 0.952673\n",
      "[600]\tvalid_0's auc: 0.95232\n",
      "Early stopping, best iteration is:\n",
      "[402]\tvalid_0's auc: 0.952703\n",
      "starting fit model...\n",
      "Training until validation scores don't improve for 200 rounds.\n",
      "[200]\tvalid_0's auc: 0.949225\n",
      "[400]\tvalid_0's auc: 0.951743\n",
      "[600]\tvalid_0's auc: 0.952387\n"
     ]
    },
    {
     "name": "stderr",
     "output_type": "stream",
     "text": [
      "\n",
      " 13%|█▎        | 2/15 [00:59<06:26, 29.72s/it]\u001b[A"
     ]
    },
    {
     "name": "stdout",
     "output_type": "stream",
     "text": [
      "Early stopping, best iteration is:\n",
      "[542]\tvalid_0's auc: 0.952846\n",
      "315 400804 5020 47583\n",
      "starting fit model...\n",
      "Training until validation scores don't improve for 200 rounds.\n",
      "[200]\tvalid_0's auc: 0.947468\n",
      "[400]\tvalid_0's auc: 0.949645\n",
      "[600]\tvalid_0's auc: 0.950371\n",
      "[800]\tvalid_0's auc: 0.950791\n",
      "[1000]\tvalid_0's auc: 0.950855\n",
      "Did not meet early stopping. Best iteration is:\n",
      "[1000]\tvalid_0's auc: 0.950855\n",
      "starting fit model...\n",
      "Training until validation scores don't improve for 200 rounds.\n",
      "[200]\tvalid_0's auc: 0.946347\n",
      "[400]\tvalid_0's auc: 0.950372\n",
      "[600]\tvalid_0's auc: 0.95285\n",
      "[800]\tvalid_0's auc: 0.954075\n"
     ]
    },
    {
     "name": "stderr",
     "output_type": "stream",
     "text": [
      "\n",
      " 20%|██        | 3/15 [01:46<07:04, 35.40s/it]\u001b[A"
     ]
    },
    {
     "name": "stdout",
     "output_type": "stream",
     "text": [
      "[1000]\tvalid_0's auc: 0.954418\n",
      "Did not meet early stopping. Best iteration is:\n",
      "[910]\tvalid_0's auc: 0.954723\n",
      "315 364205 5016 84180\n",
      "starting fit model...\n",
      "Training until validation scores don't improve for 200 rounds.\n",
      "[200]\tvalid_0's auc: 0.926546\n",
      "[400]\tvalid_0's auc: 0.926982\n",
      "[600]\tvalid_0's auc: 0.927686\n",
      "[800]\tvalid_0's auc: 0.928693\n",
      "[1000]\tvalid_0's auc: 0.928686\n",
      "Did not meet early stopping. Best iteration is:\n",
      "[904]\tvalid_0's auc: 0.928969\n",
      "starting fit model...\n",
      "Training until validation scores don't improve for 200 rounds.\n",
      "[200]\tvalid_0's auc: 0.896267\n",
      "[400]\tvalid_0's auc: 0.919713\n",
      "[600]\tvalid_0's auc: 0.927092\n",
      "[800]\tvalid_0's auc: 0.931637\n"
     ]
    },
    {
     "name": "stderr",
     "output_type": "stream",
     "text": [
      "\n",
      " 27%|██▋       | 4/15 [02:44<07:33, 41.24s/it]\u001b[A"
     ]
    },
    {
     "name": "stdout",
     "output_type": "stream",
     "text": [
      "[1000]\tvalid_0's auc: 0.931527\n",
      "Did not meet early stopping. Best iteration is:\n",
      "[941]\tvalid_0's auc: 0.932658\n",
      "315 364205 5017 84180\n",
      "starting fit model...\n",
      "Training until validation scores don't improve for 200 rounds.\n",
      "[200]\tvalid_0's auc: 0.912705\n",
      "[400]\tvalid_0's auc: 0.916264\n",
      "[600]\tvalid_0's auc: 0.915046\n",
      "Early stopping, best iteration is:\n",
      "[410]\tvalid_0's auc: 0.916791\n",
      "starting fit model...\n",
      "Training until validation scores don't improve for 200 rounds.\n",
      "[200]\tvalid_0's auc: 0.891294\n",
      "[400]\tvalid_0's auc: 0.912745\n",
      "[600]\tvalid_0's auc: 0.92054\n",
      "[800]\tvalid_0's auc: 0.922981\n"
     ]
    },
    {
     "name": "stderr",
     "output_type": "stream",
     "text": [
      "\n",
      " 33%|███▎      | 5/15 [03:36<07:12, 43.23s/it]\u001b[A"
     ]
    },
    {
     "name": "stdout",
     "output_type": "stream",
     "text": [
      "Early stopping, best iteration is:\n",
      "[735]\tvalid_0's auc: 0.925308\n",
      "315 364205 5021 84180\n",
      "starting fit model...\n",
      "Training until validation scores don't improve for 200 rounds.\n",
      "[200]\tvalid_0's auc: 0.925133\n",
      "[400]\tvalid_0's auc: 0.931151\n",
      "Early stopping, best iteration is:\n",
      "[291]\tvalid_0's auc: 0.931824\n",
      "starting fit model...\n",
      "Training until validation scores don't improve for 200 rounds.\n"
     ]
    },
    {
     "name": "stderr",
     "output_type": "stream",
     "text": [
      "\n",
      " 40%|████      | 6/15 [03:59<05:59, 39.99s/it]\u001b[A"
     ]
    },
    {
     "name": "stdout",
     "output_type": "stream",
     "text": [
      "[200]\tvalid_0's auc: 0.90331\n",
      "Early stopping, best iteration is:\n",
      "[1]\tvalid_0's auc: 0.911459\n",
      "310 353182 4933 95204\n",
      "starting fit model...\n",
      "Training until validation scores don't improve for 200 rounds.\n",
      "[200]\tvalid_0's auc: 0.931814\n",
      "Early stopping, best iteration is:\n",
      "[181]\tvalid_0's auc: 0.93308\n",
      "starting fit model...\n",
      "Training until validation scores don't improve for 200 rounds.\n",
      "[200]\tvalid_0's auc: 0.917351\n",
      "[400]\tvalid_0's auc: 0.931871\n",
      "[600]\tvalid_0's auc: 0.93479\n"
     ]
    },
    {
     "name": "stderr",
     "output_type": "stream",
     "text": [
      "\n",
      " 47%|████▋     | 7/15 [04:42<05:23, 40.42s/it]\u001b[A"
     ]
    },
    {
     "name": "stdout",
     "output_type": "stream",
     "text": [
      "Early stopping, best iteration is:\n",
      "[529]\tvalid_0's auc: 0.935863\n",
      "310 353182 4931 95204\n",
      "starting fit model...\n",
      "Training until validation scores don't improve for 200 rounds.\n",
      "[200]\tvalid_0's auc: 0.933237\n",
      "[400]\tvalid_0's auc: 0.933174\n",
      "Early stopping, best iteration is:\n",
      "[235]\tvalid_0's auc: 0.934601\n",
      "starting fit model...\n",
      "Training until validation scores don't improve for 200 rounds.\n",
      "[200]\tvalid_0's auc: 0.914082\n",
      "[400]\tvalid_0's auc: 0.934697\n",
      "[600]\tvalid_0's auc: 0.938094\n"
     ]
    },
    {
     "name": "stderr",
     "output_type": "stream",
     "text": [
      "\n",
      " 53%|█████▎    | 8/15 [05:25<04:44, 40.66s/it]\u001b[A"
     ]
    },
    {
     "name": "stdout",
     "output_type": "stream",
     "text": [
      "Early stopping, best iteration is:\n",
      "[508]\tvalid_0's auc: 0.939847\n",
      "310 353182 4939 95204\n",
      "starting fit model...\n",
      "Training until validation scores don't improve for 200 rounds.\n",
      "[200]\tvalid_0's auc: 0.935858\n",
      "[400]\tvalid_0's auc: 0.935465\n",
      "Early stopping, best iteration is:\n",
      "[245]\tvalid_0's auc: 0.936717\n",
      "starting fit model...\n",
      "Training until validation scores don't improve for 200 rounds.\n",
      "[200]\tvalid_0's auc: 0.925588\n",
      "[400]\tvalid_0's auc: 0.936882\n",
      "[600]\tvalid_0's auc: 0.938025\n"
     ]
    },
    {
     "name": "stderr",
     "output_type": "stream",
     "text": [
      "\n",
      " 60%|██████    | 9/15 [06:05<04:03, 40.66s/it]\u001b[A"
     ]
    },
    {
     "name": "stdout",
     "output_type": "stream",
     "text": [
      "Early stopping, best iteration is:\n",
      "[464]\tvalid_0's auc: 0.940027\n",
      "284 336013 4522 112436\n",
      "starting fit model...\n",
      "Training until validation scores don't improve for 200 rounds.\n",
      "[200]\tvalid_0's auc: 0.942144\n",
      "[400]\tvalid_0's auc: 0.947676\n",
      "[600]\tvalid_0's auc: 0.94963\n",
      "[800]\tvalid_0's auc: 0.950566\n",
      "[1000]\tvalid_0's auc: 0.951168\n",
      "Did not meet early stopping. Best iteration is:\n",
      "[968]\tvalid_0's auc: 0.951217\n",
      "starting fit model...\n",
      "Training until validation scores don't improve for 200 rounds.\n",
      "[200]\tvalid_0's auc: 0.935893\n",
      "[400]\tvalid_0's auc: 0.936751\n"
     ]
    },
    {
     "name": "stderr",
     "output_type": "stream",
     "text": [
      "\n",
      " 67%|██████▋   | 10/15 [06:52<03:26, 41.27s/it]\u001b[A"
     ]
    },
    {
     "name": "stdout",
     "output_type": "stream",
     "text": [
      "Early stopping, best iteration is:\n",
      "[247]\tvalid_0's auc: 0.938777\n",
      "284 336013 4519 112436\n",
      "starting fit model...\n",
      "Training until validation scores don't improve for 200 rounds.\n",
      "[200]\tvalid_0's auc: 0.946107\n",
      "[400]\tvalid_0's auc: 0.951643\n",
      "[600]\tvalid_0's auc: 0.953386\n",
      "[800]\tvalid_0's auc: 0.954017\n",
      "[1000]\tvalid_0's auc: 0.954372\n",
      "Did not meet early stopping. Best iteration is:\n",
      "[924]\tvalid_0's auc: 0.954442\n",
      "starting fit model...\n",
      "Training until validation scores don't improve for 200 rounds.\n",
      "[200]\tvalid_0's auc: 0.927201\n"
     ]
    },
    {
     "name": "stderr",
     "output_type": "stream",
     "text": [
      "\n",
      " 73%|███████▎  | 11/15 [07:30<02:43, 40.93s/it]\u001b[A"
     ]
    },
    {
     "name": "stdout",
     "output_type": "stream",
     "text": [
      "Early stopping, best iteration is:\n",
      "[17]\tvalid_0's auc: 0.933517\n",
      "284 336013 4522 112436\n",
      "starting fit model...\n",
      "Training until validation scores don't improve for 200 rounds.\n",
      "[200]\tvalid_0's auc: 0.944908\n",
      "[400]\tvalid_0's auc: 0.949763\n",
      "[600]\tvalid_0's auc: 0.951762\n",
      "[800]\tvalid_0's auc: 0.952662\n",
      "[1000]\tvalid_0's auc: 0.952567\n",
      "Did not meet early stopping. Best iteration is:\n",
      "[810]\tvalid_0's auc: 0.952692\n",
      "starting fit model...\n",
      "Training until validation scores don't improve for 200 rounds.\n",
      "[200]\tvalid_0's auc: 0.93123\n"
     ]
    },
    {
     "name": "stderr",
     "output_type": "stream",
     "text": [
      "\n",
      " 80%|████████  | 12/15 [08:10<02:02, 40.91s/it]\u001b[A"
     ]
    },
    {
     "name": "stdout",
     "output_type": "stream",
     "text": [
      "Early stopping, best iteration is:\n",
      "[72]\tvalid_0's auc: 0.935265\n",
      "256 338920 4077 109540\n",
      "starting fit model...\n",
      "Training until validation scores don't improve for 200 rounds.\n",
      "[200]\tvalid_0's auc: 0.916215\n",
      "[400]\tvalid_0's auc: 0.917524\n",
      "Early stopping, best iteration is:\n",
      "[320]\tvalid_0's auc: 0.918878\n",
      "starting fit model...\n",
      "Training until validation scores don't improve for 200 rounds.\n",
      "[200]\tvalid_0's auc: 0.915227\n",
      "[400]\tvalid_0's auc: 0.927885\n"
     ]
    },
    {
     "name": "stderr",
     "output_type": "stream",
     "text": [
      "\n",
      " 87%|████████▋ | 13/15 [08:50<01:21, 40.80s/it]\u001b[A"
     ]
    },
    {
     "name": "stdout",
     "output_type": "stream",
     "text": [
      "Early stopping, best iteration is:\n",
      "[359]\tvalid_0's auc: 0.929337\n",
      "256 338920 4081 109540\n",
      "starting fit model...\n",
      "Training until validation scores don't improve for 200 rounds.\n",
      "[200]\tvalid_0's auc: 0.909418\n",
      "Early stopping, best iteration is:\n",
      "[119]\tvalid_0's auc: 0.912403\n",
      "starting fit model...\n",
      "Training until validation scores don't improve for 200 rounds.\n",
      "[200]\tvalid_0's auc: 0.909529\n",
      "[400]\tvalid_0's auc: 0.920465\n"
     ]
    },
    {
     "name": "stderr",
     "output_type": "stream",
     "text": [
      "\n",
      " 93%|█████████▎| 14/15 [09:26<00:40, 40.46s/it]\u001b[A"
     ]
    },
    {
     "name": "stdout",
     "output_type": "stream",
     "text": [
      "Early stopping, best iteration is:\n",
      "[378]\tvalid_0's auc: 0.924274\n",
      "256 338920 4071 109540\n",
      "starting fit model...\n",
      "Training until validation scores don't improve for 200 rounds.\n",
      "[200]\tvalid_0's auc: 0.909426\n",
      "Early stopping, best iteration is:\n",
      "[117]\tvalid_0's auc: 0.914699\n",
      "starting fit model...\n",
      "Training until validation scores don't improve for 200 rounds.\n",
      "[200]\tvalid_0's auc: 0.904088\n",
      "[400]\tvalid_0's auc: 0.921858\n",
      "[600]\tvalid_0's auc: 0.927678\n"
     ]
    },
    {
     "name": "stderr",
     "output_type": "stream",
     "text": [
      "\n",
      "100%|██████████| 15/15 [10:14<00:00, 40.97s/it]\u001b[A\n",
      "\u001b[A"
     ]
    },
    {
     "name": "stdout",
     "output_type": "stream",
     "text": [
      "[800]\tvalid_0's auc: 0.921955\n",
      "Early stopping, best iteration is:\n",
      "[600]\tvalid_0's auc: 0.927678\n"
     ]
    }
   ],
   "source": [
    "sum_model_list = []\n",
    "for woe_idx in range(0,len(WOE_RANGE)):\n",
    "    model_list  =[]\n",
    "    for idxn in tqdm(range(0,15)):\n",
    "        idx = idxn//3\n",
    "        woe_low =WOE_RANGE[woe_idx]['low']\n",
    "        woe_high=WOE_RANGE[woe_idx]['high']\n",
    "        t___df = train_df[train_df.index.isin(list(all_list - DateFold[idx]))].reset_index(drop=True)\n",
    "        v___df = train_df[train_df.index.isin(DateFold[idx])].reset_index(drop=True)\n",
    "        \n",
    "        Train_DataSet = t___df[(t___df['mean'] > woe_low ) & (t___df['mean'] <= woe_high)].reset_index(drop=True)\n",
    "        Val_DataSet   = v___df[(v___df['mean'] > woe_low ) & (v___df['mean'] <= woe_high)].reset_index(drop=True)\n",
    "        \n",
    "        Normal_DF = Train_DataSet[Train_DataSet['label']==0]\n",
    "        Fraud_DF = Train_DataSet[Train_DataSet['label']==1]\n",
    "        \n",
    "        number_record_fraud = len(Fraud_DF)\n",
    "        number_record_normal = len(Normal_DF)\n",
    "        #undersample\n",
    "        '''\n",
    "        random_normal_indices = np.array(np.random.choice(Normal_DF.index,number_record_fraud,replace=False))\n",
    "        filter_list = list(random_normal_indices) + list(Fraud_DF.index)\n",
    "        under_sample_train = Train_DataSet[Train_DataSet.index.isin(filter_list)].reset_index(drop=True)\n",
    "        X_train = under_sample_train[predictors]\n",
    "        y_train = under_sample_train['Fraud']\n",
    "        '''\n",
    "        \n",
    "        #oversample\n",
    "        over_sample_rate = 2\n",
    "        num_normal_required = number_record_fraud * over_sample_rate *7\n",
    "        \n",
    "        Normal_random_indices =  list(np.array(np.random.choice(Normal_DF.index,num_normal_required,replace=True)))\n",
    "        Normal_random_df = Normal_DF[Normal_DF.index.isin(Normal_random_indices)]\n",
    "        \n",
    "        fraud_oversample_list =[Normal_random_df]\n",
    "        for _idx in range(0,over_sample_rate):\n",
    "            fraud_oversample_list.append(Fraud_DF)\n",
    "        oversample_train = pd.concat(fraud_oversample_list,axis=0,ignore_index=True)  \n",
    "        X_train = oversample_train[predictors]\n",
    "        y_train = oversample_train['Fraud']\n",
    "                \n",
    "               \n",
    "\n",
    "        X_test = Val_DataSet[predictors]\n",
    "        y_test = Val_DataSet['Fraud']\n",
    "        print(number_record_fraud,number_record_normal, len(X_train),len(X_test))\n",
    "        \n",
    "        for item_params in (param_list):\n",
    "            gbm = lgb.LGBMClassifier(**item_params)\n",
    "            print('starting fit model...')\n",
    "            gbm.fit(X_train, y_train, eval_set=[(X_test, y_test)],eval_metric='auc',early_stopping_rounds=early_stop_round,verbose=200)#,categorical_feature=categorical)\n",
    "            model_list.append(gbm)  \n",
    "        \n",
    "    \n",
    "    sum_model_list.append(model_list)"
   ]
  },
  {
   "cell_type": "code",
   "execution_count": 30,
   "metadata": {},
   "outputs": [],
   "source": [
    "val_df = train_df[train_df.index.isin(DateFold[5])].reset_index(drop=True)"
   ]
  },
  {
   "cell_type": "code",
   "execution_count": 31,
   "metadata": {},
   "outputs": [],
   "source": [
    "def woe_stack_result(X_data,predictors,model_list):\n",
    "    X_train = X_data[predictors]\n",
    "    X_id = X_data['id']\n",
    "    with atecml.data.timer('Classification: Building Layer-1 Stack'):\n",
    "        input_list = []\n",
    "        for idx in tqdm(range(len(model_list))):\n",
    "            model = model_list[idx]\n",
    "            _temp_df = pd.DataFrame(model.predict_proba(X_train))[1]\n",
    "            input_list.append(pd.DataFrame(_temp_df))\n",
    "        input_predict= np.array(pd.concat(input_list,ignore_index=True,axis=1))\n",
    "    result = pd.DataFrame(input_predict)\n",
    "    result['id']= X_id\n",
    "    return result"
   ]
  },
  {
   "cell_type": "code",
   "execution_count": 35,
   "metadata": {},
   "outputs": [],
   "source": [
    "def stack_result(X_data,predictors,sum_model_list):\n",
    "    sorter = list(X_data['id'])\n",
    "    sorterIndex = dict(zip(sorter,range(len(sorter))))\n",
    "    X_predict_list = []\n",
    "    for woe_idx in range(0,len(WOE_RANGE)):\n",
    "        woe_low =WOE_RANGE[woe_idx]['low']\n",
    "        woe_high=WOE_RANGE[woe_idx]['high']\n",
    "        #X_for_test = X_data[(X_data['mean'] > woe_low ) & (X_data['mean'] <= woe_high)].reset_index(drop=True)\n",
    "        X_predict = woe_stack_result(X_data,predictors,sum_model_list[woe_idx])\n",
    "        X_predict_list.append(X_predict)\n",
    "    result = pd.concat(X_predict_list)\n",
    "    #result['index'] = result['id'].map(sorterIndex)\n",
    "    #result.set_index('index',drop=True,inplace=True)\n",
    "    result = result.sort_index()   \n",
    "    return result\n",
    "        "
   ]
  },
  {
   "cell_type": "code",
   "execution_count": 36,
   "metadata": {
    "scrolled": true
   },
   "outputs": [
    {
     "name": "stderr",
     "output_type": "stream",
     "text": [
      "\n",
      "  0%|          | 0/30 [00:00<?, ?it/s]\u001b[A"
     ]
    },
    {
     "name": "stdout",
     "output_type": "stream",
     "text": [
      "[2018-07-07 16:32:00][Classification: Building Layer-1 Stack] Begin ...\n"
     ]
    },
    {
     "name": "stderr",
     "output_type": "stream",
     "text": [
      "\n",
      "  3%|▎         | 1/30 [00:02<01:00,  2.10s/it]\u001b[A\n",
      "  7%|▋         | 2/30 [00:04<01:01,  2.20s/it]\u001b[A\n",
      " 10%|█         | 3/30 [00:06<01:02,  2.30s/it]\u001b[A\n",
      " 13%|█▎        | 4/30 [00:09<01:04,  2.47s/it]\u001b[A\n",
      " 17%|█▋        | 5/30 [00:11<00:59,  2.36s/it]\u001b[A\n",
      " 20%|██        | 6/30 [00:14<00:57,  2.38s/it]\u001b[A\n",
      " 23%|██▎       | 7/30 [00:16<00:52,  2.30s/it]\u001b[A\n",
      " 27%|██▋       | 8/30 [00:18<00:50,  2.29s/it]\u001b[A\n",
      " 30%|███       | 9/30 [00:20<00:46,  2.23s/it]\u001b[A\n",
      " 33%|███▎      | 10/30 [00:22<00:44,  2.24s/it]\u001b[A\n",
      " 37%|███▋      | 11/30 [00:24<00:41,  2.19s/it]\u001b[A\n",
      " 40%|████      | 12/30 [00:26<00:39,  2.19s/it]\u001b[A\n",
      " 43%|████▎     | 13/30 [00:28<00:36,  2.16s/it]\u001b[A\n",
      " 47%|████▋     | 14/30 [00:29<00:34,  2.13s/it]\u001b[A\n",
      " 50%|█████     | 15/30 [00:31<00:31,  2.11s/it]\u001b[A\n",
      " 53%|█████▎    | 16/30 [00:33<00:29,  2.10s/it]\u001b[A\n",
      " 57%|█████▋    | 17/30 [00:35<00:26,  2.07s/it]\u001b[A\n",
      " 60%|██████    | 18/30 [00:37<00:24,  2.06s/it]\u001b[A\n",
      " 63%|██████▎   | 19/30 [00:38<00:22,  2.05s/it]\u001b[A\n",
      " 67%|██████▋   | 20/30 [00:41<00:20,  2.06s/it]\u001b[A\n",
      " 70%|███████   | 21/30 [00:43<00:18,  2.08s/it]\u001b[A\n",
      " 73%|███████▎  | 22/30 [00:46<00:16,  2.10s/it]\u001b[A\n",
      " 77%|███████▋  | 23/30 [00:47<00:14,  2.08s/it]\u001b[A\n",
      " 80%|████████  | 24/30 [00:50<00:12,  2.09s/it]\u001b[A\n",
      " 83%|████████▎ | 25/30 [00:52<00:10,  2.08s/it]\u001b[A\n",
      " 87%|████████▋ | 26/30 [00:54<00:08,  2.09s/it]\u001b[A\n",
      " 90%|█████████ | 27/30 [00:57<00:06,  2.11s/it]\u001b[A\n",
      " 93%|█████████▎| 28/30 [00:59<00:04,  2.11s/it]\u001b[A\n",
      " 97%|█████████▋| 29/30 [01:01<00:02,  2.12s/it]\u001b[A\n",
      "100%|██████████| 30/30 [01:03<00:00,  2.13s/it]\u001b[A\n",
      "\u001b[A"
     ]
    },
    {
     "name": "stdout",
     "output_type": "stream",
     "text": [
      "[2018-07-07 16:33:04][Classification: Building Layer-1 Stack] End   ...[Elapsed: 63.99s]\n"
     ]
    },
    {
     "name": "stderr",
     "output_type": "stream",
     "text": [
      "\n",
      "  0%|          | 0/30 [00:00<?, ?it/s]\u001b[A"
     ]
    },
    {
     "name": "stdout",
     "output_type": "stream",
     "text": [
      "[2018-07-07 16:33:04][Classification: Building Layer-1 Stack] Begin ...\n"
     ]
    },
    {
     "name": "stderr",
     "output_type": "stream",
     "text": [
      "\n",
      "  3%|▎         | 1/30 [00:01<00:45,  1.57s/it]\u001b[A\n",
      "  7%|▋         | 2/30 [00:03<00:45,  1.61s/it]\u001b[A\n",
      " 10%|█         | 3/30 [00:04<00:42,  1.58s/it]\u001b[A\n",
      " 13%|█▎        | 4/30 [00:06<00:40,  1.57s/it]\u001b[A\n",
      " 17%|█▋        | 5/30 [00:08<00:40,  1.60s/it]\u001b[A\n",
      " 20%|██        | 6/30 [00:09<00:38,  1.59s/it]\u001b[A\n",
      " 23%|██▎       | 7/30 [00:11<00:36,  1.60s/it]\u001b[A\n",
      " 27%|██▋       | 8/30 [00:13<00:36,  1.68s/it]\u001b[A\n",
      " 30%|███       | 9/30 [00:15<00:35,  1.69s/it]\u001b[A\n",
      " 33%|███▎      | 10/30 [00:17<00:34,  1.73s/it]\u001b[A\n",
      " 37%|███▋      | 11/30 [00:18<00:32,  1.72s/it]\u001b[A\n",
      " 40%|████      | 12/30 [00:21<00:31,  1.76s/it]\u001b[A\n",
      " 43%|████▎     | 13/30 [00:22<00:29,  1.74s/it]\u001b[A\n",
      " 47%|████▋     | 14/30 [00:24<00:27,  1.74s/it]\u001b[A\n",
      " 50%|█████     | 15/30 [00:25<00:25,  1.72s/it]\u001b[A\n",
      " 53%|█████▎    | 16/30 [00:27<00:24,  1.71s/it]\u001b[A\n",
      " 57%|█████▋    | 17/30 [00:29<00:22,  1.71s/it]\u001b[A\n",
      " 60%|██████    | 18/30 [00:30<00:20,  1.71s/it]\u001b[A\n",
      " 63%|██████▎   | 19/30 [00:32<00:18,  1.70s/it]\u001b[A\n",
      " 67%|██████▋   | 20/30 [00:33<00:16,  1.70s/it]\u001b[A\n",
      " 70%|███████   | 21/30 [00:35<00:15,  1.70s/it]\u001b[A\n",
      " 73%|███████▎  | 22/30 [00:37<00:13,  1.70s/it]\u001b[A\n",
      " 77%|███████▋  | 23/30 [00:39<00:11,  1.70s/it]\u001b[A\n",
      " 80%|████████  | 24/30 [00:40<00:10,  1.69s/it]\u001b[A\n",
      " 83%|████████▎ | 25/30 [00:42<00:08,  1.69s/it]\u001b[A\n",
      " 87%|████████▋ | 26/30 [00:43<00:06,  1.69s/it]\u001b[A\n",
      " 90%|█████████ | 27/30 [00:45<00:05,  1.69s/it]\u001b[A\n",
      " 93%|█████████▎| 28/30 [00:47<00:03,  1.69s/it]\u001b[A\n",
      " 97%|█████████▋| 29/30 [00:48<00:01,  1.68s/it]\u001b[A\n",
      "100%|██████████| 30/30 [00:50<00:00,  1.68s/it]\u001b[A\n",
      "\u001b[A"
     ]
    },
    {
     "name": "stdout",
     "output_type": "stream",
     "text": [
      "[2018-07-07 16:33:54][Classification: Building Layer-1 Stack] End   ...[Elapsed: 50.54s]\n"
     ]
    },
    {
     "name": "stderr",
     "output_type": "stream",
     "text": [
      "\n",
      "  0%|          | 0/30 [00:00<?, ?it/s]\u001b[A"
     ]
    },
    {
     "name": "stdout",
     "output_type": "stream",
     "text": [
      "[2018-07-07 16:33:55][Classification: Building Layer-1 Stack] Begin ...\n"
     ]
    },
    {
     "name": "stderr",
     "output_type": "stream",
     "text": [
      "\n",
      "  3%|▎         | 1/30 [00:02<01:14,  2.55s/it]\u001b[A\n",
      "  7%|▋         | 2/30 [00:05<01:14,  2.65s/it]\u001b[A\n",
      " 10%|█         | 3/30 [00:07<01:06,  2.47s/it]\u001b[A\n",
      " 13%|█▎        | 4/30 [00:10<01:06,  2.57s/it]\u001b[A\n",
      " 17%|█▋        | 5/30 [00:12<01:03,  2.55s/it]\u001b[A\n",
      " 20%|██        | 6/30 [00:15<01:00,  2.52s/it]\u001b[A\n",
      " 23%|██▎       | 7/30 [00:16<00:54,  2.39s/it]\u001b[A\n",
      " 27%|██▋       | 8/30 [00:18<00:50,  2.28s/it]\u001b[A\n",
      " 30%|███       | 9/30 [00:20<00:46,  2.22s/it]\u001b[A\n",
      " 33%|███▎      | 10/30 [00:21<00:43,  2.18s/it]\u001b[A\n",
      " 37%|███▋      | 11/30 [00:23<00:40,  2.14s/it]\u001b[A\n",
      " 40%|████      | 12/30 [00:25<00:37,  2.10s/it]\u001b[A\n",
      " 43%|████▎     | 13/30 [00:26<00:35,  2.07s/it]\u001b[A\n",
      " 47%|████▋     | 14/30 [00:28<00:32,  2.04s/it]\u001b[A\n",
      " 50%|█████     | 15/30 [00:30<00:30,  2.02s/it]\u001b[A\n",
      " 53%|█████▎    | 16/30 [00:31<00:27,  1.99s/it]\u001b[A\n",
      " 57%|█████▋    | 17/30 [00:33<00:25,  1.97s/it]\u001b[A\n",
      " 60%|██████    | 18/30 [00:35<00:23,  1.96s/it]\u001b[A\n",
      " 63%|██████▎   | 19/30 [00:38<00:22,  2.01s/it]\u001b[A\n",
      " 67%|██████▋   | 20/30 [00:40<00:20,  2.04s/it]\u001b[A\n",
      " 70%|███████   | 21/30 [00:43<00:18,  2.08s/it]\u001b[A\n",
      " 73%|███████▎  | 22/30 [00:45<00:16,  2.08s/it]\u001b[A\n",
      " 77%|███████▋  | 23/30 [00:47<00:14,  2.05s/it]\u001b[A\n",
      " 80%|████████  | 24/30 [00:48<00:12,  2.03s/it]\u001b[A\n",
      " 83%|████████▎ | 25/30 [00:50<00:10,  2.03s/it]\u001b[A\n",
      " 87%|████████▋ | 26/30 [00:52<00:08,  2.02s/it]\u001b[A\n",
      " 90%|█████████ | 27/30 [00:54<00:06,  2.02s/it]\u001b[A\n",
      " 93%|█████████▎| 28/30 [00:56<00:04,  2.00s/it]\u001b[A\n",
      " 97%|█████████▋| 29/30 [00:58<00:02,  2.03s/it]\u001b[A\n",
      "100%|██████████| 30/30 [01:01<00:00,  2.03s/it]\u001b[A\n",
      "\u001b[A"
     ]
    },
    {
     "name": "stdout",
     "output_type": "stream",
     "text": [
      "[2018-07-07 16:34:56][Classification: Building Layer-1 Stack] End   ...[Elapsed: 61.15s]\n"
     ]
    },
    {
     "name": "stderr",
     "output_type": "stream",
     "text": [
      "\n",
      "  0%|          | 0/30 [00:00<?, ?it/s]\u001b[A"
     ]
    },
    {
     "name": "stdout",
     "output_type": "stream",
     "text": [
      "[2018-07-07 16:34:56][Classification: Building Layer-1 Stack] Begin ...\n"
     ]
    },
    {
     "name": "stderr",
     "output_type": "stream",
     "text": [
      "\n",
      "  3%|▎         | 1/30 [00:02<01:09,  2.39s/it]\u001b[A\n",
      "  7%|▋         | 2/30 [00:04<01:03,  2.26s/it]\u001b[A\n",
      " 10%|█         | 3/30 [00:06<00:56,  2.10s/it]\u001b[A\n",
      " 13%|█▎        | 4/30 [00:08<00:52,  2.02s/it]\u001b[A\n",
      " 17%|█▋        | 5/30 [00:10<00:52,  2.10s/it]\u001b[A\n",
      " 20%|██        | 6/30 [00:12<00:48,  2.02s/it]\u001b[A\n",
      " 23%|██▎       | 7/30 [00:13<00:45,  1.99s/it]\u001b[A\n",
      " 27%|██▋       | 8/30 [00:16<00:44,  2.02s/it]\u001b[A\n",
      " 30%|███       | 9/30 [00:18<00:43,  2.08s/it]\u001b[A\n",
      " 33%|███▎      | 10/30 [00:20<00:41,  2.07s/it]\u001b[A\n",
      " 37%|███▋      | 11/30 [00:22<00:38,  2.05s/it]\u001b[A\n",
      " 40%|████      | 12/30 [00:24<00:36,  2.03s/it]\u001b[A\n",
      " 43%|████▎     | 13/30 [00:27<00:36,  2.13s/it]\u001b[A\n",
      " 47%|████▋     | 14/30 [00:29<00:33,  2.12s/it]\u001b[A\n",
      " 50%|█████     | 15/30 [00:31<00:31,  2.11s/it]\u001b[A\n",
      " 53%|█████▎    | 16/30 [00:33<00:29,  2.12s/it]\u001b[A\n",
      " 57%|█████▋    | 17/30 [00:35<00:27,  2.10s/it]\u001b[A\n",
      " 60%|██████    | 18/30 [00:38<00:25,  2.11s/it]\u001b[A\n",
      " 63%|██████▎   | 19/30 [00:40<00:23,  2.16s/it]\u001b[A\n",
      " 67%|██████▋   | 20/30 [00:44<00:22,  2.20s/it]\u001b[A\n",
      " 70%|███████   | 21/30 [00:47<00:20,  2.24s/it]\u001b[A\n",
      " 73%|███████▎  | 22/30 [00:50<00:18,  2.28s/it]\u001b[A\n",
      " 77%|███████▋  | 23/30 [00:53<00:16,  2.31s/it]\u001b[A\n",
      " 80%|████████  | 24/30 [00:54<00:13,  2.28s/it]\u001b[A\n",
      " 83%|████████▎ | 25/30 [00:56<00:11,  2.26s/it]\u001b[A\n",
      " 87%|████████▋ | 26/30 [00:58<00:09,  2.26s/it]\u001b[A\n",
      " 90%|█████████ | 27/30 [01:00<00:06,  2.24s/it]\u001b[A\n",
      " 93%|█████████▎| 28/30 [01:02<00:04,  2.24s/it]\u001b[A\n",
      " 97%|█████████▋| 29/30 [01:05<00:02,  2.25s/it]\u001b[A\n",
      "100%|██████████| 30/30 [01:07<00:00,  2.25s/it]\u001b[A\n",
      "\u001b[A"
     ]
    },
    {
     "name": "stdout",
     "output_type": "stream",
     "text": [
      "[2018-07-07 16:36:04][Classification: Building Layer-1 Stack] End   ...[Elapsed: 67.53s]\n"
     ]
    },
    {
     "name": "stderr",
     "output_type": "stream",
     "text": [
      "\n",
      "  0%|          | 0/30 [00:00<?, ?it/s]\u001b[A\n",
      "  3%|▎         | 1/30 [00:02<01:13,  2.53s/it]\u001b[A\n",
      "  7%|▋         | 2/30 [00:05<01:16,  2.74s/it]\u001b[A\n",
      " 10%|█         | 3/30 [00:07<01:11,  2.63s/it]\u001b[A\n",
      " 13%|█▎        | 4/30 [00:11<01:12,  2.79s/it]\u001b[A\n",
      " 17%|█▋        | 5/30 [00:13<01:09,  2.80s/it]\u001b[A\n",
      " 20%|██        | 6/30 [00:16<01:06,  2.77s/it]\u001b[A\n",
      " 23%|██▎       | 7/30 [00:19<01:02,  2.72s/it]\u001b[A\n",
      " 27%|██▋       | 8/30 [00:22<01:00,  2.75s/it]\u001b[A\n",
      " 30%|███       | 9/30 [00:24<00:56,  2.69s/it]\u001b[A\n",
      " 33%|███▎      | 10/30 [00:26<00:53,  2.65s/it]\u001b[A\n",
      " 37%|███▋      | 11/30 [00:28<00:49,  2.62s/it]\u001b[A\n",
      " 40%|████      | 12/30 [00:31<00:47,  2.62s/it]\u001b[A\n",
      " 43%|████▎     | 13/30 [00:33<00:43,  2.56s/it]\u001b[A\n",
      " 47%|████▋     | 14/30 [00:35<00:40,  2.53s/it]\u001b[A\n",
      " 50%|█████     | 15/30 [00:37<00:37,  2.49s/it]\u001b[A\n",
      " 53%|█████▎    | 16/30 [00:39<00:34,  2.45s/it]\u001b[A\n",
      " 57%|█████▋    | 17/30 [00:40<00:31,  2.41s/it]\u001b[A\n",
      " 60%|██████    | 18/30 [00:42<00:28,  2.39s/it]\u001b[A\n",
      " 63%|██████▎   | 19/30 [00:45<00:26,  2.39s/it]\u001b[A\n",
      " 67%|██████▋   | 20/30 [00:47<00:23,  2.39s/it]\u001b[A\n",
      " 70%|███████   | 21/30 [00:50<00:21,  2.41s/it]\u001b[A\n",
      " 73%|███████▎  | 22/30 [00:53<00:19,  2.44s/it]\u001b[A\n",
      " 77%|███████▋  | 23/30 [00:56<00:17,  2.44s/it]\u001b[A\n",
      " 80%|████████  | 24/30 [00:58<00:14,  2.43s/it]\u001b[A\n",
      " 83%|████████▎ | 25/30 [01:00<00:12,  2.42s/it]\u001b[A\n",
      " 87%|████████▋ | 26/30 [01:03<00:09,  2.44s/it]\u001b[A\n",
      " 90%|█████████ | 27/30 [01:05<00:07,  2.44s/it]\u001b[A\n",
      " 93%|█████████▎| 28/30 [01:08<00:04,  2.46s/it]\u001b[A\n",
      " 97%|█████████▋| 29/30 [01:10<00:02,  2.45s/it]\u001b[A\n",
      "100%|██████████| 30/30 [01:13<00:00,  2.44s/it]\u001b[A\n",
      "\u001b[A"
     ]
    },
    {
     "name": "stdout",
     "output_type": "stream",
     "text": [
      "[2018-07-07 16:36:04][Classification: Building Layer-1 Stack] Begin ...\n",
      "[2018-07-07 16:37:18][Classification: Building Layer-1 Stack] End   ...[Elapsed: 73.45s]\n"
     ]
    },
    {
     "name": "stderr",
     "output_type": "stream",
     "text": [
      "\n",
      "  0%|          | 0/30 [00:00<?, ?it/s]\u001b[A"
     ]
    },
    {
     "name": "stdout",
     "output_type": "stream",
     "text": [
      "[2018-07-07 16:37:18][Classification: Building Layer-1 Stack] Begin ...\n"
     ]
    },
    {
     "name": "stderr",
     "output_type": "stream",
     "text": [
      "\n",
      "  3%|▎         | 1/30 [00:02<01:26,  2.98s/it]\u001b[A\n",
      "  7%|▋         | 2/30 [00:04<01:03,  2.25s/it]\u001b[A\n",
      " 10%|█         | 3/30 [00:06<00:59,  2.21s/it]\u001b[A\n",
      " 13%|█▎        | 4/30 [00:08<00:58,  2.23s/it]\u001b[A\n",
      " 17%|█▋        | 5/30 [00:12<01:00,  2.42s/it]\u001b[A\n",
      " 20%|██        | 6/30 [00:14<00:59,  2.48s/it]\u001b[A\n",
      " 23%|██▎       | 7/30 [00:17<00:58,  2.55s/it]\u001b[A\n",
      " 27%|██▋       | 8/30 [00:20<00:56,  2.57s/it]\u001b[A\n",
      " 30%|███       | 9/30 [00:22<00:53,  2.53s/it]\u001b[A\n",
      " 33%|███▎      | 10/30 [00:25<00:50,  2.53s/it]\u001b[A\n",
      " 37%|███▋      | 11/30 [00:27<00:47,  2.48s/it]\u001b[A\n",
      " 40%|████      | 12/30 [00:28<00:43,  2.40s/it]\u001b[A\n",
      " 43%|████▎     | 13/30 [00:30<00:40,  2.36s/it]\u001b[A\n",
      " 47%|████▋     | 14/30 [00:32<00:37,  2.35s/it]\u001b[A\n",
      " 50%|█████     | 15/30 [00:34<00:34,  2.32s/it]\u001b[A\n",
      " 53%|█████▎    | 16/30 [00:37<00:32,  2.31s/it]\u001b[A\n",
      " 57%|█████▋    | 17/30 [00:38<00:29,  2.29s/it]\u001b[A\n",
      " 60%|██████    | 18/30 [00:41<00:27,  2.29s/it]\u001b[A\n",
      " 63%|██████▎   | 19/30 [00:44<00:25,  2.32s/it]\u001b[A\n",
      " 67%|██████▋   | 20/30 [00:46<00:23,  2.30s/it]\u001b[A\n",
      " 70%|███████   | 21/30 [00:48<00:20,  2.33s/it]\u001b[A\n",
      " 73%|███████▎  | 22/30 [00:50<00:18,  2.30s/it]\u001b[A\n",
      " 77%|███████▋  | 23/30 [00:53<00:16,  2.32s/it]\u001b[A\n",
      " 80%|████████  | 24/30 [00:55<00:13,  2.29s/it]\u001b[A\n",
      " 83%|████████▎ | 25/30 [00:57<00:11,  2.29s/it]\u001b[A\n",
      " 87%|████████▋ | 26/30 [00:59<00:09,  2.28s/it]\u001b[A\n",
      " 90%|█████████ | 27/30 [01:00<00:06,  2.25s/it]\u001b[A\n",
      " 93%|█████████▎| 28/30 [01:03<00:04,  2.25s/it]\u001b[A\n",
      " 97%|█████████▋| 29/30 [01:04<00:02,  2.24s/it]\u001b[A\n",
      "100%|██████████| 30/30 [01:07<00:00,  2.24s/it]\u001b[A\n",
      "\u001b[A"
     ]
    },
    {
     "name": "stdout",
     "output_type": "stream",
     "text": [
      "[2018-07-07 16:38:26][Classification: Building Layer-1 Stack] End   ...[Elapsed: 67.35s]\n"
     ]
    }
   ],
   "source": [
    "a = stack_result(val_df,predictors,sum_model_list)"
   ]
  },
  {
   "cell_type": "code",
   "execution_count": 37,
   "metadata": {},
   "outputs": [
    {
     "ename": "ValueError",
     "evalue": "Found input variables with inconsistent numbers of samples: [229064, 1374384]",
     "output_type": "error",
     "traceback": [
      "\u001b[0;31m---------------------------------------------------------------------------\u001b[0m",
      "\u001b[0;31mValueError\u001b[0m                                Traceback (most recent call last)",
      "\u001b[0;32m<ipython-input-37-3bb0105cda93>\u001b[0m in \u001b[0;36m<module>\u001b[0;34m()\u001b[0m\n\u001b[0;32m----> 1\u001b[0;31m \u001b[0m_\u001b[0m\u001b[0;34m,\u001b[0m\u001b[0m_\u001b[0m\u001b[0;34m,\u001b[0m\u001b[0m_\u001b[0m \u001b[0;34m=\u001b[0m \u001b[0matecml\u001b[0m\u001b[0;34m.\u001b[0m\u001b[0mdata\u001b[0m\u001b[0;34m.\u001b[0m\u001b[0maccuracy_validation\u001b[0m\u001b[0;34m(\u001b[0m\u001b[0mval_df\u001b[0m\u001b[0;34m[\u001b[0m\u001b[0;34m'Fraud'\u001b[0m\u001b[0;34m]\u001b[0m\u001b[0;34m,\u001b[0m\u001b[0ma\u001b[0m\u001b[0;34m.\u001b[0m\u001b[0mmean\u001b[0m\u001b[0;34m(\u001b[0m\u001b[0maxis\u001b[0m\u001b[0;34m=\u001b[0m\u001b[0;36m1\u001b[0m\u001b[0;34m)\u001b[0m\u001b[0;34m)\u001b[0m\u001b[0;34m\u001b[0m\u001b[0m\n\u001b[0m",
      "\u001b[0;32m/usr/local/lib/python3.5/dist-packages/atecml/data.py\u001b[0m in \u001b[0;36maccuracy_validation\u001b[0;34m(y_test, y_predict_proba)\u001b[0m\n\u001b[1;32m    129\u001b[0m     \u001b[0m基于ROC的模型性能测量\u001b[0m\u001b[0;31m，\u001b[0m\u001b[0m并根据蚂蚁金服评分标准输出分数\u001b[0m\u001b[0;34m\u001b[0m\u001b[0m\n\u001b[1;32m    130\u001b[0m     \"\"\"\n\u001b[0;32m--> 131\u001b[0;31m     \u001b[0mfpr\u001b[0m\u001b[0;34m,\u001b[0m \u001b[0mtpr\u001b[0m\u001b[0;34m,\u001b[0m \u001b[0mthresholds\u001b[0m \u001b[0;34m=\u001b[0m \u001b[0mroc_curve\u001b[0m\u001b[0;34m(\u001b[0m\u001b[0my_test\u001b[0m\u001b[0;34m,\u001b[0m\u001b[0my_predict_proba\u001b[0m\u001b[0;34m)\u001b[0m\u001b[0;34m\u001b[0m\u001b[0m\n\u001b[0m\u001b[1;32m    132\u001b[0m     \u001b[0mroc_auc\u001b[0m \u001b[0;34m=\u001b[0m \u001b[0mauc\u001b[0m\u001b[0;34m(\u001b[0m\u001b[0mfpr\u001b[0m\u001b[0;34m,\u001b[0m \u001b[0mtpr\u001b[0m\u001b[0;34m)\u001b[0m\u001b[0;34m\u001b[0m\u001b[0m\n\u001b[1;32m    133\u001b[0m     \u001b[0mroc_result\u001b[0m \u001b[0;34m=\u001b[0m \u001b[0mpd\u001b[0m\u001b[0;34m.\u001b[0m\u001b[0mDataFrame\u001b[0m\u001b[0;34m(\u001b[0m\u001b[0;34m)\u001b[0m\u001b[0;34m\u001b[0m\u001b[0m\n",
      "\u001b[0;32m/usr/local/lib/python3.5/dist-packages/sklearn/metrics/ranking.py\u001b[0m in \u001b[0;36mroc_curve\u001b[0;34m(y_true, y_score, pos_label, sample_weight, drop_intermediate)\u001b[0m\n\u001b[1;32m    532\u001b[0m     \"\"\"\n\u001b[1;32m    533\u001b[0m     fps, tps, thresholds = _binary_clf_curve(\n\u001b[0;32m--> 534\u001b[0;31m         y_true, y_score, pos_label=pos_label, sample_weight=sample_weight)\n\u001b[0m\u001b[1;32m    535\u001b[0m \u001b[0;34m\u001b[0m\u001b[0m\n\u001b[1;32m    536\u001b[0m     \u001b[0;31m# Attempt to drop thresholds corresponding to points in between and\u001b[0m\u001b[0;34m\u001b[0m\u001b[0;34m\u001b[0m\u001b[0m\n",
      "\u001b[0;32m/usr/local/lib/python3.5/dist-packages/sklearn/metrics/ranking.py\u001b[0m in \u001b[0;36m_binary_clf_curve\u001b[0;34m(y_true, y_score, pos_label, sample_weight)\u001b[0m\n\u001b[1;32m    318\u001b[0m         \u001b[0;32mraise\u001b[0m \u001b[0mValueError\u001b[0m\u001b[0;34m(\u001b[0m\u001b[0;34m\"{0} format is not supported\"\u001b[0m\u001b[0;34m.\u001b[0m\u001b[0mformat\u001b[0m\u001b[0;34m(\u001b[0m\u001b[0my_type\u001b[0m\u001b[0;34m)\u001b[0m\u001b[0;34m)\u001b[0m\u001b[0;34m\u001b[0m\u001b[0m\n\u001b[1;32m    319\u001b[0m \u001b[0;34m\u001b[0m\u001b[0m\n\u001b[0;32m--> 320\u001b[0;31m     \u001b[0mcheck_consistent_length\u001b[0m\u001b[0;34m(\u001b[0m\u001b[0my_true\u001b[0m\u001b[0;34m,\u001b[0m \u001b[0my_score\u001b[0m\u001b[0;34m,\u001b[0m \u001b[0msample_weight\u001b[0m\u001b[0;34m)\u001b[0m\u001b[0;34m\u001b[0m\u001b[0m\n\u001b[0m\u001b[1;32m    321\u001b[0m     \u001b[0my_true\u001b[0m \u001b[0;34m=\u001b[0m \u001b[0mcolumn_or_1d\u001b[0m\u001b[0;34m(\u001b[0m\u001b[0my_true\u001b[0m\u001b[0;34m)\u001b[0m\u001b[0;34m\u001b[0m\u001b[0m\n\u001b[1;32m    322\u001b[0m     \u001b[0my_score\u001b[0m \u001b[0;34m=\u001b[0m \u001b[0mcolumn_or_1d\u001b[0m\u001b[0;34m(\u001b[0m\u001b[0my_score\u001b[0m\u001b[0;34m)\u001b[0m\u001b[0;34m\u001b[0m\u001b[0m\n",
      "\u001b[0;32m/usr/local/lib/python3.5/dist-packages/sklearn/utils/validation.py\u001b[0m in \u001b[0;36mcheck_consistent_length\u001b[0;34m(*arrays)\u001b[0m\n\u001b[1;32m    202\u001b[0m     \u001b[0;32mif\u001b[0m \u001b[0mlen\u001b[0m\u001b[0;34m(\u001b[0m\u001b[0muniques\u001b[0m\u001b[0;34m)\u001b[0m \u001b[0;34m>\u001b[0m \u001b[0;36m1\u001b[0m\u001b[0;34m:\u001b[0m\u001b[0;34m\u001b[0m\u001b[0m\n\u001b[1;32m    203\u001b[0m         raise ValueError(\"Found input variables with inconsistent numbers of\"\n\u001b[0;32m--> 204\u001b[0;31m                          \" samples: %r\" % [int(l) for l in lengths])\n\u001b[0m\u001b[1;32m    205\u001b[0m \u001b[0;34m\u001b[0m\u001b[0m\n\u001b[1;32m    206\u001b[0m \u001b[0;34m\u001b[0m\u001b[0m\n",
      "\u001b[0;31mValueError\u001b[0m: Found input variables with inconsistent numbers of samples: [229064, 1374384]"
     ]
    }
   ],
   "source": [
    "_,_,_ = atecml.data.accuracy_validation(val_df['Fraud'],a.mean(axis=1))"
   ]
  },
  {
   "cell_type": "code",
   "execution_count": 60,
   "metadata": {},
   "outputs": [],
   "source": [
    "foo = pd.DataFrame(a.groupby('id').mean().mean(axis=1))"
   ]
  },
  {
   "cell_type": "code",
   "execution_count": 61,
   "metadata": {},
   "outputs": [],
   "source": [
    "foo.reset_index(inplace=True)"
   ]
  },
  {
   "cell_type": "code",
   "execution_count": 62,
   "metadata": {},
   "outputs": [],
   "source": [
    "sorter = list(val_df['id'])\n",
    "sorterIndex = dict(zip(sorter,range(len(sorter))))\n",
    "foo['index'] = foo['id'].map(sorterIndex)\n",
    "foo.set_index('index',drop=True,inplace=True)\n"
   ]
  },
  {
   "cell_type": "code",
   "execution_count": 63,
   "metadata": {},
   "outputs": [],
   "source": [
    "foo = foo.sort_index() "
   ]
  },
  {
   "cell_type": "code",
   "execution_count": 64,
   "metadata": {},
   "outputs": [
    {
     "name": "stdout",
     "output_type": "stream",
     "text": [
      "Ant-Score: 0.22660972404730617\n"
     ]
    },
    {
     "data": {
      "image/png": "[encoded data removed]",
      "text/plain": [
       "<Figure size 432x288 with 1 Axes>"
      ]
     },
     "metadata": {},
     "output_type": "display_data"
    }
   ],
   "source": [
    "_,_,_ = atecml.data.accuracy_validation(val_df['Fraud'],foo[0])"
   ]
  },
  {
   "cell_type": "code",
   "execution_count": null,
   "metadata": {},
   "outputs": [],
   "source": []
  },
  {
   "cell_type": "code",
   "execution_count": null,
   "metadata": {},
   "outputs": [],
   "source": []
  }
 ],
 "metadata": {
  "kernelspec": {
   "display_name": "Python 3",
   "language": "python",
   "name": "python3"
  },
  "language_info": {
   "codemirror_mode": {
    "name": "ipython",
    "version": 3
   },
   "file_extension": ".py",
   "mimetype": "text/x-python",
   "name": "python",
   "nbconvert_exporter": "python",
   "pygments_lexer": "ipython3",
   "version": "3.5.2"
  }
 },
 "nbformat": 4,
 "nbformat_minor": 2
}

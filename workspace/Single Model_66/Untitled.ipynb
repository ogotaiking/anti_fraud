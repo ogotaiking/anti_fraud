{
 "cells": [
  {
   "cell_type": "code",
   "execution_count": 9,
   "metadata": {},
   "outputs": [
    {
     "data": {
      "text/html": [
       "<style>.container { width:100% !important; }</style>"
      ],
      "text/plain": [
       "<IPython.core.display.HTML object>"
      ]
     },
     "metadata": {},
     "output_type": "display_data"
    }
   ],
   "source": [
    "from IPython.core.display import display, HTML\n",
    "display(HTML(\"<style>.container { width:100% !important; }</style>\"))\n",
    "%matplotlib inline\n",
    "import matplotlib\n",
    "import matplotlib.pyplot as plt\n",
    "import matplotlib.gridspec as gridspec\n",
    "import seaborn as sns\n",
    "import os\n",
    "\n",
    "import numpy as np\n",
    "import pandas as pd\n",
    "import atecml.data\n",
    "from tqdm import tqdm\n",
    "from imblearn.over_sampling import SMOTE\n",
    "\n",
    "class BasicModel(object):\n",
    "    \"\"\"Parent class of basic models\"\"\"\n",
    "    def train(self, x_train, y_train, x_val, y_val):\n",
    "        \"\"\"return a trained model and eval metric o validation data\"\"\"\n",
    "        pass\n",
    "    \n",
    "    def predict(self, model, x_test):\n",
    "        \"\"\"return the predicted result\"\"\"\n",
    "        pass\n",
    "    \n",
    "    def get_oof(self, x_train, y_train, x_test, n_folds = 5):\n",
    "        \"\"\"K-fold stacking\"\"\"\n",
    "        num_train, num_test = x_train.shape[0], x_test.shape[0]\n",
    "        oof_train = np.zeros((num_train,)) \n",
    "        oof_test = np.zeros((num_test,))\n",
    "        oof_test_all_fold = np.zeros((num_test, n_folds))\n",
    "        aucs = []\n",
    "        model_list = []\n",
    "        \n",
    "        for i in range(0,n_folds):\n",
    "            \n",
    "            val_index = DateFold[5] #始终用最后20%验证            \n",
    "            train_index = list(all_list - DateFold[i])\n",
    "                            \n",
    "            print('{0} fold, train {1}, val {2}'.format(i, len(train_index), len(val_index)))\n",
    "            x_tra, y_tra = x_train[train_index], y_train[train_index]\n",
    "            x_val, y_val = x_train[val_index], y_train[val_index]\n",
    "            \n",
    "            #Over_sample\n",
    "            X_resampled, y_resampled = SMOTE().fit_sample(x_tra,y_tra)\n",
    "            model, auc = self.train(X_resampled, y_resampled, x_val, y_val)\n",
    "            #model, auc = self.train(x_tra, y_tra, x_val, y_val)\n",
    "            aucs.append(auc)\n",
    "            model_list.append(model)\n",
    "            oof_train[val_index] = self.predict(model, x_val)\n",
    "            oof_test_all_fold[:, i] = self.predict(model, x_test)\n",
    "        oof_test = np.mean(oof_test_all_fold, axis=1)\n",
    "        print('all aucs {0}, average {1}'.format(aucs, np.mean(aucs)))\n",
    "        return oof_train, oof_test,model_list\n",
    "\n",
    "import lightgbm as lgb\n",
    "class LGBClassifier(BasicModel):\n",
    "    '''\n",
    "    ' 调参范围\n",
    "    'num_leaves':range(35,65,5)\n",
    "    'learning_rate':[0.01,0.05,0.1,0.3,0.5,0.7]\n",
    "    'min_child_weight':range(1,6,2)\n",
    "    'max_depth':range(3,10,2),\n",
    "    'subsample':[i/10.0 for i in range(6,10)],正常直接设置为1\n",
    "    'colsample_bytree':[i/10.0 for i in range(6,10)]，正常直接设置为1\n",
    "    'reg_alpha','reg_lambda':[1e-5, 1e-2, 0.1, 1, 2,2.5,3]\n",
    "    '''\n",
    "    def __init__(self,boost_type,boost_round=1000,early_stop=100,pos_weight=1):\n",
    "        self.num_boost_round = boost_round\n",
    "        self.early_stopping_rounds = early_stop\n",
    "        self.params = {\n",
    "            'task': 'train',\n",
    "            'boosting_type': boost_type,\n",
    "            'objective': 'binary',            \n",
    "            'nthread': 40,            \n",
    "            'metric': {'auc'},\n",
    "            'max_depth': 6,            \n",
    "            'num_leaves': 50,\n",
    "            #'reg_alpha': 0.01,\n",
    "            #'reg_lambda': 0.01,\n",
    "            #'is_unbalance':'true',\n",
    "            'scale_pos_weight': pos_weight,\n",
    "            'use_missing': 'true',\n",
    "            'verbose' : -1,\n",
    "            #'device': 'gpu'\n",
    "            }\n",
    "        print(self.params)\n",
    "        \n",
    "    def train(self, x_train, y_train, x_val, y_val):\n",
    "        print('train with lgb model')\n",
    "        lgbtrain = lgb.Dataset(x_train, y_train)\n",
    "        lgbval = lgb.Dataset(x_val, y_val)\n",
    "        model = lgb.train(self.params, \n",
    "                          lgbtrain,\n",
    "                          valid_sets=lgbval, \n",
    "                          verbose_eval = 50,\n",
    "                          num_boost_round = self.num_boost_round,\n",
    "                          early_stopping_rounds = self.early_stopping_rounds)\n",
    "        return model, model.best_score['valid_0']['auc']\n",
    "    \n",
    "    def predict(self, model, x_test):\n",
    "        print('test with lgb model')\n",
    "        return model.predict(x_test, num_iteration=model.best_iteration)\n",
    "\n"
   ]
  },
  {
   "cell_type": "code",
   "execution_count": 2,
   "metadata": {
    "scrolled": true
   },
   "outputs": [],
   "source": [
    "train_df = pd.read_pickle('./01_train.dat')\n",
    "val_df =  pd.read_pickle('./01_test.dat')\n",
    "\n",
    "#train_df = atecml.data.load_train()\n",
    "#val_df = atecml.data.load_test()\n",
    "train_df.loc[train_df.label == 0, 'Fraud'] = 0\n",
    "train_df.loc[train_df.label != 0, 'Fraud'] = 1\n",
    "\n"
   ]
  },
  {
   "cell_type": "code",
   "execution_count": 21,
   "metadata": {},
   "outputs": [
    {
     "data": {
      "text/plain": [
       "(634284, 360447)"
      ]
     },
     "execution_count": 21,
     "metadata": {},
     "output_type": "execute_result"
    }
   ],
   "source": [
    "#predictors = [x for x in train_df.columns if x not in atecml.data.NOT_FEATURE_SUM]\n",
    "import joblib\n",
    "predictors = joblib.load('./woe_feature.dat')\n",
    "predictors = ['n_f20',\n",
    " 'n_f198',\n",
    " 'n_f26',\n",
    " 'n_f281',\n",
    " 'n_f268',\n",
    " 'n_f21',\n",
    " 'n_f185',\n",
    " 'n_f270',\n",
    " 'n_f271',\n",
    " 'n_f260',\n",
    " 'n_f77',\n",
    " 'n_f235',\n",
    " 'n_f192',\n",
    " 'n_f53',\n",
    " 'n_f259',\n",
    " 'n_f210',\n",
    " 'n_NaN_LIST',\n",
    " 'n_f76',\n",
    " 'n_f244',\n",
    " 'n_f31',\n",
    " 'n_f274',\n",
    " 'n_f28',\n",
    " 'n_f209',\n",
    " 'n_f202',\n",
    " 'n_f29',\n",
    " 'n_f261',\n",
    " 'n_f95',\n",
    " 'n_f264',\n",
    " 'n_f203',\n",
    " 'n_f206',\n",
    " 'n_f288',\n",
    " 'n_f30',\n",
    " 'n_f216',\n",
    " 'n_f204',\n",
    " 'n_f292',\n",
    " 'n_f25',\n",
    " 'n_f277',\n",
    " 'n_f265',\n",
    " 'n_f55',\n",
    " 'n_f182',\n",
    " 'n_f52',\n",
    " 'n_f197',\n",
    " 'n_f178',\n",
    " 'n_f258',\n",
    " 'n_f237',\n",
    " 'n_f78',\n",
    " 'n_f279',\n",
    " 'n_f269',\n",
    " 'n_f234',\n",
    " 'n_f7',\n",
    " 'n_f263',\n",
    " 'n_f193',\n",
    " 'n_f24',\n",
    " 'n_f184',\n",
    " 'n_f54',\n",
    " 'n_f262',\n",
    " 'n_f171',\n",
    " 'n_f278',\n",
    " 'n_f215',\n",
    " 'n_f208',\n",
    " 'n_f183',\n",
    " 'n_f5',\n",
    " 'n_f236',\n",
    " 'n_f12',\n",
    " 'n_f191',\n",
    " 'n_f257',\n",
    " 'n_f205',\n",
    " 'n_f96',\n",
    " 'n_f97',\n",
    " 'n_f190',\n",
    " 'n_f275',\n",
    " 'n_f6',\n",
    " 'n_f79',\n",
    " 'n_f276',\n",
    " 'n_f280',\n",
    " 'n_f266']\n",
    "\n",
    "\n",
    "DateFold={}\n",
    "\n",
    "DateFold[0] = set(atecml.data.filter_date(train_df,start_date='2017-09-05',end_date='2017-09-12').index)\n",
    "DateFold[1] = set(atecml.data.filter_date(train_df,start_date='2017-09-13',end_date='2017-09-20').index)\n",
    "DateFold[2] = set(atecml.data.filter_date(train_df,start_date='2017-09-21',end_date='2017-09-28').index)\n",
    "DateFold[3] = set(atecml.data.filter_date(train_df,start_date='2017-09-29',end_date='2017-10-06').index)\n",
    "DateFold[4] = set(atecml.data.filter_date(train_df,start_date='2017-10-07',end_date='2017-10-14').index)\n",
    "DateFold[5] = list(atecml.data.filter_date(train_df,start_date='2017-10-15',end_date='2017-11-24').index)\n",
    "\n",
    "all_list = set(train_df.index) - set(DateFold[5])\n",
    "len(all_list),len(DateFold[5])"
   ]
  },
  {
   "cell_type": "code",
   "execution_count": 22,
   "metadata": {},
   "outputs": [
    {
     "name": "stdout",
     "output_type": "stream",
     "text": [
      "(994731, 76) (994731,) (500538, 76)\n"
     ]
    }
   ],
   "source": [
    "target='Fraud'\n",
    "x_train = np.array(train_df[predictors])\n",
    "y_train = np.array(train_df[target])\n",
    "x_test = np.array(val_df[predictors])\n",
    "print(x_train.shape, y_train.shape, x_test.shape)"
   ]
  },
  {
   "cell_type": "code",
   "execution_count": 23,
   "metadata": {},
   "outputs": [
    {
     "name": "stdout",
     "output_type": "stream",
     "text": [
      "16847.0 977884.0 58.04499317385885\n"
     ]
    }
   ],
   "source": [
    "num_pos = np.sum(train_df[target])  \n",
    "num_neg = x_train.shape[0]- num_pos\n",
    "scale_pos_weight = num_neg/ num_pos\n",
    "print(num_pos,num_neg,scale_pos_weight)"
   ]
  },
  {
   "cell_type": "code",
   "execution_count": 24,
   "metadata": {},
   "outputs": [],
   "source": [
    "num_boost_round = 5000\n",
    "num_early_stop = 100"
   ]
  },
  {
   "cell_type": "code",
   "execution_count": 25,
   "metadata": {},
   "outputs": [
    {
     "name": "stdout",
     "output_type": "stream",
     "text": [
      "{'nthread': 40, 'objective': 'binary', 'task': 'train', 'scale_pos_weight': 58.04499317385885, 'boosting_type': 'dart', 'num_leaves': 50, 'use_missing': 'true', 'metric': {'auc'}, 'verbose': -1, 'max_depth': 6}\n",
      "0 fold, train 500685, val 360447\n",
      "train with lgb model\n",
      "Training until validation scores don't improve for 100 rounds.\n",
      "[50]\tvalid_0's auc: 0.94858\n",
      "[100]\tvalid_0's auc: 0.9555\n",
      "[150]\tvalid_0's auc: 0.960917\n",
      "[200]\tvalid_0's auc: 0.960478\n",
      "[250]\tvalid_0's auc: 0.960675\n",
      "Early stopping, best iteration is:\n",
      "[186]\tvalid_0's auc: 0.961471\n",
      "test with lgb model\n",
      "test with lgb model\n",
      "1 fold, train 509423, val 360447\n",
      "train with lgb model\n",
      "Training until validation scores don't improve for 100 rounds.\n",
      "[50]\tvalid_0's auc: 0.950736\n",
      "[100]\tvalid_0's auc: 0.95636\n",
      "[150]\tvalid_0's auc: 0.958816\n",
      "[200]\tvalid_0's auc: 0.960439\n",
      "[250]\tvalid_0's auc: 0.960971\n",
      "[300]\tvalid_0's auc: 0.960616\n",
      "Early stopping, best iteration is:\n",
      "[244]\tvalid_0's auc: 0.961583\n",
      "test with lgb model\n",
      "test with lgb model\n",
      "2 fold, train 509014, val 360447\n",
      "train with lgb model\n",
      "Training until validation scores don't improve for 100 rounds.\n",
      "[50]\tvalid_0's auc: 0.952331\n",
      "[100]\tvalid_0's auc: 0.956645\n",
      "[150]\tvalid_0's auc: 0.958824\n",
      "[200]\tvalid_0's auc: 0.960277\n",
      "[250]\tvalid_0's auc: 0.960543\n",
      "[300]\tvalid_0's auc: 0.961343\n",
      "[350]\tvalid_0's auc: 0.961243\n",
      "[400]\tvalid_0's auc: 0.960915\n",
      "Early stopping, best iteration is:\n",
      "[310]\tvalid_0's auc: 0.961597\n",
      "test with lgb model\n",
      "test with lgb model\n",
      "3 fold, train 518384, val 360447\n",
      "train with lgb model\n",
      "Training until validation scores don't improve for 100 rounds.\n",
      "[50]\tvalid_0's auc: 0.947871\n",
      "[100]\tvalid_0's auc: 0.954097\n",
      "[150]\tvalid_0's auc: 0.95719\n",
      "[200]\tvalid_0's auc: 0.959158\n",
      "[250]\tvalid_0's auc: 0.960452\n",
      "[300]\tvalid_0's auc: 0.960349\n",
      "[350]\tvalid_0's auc: 0.960518\n",
      "[400]\tvalid_0's auc: 0.960221\n",
      "Early stopping, best iteration is:\n",
      "[342]\tvalid_0's auc: 0.960938\n",
      "test with lgb model\n",
      "test with lgb model\n",
      "4 fold, train 499630, val 360447\n",
      "train with lgb model\n",
      "Training until validation scores don't improve for 100 rounds.\n",
      "[50]\tvalid_0's auc: 0.946671\n",
      "[100]\tvalid_0's auc: 0.95403\n",
      "[150]\tvalid_0's auc: 0.956219\n",
      "[200]\tvalid_0's auc: 0.957478\n",
      "[250]\tvalid_0's auc: 0.958273\n",
      "[300]\tvalid_0's auc: 0.958558\n",
      "[350]\tvalid_0's auc: 0.958716\n",
      "[400]\tvalid_0's auc: 0.958672\n",
      "Early stopping, best iteration is:\n",
      "[337]\tvalid_0's auc: 0.959099\n",
      "test with lgb model\n",
      "test with lgb model\n",
      "all aucs [0.961471130652624, 0.9615826590666705, 0.9615968087756525, 0.9609383435788013, 0.959098828458176], average 0.9609375541063848\n",
      "(994731,) (500538,)\n",
      "{'nthread': 40, 'objective': 'binary', 'task': 'train', 'scale_pos_weight': 58.04499317385885, 'boosting_type': 'gbdt', 'num_leaves': 50, 'use_missing': 'true', 'metric': {'auc'}, 'verbose': -1, 'max_depth': 6}\n",
      "0 fold, train 500685, val 360447\n",
      "train with lgb model\n",
      "Training until validation scores don't improve for 100 rounds.\n",
      "[50]\tvalid_0's auc: 0.960337\n",
      "[100]\tvalid_0's auc: 0.961118\n",
      "[150]\tvalid_0's auc: 0.959059\n",
      "Early stopping, best iteration is:\n",
      "[56]\tvalid_0's auc: 0.961954\n",
      "test with lgb model\n",
      "test with lgb model\n",
      "1 fold, train 509423, val 360447\n",
      "train with lgb model\n",
      "Training until validation scores don't improve for 100 rounds.\n",
      "[50]\tvalid_0's auc: 0.957794\n",
      "[100]\tvalid_0's auc: 0.961056\n",
      "[150]\tvalid_0's auc: 0.958938\n",
      "Early stopping, best iteration is:\n",
      "[89]\tvalid_0's auc: 0.961427\n",
      "test with lgb model\n",
      "test with lgb model\n",
      "2 fold, train 509014, val 360447\n",
      "train with lgb model\n",
      "Training until validation scores don't improve for 100 rounds.\n",
      "[50]\tvalid_0's auc: 0.958733\n",
      "[100]\tvalid_0's auc: 0.960116\n",
      "[150]\tvalid_0's auc: 0.958679\n",
      "Early stopping, best iteration is:\n",
      "[78]\tvalid_0's auc: 0.961386\n",
      "test with lgb model\n",
      "test with lgb model\n",
      "3 fold, train 518384, val 360447\n",
      "train with lgb model\n",
      "Training until validation scores don't improve for 100 rounds.\n",
      "[50]\tvalid_0's auc: 0.956323\n",
      "[100]\tvalid_0's auc: 0.949607\n",
      "[150]\tvalid_0's auc: 0.946959\n",
      "Early stopping, best iteration is:\n",
      "[67]\tvalid_0's auc: 0.958309\n",
      "test with lgb model\n",
      "test with lgb model\n",
      "4 fold, train 499630, val 360447\n",
      "train with lgb model\n",
      "Training until validation scores don't improve for 100 rounds.\n",
      "[50]\tvalid_0's auc: 0.95588\n",
      "[100]\tvalid_0's auc: 0.957284\n",
      "[150]\tvalid_0's auc: 0.954425\n",
      "Early stopping, best iteration is:\n",
      "[72]\tvalid_0's auc: 0.958497\n",
      "test with lgb model\n",
      "test with lgb model\n",
      "all aucs [0.9619538990290918, 0.9614273795586663, 0.9613859056676544, 0.9583092636557242, 0.9584966835871753], average 0.9603146262996625\n",
      "(994731,) (500538,)\n"
     ]
    }
   ],
   "source": [
    "dart_classifier = LGBClassifier(boost_type='dart',boost_round=num_boost_round,early_stop=num_early_stop,pos_weight= scale_pos_weight)\n",
    "dart_oof_train, dart_oof_test,dart_model_list = dart_classifier.get_oof(x_train, y_train, x_test)\n",
    "print(dart_oof_train.shape, dart_oof_test.shape)    \n",
    "\n",
    "gbdt_classifier = LGBClassifier(boost_type='gbdt',boost_round=num_boost_round,early_stop=num_early_stop,pos_weight= scale_pos_weight)\n",
    "gbdt_oof_train, gbdt_oof_test,gbdt_model_list = gbdt_classifier.get_oof(x_train, y_train, x_test)\n",
    "print(gbdt_oof_train.shape, gbdt_oof_test.shape)  "
   ]
  },
  {
   "cell_type": "code",
   "execution_count": 26,
   "metadata": {},
   "outputs": [
    {
     "name": "stdout",
     "output_type": "stream",
     "text": [
      "Ant-Score: 0.15927123126652953\n"
     ]
    },
    {
     "data": {
      "image/png": "[encoded data removed]",
      "text/plain": [
       "<Figure size 432x288 with 1 Axes>"
      ]
     },
     "metadata": {},
     "output_type": "display_data"
    }
   ],
   "source": [
    "train_dart_r = dart_oof_train\n",
    "n = int(dart_oof_train.shape[0] * 0.8)\n",
    "y_pred, y_val = train_dart_r[n:], y_train[n:]\n",
    "_f1,_f2,_f3 = atecml.data.accuracy_validation(y_val,y_pred)\n"
   ]
  },
  {
   "cell_type": "code",
   "execution_count": 27,
   "metadata": {},
   "outputs": [
    {
     "name": "stdout",
     "output_type": "stream",
     "text": [
      "Ant-Score: 0.20240963855421684\n"
     ]
    },
    {
     "data": {
      "image/png": "[encoded data removed]",
      "text/plain": [
       "<Figure size 432x288 with 1 Axes>"
      ]
     },
     "metadata": {},
     "output_type": "display_data"
    }
   ],
   "source": [
    "train_dart_r = gbdt_oof_train\n",
    "n = int(gbdt_oof_train.shape[0] * 0.8)\n",
    "y_pred, y_val = train_dart_r[n:], y_train[n:]\n",
    "_f1,_f2,_f3 = atecml.data.accuracy_validation(y_val,y_pred)\n"
   ]
  },
  {
   "cell_type": "code",
   "execution_count": null,
   "metadata": {},
   "outputs": [],
   "source": []
  }
 ],
 "metadata": {
  "kernelspec": {
   "display_name": "Python 3",
   "language": "python",
   "name": "python3"
  },
  "language_info": {
   "codemirror_mode": {
    "name": "ipython",
    "version": 3
   },
   "file_extension": ".py",
   "mimetype": "text/x-python",
   "name": "python",
   "nbconvert_exporter": "python",
   "pygments_lexer": "ipython3",
   "version": "3.5.2"
  }
 },
 "nbformat": 4,
 "nbformat_minor": 2
}

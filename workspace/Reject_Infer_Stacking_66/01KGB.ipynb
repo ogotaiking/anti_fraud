{
 "cells": [
  {
   "cell_type": "code",
   "execution_count": 1,
   "metadata": {},
   "outputs": [
    {
     "data": {
      "text/html": [
       "<style>.container { width:100% !important; }</style>"
      ],
      "text/plain": [
       "<IPython.core.display.HTML object>"
      ]
     },
     "metadata": {},
     "output_type": "display_data"
    }
   ],
   "source": [
    "from IPython.core.display import display, HTML\n",
    "display(HTML(\"<style>.container { width:100% !important; }</style>\"))\n",
    "%matplotlib inline\n",
    "import matplotlib\n",
    "import matplotlib.pyplot as plt\n",
    "import matplotlib.gridspec as gridspec\n",
    "import seaborn as sns\n",
    "import os\n",
    "\n",
    "import numpy as np\n",
    "import pandas as pd\n",
    "import atecml.data\n",
    "from tqdm import tqdm\n",
    "\n",
    "class BasicModel(object):\n",
    "    \"\"\"Parent class of basic models\"\"\"\n",
    "    def train(self, x_train, y_train, x_val, y_val):\n",
    "        \"\"\"return a trained model and eval metric o validation data\"\"\"\n",
    "        pass\n",
    "    \n",
    "    def predict(self, model, x_test):\n",
    "        \"\"\"return the predicted result\"\"\"\n",
    "        pass\n",
    "    \n",
    "    def get_oof(self, x_train, y_train, x_test, n_folds = 5):\n",
    "        \"\"\"K-fold stacking\"\"\"\n",
    "        num_train, num_test = x_train.shape[0], x_test.shape[0]\n",
    "        oof_train = np.zeros((num_train,)) \n",
    "        oof_test = np.zeros((num_test,))\n",
    "        oof_test_all_fold = np.zeros((num_test, n_folds))\n",
    "        aucs = []\n",
    "        model_list = []\n",
    "        \n",
    "        for i in range(0,n_folds):\n",
    "            \n",
    "            val_index = DateFold[5] #始终用最后20%验证            \n",
    "            train_index = list(all_list - DateFold[i])\n",
    "                            \n",
    "            print('{0} fold, train {1}, val {2}'.format(i, len(train_index), len(val_index)))\n",
    "            x_tra, y_tra = x_train[train_index], y_train[train_index]\n",
    "            x_val, y_val = x_train[val_index], y_train[val_index]\n",
    "            \n",
    "            #Over_sample\n",
    "            #X_resampled, y_resampled = SMOTE().fit_sample(x_tra,y_tra)\n",
    "            #model, auc = self.train(X_resampled, y_resampled, x_val, y_val)\n",
    "            model, auc = self.train(x_tra, y_tra, x_val, y_val)\n",
    "            aucs.append(auc)\n",
    "            model_list.append(model)\n",
    "            oof_train[val_index] = self.predict(model, x_val)\n",
    "            oof_test_all_fold[:, i] = self.predict(model, x_test)\n",
    "        oof_test = np.mean(oof_test_all_fold, axis=1)\n",
    "        print('all aucs {0}, average {1}'.format(aucs, np.mean(aucs)))\n",
    "        return oof_train, oof_test,model_list\n",
    "\n",
    "import lightgbm as lgb\n",
    "class LGBClassifier(BasicModel):\n",
    "    '''\n",
    "    ' 调参范围\n",
    "    'num_leaves':range(35,65,5)\n",
    "    'learning_rate':[0.01,0.05,0.1,0.3,0.5,0.7]\n",
    "    'min_child_weight':range(1,6,2)\n",
    "    'max_depth':range(3,10,2),\n",
    "    'subsample':[i/10.0 for i in range(6,10)],正常直接设置为1\n",
    "    'colsample_bytree':[i/10.0 for i in range(6,10)]，正常直接设置为1\n",
    "    'reg_alpha','reg_lambda':[1e-5, 1e-2, 0.1, 1, 2,2.5,3]\n",
    "    '''\n",
    "    def __init__(self,boost_type,boost_round=1000,early_stop=100,pos_weight=1):\n",
    "        self.num_boost_round = boost_round\n",
    "        self.early_stopping_rounds = early_stop\n",
    "        self.params = {\n",
    "            'task': 'train',\n",
    "            'boosting_type': boost_type,\n",
    "            'colsample_bytree': 0.7,\n",
    "            'learning_rate': 0.05,\n",
    "            'max_bin': 255,\n",
    "            'max_depth': -1,\n",
    "            'metric': {'auc'},\n",
    "            'min_child_samples': 600,\n",
    "            'min_child_weight': 0.05,\n",
    "            'min_split_gain': 0,\n",
    "            'nthread': 40,\n",
    "            'num_leaves': 80,\n",
    "            'objective': 'binary',\n",
    "            'reg_alpha': 0.1,\n",
    "            'reg_lambda': 0.1,\n",
    "            #'is_unbalance':'true',\n",
    "            'scale_pos_weight': pos_weight,\n",
    "            'subsample': 0.85,\n",
    "            'subsample_for_bin': 200000,\n",
    "            'subsample_freq': 1,\n",
    "            'use_missing': 'true',\n",
    "            'verbose' : -1,\n",
    "            }\n",
    "        print(self.params)\n",
    "        \n",
    "    def train(self, x_train, y_train, x_val, y_val):\n",
    "        print('train with lgb model')\n",
    "        lgbtrain = lgb.Dataset(x_train, y_train)\n",
    "        lgbval = lgb.Dataset(x_val, y_val)\n",
    "        model = lgb.train(self.params, \n",
    "                          lgbtrain,\n",
    "                          valid_sets=lgbval, \n",
    "                          verbose_eval = 50,\n",
    "                          num_boost_round = self.num_boost_round,\n",
    "                          early_stopping_rounds = self.early_stopping_rounds)\n",
    "        return model, model.best_score['valid_0']['auc']\n",
    "    \n",
    "    def predict(self, model, x_test):\n",
    "        print('test with lgb model')\n",
    "        return model.predict(x_test, num_iteration=model.best_iteration)\n",
    "\n",
    "def stack_layer1_result(X_train,rf_model_list,gbdt_model_list,dart_model_list):\n",
    "    with atecml.data.timer('Classification: Building Layer-1 Stack'):\n",
    "        rf_input_list = []\n",
    "        for idx in tqdm(range(len(rf_model_list))):\n",
    "            model = rf_model_list[idx]\n",
    "            _temp_df = model.predict(X_train,num_iteration=model.best_iteration)\n",
    "            rf_input_list.append(pd.DataFrame(_temp_df))\n",
    "        rf_oof_predict= np.array(pd.concat(rf_input_list,ignore_index=True,axis=1).mean(axis=1))    \n",
    "    \n",
    "        gbdt_input_list = []\n",
    "        for idx in tqdm(range(len(gbdt_model_list))):\n",
    "            model = gbdt_model_list[idx]\n",
    "            _temp_df = model.predict(X_train,num_iteration=model.best_iteration)\n",
    "            gbdt_input_list.append(pd.DataFrame(_temp_df))\n",
    "        gbdt_oof_predict= np.array(pd.concat(gbdt_input_list,ignore_index=True,axis=1).mean(axis=1))\n",
    "        \n",
    "        \n",
    "        dart_input_list = []\n",
    "        for idx in tqdm(range(len(dart_model_list))):\n",
    "            model = dart_model_list[idx]\n",
    "            _temp_df = model.predict(X_train,num_iteration=model.best_iteration)\n",
    "            dart_input_list.append(pd.DataFrame(_temp_df))\n",
    "        dart_oof_predict= np.array(pd.concat(dart_input_list,ignore_index=True,axis=1).mean(axis=1))\n",
    "    \n",
    "    input_predict = [rf_oof_predict, gbdt_oof_predict, dart_oof_predict] \n",
    "    stacked_predict = np.concatenate([f.reshape(-1, 1) for f in input_predict], axis=1)\n",
    "    \n",
    "    return stacked_predict  \n"
   ]
  },
  {
   "cell_type": "code",
   "execution_count": 2,
   "metadata": {},
   "outputs": [
    {
     "data": {
      "text/plain": [
       "(631141, 358865)"
      ]
     },
     "execution_count": 2,
     "metadata": {},
     "output_type": "execute_result"
    }
   ],
   "source": [
    "#训练集为第一步build的纬度提升矩阵，并过滤掉unknown标签\n",
    "data = atecml.data.load_train()\n",
    "train_df = data[data['label']!=-1].reset_index(drop=True)\n",
    "\n",
    "#最终预测的测试集为unknown标签\n",
    "val_df = data[data['label']==-1].reset_index(drop=True)\n",
    "\n",
    "\n",
    "predictors = [x for x in data.columns if x not in atecml.data.NOT_FEATURE_COLUMNS]\n",
    "DateFold={}\n",
    "DateFold[0] = set(atecml.data.filter_date(train_df,start_date='2017-09-05',end_date='2017-09-13').index)\n",
    "DateFold[1] = set(atecml.data.filter_date(train_df,start_date='2017-09-13',end_date='2017-09-20').index)\n",
    "DateFold[2] = set(atecml.data.filter_date(train_df,start_date='2017-09-21',end_date='2017-09-28').index)\n",
    "DateFold[3] = set(atecml.data.filter_date(train_df,start_date='2017-09-29',end_date='2017-10-06').index)\n",
    "DateFold[4] = set(atecml.data.filter_date(train_df,start_date='2017-10-07',end_date='2017-10-14').index)\n",
    "DateFold[5] = list(atecml.data.filter_date(train_df,start_date='2017-10-15',end_date='2017-11-24').index)\n",
    "\n",
    "all_list = set(train_df.index) - set(DateFold[5])\n",
    "len(all_list),len(DateFold[5])"
   ]
  },
  {
   "cell_type": "code",
   "execution_count": 3,
   "metadata": {},
   "outputs": [
    {
     "name": "stdout",
     "output_type": "stream",
     "text": [
      "(990006, 297) (990006,) (4725, 297)\n"
     ]
    }
   ],
   "source": [
    "target='label'\n",
    "x_train = np.array(train_df[predictors])\n",
    "y_train = np.array(train_df[target])\n",
    "x_test = np.array(val_df[predictors])\n",
    "print(x_train.shape, y_train.shape, x_test.shape)"
   ]
  },
  {
   "cell_type": "code",
   "execution_count": 4,
   "metadata": {},
   "outputs": [
    {
     "name": "stdout",
     "output_type": "stream",
     "text": [
      "12122 977884 80.67018643788154\n"
     ]
    }
   ],
   "source": [
    "num_pos = np.sum(train_df[target])  \n",
    "num_neg = x_train.shape[0]- num_pos\n",
    "scale_pos_weight =  num_neg/num_pos\n",
    "print(num_pos,num_neg,scale_pos_weight)"
   ]
  },
  {
   "cell_type": "code",
   "execution_count": 5,
   "metadata": {},
   "outputs": [],
   "source": [
    "num_boost_round = 1000\n",
    "num_early_stop = 50"
   ]
  },
  {
   "cell_type": "code",
   "execution_count": 6,
   "metadata": {},
   "outputs": [
    {
     "name": "stdout",
     "output_type": "stream",
     "text": [
      "{'colsample_bytree': 0.7, 'reg_alpha': 0.1, 'max_bin': 255, 'min_split_gain': 0, 'objective': 'binary', 'learning_rate': 0.05, 'task': 'train', 'nthread': 40, 'reg_lambda': 0.1, 'verbose': -1, 'boosting_type': 'rf', 'min_child_weight': 0.05, 'scale_pos_weight': 80.67018643788154, 'max_depth': -1, 'subsample': 0.85, 'metric': {'auc'}, 'subsample_freq': 1, 'subsample_for_bin': 200000, 'use_missing': 'true', 'min_child_samples': 600, 'num_leaves': 80}\n",
      "0 fold, train 483235, val 358865\n",
      "train with lgb model\n",
      "Training until validation scores don't improve for 50 rounds.\n",
      "[50]\tvalid_0's auc: 0.971555\n",
      "Early stopping, best iteration is:\n",
      "[2]\tvalid_0's auc: 0.972917\n",
      "test with lgb model\n",
      "test with lgb model\n",
      "1 fold, train 506877, val 358865\n",
      "train with lgb model\n",
      "Training until validation scores don't improve for 50 rounds.\n",
      "[50]\tvalid_0's auc: 0.971159\n",
      "Early stopping, best iteration is:\n",
      "[8]\tvalid_0's auc: 0.972433\n",
      "test with lgb model\n",
      "test with lgb model\n",
      "2 fold, train 506495, val 358865\n",
      "train with lgb model\n",
      "Training until validation scores don't improve for 50 rounds.\n",
      "[50]\tvalid_0's auc: 0.971401\n",
      "Early stopping, best iteration is:\n",
      "[7]\tvalid_0's auc: 0.972074\n",
      "test with lgb model\n",
      "test with lgb model\n",
      "3 fold, train 515851, val 358865\n",
      "train with lgb model\n",
      "Training until validation scores don't improve for 50 rounds.\n",
      "[50]\tvalid_0's auc: 0.969508\n",
      "Early stopping, best iteration is:\n",
      "[6]\tvalid_0's auc: 0.969851\n",
      "test with lgb model\n",
      "test with lgb model\n",
      "4 fold, train 497103, val 358865\n",
      "train with lgb model\n",
      "Training until validation scores don't improve for 50 rounds.\n",
      "[50]\tvalid_0's auc: 0.96952\n",
      "Early stopping, best iteration is:\n",
      "[4]\tvalid_0's auc: 0.971588\n",
      "test with lgb model\n",
      "test with lgb model\n",
      "all aucs [0.972916713866643, 0.9724329978376801, 0.9720736446651068, 0.9698507245876296, 0.9715882109579373], average 0.9717724583829994\n",
      "(990006,) (4725,)\n"
     ]
    }
   ],
   "source": [
    "\n",
    "# get output of first layer models and construct as input for the second layer          \n",
    "rf_classifier = LGBClassifier(boost_type='rf',boost_round=num_boost_round,early_stop=num_early_stop,pos_weight= scale_pos_weight)\n",
    "rf_oof_train, rf_oof_test,rf_model_list = rf_classifier.get_oof(x_train, y_train, x_test)\n",
    "print(rf_oof_train.shape, rf_oof_test.shape)  \n"
   ]
  },
  {
   "cell_type": "code",
   "execution_count": 7,
   "metadata": {
    "scrolled": false
   },
   "outputs": [
    {
     "name": "stdout",
     "output_type": "stream",
     "text": [
      "{'colsample_bytree': 0.7, 'reg_alpha': 0.1, 'max_bin': 255, 'min_split_gain': 0, 'objective': 'binary', 'learning_rate': 0.05, 'task': 'train', 'nthread': 40, 'reg_lambda': 0.1, 'verbose': -1, 'boosting_type': 'gbdt', 'min_child_weight': 0.05, 'scale_pos_weight': 80.67018643788154, 'max_depth': -1, 'subsample': 0.85, 'metric': {'auc'}, 'subsample_freq': 1, 'subsample_for_bin': 200000, 'use_missing': 'true', 'min_child_samples': 600, 'num_leaves': 80}\n",
      "0 fold, train 483235, val 358865\n",
      "train with lgb model\n",
      "Training until validation scores don't improve for 50 rounds.\n",
      "[50]\tvalid_0's auc: 0.979304\n",
      "[100]\tvalid_0's auc: 0.982614\n",
      "[150]\tvalid_0's auc: 0.983993\n",
      "[200]\tvalid_0's auc: 0.983857\n",
      "Early stopping, best iteration is:\n",
      "[152]\tvalid_0's auc: 0.984079\n",
      "test with lgb model\n",
      "test with lgb model\n",
      "1 fold, train 506877, val 358865\n",
      "train with lgb model\n",
      "Training until validation scores don't improve for 50 rounds.\n",
      "[50]\tvalid_0's auc: 0.977464\n",
      "[100]\tvalid_0's auc: 0.980605\n",
      "[150]\tvalid_0's auc: 0.982721\n",
      "[200]\tvalid_0's auc: 0.983073\n",
      "[250]\tvalid_0's auc: 0.983492\n",
      "[300]\tvalid_0's auc: 0.983457\n",
      "Early stopping, best iteration is:\n",
      "[268]\tvalid_0's auc: 0.983605\n",
      "test with lgb model\n",
      "test with lgb model\n",
      "2 fold, train 506495, val 358865\n",
      "train with lgb model\n",
      "Training until validation scores don't improve for 50 rounds.\n",
      "[50]\tvalid_0's auc: 0.977851\n",
      "[100]\tvalid_0's auc: 0.980442\n",
      "[150]\tvalid_0's auc: 0.982112\n",
      "[200]\tvalid_0's auc: 0.982335\n",
      "[250]\tvalid_0's auc: 0.982777\n",
      "[300]\tvalid_0's auc: 0.982924\n",
      "Early stopping, best iteration is:\n",
      "[276]\tvalid_0's auc: 0.982945\n",
      "test with lgb model\n",
      "test with lgb model\n",
      "3 fold, train 515851, val 358865\n",
      "train with lgb model\n",
      "Training until validation scores don't improve for 50 rounds.\n",
      "[50]\tvalid_0's auc: 0.980004\n",
      "[100]\tvalid_0's auc: 0.982906\n",
      "[150]\tvalid_0's auc: 0.983803\n",
      "[200]\tvalid_0's auc: 0.98387\n",
      "Early stopping, best iteration is:\n",
      "[168]\tvalid_0's auc: 0.983907\n",
      "test with lgb model\n",
      "test with lgb model\n",
      "4 fold, train 497103, val 358865\n",
      "train with lgb model\n",
      "Training until validation scores don't improve for 50 rounds.\n",
      "[50]\tvalid_0's auc: 0.977848\n",
      "[100]\tvalid_0's auc: 0.981463\n",
      "[150]\tvalid_0's auc: 0.982864\n",
      "[200]\tvalid_0's auc: 0.983153\n",
      "[250]\tvalid_0's auc: 0.983122\n",
      "Early stopping, best iteration is:\n",
      "[248]\tvalid_0's auc: 0.983235\n",
      "test with lgb model\n",
      "test with lgb model\n",
      "all aucs [0.9840793103672848, 0.9836045342233504, 0.9829447528622383, 0.9839074798444449, 0.9832349645130275], average 0.9835542083620691\n",
      "(990006,) (4725,)\n",
      "{'colsample_bytree': 0.7, 'reg_alpha': 0.1, 'max_bin': 255, 'min_split_gain': 0, 'objective': 'binary', 'learning_rate': 0.05, 'task': 'train', 'nthread': 40, 'reg_lambda': 0.1, 'verbose': -1, 'boosting_type': 'dart', 'min_child_weight': 0.05, 'scale_pos_weight': 80.67018643788154, 'max_depth': -1, 'subsample': 0.85, 'metric': {'auc'}, 'subsample_freq': 1, 'subsample_for_bin': 200000, 'use_missing': 'true', 'min_child_samples': 600, 'num_leaves': 80}\n",
      "0 fold, train 483235, val 358865\n",
      "train with lgb model\n",
      "Training until validation scores don't improve for 50 rounds.\n",
      "[50]\tvalid_0's auc: 0.977743\n",
      "[100]\tvalid_0's auc: 0.978433\n",
      "[150]\tvalid_0's auc: 0.979016\n",
      "[200]\tvalid_0's auc: 0.979948\n",
      "[250]\tvalid_0's auc: 0.98113\n",
      "[300]\tvalid_0's auc: 0.981724\n",
      "[350]\tvalid_0's auc: 0.982363\n",
      "[400]\tvalid_0's auc: 0.98251\n",
      "[450]\tvalid_0's auc: 0.983542\n",
      "[500]\tvalid_0's auc: 0.984209\n",
      "[550]\tvalid_0's auc: 0.98438\n",
      "[600]\tvalid_0's auc: 0.984368\n",
      "Early stopping, best iteration is:\n",
      "[565]\tvalid_0's auc: 0.984626\n",
      "test with lgb model\n",
      "test with lgb model\n",
      "1 fold, train 506877, val 358865\n",
      "train with lgb model\n",
      "Training until validation scores don't improve for 50 rounds.\n",
      "[50]\tvalid_0's auc: 0.975779\n",
      "[100]\tvalid_0's auc: 0.978114\n",
      "[150]\tvalid_0's auc: 0.979063\n",
      "[200]\tvalid_0's auc: 0.980108\n",
      "[250]\tvalid_0's auc: 0.980132\n",
      "[300]\tvalid_0's auc: 0.981537\n",
      "[350]\tvalid_0's auc: 0.982063\n",
      "[400]\tvalid_0's auc: 0.982685\n",
      "[450]\tvalid_0's auc: 0.983401\n",
      "[500]\tvalid_0's auc: 0.983914\n",
      "[550]\tvalid_0's auc: 0.984551\n",
      "[600]\tvalid_0's auc: 0.984247\n",
      "Early stopping, best iteration is:\n",
      "[550]\tvalid_0's auc: 0.984551\n",
      "test with lgb model\n",
      "test with lgb model\n",
      "2 fold, train 506495, val 358865\n",
      "train with lgb model\n",
      "Training until validation scores don't improve for 50 rounds.\n",
      "[50]\tvalid_0's auc: 0.976421\n",
      "[100]\tvalid_0's auc: 0.97816\n",
      "[150]\tvalid_0's auc: 0.979145\n",
      "[200]\tvalid_0's auc: 0.978926\n",
      "Early stopping, best iteration is:\n",
      "[161]\tvalid_0's auc: 0.979396\n",
      "test with lgb model\n",
      "test with lgb model\n",
      "3 fold, train 515851, val 358865\n",
      "train with lgb model\n",
      "Training until validation scores don't improve for 50 rounds.\n",
      "[50]\tvalid_0's auc: 0.978772\n",
      "[100]\tvalid_0's auc: 0.98103\n",
      "[150]\tvalid_0's auc: 0.981779\n",
      "[200]\tvalid_0's auc: 0.981842\n",
      "Early stopping, best iteration is:\n",
      "[153]\tvalid_0's auc: 0.981999\n",
      "test with lgb model\n",
      "test with lgb model\n",
      "4 fold, train 497103, val 358865\n",
      "train with lgb model\n",
      "Training until validation scores don't improve for 50 rounds.\n",
      "[50]\tvalid_0's auc: 0.976465\n",
      "[100]\tvalid_0's auc: 0.978212\n",
      "[150]\tvalid_0's auc: 0.979136\n",
      "[200]\tvalid_0's auc: 0.979531\n",
      "[250]\tvalid_0's auc: 0.980611\n",
      "[300]\tvalid_0's auc: 0.981655\n",
      "[350]\tvalid_0's auc: 0.982234\n",
      "[400]\tvalid_0's auc: 0.983131\n",
      "[450]\tvalid_0's auc: 0.984092\n",
      "[500]\tvalid_0's auc: 0.98464\n",
      "[550]\tvalid_0's auc: 0.984813\n",
      "[600]\tvalid_0's auc: 0.984777\n",
      "Early stopping, best iteration is:\n",
      "[560]\tvalid_0's auc: 0.984868\n",
      "test with lgb model\n",
      "test with lgb model\n",
      "all aucs [0.9846255495212216, 0.9845510032517077, 0.9793961421294756, 0.981999428148811, 0.9848681394631663], average 0.9830880525028765\n",
      "(990006,) (4725,)\n"
     ]
    }
   ],
   "source": [
    "gbdt_classifier = LGBClassifier(boost_type='gbdt',boost_round=num_boost_round,early_stop=num_early_stop,pos_weight= scale_pos_weight)\n",
    "gbdt_oof_train, gbdt_oof_test,gbdt_model_list = gbdt_classifier.get_oof(x_train, y_train, x_test)\n",
    "print(gbdt_oof_train.shape, gbdt_oof_test.shape)  \n",
    "\n",
    "dart_classifier = LGBClassifier(boost_type='dart',boost_round=num_boost_round,early_stop=num_early_stop,pos_weight= scale_pos_weight)\n",
    "dart_oof_train, dart_oof_test,dart_model_list = dart_classifier.get_oof(x_train, y_train, x_test)\n",
    "print(dart_oof_train.shape, dart_oof_test.shape)    "
   ]
  },
  {
   "cell_type": "code",
   "execution_count": 8,
   "metadata": {},
   "outputs": [
    {
     "name": "stderr",
     "output_type": "stream",
     "text": [
      "\r",
      "  0%|          | 0/5 [00:00<?, ?it/s]"
     ]
    },
    {
     "name": "stdout",
     "output_type": "stream",
     "text": [
      "[2018-07-03 13:34:15][Classification: Building Layer-1 Stack] Begin ...\n"
     ]
    },
    {
     "name": "stderr",
     "output_type": "stream",
     "text": [
      "100%|██████████| 5/5 [00:10<00:00,  2.16s/it]\n",
      "100%|██████████| 5/5 [00:18<00:00,  3.64s/it]\n",
      "100%|██████████| 5/5 [00:22<00:00,  4.55s/it]\n",
      "100%|██████████| 5/5 [00:00<00:00, 96.65it/s]\n",
      "100%|██████████| 5/5 [00:00<00:00, 48.81it/s]\n",
      "  0%|          | 0/5 [00:00<?, ?it/s]"
     ]
    },
    {
     "name": "stdout",
     "output_type": "stream",
     "text": [
      "[2018-07-03 13:35:07][Classification: Building Layer-1 Stack] End   ...[Elapsed: 52.06s]\n",
      "[2018-07-03 13:35:07][Classification: Building Layer-1 Stack] Begin ...\n"
     ]
    },
    {
     "name": "stderr",
     "output_type": "stream",
     "text": [
      "\r",
      "100%|██████████| 5/5 [00:00<00:00, 42.37it/s]"
     ]
    },
    {
     "name": "stdout",
     "output_type": "stream",
     "text": [
      "[2018-07-03 13:35:07][Classification: Building Layer-1 Stack] End   ...[Elapsed: 0.29s]\n"
     ]
    },
    {
     "name": "stderr",
     "output_type": "stream",
     "text": [
      "\n"
     ]
    }
   ],
   "source": [
    "stacked_train = stack_layer1_result(x_train,rf_model_list,gbdt_model_list,dart_model_list)\n",
    "stacked_test = stack_layer1_result(x_test,rf_model_list,gbdt_model_list,dart_model_list)"
   ]
  },
  {
   "cell_type": "code",
   "execution_count": 9,
   "metadata": {},
   "outputs": [
    {
     "name": "stdout",
     "output_type": "stream",
     "text": [
      "Ant-Score: 0.4772692601067887\n"
     ]
    },
    {
     "data": {
      "image/png": "[encoded data removed]",
      "text/plain": [
       "<Figure size 432x288 with 1 Axes>"
      ]
     },
     "metadata": {},
     "output_type": "display_data"
    }
   ],
   "source": [
    "# use XGBOOST  as the model of the second layer\n",
    "import xgboost as xgb\n",
    "from xgboost.sklearn import XGBClassifier\n",
    "\n",
    "model = XGBClassifier(\n",
    " learning_rate =0.05,\n",
    " n_estimators=200,\n",
    " max_depth=3,\n",
    " min_child_weight=1,\n",
    " gamma=0,\n",
    " subsample=0.8,\n",
    " colsample_bytree=0.9,\n",
    " objective= 'binary:logistic',\n",
    " scoring='roc_auc',\n",
    " scale_pos_weight= scale_pos_weight,\n",
    " nthread=40,\n",
    " seed=27)\n",
    "\n",
    "\n",
    "# split for validation\n",
    "n = int(stacked_train.shape[0] * 0.8)\n",
    "x_tra, y_tra = stacked_train[:n], y_train[:n]\n",
    "x_val, y_val = stacked_train[n:], y_train[n:]\n",
    "model.fit(x_tra,y_tra)\n",
    "y_pred = pd.DataFrame(model.predict_proba(x_val))[1]\n",
    "\n",
    "_f1,_f2,_f3 = atecml.data.accuracy_validation(y_val,y_pred)"
   ]
  },
  {
   "cell_type": "code",
   "execution_count": 10,
   "metadata": {},
   "outputs": [],
   "source": [
    "# predict on test data\n",
    "final_model = XGBClassifier(\n",
    " learning_rate =0.05,\n",
    " n_estimators=200,\n",
    " max_depth=3,\n",
    " min_child_weight=1,\n",
    " gamma=0,\n",
    " subsample=0.8,\n",
    " colsample_bytree=0.9,\n",
    " objective= 'binary:logistic',\n",
    " scoring='roc_auc',\n",
    " scale_pos_weight= scale_pos_weight,\n",
    " nthread=40,\n",
    " seed=27)\n",
    "\n",
    "\n",
    "final_model.fit(stacked_train, y_train)\n",
    "test_prediction = final_model.predict_proba(stacked_test)\n",
    "\n",
    "result=pd.DataFrame()\n",
    "result['id'] = val_df['id']\n",
    "result['score'] = pd.DataFrame(test_prediction)[1]\n",
    "result.to_pickle('./reject_inf.dat')"
   ]
  },
  {
   "cell_type": "code",
   "execution_count": 11,
   "metadata": {},
   "outputs": [
    {
     "data": {
      "text/plain": [
       "array([[<matplotlib.axes._subplots.AxesSubplot object at 0x7f6a173b7320>]],\n",
       "      dtype=object)"
      ]
     },
     "execution_count": 11,
     "metadata": {},
     "output_type": "execute_result"
    },
    {
     "data": {
      "image/png": "[encoded data removed]",
      "text/plain": [
       "<Figure size 432x288 with 1 Axes>"
      ]
     },
     "metadata": {},
     "output_type": "display_data"
    }
   ],
   "source": [
    "result.hist(bins=100)"
   ]
  },
  {
   "cell_type": "code",
   "execution_count": 15,
   "metadata": {},
   "outputs": [
    {
     "data": {
      "text/plain": [
       "1484"
      ]
     },
     "execution_count": 15,
     "metadata": {},
     "output_type": "execute_result"
    }
   ],
   "source": [
    "len(result[result.score > 0.8])"
   ]
  },
  {
   "cell_type": "code",
   "execution_count": 16,
   "metadata": {},
   "outputs": [
    {
     "data": {
      "text/plain": [
       "array([[<matplotlib.axes._subplots.AxesSubplot object at 0x7f691a37fd68>]],\n",
       "      dtype=object)"
      ]
     },
     "execution_count": 16,
     "metadata": {},
     "output_type": "execute_result"
    },
    {
     "data": {
      "image/png": "[encoded data removed]",
      "text/plain": [
       "<Figure size 432x288 with 1 Axes>"
      ]
     },
     "metadata": {},
     "output_type": "display_data"
    }
   ],
   "source": [
    "result[result.score > 0.8].hist()"
   ]
  },
  {
   "cell_type": "code",
   "execution_count": 14,
   "metadata": {},
   "outputs": [],
   "source": [
    "result.to_pickle('./reject_inf.dat')"
   ]
  },
  {
   "cell_type": "code",
   "execution_count": null,
   "metadata": {},
   "outputs": [],
   "source": []
  }
 ],
 "metadata": {
  "kernelspec": {
   "display_name": "Python 3",
   "language": "python",
   "name": "python3"
  },
  "language_info": {
   "codemirror_mode": {
    "name": "ipython",
    "version": 3
   },
   "file_extension": ".py",
   "mimetype": "text/x-python",
   "name": "python",
   "nbconvert_exporter": "python",
   "pygments_lexer": "ipython3",
   "version": "3.5.2"
  }
 },
 "nbformat": 4,
 "nbformat_minor": 2
}

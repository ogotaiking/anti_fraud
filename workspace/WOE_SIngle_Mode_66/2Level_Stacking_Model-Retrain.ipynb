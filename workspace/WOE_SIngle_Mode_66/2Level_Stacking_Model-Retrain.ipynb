{
 "cells": [
  {
   "cell_type": "code",
   "execution_count": 1,
   "metadata": {},
   "outputs": [
    {
     "data": {
      "text/html": [
       "<style>.container { width:100% !important; }</style>"
      ],
      "text/plain": [
       "<IPython.core.display.HTML object>"
      ]
     },
     "metadata": {},
     "output_type": "display_data"
    }
   ],
   "source": [
    "from IPython.core.display import display, HTML\n",
    "display(HTML(\"<style>.container { width:100% !important; }</style>\"))\n",
    "%matplotlib inline\n",
    "import matplotlib\n",
    "import matplotlib.pyplot as plt\n",
    "import matplotlib.gridspec as gridspec\n",
    "import seaborn as sns\n",
    "import os\n",
    "\n",
    "import numpy as np\n",
    "import pandas as pd\n",
    "import tensorflow as tf\n",
    "\n",
    "import atecml.data\n",
    "\n",
    "from contextlib import contextmanager\n",
    "from tqdm import tqdm\n",
    "from sklearn.neighbors import KNeighborsClassifier\n",
    "from sklearn.preprocessing import StandardScaler, MinMaxScaler\n",
    "from sklearn.decomposition import PCA\n",
    "from sklearn.externals import joblib\n",
    "from sklearn.linear_model import LogisticRegressionCV\n",
    "#build Models...\n",
    "from sklearn.ensemble import RandomForestClassifier\n",
    "from sklearn.ensemble import ExtraTreesClassifier\n",
    "from sklearn.ensemble import GradientBoostingClassifier\n",
    "from sklearn.tree import DecisionTreeClassifier\n",
    "import lightgbm as lgb\n",
    "from xgboost import XGBClassifier\n",
    "from sklearn.model_selection import train_test_split\n",
    "from sklearn.externals import joblib\n",
    "from imblearn.over_sampling import SMOTE, ADASYN\n",
    "import random\n",
    "\n",
    "plt.style.use('ggplot')"
   ]
  },
  {
   "cell_type": "code",
   "execution_count": 2,
   "metadata": {},
   "outputs": [
    {
     "name": "stdout",
     "output_type": "stream",
     "text": [
      "4725\n"
     ]
    }
   ],
   "source": [
    "train_df = pd.read_pickle('./01_train.dat')\n",
    "#train_df = atecml.data.load_train()\n",
    "rej = pd.read_pickle('./reject_inf.dat')\n",
    "rej_list= list(rej[rej.score>0.5]['id'])\n",
    "rej_list= list(rej['id'])\n",
    "print(len(rej_list))\n",
    "rej_list_index = list(train_df[train_df.id.isin(rej_list)].index)\n",
    "train_df.loc[rej_list_index,'Fraud']=1"
   ]
  },
  {
   "cell_type": "code",
   "execution_count": 3,
   "metadata": {},
   "outputs": [
    {
     "data": {
      "text/plain": [
       "(634284, 360447)"
      ]
     },
     "execution_count": 3,
     "metadata": {},
     "output_type": "execute_result"
    }
   ],
   "source": [
    "\n",
    "\n",
    "predictors = [x for x in train_df.columns if x not in atecml.data.NOT_FEATURE_COLUMNS]\n",
    "DateFold={}\n",
    "\n",
    "DateFold[0] = set(atecml.data.filter_date(train_df,start_date='2017-09-05',end_date='2017-09-12').index)\n",
    "DateFold[1] = set(atecml.data.filter_date(train_df,start_date='2017-09-13',end_date='2017-09-20').index)\n",
    "DateFold[2] = set(atecml.data.filter_date(train_df,start_date='2017-09-21',end_date='2017-09-28').index)\n",
    "DateFold[3] = set(atecml.data.filter_date(train_df,start_date='2017-09-29',end_date='2017-10-06').index)\n",
    "DateFold[4] = set(atecml.data.filter_date(train_df,start_date='2017-10-07',end_date='2017-10-14').index)\n",
    "DateFold[5] = list(atecml.data.filter_date(train_df,start_date='2017-10-15',end_date='2017-11-24').index)\n",
    "\n",
    "all_list = set(train_df.index) - set(DateFold[5])\n",
    "len(all_list),len(DateFold[5])"
   ]
  },
  {
   "cell_type": "code",
   "execution_count": 4,
   "metadata": {},
   "outputs": [],
   "source": [
    "#WOE_LIST = joblib.load('./woe_feature.dat')\n",
    "#CATE_LIST = WOE_LIST + atecml.data.CATE_FEATURE_LIST\n",
    "\n",
    "CATE_LIST = atecml.data.CATE_FEATURE_LIST\n",
    "categorical=[]\n",
    "for item in predictors:\n",
    "    if (item in CATE_LIST):\n",
    "        categorical.append(item)\n"
   ]
  },
  {
   "cell_type": "code",
   "execution_count": 5,
   "metadata": {},
   "outputs": [],
   "source": [
    "num_boosting_round = 300\n",
    "early_stop_round = 100"
   ]
  },
  {
   "cell_type": "code",
   "execution_count": 6,
   "metadata": {},
   "outputs": [],
   "source": [
    "params = {\n",
    "    \n",
    "    'objective': 'binary',\n",
    "    'metric': 'auc',\n",
    "    'use_missing' : True,\n",
    "    #'is_unbalance': True,\n",
    "    #'scale_pos_weight': 98,\n",
    "    'learning_rate': 0.5,\n",
    "    'num_leaves': 64,  # we should let it be smaller than 2^(max_depth)\n",
    "    'max_depth': 3,  # -1 means no limit\n",
    "    'min_child_samples': 600,  # Minimum number of data need in a child(min_data_in_leaf)\n",
    "    'max_bin': 255,  # Number of bucketed bin for feature values\n",
    "    'colsample_bytree': 0.7,\n",
    "    'subsample': 0.85,  # Subsample ratio of the training instance.\n",
    "    'subsample_freq': 1,  # frequence of subsample, <=0 means no enable\n",
    "    'min_child_weight': 0.01,  # Minimum sum of instance weight(hessian) needed in a child(leaf)\n",
    "    #'subsample_for_bin': 2000,  # Number of samples for constructing bin\n",
    "    'min_split_gain': 0,  # lambda_l1, lambda_l2 and min_gain_to_split to regularization\n",
    "    'reg_alpha': 0.01,  # L1 regularization term on weights\n",
    "    'reg_lambda': 0.1,  # L2 regularization term on weights\n",
    "    'nthread': 40,\n",
    "    'n_estimators': num_boosting_round,\n",
    "    'verbose': -1,\n",
    "}\n",
    "\n",
    "rf = {\n",
    "    'boosting_type': 'rf',\n",
    "}\n",
    "rf.update(params)\n",
    "\n",
    "dart = {\n",
    "    'boosting_type': 'dart',\n",
    "}\n",
    "dart.update(params)\n",
    "\n",
    "gbdt = {\n",
    "    'boosting_type': 'gbdt',\n",
    "}\n",
    "gbdt.update(params)\n",
    "\n",
    "param_list = [gbdt,dart]"
   ]
  },
  {
   "cell_type": "code",
   "execution_count": 7,
   "metadata": {
    "scrolled": true
   },
   "outputs": [
    {
     "name": "stderr",
     "output_type": "stream",
     "text": [
      "\r",
      "  0%|          | 0/20 [00:00<?, ?it/s]"
     ]
    },
    {
     "name": "stdout",
     "output_type": "stream",
     "text": [
      "starting fit model...\n",
      "Training until validation scores don't improve for 100 rounds.\n",
      "Early stopping, best iteration is:\n",
      "[60]\tvalid_0's auc: 0.969882\n",
      "starting fit model...\n",
      "Training until validation scores don't improve for 100 rounds.\n",
      "[200]\tvalid_0's auc: 0.971037\n"
     ]
    },
    {
     "name": "stderr",
     "output_type": "stream",
     "text": [
      "\r",
      "  5%|▌         | 1/20 [00:51<16:22, 51.72s/it]"
     ]
    },
    {
     "name": "stdout",
     "output_type": "stream",
     "text": [
      "Did not meet early stopping. Best iteration is:\n",
      "[250]\tvalid_0's auc: 0.972301\n",
      "starting fit model...\n",
      "Training until validation scores don't improve for 100 rounds.\n",
      "Early stopping, best iteration is:\n",
      "[31]\tvalid_0's auc: 0.969765\n",
      "starting fit model...\n",
      "Training until validation scores don't improve for 100 rounds.\n",
      "[200]\tvalid_0's auc: 0.971555\n"
     ]
    },
    {
     "name": "stderr",
     "output_type": "stream",
     "text": [
      "\r",
      " 10%|█         | 2/20 [01:39<14:51, 49.52s/it]"
     ]
    },
    {
     "name": "stdout",
     "output_type": "stream",
     "text": [
      "Did not meet early stopping. Best iteration is:\n",
      "[262]\tvalid_0's auc: 0.972669\n",
      "starting fit model...\n",
      "Training until validation scores don't improve for 100 rounds.\n",
      "Early stopping, best iteration is:\n",
      "[59]\tvalid_0's auc: 0.970933\n",
      "starting fit model...\n",
      "Training until validation scores don't improve for 100 rounds.\n",
      "[200]\tvalid_0's auc: 0.970828\n"
     ]
    },
    {
     "name": "stderr",
     "output_type": "stream",
     "text": [
      "\r",
      " 15%|█▌        | 3/20 [02:21<13:24, 47.31s/it]"
     ]
    },
    {
     "name": "stdout",
     "output_type": "stream",
     "text": [
      "Early stopping, best iteration is:\n",
      "[112]\tvalid_0's auc: 0.971596\n",
      "starting fit model...\n",
      "Training until validation scores don't improve for 100 rounds.\n",
      "Early stopping, best iteration is:\n",
      "[66]\tvalid_0's auc: 0.969916\n",
      "starting fit model...\n",
      "Training until validation scores don't improve for 100 rounds.\n",
      "[200]\tvalid_0's auc: 0.970822\n"
     ]
    },
    {
     "name": "stderr",
     "output_type": "stream",
     "text": [
      "\r",
      " 20%|██        | 4/20 [03:11<12:44, 47.81s/it]"
     ]
    },
    {
     "name": "stdout",
     "output_type": "stream",
     "text": [
      "Did not meet early stopping. Best iteration is:\n",
      "[247]\tvalid_0's auc: 0.971709\n",
      "starting fit model...\n",
      "Training until validation scores don't improve for 100 rounds.\n",
      "Early stopping, best iteration is:\n",
      "[54]\tvalid_0's auc: 0.967788\n",
      "starting fit model...\n",
      "Training until validation scores don't improve for 100 rounds.\n",
      "[200]\tvalid_0's auc: 0.968837\n"
     ]
    },
    {
     "name": "stderr",
     "output_type": "stream",
     "text": [
      "\r",
      " 25%|██▌       | 5/20 [03:56<11:49, 47.28s/it]"
     ]
    },
    {
     "name": "stdout",
     "output_type": "stream",
     "text": [
      "Early stopping, best iteration is:\n",
      "[141]\tvalid_0's auc: 0.97097\n",
      "starting fit model...\n",
      "Training until validation scores don't improve for 100 rounds.\n",
      "Early stopping, best iteration is:\n",
      "[52]\tvalid_0's auc: 0.967194\n",
      "starting fit model...\n",
      "Training until validation scores don't improve for 100 rounds.\n",
      "[200]\tvalid_0's auc: 0.969439\n"
     ]
    },
    {
     "name": "stderr",
     "output_type": "stream",
     "text": [
      "\r",
      " 30%|███       | 6/20 [04:40<10:53, 46.71s/it]"
     ]
    },
    {
     "name": "stdout",
     "output_type": "stream",
     "text": [
      "Early stopping, best iteration is:\n",
      "[115]\tvalid_0's auc: 0.970741\n",
      "starting fit model...\n",
      "Training until validation scores don't improve for 100 rounds.\n",
      "Early stopping, best iteration is:\n",
      "[44]\tvalid_0's auc: 0.969796\n",
      "starting fit model...\n",
      "Training until validation scores don't improve for 100 rounds.\n"
     ]
    },
    {
     "name": "stderr",
     "output_type": "stream",
     "text": [
      "\r",
      " 35%|███▌      | 7/20 [05:22<09:59, 46.10s/it]"
     ]
    },
    {
     "name": "stdout",
     "output_type": "stream",
     "text": [
      "Early stopping, best iteration is:\n",
      "[99]\tvalid_0's auc: 0.97217\n",
      "starting fit model...\n",
      "Training until validation scores don't improve for 100 rounds.\n",
      "[200]\tvalid_0's auc: 0.966306\n",
      "Early stopping, best iteration is:\n",
      "[157]\tvalid_0's auc: 0.968135\n",
      "starting fit model...\n",
      "Training until validation scores don't improve for 100 rounds.\n",
      "[200]\tvalid_0's auc: 0.97064\n"
     ]
    },
    {
     "name": "stderr",
     "output_type": "stream",
     "text": [
      "\r",
      " 40%|████      | 8/20 [06:14<09:22, 46.85s/it]"
     ]
    },
    {
     "name": "stdout",
     "output_type": "stream",
     "text": [
      "Early stopping, best iteration is:\n",
      "[191]\tvalid_0's auc: 0.971584\n",
      "starting fit model...\n",
      "Training until validation scores don't improve for 100 rounds.\n",
      "Early stopping, best iteration is:\n",
      "[44]\tvalid_0's auc: 0.967523\n",
      "starting fit model...\n",
      "Training until validation scores don't improve for 100 rounds.\n",
      "[200]\tvalid_0's auc: 0.970237\n"
     ]
    },
    {
     "name": "stderr",
     "output_type": "stream",
     "text": [
      "\r",
      " 45%|████▌     | 9/20 [06:58<08:31, 46.48s/it]"
     ]
    },
    {
     "name": "stdout",
     "output_type": "stream",
     "text": [
      "Early stopping, best iteration is:\n",
      "[153]\tvalid_0's auc: 0.970439\n",
      "starting fit model...\n",
      "Training until validation scores don't improve for 100 rounds.\n",
      "Early stopping, best iteration is:\n",
      "[62]\tvalid_0's auc: 0.969745\n",
      "starting fit model...\n",
      "Training until validation scores don't improve for 100 rounds.\n",
      "[200]\tvalid_0's auc: 0.969109\n"
     ]
    },
    {
     "name": "stderr",
     "output_type": "stream",
     "text": [
      "\r",
      " 50%|█████     | 10/20 [07:43<07:43, 46.35s/it]"
     ]
    },
    {
     "name": "stdout",
     "output_type": "stream",
     "text": [
      "Early stopping, best iteration is:\n",
      "[129]\tvalid_0's auc: 0.970603\n",
      "starting fit model...\n",
      "Training until validation scores don't improve for 100 rounds.\n",
      "Early stopping, best iteration is:\n",
      "[33]\tvalid_0's auc: 0.970189\n",
      "starting fit model...\n",
      "Training until validation scores don't improve for 100 rounds.\n",
      "[200]\tvalid_0's auc: 0.969735\n"
     ]
    },
    {
     "name": "stderr",
     "output_type": "stream",
     "text": [
      "\r",
      " 55%|█████▌    | 11/20 [08:25<06:53, 45.92s/it]"
     ]
    },
    {
     "name": "stdout",
     "output_type": "stream",
     "text": [
      "Early stopping, best iteration is:\n",
      "[112]\tvalid_0's auc: 0.971841\n",
      "starting fit model...\n",
      "Training until validation scores don't improve for 100 rounds.\n",
      "Early stopping, best iteration is:\n",
      "[29]\tvalid_0's auc: 0.968159\n",
      "starting fit model...\n",
      "Training until validation scores don't improve for 100 rounds.\n"
     ]
    },
    {
     "name": "stderr",
     "output_type": "stream",
     "text": [
      "\r",
      " 60%|██████    | 12/20 [09:04<06:03, 45.39s/it]"
     ]
    },
    {
     "name": "stdout",
     "output_type": "stream",
     "text": [
      "Early stopping, best iteration is:\n",
      "[77]\tvalid_0's auc: 0.968653\n",
      "starting fit model...\n",
      "Training until validation scores don't improve for 100 rounds.\n",
      "Early stopping, best iteration is:\n",
      "[76]\tvalid_0's auc: 0.969423\n",
      "starting fit model...\n",
      "Training until validation scores don't improve for 100 rounds.\n"
     ]
    },
    {
     "name": "stderr",
     "output_type": "stream",
     "text": [
      "\r",
      " 65%|██████▌   | 13/20 [09:48<05:16, 45.25s/it]"
     ]
    },
    {
     "name": "stdout",
     "output_type": "stream",
     "text": [
      "Early stopping, best iteration is:\n",
      "[88]\tvalid_0's auc: 0.971525\n",
      "starting fit model...\n",
      "Training until validation scores don't improve for 100 rounds.\n",
      "Early stopping, best iteration is:\n",
      "[28]\tvalid_0's auc: 0.968329\n",
      "starting fit model...\n",
      "Training until validation scores don't improve for 100 rounds.\n",
      "[200]\tvalid_0's auc: 0.969452\n"
     ]
    },
    {
     "name": "stderr",
     "output_type": "stream",
     "text": [
      "\r",
      " 70%|███████   | 14/20 [10:35<04:32, 45.41s/it]"
     ]
    },
    {
     "name": "stdout",
     "output_type": "stream",
     "text": [
      "Did not meet early stopping. Best iteration is:\n",
      "[287]\tvalid_0's auc: 0.97057\n",
      "starting fit model...\n",
      "Training until validation scores don't improve for 100 rounds.\n",
      "Early stopping, best iteration is:\n",
      "[34]\tvalid_0's auc: 0.966858\n",
      "starting fit model...\n",
      "Training until validation scores don't improve for 100 rounds.\n",
      "[200]\tvalid_0's auc: 0.969424\n"
     ]
    },
    {
     "name": "stderr",
     "output_type": "stream",
     "text": [
      "\r",
      " 75%|███████▌  | 15/20 [11:19<03:46, 45.31s/it]"
     ]
    },
    {
     "name": "stdout",
     "output_type": "stream",
     "text": [
      "Early stopping, best iteration is:\n",
      "[123]\tvalid_0's auc: 0.970206\n",
      "starting fit model...\n",
      "Training until validation scores don't improve for 100 rounds.\n",
      "Early stopping, best iteration is:\n",
      "[31]\tvalid_0's auc: 0.968329\n",
      "starting fit model...\n",
      "Training until validation scores don't improve for 100 rounds.\n"
     ]
    },
    {
     "name": "stderr",
     "output_type": "stream",
     "text": [
      "\r",
      " 80%|████████  | 16/20 [11:58<02:59, 44.90s/it]"
     ]
    },
    {
     "name": "stdout",
     "output_type": "stream",
     "text": [
      "Early stopping, best iteration is:\n",
      "[48]\tvalid_0's auc: 0.970457\n",
      "starting fit model...\n",
      "Training until validation scores don't improve for 100 rounds.\n",
      "Early stopping, best iteration is:\n",
      "[84]\tvalid_0's auc: 0.965313\n",
      "starting fit model...\n",
      "Training until validation scores don't improve for 100 rounds.\n",
      "[200]\tvalid_0's auc: 0.966412\n"
     ]
    },
    {
     "name": "stderr",
     "output_type": "stream",
     "text": [
      "\r",
      " 85%|████████▌ | 17/20 [12:46<02:15, 45.09s/it]"
     ]
    },
    {
     "name": "stdout",
     "output_type": "stream",
     "text": [
      "Did not meet early stopping. Best iteration is:\n",
      "[239]\tvalid_0's auc: 0.967752\n",
      "starting fit model...\n",
      "Training until validation scores don't improve for 100 rounds.\n",
      "Early stopping, best iteration is:\n",
      "[81]\tvalid_0's auc: 0.967219\n",
      "starting fit model...\n",
      "Training until validation scores don't improve for 100 rounds.\n"
     ]
    },
    {
     "name": "stderr",
     "output_type": "stream",
     "text": [
      "\r",
      " 90%|█████████ | 18/20 [13:29<01:29, 45.00s/it]"
     ]
    },
    {
     "name": "stdout",
     "output_type": "stream",
     "text": [
      "Early stopping, best iteration is:\n",
      "[77]\tvalid_0's auc: 0.969595\n",
      "starting fit model...\n",
      "Training until validation scores don't improve for 100 rounds.\n",
      "Early stopping, best iteration is:\n",
      "[80]\tvalid_0's auc: 0.969182\n",
      "starting fit model...\n",
      "Training until validation scores don't improve for 100 rounds.\n",
      "[200]\tvalid_0's auc: 0.970415\n"
     ]
    },
    {
     "name": "stderr",
     "output_type": "stream",
     "text": [
      "\r",
      " 95%|█████████▌| 19/20 [14:17<00:45, 45.15s/it]"
     ]
    },
    {
     "name": "stdout",
     "output_type": "stream",
     "text": [
      "Did not meet early stopping. Best iteration is:\n",
      "[269]\tvalid_0's auc: 0.970973\n",
      "starting fit model...\n",
      "Training until validation scores don't improve for 100 rounds.\n",
      "Early stopping, best iteration is:\n",
      "[73]\tvalid_0's auc: 0.966504\n",
      "starting fit model...\n",
      "Training until validation scores don't improve for 100 rounds.\n",
      "[200]\tvalid_0's auc: 0.967392\n"
     ]
    },
    {
     "name": "stderr",
     "output_type": "stream",
     "text": [
      "\r",
      "100%|██████████| 20/20 [15:06<00:00, 45.31s/it]"
     ]
    },
    {
     "name": "stdout",
     "output_type": "stream",
     "text": [
      "Did not meet early stopping. Best iteration is:\n",
      "[236]\tvalid_0's auc: 0.968867\n"
     ]
    },
    {
     "name": "stderr",
     "output_type": "stream",
     "text": [
      "\n"
     ]
    }
   ],
   "source": [
    "model_list  =[]\n",
    "\n",
    "for idxn in tqdm(range(0,20)):\n",
    "    idx = idxn//4\n",
    "    Train_DataSet = train_df[train_df.index.isin(list(all_list - DateFold[idx]))].reset_index(drop=True)\n",
    "    Normal_DF = Train_DataSet[Train_DataSet['label']==0]\n",
    "    Fraud_DF = Train_DataSet[Train_DataSet['label']==1]\n",
    "    \n",
    "    number_record_fraud = len(Fraud_DF)\n",
    "    number_record_normal = len(Normal_DF)\n",
    "    #undersample\n",
    "    random_normal_indices = np.array(np.random.choice(Normal_DF.index,number_record_fraud,replace=False))\n",
    "    filter_list = list(random_normal_indices) + list(Fraud_DF.index)\n",
    "    under_sample_train = Train_DataSet[Train_DataSet.index.isin(filter_list)].reset_index(drop=True)\n",
    "    \n",
    "    Val_DataSet = train_df[train_df.index.isin(DateFold[5])].reset_index(drop=True)\n",
    "    X_train = under_sample_train[predictors]\n",
    "    y_train = under_sample_train['Fraud']\n",
    "\n",
    "    X_test = Val_DataSet[predictors]\n",
    "    y_test = Val_DataSet['Fraud']\n",
    "    \n",
    "    for item_params in (param_list):\n",
    "        gbm = lgb.LGBMClassifier(**item_params)\n",
    "        print('starting fit model...')\n",
    "        gbm.fit(X_train, y_train, eval_set=[(X_test, y_test)],eval_metric='auc',early_stopping_rounds=early_stop_round,verbose=200,categorical_feature=categorical)\n",
    "        model_list.append(gbm)  "
   ]
  },
  {
   "cell_type": "code",
   "execution_count": 8,
   "metadata": {},
   "outputs": [],
   "source": [
    "val_df = train_df[train_df.index.isin(DateFold[5])].reset_index(drop=True)\n",
    "val_df1 = val_df.head(180000)\n",
    "val_df2 = val_df[~val_df.index.isin(list(val_df1.index))]"
   ]
  },
  {
   "cell_type": "code",
   "execution_count": 9,
   "metadata": {
    "scrolled": true
   },
   "outputs": [
    {
     "name": "stderr",
     "output_type": "stream",
     "text": [
      "100%|██████████| 40/40 [05:38<00:00,  8.45s/it]\n"
     ]
    }
   ],
   "source": [
    "val_r_neg=pd.DataFrame()\n",
    "for idx in tqdm(range(0,len(model_list))):\n",
    "    model_neg = model_list[idx]\n",
    "    val_neg = model_neg.predict_proba(val_df[predictors])\n",
    "    val_r_neg[idx] = pd.DataFrame(val_neg)[1]\n",
    "    \n",
    "    "
   ]
  },
  {
   "cell_type": "code",
   "execution_count": 10,
   "metadata": {},
   "outputs": [
    {
     "name": "stdout",
     "output_type": "stream",
     "text": [
      "Ant-Score: 0.38874700718276134\n"
     ]
    },
    {
     "data": {
      "image/png": "[encoded data removed]",
      "text/plain": [
       "<Figure size 432x288 with 1 Axes>"
      ]
     },
     "metadata": {},
     "output_type": "display_data"
    }
   ],
   "source": [
    "#pos_mean = val_r_pos.mean(axis=1)\n",
    "neg_mean = val_r_neg.mean(axis=1)\n",
    "_,_,_ = atecml.data.accuracy_validation(val_df['Fraud'],neg_mean)"
   ]
  },
  {
   "cell_type": "code",
   "execution_count": 11,
   "metadata": {},
   "outputs": [],
   "source": [
    "def stack_result(X_train,model_list):\n",
    "    with atecml.data.timer('Classification: Building Layer-1 Stack'):\n",
    "        input_list = []\n",
    "        for idx in tqdm(range(len(model_list))):\n",
    "            model = model_list[idx]\n",
    "            _temp_df = pd.DataFrame(model.predict_proba(X_train))[1]\n",
    "            input_list.append(pd.DataFrame(_temp_df))\n",
    "        input_predict= np.array(pd.concat(input_list,ignore_index=True,axis=1))\n",
    "    return input_predict\n",
    "\n",
    "\n"
   ]
  },
  {
   "cell_type": "code",
   "execution_count": 12,
   "metadata": {},
   "outputs": [],
   "source": [
    "test_df = atecml.data.load_test()"
   ]
  },
  {
   "cell_type": "code",
   "execution_count": 13,
   "metadata": {},
   "outputs": [
    {
     "ename": "KeyError",
     "evalue": "\"['n_f20' 'n_f88' 'n_f112' 'n_f297' 'n_f234' 'n_f110' 'n_f193' 'n_f67'\\n 'n_f289' 'n_f91' 'n_f291' 'n_f171' 'n_f73' 'n_f166' 'n_f128' 'n_f140'\\n 'n_f288' 'n_f284' 'n_f48' 'n_f257' 'n_f208' 'n_f97' 'n_f200' 'n_f282'\\n 'n_f82' 'n_f177' 'n_f173' 'n_f198' 'n_f108' 'n_f135' 'n_f160' 'n_f296'\\n 'n_f290' 'n_f66' 'n_f80' 'n_f189' 'n_f109' 'n_f179' 'n_f90' 'n_f138'\\n 'n_f255' 'n_f123' 'n_f79' 'n_f210' 'n_f150' 'n_f56' 'n_f139' 'n_f209'\\n 'n_f196' 'n_f143' 'n_f258' 'n_f129' 'n_f287' 'n_f94' 'n_f182' 'n_f167'\\n 'n_f23' 'n_f141' 'n_f85' 'n_f159' 'n_f149' 'n_f87' 'n_f267' 'n_f96'\\n 'n_f99' 'n_f158' 'n_f170' 'n_f286' 'n_f17' 'n_f174' 'n_f197' 'n_f254'\\n 'n_f69' 'n_f203' 'n_f83' 'n_f192' 'n_f294' 'n_f187' 'n_f101' 'n_f180'\\n 'n_f78' 'n_f293' 'n_f68' 'n_f295' 'n_f175' 'n_f207' 'n_f77' 'n_f124'\\n 'n_f273' 'n_f107' 'n_f54' 'n_f154' 'n_f22' 'n_f202' 'n_f12' 'n_f172'\\n 'n_f183' 'n_f92' 'n_f75' 'n_f285' 'n_f256' 'n_f292' 'n_f178' 'n_f18'\\n 'n_f281' 'n_f201' 'n_f14' 'n_f191' 'n_f32' 'n_f81' 'n_f199' 'n_f98'\\n 'n_f71' 'n_f119' 'n_f102' 'n_f181' 'n_f269' 'n_f74' 'n_f9' 'n_f168'\\n 'n_f95' 'n_f272' 'n_f156' 'n_f72' 'n_f103' 'n_f111' 'n_f105' 'n_f100'\\n 'n_f280' 'n_f194' 'n_NaN_LIST' 'n_f195' 'n_f86' 'n_f21' 'n_f16' 'n_f106'\\n 'n_f186' 'n_f93' 'n_f155' 'n_f188' 'n_f283' 'n_f176' 'n_f190' 'n_f278'\\n 'n_f70' 'n_f118' 'n_f169' 'n_f137' 'n_f136' 'n_f157' 'n_f89' 'n_f268'\\n 'n_f279' 'n_f55' 'mean'] not in index\"",
     "output_type": "error",
     "traceback": [
      "\u001b[0;31m---------------------------------------------------------------------------\u001b[0m",
      "\u001b[0;31mKeyError\u001b[0m                                  Traceback (most recent call last)",
      "\u001b[0;32m<ipython-input-13-c3c605b7e244>\u001b[0m in \u001b[0;36m<module>\u001b[0;34m()\u001b[0m\n\u001b[0;32m----> 1\u001b[0;31m \u001b[0mtest_df_level1\u001b[0m \u001b[0;34m=\u001b[0m \u001b[0mstack_result\u001b[0m\u001b[0;34m(\u001b[0m\u001b[0mtest_df\u001b[0m\u001b[0;34m[\u001b[0m\u001b[0mpredictors\u001b[0m\u001b[0;34m]\u001b[0m\u001b[0;34m,\u001b[0m\u001b[0mmodel_list\u001b[0m\u001b[0;34m)\u001b[0m\u001b[0;34m\u001b[0m\u001b[0m\n\u001b[0m",
      "\u001b[0;32m/usr/local/lib/python3.5/dist-packages/pandas/core/frame.py\u001b[0m in \u001b[0;36m__getitem__\u001b[0;34m(self, key)\u001b[0m\n\u001b[1;32m   2680\u001b[0m         \u001b[0;32mif\u001b[0m \u001b[0misinstance\u001b[0m\u001b[0;34m(\u001b[0m\u001b[0mkey\u001b[0m\u001b[0;34m,\u001b[0m \u001b[0;34m(\u001b[0m\u001b[0mSeries\u001b[0m\u001b[0;34m,\u001b[0m \u001b[0mnp\u001b[0m\u001b[0;34m.\u001b[0m\u001b[0mndarray\u001b[0m\u001b[0;34m,\u001b[0m \u001b[0mIndex\u001b[0m\u001b[0;34m,\u001b[0m \u001b[0mlist\u001b[0m\u001b[0;34m)\u001b[0m\u001b[0;34m)\u001b[0m\u001b[0;34m:\u001b[0m\u001b[0;34m\u001b[0m\u001b[0m\n\u001b[1;32m   2681\u001b[0m             \u001b[0;31m# either boolean or fancy integer index\u001b[0m\u001b[0;34m\u001b[0m\u001b[0;34m\u001b[0m\u001b[0m\n\u001b[0;32m-> 2682\u001b[0;31m             \u001b[0;32mreturn\u001b[0m \u001b[0mself\u001b[0m\u001b[0;34m.\u001b[0m\u001b[0m_getitem_array\u001b[0m\u001b[0;34m(\u001b[0m\u001b[0mkey\u001b[0m\u001b[0;34m)\u001b[0m\u001b[0;34m\u001b[0m\u001b[0m\n\u001b[0m\u001b[1;32m   2683\u001b[0m         \u001b[0;32melif\u001b[0m \u001b[0misinstance\u001b[0m\u001b[0;34m(\u001b[0m\u001b[0mkey\u001b[0m\u001b[0;34m,\u001b[0m \u001b[0mDataFrame\u001b[0m\u001b[0;34m)\u001b[0m\u001b[0;34m:\u001b[0m\u001b[0;34m\u001b[0m\u001b[0m\n\u001b[1;32m   2684\u001b[0m             \u001b[0;32mreturn\u001b[0m \u001b[0mself\u001b[0m\u001b[0;34m.\u001b[0m\u001b[0m_getitem_frame\u001b[0m\u001b[0;34m(\u001b[0m\u001b[0mkey\u001b[0m\u001b[0;34m)\u001b[0m\u001b[0;34m\u001b[0m\u001b[0m\n",
      "\u001b[0;32m/usr/local/lib/python3.5/dist-packages/pandas/core/frame.py\u001b[0m in \u001b[0;36m_getitem_array\u001b[0;34m(self, key)\u001b[0m\n\u001b[1;32m   2724\u001b[0m             \u001b[0;32mreturn\u001b[0m \u001b[0mself\u001b[0m\u001b[0;34m.\u001b[0m\u001b[0m_take\u001b[0m\u001b[0;34m(\u001b[0m\u001b[0mindexer\u001b[0m\u001b[0;34m,\u001b[0m \u001b[0maxis\u001b[0m\u001b[0;34m=\u001b[0m\u001b[0;36m0\u001b[0m\u001b[0;34m)\u001b[0m\u001b[0;34m\u001b[0m\u001b[0m\n\u001b[1;32m   2725\u001b[0m         \u001b[0;32melse\u001b[0m\u001b[0;34m:\u001b[0m\u001b[0;34m\u001b[0m\u001b[0m\n\u001b[0;32m-> 2726\u001b[0;31m             \u001b[0mindexer\u001b[0m \u001b[0;34m=\u001b[0m \u001b[0mself\u001b[0m\u001b[0;34m.\u001b[0m\u001b[0mloc\u001b[0m\u001b[0;34m.\u001b[0m\u001b[0m_convert_to_indexer\u001b[0m\u001b[0;34m(\u001b[0m\u001b[0mkey\u001b[0m\u001b[0;34m,\u001b[0m \u001b[0maxis\u001b[0m\u001b[0;34m=\u001b[0m\u001b[0;36m1\u001b[0m\u001b[0;34m)\u001b[0m\u001b[0;34m\u001b[0m\u001b[0m\n\u001b[0m\u001b[1;32m   2727\u001b[0m             \u001b[0;32mreturn\u001b[0m \u001b[0mself\u001b[0m\u001b[0;34m.\u001b[0m\u001b[0m_take\u001b[0m\u001b[0;34m(\u001b[0m\u001b[0mindexer\u001b[0m\u001b[0;34m,\u001b[0m \u001b[0maxis\u001b[0m\u001b[0;34m=\u001b[0m\u001b[0;36m1\u001b[0m\u001b[0;34m)\u001b[0m\u001b[0;34m\u001b[0m\u001b[0m\n\u001b[1;32m   2728\u001b[0m \u001b[0;34m\u001b[0m\u001b[0m\n",
      "\u001b[0;32m/usr/local/lib/python3.5/dist-packages/pandas/core/indexing.py\u001b[0m in \u001b[0;36m_convert_to_indexer\u001b[0;34m(self, obj, axis, is_setter)\u001b[0m\n\u001b[1;32m   1325\u001b[0m                 \u001b[0;32mif\u001b[0m \u001b[0mmask\u001b[0m\u001b[0;34m.\u001b[0m\u001b[0many\u001b[0m\u001b[0;34m(\u001b[0m\u001b[0;34m)\u001b[0m\u001b[0;34m:\u001b[0m\u001b[0;34m\u001b[0m\u001b[0m\n\u001b[1;32m   1326\u001b[0m                     raise KeyError('{mask} not in index'\n\u001b[0;32m-> 1327\u001b[0;31m                                    .format(mask=objarr[mask]))\n\u001b[0m\u001b[1;32m   1328\u001b[0m \u001b[0;34m\u001b[0m\u001b[0m\n\u001b[1;32m   1329\u001b[0m                 \u001b[0;32mreturn\u001b[0m \u001b[0mcom\u001b[0m\u001b[0;34m.\u001b[0m\u001b[0m_values_from_object\u001b[0m\u001b[0;34m(\u001b[0m\u001b[0mindexer\u001b[0m\u001b[0;34m)\u001b[0m\u001b[0;34m\u001b[0m\u001b[0m\n",
      "\u001b[0;31mKeyError\u001b[0m: \"['n_f20' 'n_f88' 'n_f112' 'n_f297' 'n_f234' 'n_f110' 'n_f193' 'n_f67'\\n 'n_f289' 'n_f91' 'n_f291' 'n_f171' 'n_f73' 'n_f166' 'n_f128' 'n_f140'\\n 'n_f288' 'n_f284' 'n_f48' 'n_f257' 'n_f208' 'n_f97' 'n_f200' 'n_f282'\\n 'n_f82' 'n_f177' 'n_f173' 'n_f198' 'n_f108' 'n_f135' 'n_f160' 'n_f296'\\n 'n_f290' 'n_f66' 'n_f80' 'n_f189' 'n_f109' 'n_f179' 'n_f90' 'n_f138'\\n 'n_f255' 'n_f123' 'n_f79' 'n_f210' 'n_f150' 'n_f56' 'n_f139' 'n_f209'\\n 'n_f196' 'n_f143' 'n_f258' 'n_f129' 'n_f287' 'n_f94' 'n_f182' 'n_f167'\\n 'n_f23' 'n_f141' 'n_f85' 'n_f159' 'n_f149' 'n_f87' 'n_f267' 'n_f96'\\n 'n_f99' 'n_f158' 'n_f170' 'n_f286' 'n_f17' 'n_f174' 'n_f197' 'n_f254'\\n 'n_f69' 'n_f203' 'n_f83' 'n_f192' 'n_f294' 'n_f187' 'n_f101' 'n_f180'\\n 'n_f78' 'n_f293' 'n_f68' 'n_f295' 'n_f175' 'n_f207' 'n_f77' 'n_f124'\\n 'n_f273' 'n_f107' 'n_f54' 'n_f154' 'n_f22' 'n_f202' 'n_f12' 'n_f172'\\n 'n_f183' 'n_f92' 'n_f75' 'n_f285' 'n_f256' 'n_f292' 'n_f178' 'n_f18'\\n 'n_f281' 'n_f201' 'n_f14' 'n_f191' 'n_f32' 'n_f81' 'n_f199' 'n_f98'\\n 'n_f71' 'n_f119' 'n_f102' 'n_f181' 'n_f269' 'n_f74' 'n_f9' 'n_f168'\\n 'n_f95' 'n_f272' 'n_f156' 'n_f72' 'n_f103' 'n_f111' 'n_f105' 'n_f100'\\n 'n_f280' 'n_f194' 'n_NaN_LIST' 'n_f195' 'n_f86' 'n_f21' 'n_f16' 'n_f106'\\n 'n_f186' 'n_f93' 'n_f155' 'n_f188' 'n_f283' 'n_f176' 'n_f190' 'n_f278'\\n 'n_f70' 'n_f118' 'n_f169' 'n_f137' 'n_f136' 'n_f157' 'n_f89' 'n_f268'\\n 'n_f279' 'n_f55' 'mean'] not in index\""
     ]
    }
   ],
   "source": [
    "test_df_level1 = stack_result(test_df[predictors],model_list)\n"
   ]
  },
  {
   "cell_type": "code",
   "execution_count": null,
   "metadata": {},
   "outputs": [],
   "source": [
    "y_pred = test_df_level1.mean(axis=1)"
   ]
  },
  {
   "cell_type": "code",
   "execution_count": null,
   "metadata": {},
   "outputs": [],
   "source": []
  },
  {
   "cell_type": "code",
   "execution_count": null,
   "metadata": {},
   "outputs": [],
   "source": []
  },
  {
   "cell_type": "code",
   "execution_count": null,
   "metadata": {},
   "outputs": [],
   "source": [
    "result=pd.DataFrame()\n",
    "result['id'] = test_df['id']\n",
    "result['score'] = y_pred\n",
    "result.to_csv('./0706_07.csv',index=False)"
   ]
  },
  {
   "cell_type": "code",
   "execution_count": null,
   "metadata": {},
   "outputs": [],
   "source": []
  },
  {
   "cell_type": "code",
   "execution_count": null,
   "metadata": {},
   "outputs": [],
   "source": []
  },
  {
   "cell_type": "code",
   "execution_count": null,
   "metadata": {},
   "outputs": [],
   "source": []
  },
  {
   "cell_type": "code",
   "execution_count": null,
   "metadata": {
    "scrolled": true
   },
   "outputs": [],
   "source": [
    "level2_model_list  =[]\n",
    "# use XGBOOST  as the model of the second layer\n",
    "import xgboost as xgb\n",
    "from xgboost.sklearn import XGBClassifier\n",
    "\n",
    "\n",
    "for idxn in range(0,15):\n",
    "    idx = idxn//3\n",
    "    \n",
    "    Train_DataSet = train_df[train_df.index.isin(list(all_list - DateFold[idx]))].reset_index(drop=True)\n",
    "    Normal_DF = Train_DataSet[Train_DataSet['label']==0]\n",
    "    Fraud_DF = Train_DataSet[Train_DataSet['label']==1]\n",
    "    \n",
    "    number_record_fraud = len(Fraud_DF)\n",
    "    number_record_normal = len(Normal_DF)\n",
    "    #undersample\n",
    "    random_normal_indices = np.array(np.random.choice(Normal_DF.index,number_record_fraud,replace=False))\n",
    "    filter_list = list(random_normal_indices) + list(Fraud_DF.index)\n",
    "    under_sample_train = Train_DataSet[Train_DataSet.index.isin(filter_list)].reset_index(drop=True)\n",
    "    \n",
    "    Val_DataSet = train_df[train_df.index.isin(DateFold[5])].reset_index(drop=True)\n",
    "    X_train = Train_DataSet[predictors]\n",
    "    y_train = Train_DataSet['Fraud']\n",
    "    \n",
    "    X_test = Val_DataSet[predictors]\n",
    "    y_test = Val_DataSet['Fraud']    \n",
    "    \n",
    "    \n",
    "    model = XGBClassifier(\n",
    "                         learning_rate =0.05,\n",
    "                         n_estimators=400,\n",
    "                         max_depth=3,\n",
    "                         min_child_weight=1,\n",
    "                         gamma=0,\n",
    "                         subsample=0.8,\n",
    "                         colsample_bytree=0.9,\n",
    "                         objective= 'binary:logistic',\n",
    "                         scoring='roc_auc',\n",
    "                         #scale_pos_weight= 98,\n",
    "                         nthread=40,\n",
    "                         seed=27)\n",
    "    \n",
    "    X_train_level2 = stack_result(X_train,model_list)\n",
    "    X_test_level2 = stack_result(X_test,model_list)\n",
    "    eval_set  = [(X_train_level2,y_train), (X_test_level2,y_test)]\n",
    "    \n",
    "    model.fit(X_train_level2,y_train,eval_set=eval_set,eval_metric='auc',early_stopping_rounds=200)  \n",
    "    level2_model_list.append(model)\n",
    "        "
   ]
  },
  {
   "cell_type": "code",
   "execution_count": null,
   "metadata": {
    "scrolled": true
   },
   "outputs": [],
   "source": [
    "val_df2_level2 = stack_result(val_df[predictors],model_list)\n",
    "foo = stack_result(val_df2_level2,level2_model_list)\n"
   ]
  },
  {
   "cell_type": "code",
   "execution_count": null,
   "metadata": {},
   "outputs": [],
   "source": [
    "y_pred= pd.DataFrame(foo).mean(axis=1)\n",
    "_,_,_ = atecml.data.accuracy_validation(val_df['Fraud'],y_pred)"
   ]
  },
  {
   "cell_type": "code",
   "execution_count": null,
   "metadata": {},
   "outputs": [],
   "source": [
    "test_df = atecml.data.load_test()"
   ]
  },
  {
   "cell_type": "code",
   "execution_count": null,
   "metadata": {
    "scrolled": true
   },
   "outputs": [],
   "source": [
    "test_df_level1 = stack_result(test_df[predictors],model_list)\n",
    "test_df_level2 = stack_result(test_df_level1,level2_model_list)"
   ]
  },
  {
   "cell_type": "code",
   "execution_count": null,
   "metadata": {},
   "outputs": [],
   "source": [
    "y_pred= pd.DataFrame(test_df_level2).mean(axis=1)"
   ]
  },
  {
   "cell_type": "code",
   "execution_count": null,
   "metadata": {},
   "outputs": [],
   "source": [
    "result=pd.DataFrame()\n",
    "result['id'] = test_df['id']\n",
    "result['score'] = y_pred"
   ]
  },
  {
   "cell_type": "code",
   "execution_count": null,
   "metadata": {},
   "outputs": [],
   "source": [
    "result.to_csv('./0707_01.csv',index=False)"
   ]
  },
  {
   "cell_type": "code",
   "execution_count": null,
   "metadata": {},
   "outputs": [],
   "source": [
    "unknown_df =atecml.data.load_train()"
   ]
  },
  {
   "cell_type": "code",
   "execution_count": null,
   "metadata": {},
   "outputs": [],
   "source": [
    "unknown_df = unknown_df[unknown_df.label==-1]"
   ]
  },
  {
   "cell_type": "code",
   "execution_count": null,
   "metadata": {
    "scrolled": true
   },
   "outputs": [],
   "source": [
    "un_level1 = stack_result(unknown_df[predictors],model_list)\n",
    "un_level2 = stack_result(un_level1,level2_model_list)"
   ]
  },
  {
   "cell_type": "code",
   "execution_count": null,
   "metadata": {},
   "outputs": [],
   "source": [
    "un_pred= pd.DataFrame(un_level2).min(axis=1)\n",
    "unresult=pd.DataFrame()\n",
    "unresult['id'] = unknown_df['id']\n",
    "unresult['score'] = un_pred\n",
    "#unresult.to_pickle('./reject_inf.dat')"
   ]
  },
  {
   "cell_type": "code",
   "execution_count": null,
   "metadata": {},
   "outputs": [],
   "source": [
    "un_pred.hist(bins=100)"
   ]
  },
  {
   "cell_type": "code",
   "execution_count": null,
   "metadata": {},
   "outputs": [],
   "source": [
    "len(un_pred[un_pred>0.5])"
   ]
  },
  {
   "cell_type": "code",
   "execution_count": null,
   "metadata": {},
   "outputs": [],
   "source": []
  },
  {
   "cell_type": "code",
   "execution_count": null,
   "metadata": {},
   "outputs": [],
   "source": []
  }
 ],
 "metadata": {
  "kernelspec": {
   "display_name": "Python 3",
   "language": "python",
   "name": "python3"
  },
  "language_info": {
   "codemirror_mode": {
    "name": "ipython",
    "version": 3
   },
   "file_extension": ".py",
   "mimetype": "text/x-python",
   "name": "python",
   "nbconvert_exporter": "python",
   "pygments_lexer": "ipython3",
   "version": "3.5.2"
  }
 },
 "nbformat": 4,
 "nbformat_minor": 2
}

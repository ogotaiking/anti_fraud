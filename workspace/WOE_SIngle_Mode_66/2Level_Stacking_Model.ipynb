{
 "cells": [
  {
   "cell_type": "code",
   "execution_count": 1,
   "metadata": {},
   "outputs": [
    {
     "data": {
      "text/html": [
       "<style>.container { width:100% !important; }</style>"
      ],
      "text/plain": [
       "<IPython.core.display.HTML object>"
      ]
     },
     "metadata": {},
     "output_type": "display_data"
    }
   ],
   "source": [
    "from IPython.core.display import display, HTML\n",
    "display(HTML(\"<style>.container { width:100% !important; }</style>\"))\n",
    "%matplotlib inline\n",
    "import matplotlib\n",
    "import matplotlib.pyplot as plt\n",
    "import matplotlib.gridspec as gridspec\n",
    "import seaborn as sns\n",
    "import os\n",
    "\n",
    "import numpy as np\n",
    "import pandas as pd\n",
    "import tensorflow as tf\n",
    "\n",
    "import atecml.data\n",
    "\n",
    "from contextlib import contextmanager\n",
    "from tqdm import tqdm\n",
    "from sklearn.neighbors import KNeighborsClassifier\n",
    "from sklearn.preprocessing import StandardScaler, MinMaxScaler\n",
    "from sklearn.decomposition import PCA\n",
    "from sklearn.externals import joblib\n",
    "from sklearn.linear_model import LogisticRegressionCV\n",
    "#build Models...\n",
    "from sklearn.ensemble import RandomForestClassifier\n",
    "from sklearn.ensemble import ExtraTreesClassifier\n",
    "from sklearn.ensemble import GradientBoostingClassifier\n",
    "from sklearn.tree import DecisionTreeClassifier\n",
    "import lightgbm as lgb\n",
    "from xgboost import XGBClassifier\n",
    "from sklearn.model_selection import train_test_split\n",
    "from sklearn.externals import joblib\n",
    "from imblearn.over_sampling import SMOTE, ADASYN\n",
    "import random\n",
    "\n",
    "plt.style.use('ggplot')"
   ]
  },
  {
   "cell_type": "code",
   "execution_count": 2,
   "metadata": {},
   "outputs": [
    {
     "data": {
      "text/plain": [
       "(634284, 360447)"
      ]
     },
     "execution_count": 2,
     "metadata": {},
     "output_type": "execute_result"
    }
   ],
   "source": [
    "#train_df = pd.read_pickle('./01_train.dat')\n",
    "train_df = atecml.data.load_train()\n",
    "\n",
    "predictors = [x for x in train_df.columns if x not in atecml.data.NOT_FEATURE_COLUMNS]\n",
    "DateFold={}\n",
    "\n",
    "DateFold[0] = set(atecml.data.filter_date(train_df,start_date='2017-09-05',end_date='2017-09-12').index)\n",
    "DateFold[1] = set(atecml.data.filter_date(train_df,start_date='2017-09-13',end_date='2017-09-20').index)\n",
    "DateFold[2] = set(atecml.data.filter_date(train_df,start_date='2017-09-21',end_date='2017-09-28').index)\n",
    "DateFold[3] = set(atecml.data.filter_date(train_df,start_date='2017-09-29',end_date='2017-10-06').index)\n",
    "DateFold[4] = set(atecml.data.filter_date(train_df,start_date='2017-10-07',end_date='2017-10-14').index)\n",
    "DateFold[5] = list(atecml.data.filter_date(train_df,start_date='2017-10-15',end_date='2017-11-24').index)\n",
    "\n",
    "all_list = set(train_df.index) - set(DateFold[5])\n",
    "len(all_list),len(DateFold[5])"
   ]
  },
  {
   "cell_type": "code",
   "execution_count": 3,
   "metadata": {},
   "outputs": [],
   "source": [
    "#WOE_LIST = joblib.load('./woe_feature.dat')\n",
    "#CATE_LIST = WOE_LIST + atecml.data.CATE_FEATURE_LIST\n",
    "\n",
    "CATE_LIST = atecml.data.CATE_FEATURE_LIST\n",
    "categorical=[]\n",
    "for item in predictors:\n",
    "    if (item in CATE_LIST):\n",
    "        categorical.append(item)\n"
   ]
  },
  {
   "cell_type": "code",
   "execution_count": 4,
   "metadata": {},
   "outputs": [],
   "source": [
    "num_boosting_round = 3000\n",
    "early_stop_round = 100"
   ]
  },
  {
   "cell_type": "code",
   "execution_count": 7,
   "metadata": {},
   "outputs": [],
   "source": [
    "params = {\n",
    "    \n",
    "    'objective': 'binary',\n",
    "    'metric': 'auc',\n",
    "    'use_missing' : True,\n",
    "    #'is_unbalance': True,\n",
    "    'scale_pos_weight': 98,\n",
    "    'learning_rate': 0.05,\n",
    "    'num_leaves': 64,  # we should let it be smaller than 2^(max_depth)\n",
    "    'max_depth': -1,  # -1 means no limit\n",
    "    'min_child_samples': 600,  # Minimum number of data need in a child(min_data_in_leaf)\n",
    "    'max_bin': 255,  # Number of bucketed bin for feature values\n",
    "    'colsample_bytree': 0.4,\n",
    "    'subsample': 0.85,  # Subsample ratio of the training instance.\n",
    "    'subsample_freq': 1,  # frequence of subsample, <=0 means no enable\n",
    "    'min_child_weight': 0.05,  # Minimum sum of instance weight(hessian) needed in a child(leaf)\n",
    "    'subsample_for_bin': 200000,  # Number of samples for constructing bin\n",
    "    'min_split_gain': 0,  # lambda_l1, lambda_l2 and min_gain_to_split to regularization\n",
    "    'reg_alpha': 0.01,  # L1 regularization term on weights\n",
    "    'reg_lambda': 0.1,  # L2 regularization term on weights\n",
    "    'nthread': 40,\n",
    "    'n_estimators': num_boosting_round,\n",
    "    'verbose': -1,\n",
    "}\n",
    "\n",
    "rf = {\n",
    "    'boosting_type': 'rf',\n",
    "}\n",
    "rf.update(params)\n",
    "\n",
    "dart = {\n",
    "    'boosting_type': 'dart',\n",
    "}\n",
    "dart.update(params)\n",
    "\n",
    "gbdt = {\n",
    "    'boosting_type': 'gbdt',\n",
    "}\n",
    "gbdt.update(params)\n",
    "\n",
    "param_list = [rf,gbdt,dart]"
   ]
  },
  {
   "cell_type": "code",
   "execution_count": 8,
   "metadata": {
    "scrolled": true
   },
   "outputs": [
    {
     "name": "stderr",
     "output_type": "stream",
     "text": [
      "\n",
      "  0%|          | 0/5 [00:00<?, ?it/s]\u001b[A"
     ]
    },
    {
     "name": "stdout",
     "output_type": "stream",
     "text": [
      "starting fit model...\n",
      "Training until validation scores don't improve for 100 rounds.\n",
      "Early stopping, best iteration is:\n",
      "[5]\tvalid_0's auc: 0.897593\n",
      "starting fit model...\n",
      "Training until validation scores don't improve for 100 rounds.\n",
      "[200]\tvalid_0's auc: 0.96948\n",
      "[400]\tvalid_0's auc: 0.974757\n",
      "[600]\tvalid_0's auc: 0.9763\n",
      "[800]\tvalid_0's auc: 0.976984\n",
      "Early stopping, best iteration is:\n",
      "[843]\tvalid_0's auc: 0.977094\n",
      "starting fit model...\n",
      "Training until validation scores don't improve for 100 rounds.\n",
      "[200]\tvalid_0's auc: 0.937008\n",
      "[400]\tvalid_0's auc: 0.959992\n",
      "[600]\tvalid_0's auc: 0.969813\n",
      "[800]\tvalid_0's auc: 0.972039\n",
      "[1000]\tvalid_0's auc: 0.973594\n",
      "[1200]\tvalid_0's auc: 0.97461\n",
      "[1400]\tvalid_0's auc: 0.975587\n",
      "[1600]\tvalid_0's auc: 0.976012\n",
      "[1800]\tvalid_0's auc: 0.976422\n",
      "[2000]\tvalid_0's auc: 0.976845\n",
      "[2200]\tvalid_0's auc: 0.977032\n"
     ]
    },
    {
     "name": "stderr",
     "output_type": "stream",
     "text": [
      "\n",
      " 20%|██        | 1/5 [01:30<06:02, 90.60s/it]\u001b[A"
     ]
    },
    {
     "name": "stdout",
     "output_type": "stream",
     "text": [
      "Early stopping, best iteration is:\n",
      "[2142]\tvalid_0's auc: 0.977136\n",
      "starting fit model...\n",
      "Training until validation scores don't improve for 100 rounds.\n",
      "Early stopping, best iteration is:\n",
      "[98]\tvalid_0's auc: 0.930385\n",
      "starting fit model...\n",
      "Training until validation scores don't improve for 100 rounds.\n",
      "[200]\tvalid_0's auc: 0.978639\n",
      "[400]\tvalid_0's auc: 0.979736\n",
      "Early stopping, best iteration is:\n",
      "[471]\tvalid_0's auc: 0.980007\n",
      "starting fit model...\n",
      "Training until validation scores don't improve for 100 rounds.\n",
      "[200]\tvalid_0's auc: 0.95714\n",
      "[400]\tvalid_0's auc: 0.976609\n",
      "[600]\tvalid_0's auc: 0.978877\n",
      "[800]\tvalid_0's auc: 0.979502\n",
      "[1000]\tvalid_0's auc: 0.979897\n",
      "[1200]\tvalid_0's auc: 0.980046\n",
      "[1400]\tvalid_0's auc: 0.980202\n"
     ]
    },
    {
     "name": "stderr",
     "output_type": "stream",
     "text": [
      "\n",
      " 40%|████      | 2/5 [02:29<03:44, 74.82s/it]\u001b[A"
     ]
    },
    {
     "name": "stdout",
     "output_type": "stream",
     "text": [
      "Early stopping, best iteration is:\n",
      "[1353]\tvalid_0's auc: 0.980357\n",
      "starting fit model...\n",
      "Training until validation scores don't improve for 100 rounds.\n",
      "Early stopping, best iteration is:\n",
      "[71]\tvalid_0's auc: 0.953251\n",
      "starting fit model...\n",
      "Training until validation scores don't improve for 100 rounds.\n",
      "[200]\tvalid_0's auc: 0.980126\n",
      "[400]\tvalid_0's auc: 0.982094\n",
      "[600]\tvalid_0's auc: 0.983093\n",
      "[800]\tvalid_0's auc: 0.983508\n",
      "[1000]\tvalid_0's auc: 0.983796\n",
      "[1200]\tvalid_0's auc: 0.983968\n",
      "[1400]\tvalid_0's auc: 0.984014\n",
      "Early stopping, best iteration is:\n",
      "[1322]\tvalid_0's auc: 0.984088\n",
      "starting fit model...\n",
      "Training until validation scores don't improve for 100 rounds.\n",
      "[200]\tvalid_0's auc: 0.965094\n",
      "[400]\tvalid_0's auc: 0.977247\n",
      "[600]\tvalid_0's auc: 0.98054\n",
      "[800]\tvalid_0's auc: 0.981612\n",
      "[1000]\tvalid_0's auc: 0.982317\n",
      "[1200]\tvalid_0's auc: 0.982769\n",
      "[1400]\tvalid_0's auc: 0.983082\n",
      "[1600]\tvalid_0's auc: 0.983286\n",
      "[1800]\tvalid_0's auc: 0.983419\n",
      "[2000]\tvalid_0's auc: 0.983512\n",
      "[2200]\tvalid_0's auc: 0.983661\n",
      "[2400]\tvalid_0's auc: 0.983866\n",
      "[2600]\tvalid_0's auc: 0.983936\n",
      "[2800]\tvalid_0's auc: 0.984035\n"
     ]
    },
    {
     "name": "stderr",
     "output_type": "stream",
     "text": [
      "\n",
      " 60%|██████    | 3/5 [04:26<02:57, 88.82s/it]\u001b[A"
     ]
    },
    {
     "name": "stdout",
     "output_type": "stream",
     "text": [
      "[3000]\tvalid_0's auc: 0.984189\n",
      "Did not meet early stopping. Best iteration is:\n",
      "[2965]\tvalid_0's auc: 0.984202\n",
      "starting fit model...\n",
      "Training until validation scores don't improve for 100 rounds.\n",
      "Early stopping, best iteration is:\n",
      "[79]\tvalid_0's auc: 0.951732\n",
      "starting fit model...\n",
      "Training until validation scores don't improve for 100 rounds.\n",
      "[200]\tvalid_0's auc: 0.978414\n",
      "[400]\tvalid_0's auc: 0.980376\n",
      "[600]\tvalid_0's auc: 0.981208\n",
      "[800]\tvalid_0's auc: 0.981448\n",
      "Early stopping, best iteration is:\n",
      "[734]\tvalid_0's auc: 0.981567\n",
      "starting fit model...\n",
      "Training until validation scores don't improve for 100 rounds.\n",
      "[200]\tvalid_0's auc: 0.96154\n",
      "[400]\tvalid_0's auc: 0.97685\n",
      "[600]\tvalid_0's auc: 0.979337\n",
      "[800]\tvalid_0's auc: 0.980042\n",
      "[1000]\tvalid_0's auc: 0.980796\n",
      "[1200]\tvalid_0's auc: 0.981236\n"
     ]
    },
    {
     "name": "stderr",
     "output_type": "stream",
     "text": [
      "\n",
      " 80%|████████  | 4/5 [05:19<01:19, 79.95s/it]\u001b[A"
     ]
    },
    {
     "name": "stdout",
     "output_type": "stream",
     "text": [
      "Early stopping, best iteration is:\n",
      "[1220]\tvalid_0's auc: 0.981454\n",
      "starting fit model...\n",
      "Training until validation scores don't improve for 100 rounds.\n",
      "[200]\tvalid_0's auc: 0.915812\n",
      "[400]\tvalid_0's auc: 0.917511\n",
      "Early stopping, best iteration is:\n",
      "[340]\tvalid_0's auc: 0.917678\n",
      "starting fit model...\n",
      "Training until validation scores don't improve for 100 rounds.\n",
      "[200]\tvalid_0's auc: 0.980197\n",
      "[400]\tvalid_0's auc: 0.983661\n",
      "[600]\tvalid_0's auc: 0.984548\n",
      "[800]\tvalid_0's auc: 0.984785\n",
      "[1000]\tvalid_0's auc: 0.98512\n",
      "[1200]\tvalid_0's auc: 0.985254\n",
      "[1400]\tvalid_0's auc: 0.985213\n",
      "Early stopping, best iteration is:\n",
      "[1353]\tvalid_0's auc: 0.985303\n",
      "starting fit model...\n",
      "Training until validation scores don't improve for 100 rounds.\n",
      "[200]\tvalid_0's auc: 0.94709\n",
      "[400]\tvalid_0's auc: 0.973301\n",
      "[600]\tvalid_0's auc: 0.980072\n",
      "[800]\tvalid_0's auc: 0.982097\n",
      "[1000]\tvalid_0's auc: 0.982932\n",
      "[1200]\tvalid_0's auc: 0.983583\n",
      "[1400]\tvalid_0's auc: 0.984091\n",
      "[1600]\tvalid_0's auc: 0.984465\n",
      "[1800]\tvalid_0's auc: 0.98479\n",
      "[2000]\tvalid_0's auc: 0.984965\n",
      "[2200]\tvalid_0's auc: 0.985193\n",
      "[2400]\tvalid_0's auc: 0.985297\n",
      "[2600]\tvalid_0's auc: 0.985408\n"
     ]
    },
    {
     "name": "stderr",
     "output_type": "stream",
     "text": [
      "\n",
      "100%|██████████| 5/5 [07:15<00:00, 87.06s/it]\u001b[A\n",
      "\u001b[A"
     ]
    },
    {
     "name": "stdout",
     "output_type": "stream",
     "text": [
      "Early stopping, best iteration is:\n",
      "[2608]\tvalid_0's auc: 0.985432\n"
     ]
    }
   ],
   "source": [
    "model_list  =[]\n",
    "\n",
    "for idx in tqdm(range(0,5)):\n",
    "    \n",
    "    Train_DataSet = train_df[train_df.index.isin(list(all_list - DateFold[idx]))].reset_index(drop=True)\n",
    "    Normal_DF = Train_DataSet[Train_DataSet['label']==0]\n",
    "    Fraud_DF = Train_DataSet[Train_DataSet['label']==1]\n",
    "    \n",
    "    number_record_fraud = len(Fraud_DF)\n",
    "    number_record_normal = len(Normal_DF)\n",
    "    #undersample\n",
    "    random_normal_indices = np.array(np.random.choice(Normal_DF.index,number_record_fraud,replace=False))\n",
    "    filter_list = list(random_normal_indices) + list(Fraud_DF.index)\n",
    "    under_sample_train = Train_DataSet[Train_DataSet.index.isin(filter_list)].reset_index(drop=True)\n",
    "    \n",
    "    Val_DataSet = train_df[train_df.index.isin(DateFold[idx])].reset_index(drop=True)\n",
    "    X_train = under_sample_train[predictors]\n",
    "    y_train = under_sample_train['Fraud']\n",
    "\n",
    "    X_test = Val_DataSet[predictors]\n",
    "    y_test = Val_DataSet['Fraud']\n",
    "    \n",
    "    for item_params in (param_list):\n",
    "        gbm = lgb.LGBMClassifier(**item_params)\n",
    "        print('starting fit model...')\n",
    "        gbm.fit(X_train, y_train, eval_set=[(X_test, y_test)],eval_metric='auc',early_stopping_rounds=early_stop_round,verbose=200,categorical_feature=categorical)\n",
    "        model_list.append(gbm)  "
   ]
  },
  {
   "cell_type": "code",
   "execution_count": 9,
   "metadata": {},
   "outputs": [],
   "source": [
    "val_df = train_df[train_df.index.isin(DateFold[5])].reset_index(drop=True)\n",
    "val_df1 = val_df.head(180000)\n",
    "val_df2 = val_df[~val_df.index.isin(list(val_df1.index))]"
   ]
  },
  {
   "cell_type": "code",
   "execution_count": 22,
   "metadata": {},
   "outputs": [
    {
     "name": "stderr",
     "output_type": "stream",
     "text": [
      "\n",
      "  0%|          | 0/15 [00:00<?, ?it/s]\u001b[A\n",
      "  7%|▋         | 1/15 [00:06<01:35,  6.83s/it]\u001b[A\n",
      " 13%|█▎        | 2/15 [00:42<04:39, 21.49s/it]\u001b[A\n",
      " 20%|██        | 3/15 [01:56<07:44, 38.70s/it]\u001b[A\n",
      " 27%|██▋       | 4/15 [02:04<05:43, 31.20s/it]\u001b[A\n",
      " 33%|███▎      | 5/15 [02:30<05:00, 30.03s/it]\u001b[A\n",
      " 40%|████      | 6/15 [03:20<05:00, 33.37s/it]\u001b[A\n",
      " 47%|████▋     | 7/15 [03:27<03:57, 29.69s/it]\u001b[A\n",
      " 53%|█████▎    | 8/15 [04:20<03:47, 32.57s/it]\u001b[A\n",
      " 60%|██████    | 9/15 [06:00<04:00, 40.05s/it]\u001b[A\n",
      " 67%|██████▋   | 10/15 [06:08<03:04, 36.86s/it]\u001b[A\n",
      " 73%|███████▎  | 11/15 [06:42<02:26, 36.62s/it]\u001b[A\n",
      " 80%|████████  | 12/15 [07:28<01:52, 37.35s/it]\u001b[A\n",
      " 87%|████████▋ | 13/15 [07:43<01:11, 35.64s/it]\u001b[A\n",
      " 93%|█████████▎| 14/15 [08:36<00:36, 36.90s/it]\u001b[A\n",
      "100%|██████████| 15/15 [10:07<00:00, 40.49s/it]\u001b[A\n",
      "\u001b[A"
     ]
    }
   ],
   "source": [
    "val_r_neg=pd.DataFrame()\n",
    "for idx in tqdm(range(0,len(model_list))):\n",
    "    model_neg = model_list[idx]\n",
    "    val_neg = model_neg.predict_proba(val_df[predictors])\n",
    "    val_r_neg[idx] = pd.DataFrame(val_neg)[1]\n",
    "    \n",
    "    "
   ]
  },
  {
   "cell_type": "code",
   "execution_count": 23,
   "metadata": {},
   "outputs": [
    {
     "name": "stdout",
     "output_type": "stream",
     "text": [
      "Ant-Score: 0.40010676916506516\n"
     ]
    },
    {
     "data": {
      "image/png": "[encoded data removed]",
      "text/plain": [
       "<Figure size 432x288 with 1 Axes>"
      ]
     },
     "metadata": {},
     "output_type": "display_data"
    }
   ],
   "source": [
    "#pos_mean = val_r_pos.mean(axis=1)\n",
    "neg_mean = val_r_neg.mean(axis=1)\n",
    "_,_,_ = atecml.data.accuracy_validation(val_df['Fraud'],neg_mean)"
   ]
  },
  {
   "cell_type": "code",
   "execution_count": 13,
   "metadata": {},
   "outputs": [],
   "source": [
    "def stack_result(X_train,model_list):\n",
    "    with atecml.data.timer('Classification: Building Layer-1 Stack'):\n",
    "        input_list = []\n",
    "        for idx in tqdm(range(len(model_list))):\n",
    "            model = model_list[idx]\n",
    "            _temp_df = pd.DataFrame(model.predict_proba(X_train))[1]\n",
    "            input_list.append(pd.DataFrame(_temp_df))\n",
    "        input_predict= np.array(pd.concat(input_list,ignore_index=True,axis=1))\n",
    "    return input_predict\n",
    "\n",
    "\n"
   ]
  },
  {
   "cell_type": "code",
   "execution_count": 14,
   "metadata": {
    "scrolled": true
   },
   "outputs": [
    {
     "name": "stderr",
     "output_type": "stream",
     "text": [
      "\n",
      "  0%|          | 0/15 [00:00<?, ?it/s]\u001b[A"
     ]
    },
    {
     "name": "stdout",
     "output_type": "stream",
     "text": [
      "[2018-07-06 14:40:08][Classification: Building Layer-1 Stack] Begin ...\n"
     ]
    },
    {
     "name": "stderr",
     "output_type": "stream",
     "text": [
      "\n",
      "  7%|▋         | 1/15 [00:04<01:04,  4.64s/it]\u001b[A\n",
      " 13%|█▎        | 2/15 [00:10<01:07,  5.18s/it]\u001b[A\n",
      " 20%|██        | 3/15 [00:18<01:13,  6.13s/it]\u001b[A\n",
      " 27%|██▋       | 4/15 [00:23<01:03,  5.81s/it]\u001b[A\n",
      " 33%|███▎      | 5/15 [00:28<00:57,  5.73s/it]\u001b[A\n",
      " 40%|████      | 6/15 [00:35<00:52,  5.87s/it]\u001b[A\n",
      " 47%|████▋     | 7/15 [00:39<00:45,  5.71s/it]\u001b[A\n",
      " 53%|█████▎    | 8/15 [00:46<00:40,  5.85s/it]\u001b[A\n",
      " 60%|██████    | 9/15 [00:56<00:37,  6.25s/it]\u001b[A\n",
      " 67%|██████▋   | 10/15 [01:01<00:30,  6.12s/it]\u001b[A\n",
      " 73%|███████▎  | 11/15 [01:07<00:24,  6.11s/it]\u001b[A\n",
      " 80%|████████  | 12/15 [01:13<00:18,  6.11s/it]\u001b[A\n",
      " 87%|████████▋ | 13/15 [01:18<00:12,  6.04s/it]\u001b[A\n",
      " 93%|█████████▎| 14/15 [01:25<00:06,  6.13s/it]\u001b[A\n",
      "100%|██████████| 15/15 [01:35<00:00,  6.35s/it]\u001b[A\n",
      "\u001b[A"
     ]
    },
    {
     "name": "stdout",
     "output_type": "stream",
     "text": [
      "[2018-07-06 14:41:44][Classification: Building Layer-1 Stack] End   ...[Elapsed: 95.35s]\n"
     ]
    },
    {
     "name": "stderr",
     "output_type": "stream",
     "text": [
      "\n",
      "  0%|          | 0/15 [00:00<?, ?it/s]\u001b[A"
     ]
    },
    {
     "name": "stdout",
     "output_type": "stream",
     "text": [
      "[2018-07-06 14:42:40][Classification: Building Layer-1 Stack] Begin ...\n"
     ]
    },
    {
     "name": "stderr",
     "output_type": "stream",
     "text": [
      "\n",
      "  7%|▋         | 1/15 [00:04<01:01,  4.40s/it]\u001b[A\n",
      " 13%|█▎        | 2/15 [00:10<01:11,  5.48s/it]\u001b[A\n",
      " 20%|██        | 3/15 [00:19<01:17,  6.45s/it]\u001b[A\n",
      " 27%|██▋       | 4/15 [00:24<01:06,  6.07s/it]\u001b[A\n",
      " 33%|███▎      | 5/15 [00:29<00:59,  5.92s/it]\u001b[A\n",
      " 40%|████      | 6/15 [00:36<00:54,  6.07s/it]\u001b[A\n",
      " 47%|████▋     | 7/15 [00:41<00:47,  5.89s/it]\u001b[A\n",
      " 53%|█████▎    | 8/15 [00:48<00:42,  6.00s/it]\u001b[A\n",
      " 60%|██████    | 9/15 [00:58<00:38,  6.46s/it]\u001b[A\n",
      " 67%|██████▋   | 10/15 [01:03<00:31,  6.30s/it]\u001b[A\n",
      " 73%|███████▎  | 11/15 [01:09<00:25,  6.27s/it]\u001b[A\n",
      " 80%|████████  | 12/15 [01:16<00:19,  6.33s/it]\u001b[A\n",
      " 87%|████████▋ | 13/15 [01:21<00:12,  6.27s/it]\u001b[A\n",
      " 93%|█████████▎| 14/15 [01:29<00:06,  6.38s/it]\u001b[A\n",
      "100%|██████████| 15/15 [01:38<00:00,  6.56s/it]\u001b[A\n",
      "\u001b[A"
     ]
    },
    {
     "name": "stdout",
     "output_type": "stream",
     "text": [
      "[2018-07-06 14:44:19][Classification: Building Layer-1 Stack] End   ...[Elapsed: 98.63s]\n"
     ]
    },
    {
     "name": "stderr",
     "output_type": "stream",
     "text": [
      "\n",
      "  0%|          | 0/15 [00:00<?, ?it/s]\u001b[A"
     ]
    },
    {
     "name": "stdout",
     "output_type": "stream",
     "text": [
      "[2018-07-06 14:45:19][Classification: Building Layer-1 Stack] Begin ...\n"
     ]
    },
    {
     "name": "stderr",
     "output_type": "stream",
     "text": [
      "\n",
      "  7%|▋         | 1/15 [00:04<01:04,  4.58s/it]\u001b[A\n",
      " 13%|█▎        | 2/15 [00:10<01:07,  5.21s/it]\u001b[A\n",
      " 20%|██        | 3/15 [00:18<01:14,  6.19s/it]\u001b[A\n",
      " 27%|██▋       | 4/15 [00:23<01:04,  5.89s/it]\u001b[A\n",
      " 33%|███▎      | 5/15 [00:29<00:58,  5.80s/it]\u001b[A\n",
      " 40%|████      | 6/15 [00:36<00:54,  6.02s/it]\u001b[A\n",
      " 47%|████▋     | 7/15 [00:40<00:46,  5.82s/it]\u001b[A\n",
      " 53%|█████▎    | 8/15 [00:47<00:41,  5.97s/it]\u001b[A\n",
      " 60%|██████    | 9/15 [00:57<00:38,  6.42s/it]\u001b[A\n",
      " 67%|██████▋   | 10/15 [01:02<00:31,  6.24s/it]\u001b[A\n",
      " 73%|███████▎  | 11/15 [01:07<00:24,  6.18s/it]\u001b[A\n",
      " 80%|████████  | 12/15 [01:14<00:18,  6.19s/it]\u001b[A\n",
      " 87%|████████▋ | 13/15 [01:19<00:12,  6.10s/it]\u001b[A\n",
      " 93%|█████████▎| 14/15 [01:26<00:06,  6.15s/it]\u001b[A\n",
      "100%|██████████| 15/15 [01:35<00:00,  6.36s/it]\u001b[A\n",
      "\u001b[A"
     ]
    },
    {
     "name": "stdout",
     "output_type": "stream",
     "text": [
      "[2018-07-06 14:46:54][Classification: Building Layer-1 Stack] End   ...[Elapsed: 95.53s]\n"
     ]
    },
    {
     "name": "stderr",
     "output_type": "stream",
     "text": [
      "\n",
      "  0%|          | 0/15 [00:00<?, ?it/s]\u001b[A"
     ]
    },
    {
     "name": "stdout",
     "output_type": "stream",
     "text": [
      "[2018-07-06 14:47:52][Classification: Building Layer-1 Stack] Begin ...\n"
     ]
    },
    {
     "name": "stderr",
     "output_type": "stream",
     "text": [
      "\n",
      "  7%|▋         | 1/15 [00:04<01:04,  4.58s/it]\u001b[A\n",
      " 13%|█▎        | 2/15 [00:10<01:10,  5.41s/it]\u001b[A\n",
      " 20%|██        | 3/15 [00:19<01:17,  6.46s/it]\u001b[A\n",
      " 27%|██▋       | 4/15 [00:24<01:06,  6.06s/it]\u001b[A\n",
      " 33%|███▎      | 5/15 [00:29<00:59,  5.97s/it]\u001b[A\n",
      " 40%|████      | 6/15 [00:36<00:55,  6.14s/it]\u001b[A\n",
      " 47%|████▋     | 7/15 [00:41<00:47,  5.96s/it]\u001b[A\n",
      " 53%|█████▎    | 8/15 [00:48<00:42,  6.10s/it]\u001b[A\n",
      " 60%|██████    | 9/15 [00:58<00:39,  6.55s/it]\u001b[A\n",
      " 67%|██████▋   | 10/15 [01:03<00:31,  6.38s/it]\u001b[A\n",
      " 73%|███████▎  | 11/15 [01:09<00:25,  6.35s/it]\u001b[A\n",
      " 80%|████████  | 12/15 [01:16<00:19,  6.42s/it]\u001b[A\n",
      " 87%|████████▋ | 13/15 [01:22<00:12,  6.34s/it]\u001b[A\n",
      " 93%|█████████▎| 14/15 [01:30<00:06,  6.43s/it]\u001b[A\n",
      "100%|██████████| 15/15 [01:39<00:00,  6.66s/it]\u001b[A\n",
      "\u001b[A"
     ]
    },
    {
     "name": "stdout",
     "output_type": "stream",
     "text": [
      "[2018-07-06 14:49:32][Classification: Building Layer-1 Stack] End   ...[Elapsed: 100.05s]\n"
     ]
    },
    {
     "name": "stderr",
     "output_type": "stream",
     "text": [
      "\n",
      "  0%|          | 0/15 [00:00<?, ?it/s]\u001b[A"
     ]
    },
    {
     "name": "stdout",
     "output_type": "stream",
     "text": [
      "[2018-07-06 14:50:29][Classification: Building Layer-1 Stack] Begin ...\n"
     ]
    },
    {
     "name": "stderr",
     "output_type": "stream",
     "text": [
      "\n",
      "  7%|▋         | 1/15 [00:04<01:01,  4.37s/it]\u001b[A\n",
      " 13%|█▎        | 2/15 [00:10<01:06,  5.12s/it]\u001b[A\n",
      " 20%|██        | 3/15 [00:18<01:12,  6.06s/it]\u001b[A\n",
      " 27%|██▋       | 4/15 [00:22<01:03,  5.74s/it]\u001b[A\n",
      " 33%|███▎      | 5/15 [00:28<00:57,  5.76s/it]\u001b[A\n",
      " 40%|████      | 6/15 [00:35<00:53,  5.97s/it]\u001b[A\n",
      " 47%|████▋     | 7/15 [00:40<00:46,  5.79s/it]\u001b[A\n",
      " 53%|█████▎    | 8/15 [00:47<00:41,  5.91s/it]\u001b[A\n",
      " 60%|██████    | 9/15 [00:56<00:37,  6.33s/it]\u001b[A\n",
      " 67%|██████▋   | 10/15 [01:01<00:30,  6.16s/it]\u001b[A\n",
      " 73%|███████▎  | 11/15 [01:07<00:24,  6.13s/it]\u001b[A\n",
      " 80%|████████  | 12/15 [01:13<00:18,  6.15s/it]\u001b[A\n",
      " 87%|████████▋ | 13/15 [01:18<00:12,  6.07s/it]\u001b[A\n",
      " 93%|█████████▎| 14/15 [01:26<00:06,  6.18s/it]\u001b[A\n",
      "100%|██████████| 15/15 [01:35<00:00,  6.39s/it]\u001b[A\n",
      "\u001b[A"
     ]
    },
    {
     "name": "stdout",
     "output_type": "stream",
     "text": [
      "[2018-07-06 14:52:05][Classification: Building Layer-1 Stack] End   ...[Elapsed: 96.06s]\n"
     ]
    }
   ],
   "source": [
    "level2_model_list  =[]\n",
    "# use XGBOOST  as the model of the second layer\n",
    "import xgboost as xgb\n",
    "from xgboost.sklearn import XGBClassifier\n",
    "\n",
    "\n",
    "for idx in range(0,5):\n",
    "    \n",
    "    Train_DataSet = train_df[train_df.index.isin(list(all_list - DateFold[idx]))].reset_index(drop=True)\n",
    "    Normal_DF = Train_DataSet[Train_DataSet['label']==0]\n",
    "    Fraud_DF = Train_DataSet[Train_DataSet['label']==1]\n",
    "    \n",
    "    number_record_fraud = len(Fraud_DF)\n",
    "    number_record_normal = len(Normal_DF)\n",
    "    #undersample\n",
    "    random_normal_indices = np.array(np.random.choice(Normal_DF.index,number_record_fraud,replace=False))\n",
    "    filter_list = list(random_normal_indices) + list(Fraud_DF.index)\n",
    "    under_sample_train = Train_DataSet[Train_DataSet.index.isin(filter_list)].reset_index(drop=True)\n",
    "    \n",
    "    X_train = Train_DataSet[predictors]\n",
    "    y_train = Train_DataSet['Fraud']\n",
    "    \n",
    "    model = XGBClassifier(\n",
    "                         learning_rate =0.05,\n",
    "                         n_estimators=400,\n",
    "                         max_depth=3,\n",
    "                         min_child_weight=1,\n",
    "                         gamma=0,\n",
    "                         subsample=0.8,\n",
    "                         colsample_bytree=0.9,\n",
    "                         objective= 'binary:logistic',\n",
    "                         scoring='roc_auc',\n",
    "                         scale_pos_weight= 98,\n",
    "                         nthread=40,\n",
    "                         seed=27)\n",
    "    \n",
    "    X_train_level2 = stack_result(X_train,model_list)\n",
    "    model.fit(X_train_level2,y_train)  \n",
    "    level2_model_list.append(model)\n",
    "        "
   ]
  },
  {
   "cell_type": "code",
   "execution_count": 15,
   "metadata": {
    "scrolled": true
   },
   "outputs": [
    {
     "name": "stderr",
     "output_type": "stream",
     "text": [
      "\n",
      "  0%|          | 0/15 [00:00<?, ?it/s]\u001b[A"
     ]
    },
    {
     "name": "stdout",
     "output_type": "stream",
     "text": [
      "[2018-07-06 14:52:57][Classification: Building Layer-1 Stack] Begin ...\n"
     ]
    },
    {
     "name": "stderr",
     "output_type": "stream",
     "text": [
      "\n",
      "  7%|▋         | 1/15 [00:05<01:13,  5.24s/it]\u001b[A\n",
      " 13%|█▎        | 2/15 [00:11<01:12,  5.57s/it]\u001b[A\n",
      " 20%|██        | 3/15 [00:18<01:14,  6.24s/it]\u001b[A\n",
      " 27%|██▋       | 4/15 [00:23<01:05,  5.95s/it]\u001b[A\n",
      " 33%|███▎      | 5/15 [00:29<00:58,  5.87s/it]\u001b[A\n",
      " 40%|████      | 6/15 [00:35<00:53,  5.92s/it]\u001b[A\n",
      " 47%|████▋     | 7/15 [00:40<00:46,  5.75s/it]\u001b[A\n",
      " 53%|█████▎    | 8/15 [00:46<00:40,  5.83s/it]\u001b[A\n",
      " 60%|██████    | 9/15 [00:54<00:36,  6.06s/it]\u001b[A\n",
      " 67%|██████▋   | 10/15 [00:59<00:29,  5.95s/it]\u001b[A\n",
      " 73%|███████▎  | 11/15 [01:05<00:23,  5.95s/it]\u001b[A\n",
      " 80%|████████  | 12/15 [01:11<00:17,  5.98s/it]\u001b[A\n",
      " 87%|████████▋ | 13/15 [01:16<00:11,  5.91s/it]\u001b[A\n",
      " 93%|█████████▎| 14/15 [01:23<00:05,  5.96s/it]\u001b[A\n",
      "100%|██████████| 15/15 [01:31<00:00,  6.10s/it]\u001b[A\n",
      "\u001b[A\n",
      "  0%|          | 0/5 [00:00<?, ?it/s]\u001b[A"
     ]
    },
    {
     "name": "stdout",
     "output_type": "stream",
     "text": [
      "[2018-07-06 14:54:29][Classification: Building Layer-1 Stack] End   ...[Elapsed: 91.56s]\n",
      "[2018-07-06 14:54:29][Classification: Building Layer-1 Stack] Begin ...\n"
     ]
    },
    {
     "name": "stderr",
     "output_type": "stream",
     "text": [
      "\n",
      " 20%|██        | 1/5 [00:02<00:08,  2.11s/it]\u001b[A\n",
      " 40%|████      | 2/5 [00:04<00:06,  2.28s/it]\u001b[A\n",
      " 60%|██████    | 3/5 [00:06<00:04,  2.19s/it]\u001b[A\n",
      " 80%|████████  | 4/5 [00:08<00:02,  2.17s/it]\u001b[A\n",
      "100%|██████████| 5/5 [00:10<00:00,  2.16s/it]\u001b[A\n",
      "\u001b[A"
     ]
    },
    {
     "name": "stdout",
     "output_type": "stream",
     "text": [
      "[2018-07-06 14:54:40][Classification: Building Layer-1 Stack] End   ...[Elapsed: 10.81s]\n"
     ]
    }
   ],
   "source": [
    "val_df2_level2 = stack_result(val_df[predictors],model_list)\n",
    "foo = stack_result(val_df2_level2,level2_model_list)\n"
   ]
  },
  {
   "cell_type": "code",
   "execution_count": 16,
   "metadata": {},
   "outputs": [
    {
     "name": "stdout",
     "output_type": "stream",
     "text": [
      "Ant-Score: 0.4559683963271407\n"
     ]
    },
    {
     "data": {
      "image/png": "[encoded data removed]",
      "text/plain": [
       "<Figure size 432x288 with 1 Axes>"
      ]
     },
     "metadata": {},
     "output_type": "display_data"
    }
   ],
   "source": [
    "y_pred= pd.DataFrame(foo).min(axis=1)\n",
    "_,_,_ = atecml.data.accuracy_validation(val_df['Fraud'],y_pred)"
   ]
  },
  {
   "cell_type": "code",
   "execution_count": 17,
   "metadata": {},
   "outputs": [],
   "source": [
    "test_df = atecml.data.load_test()"
   ]
  },
  {
   "cell_type": "code",
   "execution_count": 18,
   "metadata": {},
   "outputs": [
    {
     "name": "stderr",
     "output_type": "stream",
     "text": [
      "\n",
      "  0%|          | 0/15 [00:00<?, ?it/s]\u001b[A"
     ]
    },
    {
     "name": "stdout",
     "output_type": "stream",
     "text": [
      "[2018-07-06 14:54:42][Classification: Building Layer-1 Stack] Begin ...\n"
     ]
    },
    {
     "name": "stderr",
     "output_type": "stream",
     "text": [
      "\n",
      "  7%|▋         | 1/15 [00:05<01:20,  5.73s/it]\u001b[A\n",
      " 13%|█▎        | 2/15 [00:53<05:47, 26.72s/it]\u001b[A\n",
      " 20%|██        | 3/15 [02:34<10:18, 51.51s/it]\u001b[A\n",
      " 27%|██▋       | 4/15 [02:43<07:30, 40.97s/it]\u001b[A\n",
      " 33%|███▎      | 5/15 [03:16<06:33, 39.39s/it]\u001b[A\n",
      " 40%|████      | 6/15 [04:26<06:39, 44.34s/it]\u001b[A\n",
      " 47%|████▋     | 7/15 [04:33<05:12, 39.11s/it]\u001b[A\n",
      " 53%|█████▎    | 8/15 [05:45<05:02, 43.24s/it]\u001b[A\n",
      " 60%|██████    | 9/15 [08:05<05:23, 53.92s/it]\u001b[A\n",
      " 67%|██████▋   | 10/15 [08:13<04:06, 49.32s/it]\u001b[A\n",
      " 73%|███████▎  | 11/15 [08:58<03:15, 48.98s/it]\u001b[A\n",
      " 80%|████████  | 12/15 [10:01<02:30, 50.12s/it]\u001b[A\n",
      " 87%|████████▋ | 13/15 [10:20<01:35, 47.70s/it]\u001b[A\n",
      " 93%|█████████▎| 14/15 [11:34<00:49, 49.63s/it]\u001b[A\n",
      "100%|██████████| 15/15 [13:42<00:00, 54.84s/it]\u001b[A\n",
      "\u001b[A"
     ]
    },
    {
     "name": "stdout",
     "output_type": "stream",
     "text": [
      "[2018-07-06 15:08:25][Classification: Building Layer-1 Stack] End   ...[Elapsed: 822.84s]\n"
     ]
    }
   ],
   "source": [
    "test_df_level1 = stack_result(test_df[predictors],model_list)"
   ]
  },
  {
   "cell_type": "code",
   "execution_count": 19,
   "metadata": {},
   "outputs": [
    {
     "name": "stderr",
     "output_type": "stream",
     "text": [
      "\n",
      "  0%|          | 0/5 [00:00<?, ?it/s]\u001b[A"
     ]
    },
    {
     "name": "stdout",
     "output_type": "stream",
     "text": [
      "[2018-07-06 15:08:25][Classification: Building Layer-1 Stack] Begin ...\n"
     ]
    },
    {
     "name": "stderr",
     "output_type": "stream",
     "text": [
      "\n",
      " 20%|██        | 1/5 [00:03<00:12,  3.13s/it]\u001b[A\n",
      " 40%|████      | 2/5 [00:06<00:09,  3.30s/it]\u001b[A\n",
      " 60%|██████    | 3/5 [00:09<00:06,  3.17s/it]\u001b[A\n",
      " 80%|████████  | 4/5 [00:12<00:03,  3.16s/it]\u001b[A\n",
      "100%|██████████| 5/5 [00:15<00:00,  3.14s/it]\u001b[A\n",
      "\u001b[A"
     ]
    },
    {
     "name": "stdout",
     "output_type": "stream",
     "text": [
      "[2018-07-06 15:08:41][Classification: Building Layer-1 Stack] End   ...[Elapsed: 15.71s]\n"
     ]
    }
   ],
   "source": [
    "test_df_level2 = stack_result(test_df_level1,level2_model_list)"
   ]
  },
  {
   "cell_type": "code",
   "execution_count": 20,
   "metadata": {},
   "outputs": [],
   "source": [
    "y_pred= pd.DataFrame(test_df_level2).min(axis=1)"
   ]
  },
  {
   "cell_type": "code",
   "execution_count": 21,
   "metadata": {},
   "outputs": [],
   "source": [
    "result=pd.DataFrame()\n",
    "result['id'] = test_df['id']\n",
    "result['score'] = y_pred"
   ]
  },
  {
   "cell_type": "code",
   "execution_count": null,
   "metadata": {},
   "outputs": [],
   "source": [
    "result.to_csv('./0706_03.csv',index=False)"
   ]
  },
  {
   "cell_type": "code",
   "execution_count": 24,
   "metadata": {},
   "outputs": [],
   "source": [
    "unknown_df =atecml.data.load_train()"
   ]
  },
  {
   "cell_type": "code",
   "execution_count": 32,
   "metadata": {},
   "outputs": [],
   "source": [
    "unknown_df = unknown_df[unknown_df.label==-1].reset_index(drop=True)"
   ]
  },
  {
   "cell_type": "code",
   "execution_count": 33,
   "metadata": {
    "scrolled": true
   },
   "outputs": [
    {
     "name": "stderr",
     "output_type": "stream",
     "text": [
      "\n",
      "  0%|          | 0/15 [00:00<?, ?it/s]\u001b[A\n",
      "  7%|▋         | 1/15 [00:00<00:01,  7.50it/s]\u001b[A"
     ]
    },
    {
     "name": "stdout",
     "output_type": "stream",
     "text": [
      "[2018-07-06 15:24:16][Classification: Building Layer-1 Stack] Begin ...\n"
     ]
    },
    {
     "name": "stderr",
     "output_type": "stream",
     "text": [
      "\n",
      " 13%|█▎        | 2/15 [00:00<00:05,  2.57it/s]\u001b[A\n",
      " 20%|██        | 3/15 [00:01<00:07,  1.53it/s]\u001b[A\n",
      " 27%|██▋       | 4/15 [00:02<00:05,  1.89it/s]\u001b[A\n",
      " 33%|███▎      | 5/15 [00:02<00:05,  1.99it/s]\u001b[A\n",
      " 40%|████      | 6/15 [00:03<00:04,  1.85it/s]\u001b[A\n",
      " 47%|████▋     | 7/15 [00:03<00:03,  2.09it/s]\u001b[A\n",
      " 53%|█████▎    | 8/15 [00:04<00:03,  1.79it/s]\u001b[A\n",
      " 60%|██████    | 9/15 [00:05<00:03,  1.52it/s]\u001b[A\n",
      " 67%|██████▋   | 10/15 [00:06<00:03,  1.66it/s]\u001b[A\n",
      " 73%|███████▎  | 11/15 [00:06<00:02,  1.69it/s]\u001b[A\n",
      " 80%|████████  | 12/15 [00:07<00:01,  1.67it/s]\u001b[A\n",
      " 87%|████████▋ | 13/15 [00:07<00:01,  1.76it/s]\u001b[A\n",
      " 93%|█████████▎| 14/15 [00:08<00:00,  1.71it/s]\u001b[A\n",
      "100%|██████████| 15/15 [00:09<00:00,  1.58it/s]\u001b[A\n",
      "\u001b[A\n",
      "  0%|          | 0/5 [00:00<?, ?it/s]\u001b[A\n",
      " 60%|██████    | 3/5 [00:00<00:00, 21.48it/s]\u001b[A"
     ]
    },
    {
     "name": "stdout",
     "output_type": "stream",
     "text": [
      "[2018-07-06 15:24:26][Classification: Building Layer-1 Stack] End   ...[Elapsed: 9.52s]\n",
      "[2018-07-06 15:24:26][Classification: Building Layer-1 Stack] Begin ...\n"
     ]
    },
    {
     "name": "stderr",
     "output_type": "stream",
     "text": [
      "\n",
      "100%|██████████| 5/5 [00:00<00:00, 21.29it/s]\u001b[A"
     ]
    },
    {
     "name": "stdout",
     "output_type": "stream",
     "text": [
      "[2018-07-06 15:24:26][Classification: Building Layer-1 Stack] End   ...[Elapsed: 0.24s]\n"
     ]
    }
   ],
   "source": [
    "un_level1 = stack_result(unknown_df[predictors],model_list)\n",
    "un_level2 = stack_result(un_level1,level2_model_list)"
   ]
  },
  {
   "cell_type": "code",
   "execution_count": 34,
   "metadata": {},
   "outputs": [],
   "source": [
    "un_pred= pd.DataFrame(un_level2).min(axis=1)"
   ]
  },
  {
   "cell_type": "code",
   "execution_count": 35,
   "metadata": {},
   "outputs": [
    {
     "data": {
      "text/plain": [
       "<matplotlib.axes._subplots.AxesSubplot at 0x7f0f7a0715c0>"
      ]
     },
     "execution_count": 35,
     "metadata": {},
     "output_type": "execute_result"
    },
    {
     "data": {
      "image/png": "[encoded data removed]",
      "text/plain": [
       "<Figure size 432x288 with 1 Axes>"
      ]
     },
     "metadata": {},
     "output_type": "display_data"
    }
   ],
   "source": [
    "un_pred.hist(bins=100)"
   ]
  },
  {
   "cell_type": "code",
   "execution_count": 37,
   "metadata": {},
   "outputs": [],
   "source": [
    "unresult=pd.DataFrame()\n",
    "unresult['id'] = unknown_df['id']\n",
    "unresult['score'] = un_pred"
   ]
  },
  {
   "cell_type": "code",
   "execution_count": 38,
   "metadata": {},
   "outputs": [],
   "source": [
    "unresult.to_pickle('./reject_inf.dat')"
   ]
  },
  {
   "cell_type": "code",
   "execution_count": null,
   "metadata": {},
   "outputs": [],
   "source": []
  }
 ],
 "metadata": {
  "kernelspec": {
   "display_name": "Python 3",
   "language": "python",
   "name": "python3"
  },
  "language_info": {
   "codemirror_mode": {
    "name": "ipython",
    "version": 3
   },
   "file_extension": ".py",
   "mimetype": "text/x-python",
   "name": "python",
   "nbconvert_exporter": "python",
   "pygments_lexer": "ipython3",
   "version": "3.5.2"
  }
 },
 "nbformat": 4,
 "nbformat_minor": 2
}

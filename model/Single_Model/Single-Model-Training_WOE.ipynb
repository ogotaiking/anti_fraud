{
 "cells": [
  {
   "cell_type": "code",
   "execution_count": 1,
   "metadata": {},
   "outputs": [
    {
     "data": {
      "text/html": [
       "<style>.container { width:100% !important; }</style>"
      ],
      "text/plain": [
       "<IPython.core.display.HTML object>"
      ]
     },
     "metadata": {},
     "output_type": "display_data"
    }
   ],
   "source": [
    "from IPython.core.display import display, HTML\n",
    "display(HTML(\"<style>.container { width:100% !important; }</style>\"))\n",
    "%matplotlib inline\n",
    "import matplotlib\n",
    "import matplotlib.pyplot as plt\n",
    "import matplotlib.gridspec as gridspec\n",
    "import seaborn as sns\n",
    "import os\n",
    "\n",
    "import numpy as np\n",
    "import pandas as pd\n",
    "import tensorflow as tf\n",
    "\n",
    "import atecml.data\n",
    "\n",
    "from contextlib import contextmanager\n",
    "from tqdm import tqdm\n",
    "from sklearn.neighbors import KNeighborsClassifier\n",
    "from sklearn.preprocessing import StandardScaler, MinMaxScaler\n",
    "from sklearn.decomposition import PCA\n",
    "from sklearn.externals import joblib\n",
    "from sklearn.linear_model import LogisticRegressionCV\n",
    "#build Models...\n",
    "from sklearn.ensemble import RandomForestClassifier\n",
    "from sklearn.ensemble import ExtraTreesClassifier\n",
    "from sklearn.ensemble import GradientBoostingClassifier\n",
    "from sklearn.tree import DecisionTreeClassifier\n",
    "import lightgbm as lgb\n",
    "from xgboost import XGBClassifier\n",
    "from sklearn.model_selection import train_test_split\n",
    "from sklearn.externals import joblib\n",
    "from imblearn.over_sampling import SMOTE, ADASYN\n",
    "import random\n",
    "\n",
    "plt.style.use('ggplot')"
   ]
  },
  {
   "cell_type": "code",
   "execution_count": 8,
   "metadata": {},
   "outputs": [],
   "source": [
    "def lgb_modelfit_nocv(params, dtrain, dvalid, predictors, target='target', objective='binary', metrics='binary_error', model_type='gbdt',\n",
    "                 feval=None, early_stopping_rounds=20, num_boost_round=3000, verbose_eval=50, categorical_features=None):\n",
    "    \n",
    "    lgb_params = {\n",
    "        'boosting_type': model_type,\n",
    "        'objective': objective,\n",
    "        'metric': metrics,\n",
    "        'use_missing' : True,\n",
    "        'is_unbalanced ': True,\n",
    "        'learning_rate': 0.05,\n",
    "        'num_leaves': 64,  # we should let it be smaller than 2^(max_depth)\n",
    "        'max_depth': -1,  # -1 means no limit\n",
    "        'min_child_samples': 600,  # Minimum number of data need in a child(min_data_in_leaf)\n",
    "        'max_bin': 511,  # Number of bucketed bin for feature values\n",
    "        'colsample_bytree': 0.9,\n",
    "        'subsample': 0.85,  # Subsample ratio of the training instance.\n",
    "        'subsample_freq': 1,  # frequence of subsample, <=0 means no enable\n",
    "        'min_child_weight': 0.05,  # Minimum sum of instance weight(hessian) needed in a child(leaf)\n",
    "        'subsample_for_bin': 200000,  # Number of samples for constructing bin\n",
    "        'min_split_gain': 0,  # lambda_l1, lambda_l2 and min_gain_to_split to regularization\n",
    "        'reg_alpha': 0.01,  # L1 regularization term on weights\n",
    "        'reg_lambda': 0.1,  # L2 regularization term on weights\n",
    "        'nthread': 40,\n",
    "        'verbose': -1,\n",
    "    }\n",
    "\n",
    "    lgb_params.update(params)\n",
    "    print(\"preparing validation datasets\")\n",
    "\n",
    "    xgtrain = lgb.Dataset(dtrain[predictors].values, label=dtrain[target].values,\n",
    "                          feature_name=predictors,\n",
    "                          categorical_feature=categorical_features\n",
    "                          )\n",
    "    xgvalid = lgb.Dataset(dvalid[predictors].values, label=dvalid[target].values,\n",
    "                          feature_name=predictors,\n",
    "                          categorical_feature=categorical_features\n",
    "                          )\n",
    "\n",
    "    evals_results = {}\n",
    "\n",
    "    bst1 = lgb.train(lgb_params, \n",
    "                     xgtrain, \n",
    "                     valid_sets=[xgtrain, xgvalid], \n",
    "                     valid_names=['train','valid'], \n",
    "                     evals_result=evals_results, \n",
    "                     num_boost_round=num_boost_round,\n",
    "                     early_stopping_rounds=early_stopping_rounds,\n",
    "                     verbose_eval=verbose_eval, \n",
    "                     feval=feval)\n",
    "\n",
    "    return bst1\n",
    "\n",
    "def model_validation(train_df,val_df,predictors,target,params):\n",
    "    categorical=[]\n",
    "    for item in predictors:\n",
    "        if (item in CATE_LIST):\n",
    "            categorical.append(item)\n",
    "            \n",
    "    '''\n",
    "    if (target == 'Normal'):\n",
    "        params = {\n",
    "            'scale_pos_weight' : 0.013,\n",
    "        } \n",
    "    else:\n",
    "        params = {\n",
    "            'scale_pos_weight' : 120,\n",
    "        }\n",
    "    '''\n",
    "    bst = lgb_modelfit_nocv(params, \n",
    "                        train_df, \n",
    "                        val_df, \n",
    "                        predictors, \n",
    "                        target, \n",
    "                        model_type='dart',\n",
    "                        objective='binary', \n",
    "                        #metrics ='binary',\n",
    "                        metrics={'auc'},\n",
    "                        early_stopping_rounds=1000, \n",
    "                        verbose_eval=50, \n",
    "                        num_boost_round=10000, \n",
    "                        categorical_features=categorical\n",
    "                        )\n",
    "    y_predict = bst.predict(val_df[predictors])\n",
    "    if (target == 'Normal'):\n",
    "        y_predict = 1 - y_predict\n",
    "    atec_Score,b,c=atecml.data.accuracy_validation(val_df['Fraud'],y_predict)\n",
    "    return bst,atec_Score"
   ]
  },
  {
   "cell_type": "code",
   "execution_count": 9,
   "metadata": {},
   "outputs": [
    {
     "data": {
      "text/plain": [
       "(634284, 360447)"
      ]
     },
     "execution_count": 9,
     "metadata": {},
     "output_type": "execute_result"
    }
   ],
   "source": [
    "train_df = pd.read_pickle('./01_train.dat')\n",
    "\n",
    "predictors = [x for x in train_df.columns if x not in atecml.data.NOT_FEATURE_COLUMNS]\n",
    "DateFold={}\n",
    "\n",
    "DateFold[0] = set(atecml.data.filter_date(train_df,start_date='2017-09-05',end_date='2017-09-12').index)\n",
    "DateFold[1] = set(atecml.data.filter_date(train_df,start_date='2017-09-13',end_date='2017-09-20').index)\n",
    "DateFold[2] = set(atecml.data.filter_date(train_df,start_date='2017-09-21',end_date='2017-09-28').index)\n",
    "DateFold[3] = set(atecml.data.filter_date(train_df,start_date='2017-09-29',end_date='2017-10-06').index)\n",
    "DateFold[4] = set(atecml.data.filter_date(train_df,start_date='2017-10-07',end_date='2017-10-14').index)\n",
    "DateFold[5] = list(atecml.data.filter_date(train_df,start_date='2017-10-15',end_date='2017-11-24').index)\n",
    "\n",
    "all_list = set(train_df.index) - set(DateFold[5])\n",
    "len(all_list),len(DateFold[5])\n"
   ]
  },
  {
   "cell_type": "code",
   "execution_count": 10,
   "metadata": {},
   "outputs": [],
   "source": [
    "WOE_LIST = joblib.load('./woe_feature.dat')"
   ]
  },
  {
   "cell_type": "code",
   "execution_count": 11,
   "metadata": {},
   "outputs": [],
   "source": [
    "CATE_LIST = WOE_LIST + atecml.data.CATE_FEATURE_LIST"
   ]
  },
  {
   "cell_type": "code",
   "execution_count": null,
   "metadata": {},
   "outputs": [],
   "source": []
  },
  {
   "cell_type": "code",
   "execution_count": null,
   "metadata": {},
   "outputs": [],
   "source": []
  },
  {
   "cell_type": "code",
   "execution_count": 12,
   "metadata": {
    "scrolled": false
   },
   "outputs": [
    {
     "name": "stdout",
     "output_type": "stream",
     "text": [
      "preparing validation datasets\n",
      "Training until validation scores don't improve for 1000 rounds.\n",
      "[50]\ttrain's auc: 0.989807\tvalid's auc: 0.977982\n",
      "[100]\ttrain's auc: 0.990476\tvalid's auc: 0.979263\n",
      "[150]\ttrain's auc: 0.990575\tvalid's auc: 0.979512\n",
      "[200]\ttrain's auc: 0.990709\tvalid's auc: 0.979495\n",
      "[250]\ttrain's auc: 0.991195\tvalid's auc: 0.979572\n",
      "[300]\ttrain's auc: 0.992516\tvalid's auc: 0.978997\n",
      "[350]\ttrain's auc: 0.993395\tvalid's auc: 0.978654\n",
      "[400]\ttrain's auc: 0.994688\tvalid's auc: 0.978951\n",
      "[450]\ttrain's auc: 0.995701\tvalid's auc: 0.980284\n",
      "[500]\ttrain's auc: 0.996384\tvalid's auc: 0.980452\n",
      "[550]\ttrain's auc: 0.996892\tvalid's auc: 0.980439\n",
      "[600]\ttrain's auc: 0.997159\tvalid's auc: 0.980528\n",
      "[650]\ttrain's auc: 0.99749\tvalid's auc: 0.981032\n",
      "[700]\ttrain's auc: 0.997735\tvalid's auc: 0.981328\n",
      "[750]\ttrain's auc: 0.997956\tvalid's auc: 0.981968\n",
      "[800]\ttrain's auc: 0.998136\tvalid's auc: 0.982305\n",
      "[850]\ttrain's auc: 0.998327\tvalid's auc: 0.982469\n",
      "[900]\ttrain's auc: 0.998506\tvalid's auc: 0.982566\n",
      "[950]\ttrain's auc: 0.998631\tvalid's auc: 0.98245\n",
      "[1000]\ttrain's auc: 0.998758\tvalid's auc: 0.982629\n",
      "[1050]\ttrain's auc: 0.998902\tvalid's auc: 0.982905\n",
      "[1100]\ttrain's auc: 0.999008\tvalid's auc: 0.982742\n",
      "[1150]\ttrain's auc: 0.999081\tvalid's auc: 0.982722\n",
      "[1200]\ttrain's auc: 0.999154\tvalid's auc: 0.982774\n",
      "[1250]\ttrain's auc: 0.999249\tvalid's auc: 0.982833\n",
      "[1300]\ttrain's auc: 0.999306\tvalid's auc: 0.982852\n",
      "[1350]\ttrain's auc: 0.999371\tvalid's auc: 0.983026\n",
      "[1400]\ttrain's auc: 0.999451\tvalid's auc: 0.982991\n",
      "[1450]\ttrain's auc: 0.999499\tvalid's auc: 0.983032\n",
      "[1500]\ttrain's auc: 0.999541\tvalid's auc: 0.983149\n",
      "[1550]\ttrain's auc: 0.999572\tvalid's auc: 0.983132\n",
      "[1600]\ttrain's auc: 0.999616\tvalid's auc: 0.982987\n",
      "[1650]\ttrain's auc: 0.999657\tvalid's auc: 0.983164\n",
      "[1700]\ttrain's auc: 0.999699\tvalid's auc: 0.983148\n",
      "[1750]\ttrain's auc: 0.999732\tvalid's auc: 0.983098\n",
      "[1800]\ttrain's auc: 0.999765\tvalid's auc: 0.983373\n",
      "[1850]\ttrain's auc: 0.999794\tvalid's auc: 0.983432\n",
      "[1900]\ttrain's auc: 0.999814\tvalid's auc: 0.983189\n",
      "[1950]\ttrain's auc: 0.999833\tvalid's auc: 0.983173\n",
      "[2000]\ttrain's auc: 0.999853\tvalid's auc: 0.983269\n",
      "[2050]\ttrain's auc: 0.999873\tvalid's auc: 0.983183\n",
      "[2100]\ttrain's auc: 0.999891\tvalid's auc: 0.983293\n",
      "[2150]\ttrain's auc: 0.999901\tvalid's auc: 0.983418\n",
      "[2200]\ttrain's auc: 0.999915\tvalid's auc: 0.983455\n",
      "[2250]\ttrain's auc: 0.999927\tvalid's auc: 0.983521\n",
      "[2300]\ttrain's auc: 0.999939\tvalid's auc: 0.983655\n",
      "[2350]\ttrain's auc: 0.999946\tvalid's auc: 0.983422\n",
      "[2400]\ttrain's auc: 0.999956\tvalid's auc: 0.983442\n",
      "[2450]\ttrain's auc: 0.999962\tvalid's auc: 0.983303\n",
      "[2500]\ttrain's auc: 0.999968\tvalid's auc: 0.983543\n",
      "[2550]\ttrain's auc: 0.999974\tvalid's auc: 0.983613\n",
      "[2600]\ttrain's auc: 0.999978\tvalid's auc: 0.983624\n",
      "[2650]\ttrain's auc: 0.999981\tvalid's auc: 0.983532\n",
      "[2700]\ttrain's auc: 0.999984\tvalid's auc: 0.983622\n",
      "[2750]\ttrain's auc: 0.999986\tvalid's auc: 0.983628\n",
      "[2800]\ttrain's auc: 0.999988\tvalid's auc: 0.983514\n",
      "[2850]\ttrain's auc: 0.999989\tvalid's auc: 0.983665\n",
      "[2900]\ttrain's auc: 0.999991\tvalid's auc: 0.983539\n",
      "[2950]\ttrain's auc: 0.999993\tvalid's auc: 0.983571\n",
      "[3000]\ttrain's auc: 0.999994\tvalid's auc: 0.983496\n",
      "[3050]\ttrain's auc: 0.999996\tvalid's auc: 0.983362\n",
      "[3100]\ttrain's auc: 0.999997\tvalid's auc: 0.983325\n",
      "[3150]\ttrain's auc: 0.999997\tvalid's auc: 0.9834\n",
      "[3200]\ttrain's auc: 0.999998\tvalid's auc: 0.983424\n",
      "[3250]\ttrain's auc: 0.999998\tvalid's auc: 0.983309\n",
      "[3300]\ttrain's auc: 0.999999\tvalid's auc: 0.983399\n",
      "[3350]\ttrain's auc: 0.999999\tvalid's auc: 0.983274\n",
      "[3400]\ttrain's auc: 0.999999\tvalid's auc: 0.983282\n",
      "[3450]\ttrain's auc: 1\tvalid's auc: 0.983294\n",
      "[3500]\ttrain's auc: 1\tvalid's auc: 0.983302\n",
      "[3550]\ttrain's auc: 1\tvalid's auc: 0.983366\n",
      "[3600]\ttrain's auc: 1\tvalid's auc: 0.983454\n",
      "[3650]\ttrain's auc: 1\tvalid's auc: 0.983449\n",
      "[3700]\ttrain's auc: 1\tvalid's auc: 0.983342\n",
      "[3750]\ttrain's auc: 1\tvalid's auc: 0.9834\n",
      "[3800]\ttrain's auc: 1\tvalid's auc: 0.983387\n",
      "Early stopping, best iteration is:\n",
      "[2835]\ttrain's auc: 0.999989\tvalid's auc: 0.983697\n",
      "Ant-Score: 0.5009182148195601\n"
     ]
    },
    {
     "data": {
      "image/png": "[encoded data removed]",
      "text/plain": [
       "<Figure size 432x288 with 1 Axes>"
      ]
     },
     "metadata": {},
     "output_type": "display_data"
    },
    {
     "name": "stdout",
     "output_type": "stream",
     "text": [
      "preparing validation datasets\n",
      "Training until validation scores don't improve for 1000 rounds.\n",
      "[50]\ttrain's auc: 0.988882\tvalid's auc: 0.971304\n",
      "[100]\ttrain's auc: 0.989598\tvalid's auc: 0.974223\n",
      "[150]\ttrain's auc: 0.989653\tvalid's auc: 0.97449\n",
      "[200]\ttrain's auc: 0.98987\tvalid's auc: 0.974038\n",
      "[250]\ttrain's auc: 0.99083\tvalid's auc: 0.973661\n",
      "[300]\ttrain's auc: 0.992207\tvalid's auc: 0.974138\n",
      "[350]\ttrain's auc: 0.993154\tvalid's auc: 0.975354\n",
      "[400]\ttrain's auc: 0.994221\tvalid's auc: 0.977159\n",
      "[450]\ttrain's auc: 0.995249\tvalid's auc: 0.978273\n",
      "[500]\ttrain's auc: 0.995952\tvalid's auc: 0.979156\n",
      "[550]\ttrain's auc: 0.996546\tvalid's auc: 0.979253\n",
      "[600]\ttrain's auc: 0.996817\tvalid's auc: 0.979012\n",
      "[650]\ttrain's auc: 0.997208\tvalid's auc: 0.979336\n",
      "[700]\ttrain's auc: 0.997469\tvalid's auc: 0.979808\n",
      "[750]\ttrain's auc: 0.997699\tvalid's auc: 0.980294\n",
      "[800]\ttrain's auc: 0.99788\tvalid's auc: 0.98081\n",
      "[850]\ttrain's auc: 0.998095\tvalid's auc: 0.980996\n",
      "[900]\ttrain's auc: 0.998275\tvalid's auc: 0.981365\n",
      "[950]\ttrain's auc: 0.99841\tvalid's auc: 0.981511\n",
      "[1000]\ttrain's auc: 0.998569\tvalid's auc: 0.981586\n",
      "[1050]\ttrain's auc: 0.99872\tvalid's auc: 0.98177\n",
      "[1100]\ttrain's auc: 0.998838\tvalid's auc: 0.981858\n",
      "[1150]\ttrain's auc: 0.998909\tvalid's auc: 0.981826\n",
      "[1200]\ttrain's auc: 0.999002\tvalid's auc: 0.982432\n",
      "[1250]\ttrain's auc: 0.999109\tvalid's auc: 0.9826\n",
      "[1300]\ttrain's auc: 0.999168\tvalid's auc: 0.982584\n",
      "[1350]\ttrain's auc: 0.999241\tvalid's auc: 0.982798\n",
      "[1400]\ttrain's auc: 0.999322\tvalid's auc: 0.982724\n",
      "[1450]\ttrain's auc: 0.999373\tvalid's auc: 0.982657\n",
      "[1500]\ttrain's auc: 0.999425\tvalid's auc: 0.982762\n",
      "[1550]\ttrain's auc: 0.999465\tvalid's auc: 0.982881\n",
      "[1600]\ttrain's auc: 0.99953\tvalid's auc: 0.982885\n",
      "[1650]\ttrain's auc: 0.999581\tvalid's auc: 0.983079\n",
      "[1700]\ttrain's auc: 0.999633\tvalid's auc: 0.98303\n",
      "[1750]\ttrain's auc: 0.999669\tvalid's auc: 0.983173\n",
      "[1800]\ttrain's auc: 0.999703\tvalid's auc: 0.983128\n",
      "[1850]\ttrain's auc: 0.999736\tvalid's auc: 0.98318\n",
      "[1900]\ttrain's auc: 0.999763\tvalid's auc: 0.983233\n",
      "[1950]\ttrain's auc: 0.999786\tvalid's auc: 0.983331\n",
      "[2000]\ttrain's auc: 0.999806\tvalid's auc: 0.983251\n",
      "[2050]\ttrain's auc: 0.999835\tvalid's auc: 0.983364\n",
      "[2100]\ttrain's auc: 0.999858\tvalid's auc: 0.983216\n",
      "[2150]\ttrain's auc: 0.999872\tvalid's auc: 0.98343\n",
      "[2200]\ttrain's auc: 0.999891\tvalid's auc: 0.983409\n",
      "[2250]\ttrain's auc: 0.999907\tvalid's auc: 0.983385\n",
      "[2300]\ttrain's auc: 0.999918\tvalid's auc: 0.983397\n",
      "[2350]\ttrain's auc: 0.999929\tvalid's auc: 0.983387\n",
      "[2400]\ttrain's auc: 0.99994\tvalid's auc: 0.983253\n",
      "[2450]\ttrain's auc: 0.999949\tvalid's auc: 0.98313\n",
      "[2500]\ttrain's auc: 0.999957\tvalid's auc: 0.983124\n",
      "[2550]\ttrain's auc: 0.999963\tvalid's auc: 0.983091\n",
      "[2600]\ttrain's auc: 0.999968\tvalid's auc: 0.983198\n",
      "[2650]\ttrain's auc: 0.999973\tvalid's auc: 0.983275\n",
      "[2700]\ttrain's auc: 0.999978\tvalid's auc: 0.983179\n",
      "[2750]\ttrain's auc: 0.999981\tvalid's auc: 0.983111\n",
      "[2800]\ttrain's auc: 0.999984\tvalid's auc: 0.983123\n",
      "[2850]\ttrain's auc: 0.999986\tvalid's auc: 0.983149\n",
      "[2900]\ttrain's auc: 0.999989\tvalid's auc: 0.983135\n",
      "[2950]\ttrain's auc: 0.999991\tvalid's auc: 0.983096\n",
      "[3000]\ttrain's auc: 0.999993\tvalid's auc: 0.983054\n",
      "[3050]\ttrain's auc: 0.999995\tvalid's auc: 0.982969\n",
      "[3100]\ttrain's auc: 0.999996\tvalid's auc: 0.983034\n",
      "[3150]\ttrain's auc: 0.999997\tvalid's auc: 0.983034\n",
      "[3200]\ttrain's auc: 0.999998\tvalid's auc: 0.983097\n",
      "Early stopping, best iteration is:\n",
      "[2238]\ttrain's auc: 0.999902\tvalid's auc: 0.9835\n",
      "Ant-Score: 0.509139440529575\n"
     ]
    },
    {
     "data": {
      "image/png": "[encoded data removed]",
      "text/plain": [
       "<Figure size 432x288 with 1 Axes>"
      ]
     },
     "metadata": {},
     "output_type": "display_data"
    },
    {
     "name": "stdout",
     "output_type": "stream",
     "text": [
      "preparing validation datasets\n",
      "Training until validation scores don't improve for 1000 rounds.\n",
      "[50]\ttrain's auc: 0.988178\tvalid's auc: 0.972666\n",
      "[100]\ttrain's auc: 0.989437\tvalid's auc: 0.975491\n",
      "[150]\ttrain's auc: 0.989543\tvalid's auc: 0.975626\n",
      "[200]\ttrain's auc: 0.989778\tvalid's auc: 0.975709\n",
      "[250]\ttrain's auc: 0.990476\tvalid's auc: 0.974831\n",
      "[300]\ttrain's auc: 0.991768\tvalid's auc: 0.974617\n",
      "[350]\ttrain's auc: 0.99284\tvalid's auc: 0.975278\n",
      "[400]\ttrain's auc: 0.994069\tvalid's auc: 0.977653\n",
      "[450]\ttrain's auc: 0.995171\tvalid's auc: 0.979198\n",
      "[500]\ttrain's auc: 0.996014\tvalid's auc: 0.980376\n",
      "[550]\ttrain's auc: 0.996642\tvalid's auc: 0.980124\n",
      "[600]\ttrain's auc: 0.996937\tvalid's auc: 0.980321\n",
      "[650]\ttrain's auc: 0.997333\tvalid's auc: 0.98103\n",
      "[700]\ttrain's auc: 0.997593\tvalid's auc: 0.980968\n",
      "[750]\ttrain's auc: 0.997851\tvalid's auc: 0.980777\n",
      "[800]\ttrain's auc: 0.998032\tvalid's auc: 0.980921\n",
      "[850]\ttrain's auc: 0.99827\tvalid's auc: 0.981539\n",
      "[900]\ttrain's auc: 0.998466\tvalid's auc: 0.981574\n",
      "[950]\ttrain's auc: 0.998616\tvalid's auc: 0.981663\n",
      "[1000]\ttrain's auc: 0.998755\tvalid's auc: 0.981702\n",
      "[1050]\ttrain's auc: 0.998905\tvalid's auc: 0.98201\n",
      "[1100]\ttrain's auc: 0.999014\tvalid's auc: 0.982075\n",
      "[1150]\ttrain's auc: 0.999086\tvalid's auc: 0.982044\n",
      "[1200]\ttrain's auc: 0.999166\tvalid's auc: 0.981904\n",
      "[1250]\ttrain's auc: 0.999264\tvalid's auc: 0.982092\n",
      "[1300]\ttrain's auc: 0.999324\tvalid's auc: 0.982184\n",
      "[1350]\ttrain's auc: 0.999382\tvalid's auc: 0.982058\n",
      "[1400]\ttrain's auc: 0.999463\tvalid's auc: 0.982204\n",
      "[1450]\ttrain's auc: 0.999508\tvalid's auc: 0.981933\n",
      "[1500]\ttrain's auc: 0.999552\tvalid's auc: 0.982295\n",
      "[1550]\ttrain's auc: 0.999584\tvalid's auc: 0.982405\n",
      "[1600]\ttrain's auc: 0.999644\tvalid's auc: 0.982537\n",
      "[1650]\ttrain's auc: 0.999685\tvalid's auc: 0.982511\n",
      "[1700]\ttrain's auc: 0.999721\tvalid's auc: 0.982827\n",
      "[1750]\ttrain's auc: 0.999753\tvalid's auc: 0.982572\n",
      "[1800]\ttrain's auc: 0.999785\tvalid's auc: 0.982529\n",
      "[1850]\ttrain's auc: 0.999819\tvalid's auc: 0.982503\n",
      "[1900]\ttrain's auc: 0.999846\tvalid's auc: 0.982539\n",
      "[1950]\ttrain's auc: 0.999861\tvalid's auc: 0.982733\n",
      "[2000]\ttrain's auc: 0.999877\tvalid's auc: 0.982577\n",
      "[2050]\ttrain's auc: 0.999893\tvalid's auc: 0.982835\n",
      "[2100]\ttrain's auc: 0.999912\tvalid's auc: 0.982913\n",
      "[2150]\ttrain's auc: 0.999926\tvalid's auc: 0.982924\n",
      "[2200]\ttrain's auc: 0.999938\tvalid's auc: 0.982745\n",
      "[2250]\ttrain's auc: 0.999948\tvalid's auc: 0.982675\n",
      "[2300]\ttrain's auc: 0.999956\tvalid's auc: 0.982385\n",
      "[2350]\ttrain's auc: 0.999964\tvalid's auc: 0.982298\n",
      "[2400]\ttrain's auc: 0.999971\tvalid's auc: 0.982476\n",
      "[2450]\ttrain's auc: 0.999977\tvalid's auc: 0.982509\n",
      "[2500]\ttrain's auc: 0.999981\tvalid's auc: 0.982593\n",
      "[2550]\ttrain's auc: 0.999985\tvalid's auc: 0.982804\n",
      "[2600]\ttrain's auc: 0.999988\tvalid's auc: 0.982832\n",
      "[2650]\ttrain's auc: 0.999991\tvalid's auc: 0.982949\n",
      "[2700]\ttrain's auc: 0.999993\tvalid's auc: 0.983049\n",
      "[2750]\ttrain's auc: 0.999994\tvalid's auc: 0.982998\n",
      "[2800]\ttrain's auc: 0.999995\tvalid's auc: 0.982995\n",
      "[2850]\ttrain's auc: 0.999996\tvalid's auc: 0.982992\n",
      "[2900]\ttrain's auc: 0.999997\tvalid's auc: 0.982811\n",
      "[2950]\ttrain's auc: 0.999998\tvalid's auc: 0.982928\n",
      "[3000]\ttrain's auc: 0.999999\tvalid's auc: 0.982975\n",
      "[3050]\ttrain's auc: 0.999999\tvalid's auc: 0.982928\n",
      "[3100]\ttrain's auc: 0.999999\tvalid's auc: 0.982971\n",
      "[3150]\ttrain's auc: 1\tvalid's auc: 0.98286\n",
      "[3200]\ttrain's auc: 1\tvalid's auc: 0.982949\n",
      "[3250]\ttrain's auc: 1\tvalid's auc: 0.9827\n",
      "[3300]\ttrain's auc: 1\tvalid's auc: 0.982812\n",
      "[3350]\ttrain's auc: 1\tvalid's auc: 0.982823\n",
      "[3400]\ttrain's auc: 1\tvalid's auc: 0.98278\n",
      "[3450]\ttrain's auc: 1\tvalid's auc: 0.982894\n",
      "[3500]\ttrain's auc: 1\tvalid's auc: 0.983008\n",
      "[3550]\ttrain's auc: 1\tvalid's auc: 0.983062\n",
      "[3600]\ttrain's auc: 1\tvalid's auc: 0.982973\n",
      "[3650]\ttrain's auc: 1\tvalid's auc: 0.983019\n",
      "[3700]\ttrain's auc: 1\tvalid's auc: 0.983024\n",
      "[3750]\ttrain's auc: 1\tvalid's auc: 0.98304\n",
      "[3800]\ttrain's auc: 1\tvalid's auc: 0.983034\n",
      "Early stopping, best iteration is:\n",
      "[2823]\ttrain's auc: 0.999996\tvalid's auc: 0.983115\n",
      "Ant-Score: 0.5135383301302584\n"
     ]
    },
    {
     "data": {
      "image/png": "[encoded data removed]",
      "text/plain": [
       "<Figure size 432x288 with 1 Axes>"
      ]
     },
     "metadata": {},
     "output_type": "display_data"
    },
    {
     "name": "stdout",
     "output_type": "stream",
     "text": [
      "preparing validation datasets\n",
      "Training until validation scores don't improve for 1000 rounds.\n",
      "[50]\ttrain's auc: 0.988105\tvalid's auc: 0.974344\n",
      "[100]\ttrain's auc: 0.989008\tvalid's auc: 0.97579\n",
      "[150]\ttrain's auc: 0.989118\tvalid's auc: 0.976281\n",
      "[200]\ttrain's auc: 0.98943\tvalid's auc: 0.975817\n",
      "[250]\ttrain's auc: 0.990024\tvalid's auc: 0.976559\n",
      "[300]\ttrain's auc: 0.991746\tvalid's auc: 0.976974\n",
      "[350]\ttrain's auc: 0.992596\tvalid's auc: 0.977875\n",
      "[400]\ttrain's auc: 0.993847\tvalid's auc: 0.978832\n",
      "[450]\ttrain's auc: 0.994978\tvalid's auc: 0.979989\n",
      "[500]\ttrain's auc: 0.995776\tvalid's auc: 0.980868\n",
      "[550]\ttrain's auc: 0.996423\tvalid's auc: 0.981312\n",
      "[600]\ttrain's auc: 0.996724\tvalid's auc: 0.981156\n",
      "[650]\ttrain's auc: 0.997134\tvalid's auc: 0.981512\n",
      "[700]\ttrain's auc: 0.997394\tvalid's auc: 0.982035\n",
      "[750]\ttrain's auc: 0.997657\tvalid's auc: 0.982307\n",
      "[800]\ttrain's auc: 0.997873\tvalid's auc: 0.9826\n",
      "[850]\ttrain's auc: 0.998114\tvalid's auc: 0.982872\n",
      "[900]\ttrain's auc: 0.998307\tvalid's auc: 0.98292\n",
      "[950]\ttrain's auc: 0.998454\tvalid's auc: 0.983008\n",
      "[1000]\ttrain's auc: 0.998598\tvalid's auc: 0.982891\n",
      "[1050]\ttrain's auc: 0.998764\tvalid's auc: 0.983067\n",
      "[1100]\ttrain's auc: 0.998873\tvalid's auc: 0.9831\n",
      "[1150]\ttrain's auc: 0.998941\tvalid's auc: 0.983075\n",
      "[1200]\ttrain's auc: 0.999016\tvalid's auc: 0.982959\n",
      "[1250]\ttrain's auc: 0.999126\tvalid's auc: 0.982857\n",
      "[1300]\ttrain's auc: 0.999182\tvalid's auc: 0.983086\n",
      "[1350]\ttrain's auc: 0.999253\tvalid's auc: 0.98319\n",
      "[1400]\ttrain's auc: 0.99935\tvalid's auc: 0.983312\n",
      "[1450]\ttrain's auc: 0.99941\tvalid's auc: 0.983274\n",
      "[1500]\ttrain's auc: 0.999465\tvalid's auc: 0.98351\n",
      "[1550]\ttrain's auc: 0.999505\tvalid's auc: 0.983284\n",
      "[1600]\ttrain's auc: 0.999562\tvalid's auc: 0.983301\n",
      "[1650]\ttrain's auc: 0.999613\tvalid's auc: 0.983323\n",
      "[1700]\ttrain's auc: 0.999658\tvalid's auc: 0.983164\n",
      "[1750]\ttrain's auc: 0.999695\tvalid's auc: 0.983287\n",
      "[1800]\ttrain's auc: 0.999731\tvalid's auc: 0.983219\n",
      "[1850]\ttrain's auc: 0.999765\tvalid's auc: 0.98347\n",
      "[1900]\ttrain's auc: 0.999788\tvalid's auc: 0.983469\n",
      "[1950]\ttrain's auc: 0.999814\tvalid's auc: 0.983466\n",
      "[2000]\ttrain's auc: 0.999834\tvalid's auc: 0.983403\n",
      "[2050]\ttrain's auc: 0.999853\tvalid's auc: 0.983438\n",
      "[2100]\ttrain's auc: 0.999872\tvalid's auc: 0.983374\n",
      "[2150]\ttrain's auc: 0.999884\tvalid's auc: 0.983246\n",
      "[2200]\ttrain's auc: 0.999902\tvalid's auc: 0.983253\n",
      "[2250]\ttrain's auc: 0.999916\tvalid's auc: 0.983304\n",
      "[2300]\ttrain's auc: 0.99993\tvalid's auc: 0.983264\n",
      "[2350]\ttrain's auc: 0.999945\tvalid's auc: 0.983294\n",
      "[2400]\ttrain's auc: 0.999954\tvalid's auc: 0.983347\n",
      "[2450]\ttrain's auc: 0.999962\tvalid's auc: 0.983588\n",
      "[2500]\ttrain's auc: 0.999968\tvalid's auc: 0.983368\n",
      "[2550]\ttrain's auc: 0.999973\tvalid's auc: 0.983505\n",
      "[2600]\ttrain's auc: 0.999978\tvalid's auc: 0.983437\n",
      "[2650]\ttrain's auc: 0.999981\tvalid's auc: 0.983415\n",
      "[2700]\ttrain's auc: 0.999984\tvalid's auc: 0.983409\n",
      "[2750]\ttrain's auc: 0.999986\tvalid's auc: 0.983594\n",
      "[2800]\ttrain's auc: 0.999989\tvalid's auc: 0.9835\n",
      "[2850]\ttrain's auc: 0.99999\tvalid's auc: 0.983544\n",
      "[2900]\ttrain's auc: 0.999993\tvalid's auc: 0.983381\n",
      "[2950]\ttrain's auc: 0.999994\tvalid's auc: 0.983383\n",
      "[3000]\ttrain's auc: 0.999996\tvalid's auc: 0.983419\n",
      "[3050]\ttrain's auc: 0.999997\tvalid's auc: 0.983199\n",
      "[3100]\ttrain's auc: 0.999998\tvalid's auc: 0.983294\n",
      "[3150]\ttrain's auc: 0.999998\tvalid's auc: 0.98329\n",
      "[3200]\ttrain's auc: 0.999999\tvalid's auc: 0.983364\n",
      "[3250]\ttrain's auc: 0.999999\tvalid's auc: 0.983498\n",
      "[3300]\ttrain's auc: 0.999999\tvalid's auc: 0.983451\n",
      "[3350]\ttrain's auc: 0.999999\tvalid's auc: 0.983403\n",
      "[3400]\ttrain's auc: 1\tvalid's auc: 0.983361\n",
      "[3450]\ttrain's auc: 1\tvalid's auc: 0.983341\n",
      "[3500]\ttrain's auc: 1\tvalid's auc: 0.983381\n",
      "[3550]\ttrain's auc: 1\tvalid's auc: 0.983423\n",
      "[3600]\ttrain's auc: 1\tvalid's auc: 0.983358\n",
      "[3650]\ttrain's auc: 1\tvalid's auc: 0.983243\n",
      "[3700]\ttrain's auc: 1\tvalid's auc: 0.983289\n",
      "[3750]\ttrain's auc: 1\tvalid's auc: 0.983247\n",
      "Early stopping, best iteration is:\n",
      "[2762]\ttrain's auc: 0.999987\tvalid's auc: 0.983629\n",
      "Ant-Score: 0.4944266495836003\n"
     ]
    },
    {
     "data": {
      "image/png": "[encoded data removed]",
      "text/plain": [
       "<Figure size 432x288 with 1 Axes>"
      ]
     },
     "metadata": {},
     "output_type": "display_data"
    },
    {
     "name": "stdout",
     "output_type": "stream",
     "text": [
      "preparing validation datasets\n",
      "Training until validation scores don't improve for 1000 rounds.\n",
      "[50]\ttrain's auc: 0.988811\tvalid's auc: 0.971958\n",
      "[100]\ttrain's auc: 0.989374\tvalid's auc: 0.973693\n",
      "[150]\ttrain's auc: 0.989378\tvalid's auc: 0.974244\n",
      "[200]\ttrain's auc: 0.989729\tvalid's auc: 0.974142\n",
      "[250]\ttrain's auc: 0.990331\tvalid's auc: 0.973284\n",
      "[300]\ttrain's auc: 0.991719\tvalid's auc: 0.973962\n",
      "[350]\ttrain's auc: 0.992728\tvalid's auc: 0.975157\n",
      "[400]\ttrain's auc: 0.993857\tvalid's auc: 0.97694\n",
      "[450]\ttrain's auc: 0.995051\tvalid's auc: 0.978657\n",
      "[500]\ttrain's auc: 0.995844\tvalid's auc: 0.979462\n",
      "[550]\ttrain's auc: 0.99644\tvalid's auc: 0.980161\n",
      "[600]\ttrain's auc: 0.996724\tvalid's auc: 0.979979\n",
      "[650]\ttrain's auc: 0.997113\tvalid's auc: 0.980396\n",
      "[700]\ttrain's auc: 0.997392\tvalid's auc: 0.980633\n",
      "[750]\ttrain's auc: 0.997655\tvalid's auc: 0.981327\n",
      "[800]\ttrain's auc: 0.99785\tvalid's auc: 0.981025\n",
      "[850]\ttrain's auc: 0.998057\tvalid's auc: 0.98095\n",
      "[900]\ttrain's auc: 0.998267\tvalid's auc: 0.981099\n",
      "[950]\ttrain's auc: 0.998405\tvalid's auc: 0.981464\n",
      "[1000]\ttrain's auc: 0.998554\tvalid's auc: 0.981657\n",
      "[1050]\ttrain's auc: 0.998699\tvalid's auc: 0.98198\n",
      "[1100]\ttrain's auc: 0.998824\tvalid's auc: 0.981951\n",
      "[1150]\ttrain's auc: 0.998901\tvalid's auc: 0.98185\n",
      "[1200]\ttrain's auc: 0.99898\tvalid's auc: 0.981804\n",
      "[1250]\ttrain's auc: 0.999095\tvalid's auc: 0.982176\n",
      "[1300]\ttrain's auc: 0.999157\tvalid's auc: 0.982317\n",
      "[1350]\ttrain's auc: 0.999222\tvalid's auc: 0.982388\n",
      "[1400]\ttrain's auc: 0.999324\tvalid's auc: 0.982484\n",
      "[1450]\ttrain's auc: 0.999381\tvalid's auc: 0.982471\n",
      "[1500]\ttrain's auc: 0.999435\tvalid's auc: 0.982833\n",
      "[1550]\ttrain's auc: 0.999474\tvalid's auc: 0.982616\n",
      "[1600]\ttrain's auc: 0.999526\tvalid's auc: 0.98267\n",
      "[1650]\ttrain's auc: 0.999574\tvalid's auc: 0.982648\n",
      "[1700]\ttrain's auc: 0.999627\tvalid's auc: 0.982415\n",
      "[1750]\ttrain's auc: 0.999668\tvalid's auc: 0.98231\n",
      "[1800]\ttrain's auc: 0.99971\tvalid's auc: 0.982436\n",
      "[1850]\ttrain's auc: 0.999742\tvalid's auc: 0.982544\n",
      "[1900]\ttrain's auc: 0.999768\tvalid's auc: 0.982491\n",
      "[1950]\ttrain's auc: 0.999792\tvalid's auc: 0.98265\n",
      "[2000]\ttrain's auc: 0.999807\tvalid's auc: 0.982978\n",
      "[2050]\ttrain's auc: 0.999827\tvalid's auc: 0.98303\n",
      "[2100]\ttrain's auc: 0.99985\tvalid's auc: 0.982949\n",
      "[2150]\ttrain's auc: 0.999864\tvalid's auc: 0.98306\n",
      "[2200]\ttrain's auc: 0.999884\tvalid's auc: 0.982881\n",
      "[2250]\ttrain's auc: 0.999897\tvalid's auc: 0.98297\n",
      "[2300]\ttrain's auc: 0.999909\tvalid's auc: 0.982846\n",
      "[2350]\ttrain's auc: 0.999924\tvalid's auc: 0.982958\n",
      "[2400]\ttrain's auc: 0.999939\tvalid's auc: 0.983087\n",
      "[2450]\ttrain's auc: 0.999947\tvalid's auc: 0.983047\n",
      "[2500]\ttrain's auc: 0.999954\tvalid's auc: 0.983058\n",
      "[2550]\ttrain's auc: 0.99996\tvalid's auc: 0.983109\n",
      "[2600]\ttrain's auc: 0.999965\tvalid's auc: 0.983252\n",
      "[2650]\ttrain's auc: 0.999969\tvalid's auc: 0.983175\n",
      "[2700]\ttrain's auc: 0.999975\tvalid's auc: 0.983121\n",
      "[2750]\ttrain's auc: 0.999979\tvalid's auc: 0.983182\n",
      "[2800]\ttrain's auc: 0.999981\tvalid's auc: 0.98315\n",
      "[2850]\ttrain's auc: 0.999983\tvalid's auc: 0.983193\n",
      "[2900]\ttrain's auc: 0.999987\tvalid's auc: 0.983117\n",
      "[2950]\ttrain's auc: 0.999989\tvalid's auc: 0.983048\n",
      "[3000]\ttrain's auc: 0.999991\tvalid's auc: 0.983099\n",
      "[3050]\ttrain's auc: 0.999993\tvalid's auc: 0.98318\n",
      "[3100]\ttrain's auc: 0.999995\tvalid's auc: 0.983376\n",
      "[3150]\ttrain's auc: 0.999996\tvalid's auc: 0.983457\n",
      "[3200]\ttrain's auc: 0.999997\tvalid's auc: 0.983319\n",
      "[3250]\ttrain's auc: 0.999997\tvalid's auc: 0.983278\n",
      "[3300]\ttrain's auc: 0.999998\tvalid's auc: 0.983177\n",
      "[3350]\ttrain's auc: 0.999998\tvalid's auc: 0.982955\n",
      "[3400]\ttrain's auc: 0.999999\tvalid's auc: 0.98302\n",
      "[3450]\ttrain's auc: 0.999999\tvalid's auc: 0.982976\n",
      "[3500]\ttrain's auc: 0.999999\tvalid's auc: 0.982952\n",
      "[3550]\ttrain's auc: 1\tvalid's auc: 0.982986\n",
      "[3600]\ttrain's auc: 1\tvalid's auc: 0.983001\n",
      "[3650]\ttrain's auc: 1\tvalid's auc: 0.982944\n",
      "[3700]\ttrain's auc: 1\tvalid's auc: 0.982915\n",
      "[3750]\ttrain's auc: 1\tvalid's auc: 0.982964\n",
      "[3800]\ttrain's auc: 1\tvalid's auc: 0.983053\n",
      "[3850]\ttrain's auc: 1\tvalid's auc: 0.983107\n",
      "[3900]\ttrain's auc: 1\tvalid's auc: 0.983184\n",
      "[3950]\ttrain's auc: 1\tvalid's auc: 0.98312\n",
      "[4000]\ttrain's auc: 1\tvalid's auc: 0.983116\n",
      "[4050]\ttrain's auc: 1\tvalid's auc: 0.983174\n",
      "[4100]\ttrain's auc: 1\tvalid's auc: 0.983123\n",
      "Early stopping, best iteration is:\n",
      "[3149]\ttrain's auc: 0.999996\tvalid's auc: 0.983477\n",
      "Ant-Score: 0.4938928037582746\n"
     ]
    },
    {
     "data": {
      "image/png": "[encoded data removed]",
      "text/plain": [
       "<Figure size 432x288 with 1 Axes>"
      ]
     },
     "metadata": {},
     "output_type": "display_data"
    }
   ],
   "source": [
    "pos_model_list  =[]\n",
    "neg_model_list  =[]\n",
    "score_posA = []\n",
    "score_negA = []\n",
    "\n",
    "for idx in range(0,5):\n",
    "    Train_DataSet = train_df[train_df.index.isin(list(all_list - DateFold[idx]))].reset_index(drop=True)\n",
    "    Val_DataSet = train_df[train_df.index.isin(DateFold[5])].reset_index(drop=True)\n",
    "    #model_pos,score_pos = model_validation(Train_DataSet,Val_DataSet,predictors,'Normal',{})\n",
    "    #pos_model_list.append(model_pos)\n",
    "    #score_posA.append(score_pos)   \n",
    "    model_neg,score_neg = model_validation(Train_DataSet,Val_DataSet,predictors,'Fraud',{})    \n",
    "    neg_model_list.append(model_neg)    \n",
    "    score_negA.append(score_neg)\n",
    "    "
   ]
  },
  {
   "cell_type": "code",
   "execution_count": 13,
   "metadata": {},
   "outputs": [
    {
     "data": {
      "text/plain": [
       "['./score_neg.dat']"
      ]
     },
     "execution_count": 13,
     "metadata": {},
     "output_type": "execute_result"
    }
   ],
   "source": [
    "import joblib\n",
    "#joblib.dump(pos_model_list,'./pos_model_list.dat')\n",
    "#joblib.dump(score_posA,'./score_pos.dat')\n",
    "joblib.dump(neg_model_list,'./neg_model_list.dat')\n",
    "joblib.dump(score_negA,'./score_neg.dat')"
   ]
  },
  {
   "cell_type": "code",
   "execution_count": 17,
   "metadata": {},
   "outputs": [
    {
     "name": "stderr",
     "output_type": "stream",
     "text": [
      "100%|██████████| 5/5 [01:45<00:00, 21.16s/it]\n"
     ]
    }
   ],
   "source": [
    "val_df = train_df[train_df.index.isin(DateFold[5])].reset_index(drop=True)\n",
    "\n",
    "val_r_pos=pd.DataFrame()\n",
    "val_r_neg=pd.DataFrame()\n",
    "\n",
    "for idx in tqdm(range(0,len(neg_model_list))):\n",
    "    #model_pos = pos_model_list[idx]\n",
    "    model_neg = neg_model_list[idx]\n",
    "    #val_pos = model_pos.predict(val_df[predictors],num_iteration=model_pos.best_iteration)\n",
    "    val_neg = model_neg.predict(val_df[predictors],num_iteration=model_neg.best_iteration)\n",
    "    #val_r_pos[idx] = 1 - val_pos\n",
    "    val_r_neg[idx] = val_neg"
   ]
  },
  {
   "cell_type": "code",
   "execution_count": 18,
   "metadata": {},
   "outputs": [],
   "source": [
    "#pos_mean = val_r_pos.mean(axis=1)\n",
    "neg_mean = val_r_neg.mean(axis=1)"
   ]
  },
  {
   "cell_type": "code",
   "execution_count": 19,
   "metadata": {},
   "outputs": [
    {
     "name": "stdout",
     "output_type": "stream",
     "text": [
      "Ant-Score: 0.516549220585095\n"
     ]
    },
    {
     "data": {
      "image/png": "[encoded data removed]",
      "text/plain": [
       "<Figure size 432x288 with 1 Axes>"
      ]
     },
     "metadata": {},
     "output_type": "display_data"
    }
   ],
   "source": [
    "_,_,_ = atecml.data.accuracy_validation(val_df['Fraud'],neg_mean)"
   ]
  },
  {
   "cell_type": "code",
   "execution_count": 20,
   "metadata": {},
   "outputs": [],
   "source": [
    "from sklearn.ensemble import VotingClassifier"
   ]
  },
  {
   "cell_type": "code",
   "execution_count": 21,
   "metadata": {},
   "outputs": [],
   "source": [
    "voting_clf=VotingClassifier(estimators=[('a1',neg_model_list[0]),('rf',neg_model_list[1]),('svc',neg_model_list[2])],voting='soft')\n"
   ]
  },
  {
   "cell_type": "code",
   "execution_count": 25,
   "metadata": {},
   "outputs": [
    {
     "ename": "TypeError",
     "evalue": "Cannot clone object '<lightgbm.basic.Booster object at 0x7f429577b0b8>' (type <class 'lightgbm.basic.Booster'>): it does not seem to be a scikit-learn estimator as it does not implement a 'get_params' methods.",
     "output_type": "error",
     "traceback": [
      "\u001b[0;31m---------------------------------------------------------------------------\u001b[0m",
      "\u001b[0;31mTypeError\u001b[0m                                 Traceback (most recent call last)",
      "\u001b[0;32m<ipython-input-25-fa000d9e29a5>\u001b[0m in \u001b[0;36m<module>\u001b[0;34m()\u001b[0m\n\u001b[0;32m----> 1\u001b[0;31m \u001b[0mvoting_clf\u001b[0m\u001b[0;34m.\u001b[0m\u001b[0mfit\u001b[0m\u001b[0;34m(\u001b[0m\u001b[0mval_df\u001b[0m\u001b[0;34m[\u001b[0m\u001b[0mpredictors\u001b[0m\u001b[0;34m]\u001b[0m\u001b[0;34m,\u001b[0m\u001b[0mval_df\u001b[0m\u001b[0;34m[\u001b[0m\u001b[0;34m'Fraud'\u001b[0m\u001b[0;34m]\u001b[0m\u001b[0;34m)\u001b[0m\u001b[0;34m\u001b[0m\u001b[0m\n\u001b[0m",
      "\u001b[0;32m/usr/local/lib/python3.5/dist-packages/sklearn/ensemble/voting_classifier.py\u001b[0m in \u001b[0;36mfit\u001b[0;34m(self, X, y, sample_weight)\u001b[0m\n\u001b[1;32m    187\u001b[0m                 delayed(_parallel_fit_estimator)(clone(clf), X, transformed_y,\n\u001b[1;32m    188\u001b[0m                                                  sample_weight=sample_weight)\n\u001b[0;32m--> 189\u001b[0;31m                 for clf in clfs if clf is not None)\n\u001b[0m\u001b[1;32m    190\u001b[0m \u001b[0;34m\u001b[0m\u001b[0m\n\u001b[1;32m    191\u001b[0m         \u001b[0;32mreturn\u001b[0m \u001b[0mself\u001b[0m\u001b[0;34m\u001b[0m\u001b[0m\n",
      "\u001b[0;32m/usr/local/lib/python3.5/dist-packages/sklearn/externals/joblib/parallel.py\u001b[0m in \u001b[0;36m__call__\u001b[0;34m(self, iterable)\u001b[0m\n\u001b[1;32m    777\u001b[0m             \u001b[0;31m# was dispatched. In particular this covers the edge\u001b[0m\u001b[0;34m\u001b[0m\u001b[0;34m\u001b[0m\u001b[0m\n\u001b[1;32m    778\u001b[0m             \u001b[0;31m# case of Parallel used with an exhausted iterator.\u001b[0m\u001b[0;34m\u001b[0m\u001b[0;34m\u001b[0m\u001b[0m\n\u001b[0;32m--> 779\u001b[0;31m             \u001b[0;32mwhile\u001b[0m \u001b[0mself\u001b[0m\u001b[0;34m.\u001b[0m\u001b[0mdispatch_one_batch\u001b[0m\u001b[0;34m(\u001b[0m\u001b[0miterator\u001b[0m\u001b[0;34m)\u001b[0m\u001b[0;34m:\u001b[0m\u001b[0;34m\u001b[0m\u001b[0m\n\u001b[0m\u001b[1;32m    780\u001b[0m                 \u001b[0mself\u001b[0m\u001b[0;34m.\u001b[0m\u001b[0m_iterating\u001b[0m \u001b[0;34m=\u001b[0m \u001b[0;32mTrue\u001b[0m\u001b[0;34m\u001b[0m\u001b[0m\n\u001b[1;32m    781\u001b[0m             \u001b[0;32melse\u001b[0m\u001b[0;34m:\u001b[0m\u001b[0;34m\u001b[0m\u001b[0m\n",
      "\u001b[0;32m/usr/local/lib/python3.5/dist-packages/sklearn/externals/joblib/parallel.py\u001b[0m in \u001b[0;36mdispatch_one_batch\u001b[0;34m(self, iterator)\u001b[0m\n\u001b[1;32m    618\u001b[0m \u001b[0;34m\u001b[0m\u001b[0m\n\u001b[1;32m    619\u001b[0m         \u001b[0;32mwith\u001b[0m \u001b[0mself\u001b[0m\u001b[0;34m.\u001b[0m\u001b[0m_lock\u001b[0m\u001b[0;34m:\u001b[0m\u001b[0;34m\u001b[0m\u001b[0m\n\u001b[0;32m--> 620\u001b[0;31m             \u001b[0mtasks\u001b[0m \u001b[0;34m=\u001b[0m \u001b[0mBatchedCalls\u001b[0m\u001b[0;34m(\u001b[0m\u001b[0mitertools\u001b[0m\u001b[0;34m.\u001b[0m\u001b[0mislice\u001b[0m\u001b[0;34m(\u001b[0m\u001b[0miterator\u001b[0m\u001b[0;34m,\u001b[0m \u001b[0mbatch_size\u001b[0m\u001b[0;34m)\u001b[0m\u001b[0;34m)\u001b[0m\u001b[0;34m\u001b[0m\u001b[0m\n\u001b[0m\u001b[1;32m    621\u001b[0m             \u001b[0;32mif\u001b[0m \u001b[0mlen\u001b[0m\u001b[0;34m(\u001b[0m\u001b[0mtasks\u001b[0m\u001b[0;34m)\u001b[0m \u001b[0;34m==\u001b[0m \u001b[0;36m0\u001b[0m\u001b[0;34m:\u001b[0m\u001b[0;34m\u001b[0m\u001b[0m\n\u001b[1;32m    622\u001b[0m                 \u001b[0;31m# No more tasks available in the iterator: tell caller to stop.\u001b[0m\u001b[0;34m\u001b[0m\u001b[0;34m\u001b[0m\u001b[0m\n",
      "\u001b[0;32m/usr/local/lib/python3.5/dist-packages/sklearn/externals/joblib/parallel.py\u001b[0m in \u001b[0;36m__init__\u001b[0;34m(self, iterator_slice)\u001b[0m\n\u001b[1;32m    125\u001b[0m \u001b[0;34m\u001b[0m\u001b[0m\n\u001b[1;32m    126\u001b[0m     \u001b[0;32mdef\u001b[0m \u001b[0m__init__\u001b[0m\u001b[0;34m(\u001b[0m\u001b[0mself\u001b[0m\u001b[0;34m,\u001b[0m \u001b[0miterator_slice\u001b[0m\u001b[0;34m)\u001b[0m\u001b[0;34m:\u001b[0m\u001b[0;34m\u001b[0m\u001b[0m\n\u001b[0;32m--> 127\u001b[0;31m         \u001b[0mself\u001b[0m\u001b[0;34m.\u001b[0m\u001b[0mitems\u001b[0m \u001b[0;34m=\u001b[0m \u001b[0mlist\u001b[0m\u001b[0;34m(\u001b[0m\u001b[0miterator_slice\u001b[0m\u001b[0;34m)\u001b[0m\u001b[0;34m\u001b[0m\u001b[0m\n\u001b[0m\u001b[1;32m    128\u001b[0m         \u001b[0mself\u001b[0m\u001b[0;34m.\u001b[0m\u001b[0m_size\u001b[0m \u001b[0;34m=\u001b[0m \u001b[0mlen\u001b[0m\u001b[0;34m(\u001b[0m\u001b[0mself\u001b[0m\u001b[0;34m.\u001b[0m\u001b[0mitems\u001b[0m\u001b[0;34m)\u001b[0m\u001b[0;34m\u001b[0m\u001b[0m\n\u001b[1;32m    129\u001b[0m \u001b[0;34m\u001b[0m\u001b[0m\n",
      "\u001b[0;32m/usr/local/lib/python3.5/dist-packages/sklearn/ensemble/voting_classifier.py\u001b[0m in \u001b[0;36m<genexpr>\u001b[0;34m(.0)\u001b[0m\n\u001b[1;32m    187\u001b[0m                 delayed(_parallel_fit_estimator)(clone(clf), X, transformed_y,\n\u001b[1;32m    188\u001b[0m                                                  sample_weight=sample_weight)\n\u001b[0;32m--> 189\u001b[0;31m                 for clf in clfs if clf is not None)\n\u001b[0m\u001b[1;32m    190\u001b[0m \u001b[0;34m\u001b[0m\u001b[0m\n\u001b[1;32m    191\u001b[0m         \u001b[0;32mreturn\u001b[0m \u001b[0mself\u001b[0m\u001b[0;34m\u001b[0m\u001b[0m\n",
      "\u001b[0;32m/usr/local/lib/python3.5/dist-packages/sklearn/base.py\u001b[0m in \u001b[0;36mclone\u001b[0;34m(estimator, safe)\u001b[0m\n\u001b[1;32m     56\u001b[0m                             \u001b[0;34m\"it does not seem to be a scikit-learn estimator \"\u001b[0m\u001b[0;34m\u001b[0m\u001b[0m\n\u001b[1;32m     57\u001b[0m                             \u001b[0;34m\"as it does not implement a 'get_params' methods.\"\u001b[0m\u001b[0;34m\u001b[0m\u001b[0m\n\u001b[0;32m---> 58\u001b[0;31m                             % (repr(estimator), type(estimator)))\n\u001b[0m\u001b[1;32m     59\u001b[0m     \u001b[0mklass\u001b[0m \u001b[0;34m=\u001b[0m \u001b[0mestimator\u001b[0m\u001b[0;34m.\u001b[0m\u001b[0m__class__\u001b[0m\u001b[0;34m\u001b[0m\u001b[0m\n\u001b[1;32m     60\u001b[0m     \u001b[0mnew_object_params\u001b[0m \u001b[0;34m=\u001b[0m \u001b[0mestimator\u001b[0m\u001b[0;34m.\u001b[0m\u001b[0mget_params\u001b[0m\u001b[0;34m(\u001b[0m\u001b[0mdeep\u001b[0m\u001b[0;34m=\u001b[0m\u001b[0;32mFalse\u001b[0m\u001b[0;34m)\u001b[0m\u001b[0;34m\u001b[0m\u001b[0m\n",
      "\u001b[0;31mTypeError\u001b[0m: Cannot clone object '<lightgbm.basic.Booster object at 0x7f429577b0b8>' (type <class 'lightgbm.basic.Booster'>): it does not seem to be a scikit-learn estimator as it does not implement a 'get_params' methods."
     ]
    }
   ],
   "source": [
    "voting_clf.fit(val_df[predictors],val_df['Fraud'])"
   ]
  },
  {
   "cell_type": "code",
   "execution_count": 26,
   "metadata": {},
   "outputs": [],
   "source": [
    "foo = neg_model_list[1]"
   ]
  },
  {
   "cell_type": "code",
   "execution_count": 30,
   "metadata": {},
   "outputs": [
    {
     "data": {
      "text/plain": [
       "array([ 588,  523,  739, 1664,  632, 1595, 3183,  763,  795,  694, 1141,\n",
       "        752,  593, 1636, 2249,  536, 1290, 1753, 1773,  237,  405,  230,\n",
       "        307,  567,  814,  757,  749,  349,  384, 1078, 1126,  515,  538,\n",
       "        457,  459,    5,   11,   19,   13,    1,   18,   19,   34,    9,\n",
       "         22,   41,   34,  549,  445,  549,  390, 1024,  996,  809,  501,\n",
       "        366,  450,  621,   61,  184,   26,  265,  318,  169,  185,  200,\n",
       "        102,  132,  136,  105,  133,  184,  285,  215,  202,  299,  281,\n",
       "        228,  224,  623, 1100, 1862,  707,  939,  999,  979,    7,    3,\n",
       "         33,   63,  238,   91,   83,   65,  116,  168,  124,   73,  285,\n",
       "        376,  978,  317,  386,  470,  633, 1396,  158,  192,  182,  451,\n",
       "         56,   65,  175,   96,   61,   70,   80,   68,   71,  124,   90,\n",
       "         66,   61,  113,  128,   88,  151,  118,   64,  125,  131,  138,\n",
       "        117,  216,   69,   52,   82,  109,  103,   78,   79,  132,  116,\n",
       "        157,  152,  125,  102,  201,   83,   72,  179,   68,   53,  149,\n",
       "          4,    4,   85,    3,   30,   91,  597,  643,  667,  658,  499,\n",
       "        157,  221,  154,    8,    5,   15,   26,   43,   12,  132,   92,\n",
       "        210,  414,   38,   57,   43,   21,   29,  511,  491,  165,  133,\n",
       "          7,  133,   20,   12,  225,  170,  103,    1,  130,   11,    8,\n",
       "        145,  124,   27,   24,    9,  921,  560,  478,  689,  617,  829,\n",
       "       2035,  587,  653,  527,  666, 1880, 1278, 1162, 1720,  579,  616,\n",
       "        575,  738,  666,  731,  608,  650,  542,  505,  703,  705,  788,\n",
       "        906,  795, 2149, 1497, 1343, 1616, 2159,  768,  743,  909, 1112,\n",
       "       1782, 1768, 1817, 1651, 1793, 2377,  726,  768,  657,  815, 2103,\n",
       "        145,  158,    8,   34,    8,  530,  350,  537,  953,  960,  342,\n",
       "        504,  722,    8,   90,    6,  412,  267,  102,    8,    6,   11,\n",
       "         19,   57,  391,  333,  148,  279,  246,  274,  231,  223,  217,\n",
       "        225,  100,  187,  301,  388,  190,  171,  138,  118,  213,  229,\n",
       "          0,    0,    8,    0,    3,   94,    0,    1,   16,    6,    0,\n",
       "         57,    0,   53,   34,  148,    0,    2,   27,    2,    7,    0,\n",
       "          0,    7,    0,    0,  109,    0,   41,    5,    0,   43,   28,\n",
       "          0,    6,   26,    0,    0,    2,   89,    3,    5,    9,    0,\n",
       "          0,    0,    0,    4,    0,  124,    0,    3,    0,    0,    0,\n",
       "         11,  164,    4,    0,    0,   10,    7,   82,   32,    6,   11,\n",
       "          0,    2,   22,   12,    0,  125,   26,   27,    3,    9,   59,\n",
       "          0,    1,    1,   43,   59,    0,   18,    0,    1,    0,    3,\n",
       "          3,    0,    0,    0,    0,   14,   10,    9,    0,    9,    3,\n",
       "          2,    0,    5,    0,  150,   10,    4,  196,    0,    0,   12,\n",
       "          3,   93,    8,   12,    0,    0,    8,   12,   56,   33,    0,\n",
       "          3,   36,    1,    0,    2,    0,   83,  113,   67,    1,    0,\n",
       "          7,    0,   45,    4,    2,   25,   19,    9,    3,   12,   16,\n",
       "          0,    0,   14,    2,    6,    0,    8,    6,    0,   14,   12,\n",
       "          1,  159,   11,    0,    1,    0,    1,   40,    0,   14,   12,\n",
       "          3,   13,    0,    1,    5,   96,    4,    0,    5,    5,   45,\n",
       "         11, 4736])"
      ]
     },
     "execution_count": 30,
     "metadata": {},
     "output_type": "execute_result"
    }
   ],
   "source": [
    "foo.feature_importance()"
   ]
  },
  {
   "cell_type": "code",
   "execution_count": null,
   "metadata": {},
   "outputs": [],
   "source": [
    "test_df = pd.read_pickle('./01_test.dat')"
   ]
  },
  {
   "cell_type": "code",
   "execution_count": null,
   "metadata": {},
   "outputs": [],
   "source": [
    "test_r_pos=pd.DataFrame()\n",
    "test_r_neg=pd.DataFrame()\n",
    "\n",
    "for idx in tqdm(range(0,len(pos_model_list))):\n",
    "    #model_pos = pos_model_list[idx]\n",
    "    model_neg = neg_model_list[idx]\n",
    "    #test_pos = model_pos.predict(test_df[predictors],num_iteration=model_pos.best_iteration)\n",
    "    test_neg = model_neg.predict(test_df[predictors],num_iteration=model_neg.best_iteration)\n",
    "    #test_r_pos[idx] = 1 - test_pos\n",
    "    test_r_neg[idx] = test_neg"
   ]
  },
  {
   "cell_type": "code",
   "execution_count": null,
   "metadata": {},
   "outputs": [],
   "source": [
    "neg_mean = test_r_neg.mean(axis=1)"
   ]
  },
  {
   "cell_type": "code",
   "execution_count": null,
   "metadata": {},
   "outputs": [],
   "source": [
    "result=pd.DataFrame()\n",
    "result['id'] = test_df['id']\n",
    "result['score'] = neg_mean"
   ]
  },
  {
   "cell_type": "code",
   "execution_count": null,
   "metadata": {},
   "outputs": [],
   "source": [
    "result[['id','score']].to_csv('./submit_2018_07_05_01.csv',index=False)"
   ]
  },
  {
   "cell_type": "code",
   "execution_count": null,
   "metadata": {},
   "outputs": [],
   "source": [
    "result"
   ]
  },
  {
   "cell_type": "code",
   "execution_count": null,
   "metadata": {},
   "outputs": [],
   "source": []
  }
 ],
 "metadata": {
  "kernelspec": {
   "display_name": "Python 3",
   "language": "python",
   "name": "python3"
  },
  "language_info": {
   "codemirror_mode": {
    "name": "ipython",
    "version": 3
   },
   "file_extension": ".py",
   "mimetype": "text/x-python",
   "name": "python",
   "nbconvert_exporter": "python",
   "pygments_lexer": "ipython3",
   "version": "3.5.2"
  }
 },
 "nbformat": 4,
 "nbformat_minor": 2
}

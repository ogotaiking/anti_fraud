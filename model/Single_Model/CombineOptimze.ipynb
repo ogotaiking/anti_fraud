{
 "cells": [
  {
   "cell_type": "code",
   "execution_count": 1,
   "metadata": {},
   "outputs": [
    {
     "data": {
      "text/html": [
       "<style>.container { width:100% !important; }</style>"
      ],
      "text/plain": [
       "<IPython.core.display.HTML object>"
      ]
     },
     "metadata": {},
     "output_type": "display_data"
    }
   ],
   "source": [
    "from IPython.core.display import display, HTML\n",
    "display(HTML(\"<style>.container { width:100% !important; }</style>\"))\n",
    "%matplotlib inline\n",
    "import matplotlib\n",
    "import matplotlib.pyplot as plt\n",
    "import matplotlib.gridspec as gridspec\n",
    "import seaborn as sns\n",
    "import os\n",
    "\n",
    "import numpy as np\n",
    "import pandas as pd\n",
    "import atecml.data\n",
    "from tqdm import tqdm"
   ]
  },
  {
   "cell_type": "code",
   "execution_count": 2,
   "metadata": {},
   "outputs": [],
   "source": [
    "#训练集为第一步build的纬度提升矩阵，并过滤掉unknown标签\n",
    "train_df = pd.read_pickle('./01_train.dat')\n",
    "val_df =  pd.read_pickle('./01_test.dat')\n",
    "\n",
    "#train_df = atecml.data.load_train()\n",
    "#val_df = atecml.data.load_test()\n",
    "train_df.loc[train_df.label == 0, 'Fraud'] = 0\n",
    "train_df.loc[train_df.label != 0, 'Fraud'] = 1\n"
   ]
  },
  {
   "cell_type": "code",
   "execution_count": 3,
   "metadata": {},
   "outputs": [
    {
     "data": {
      "text/plain": [
       "(634284, 360447)"
      ]
     },
     "execution_count": 3,
     "metadata": {},
     "output_type": "execute_result"
    }
   ],
   "source": [
    "import joblib\n",
    "#predictors =joblib.load('./woe_feature.dat')\n",
    "predictors = [x for x in train_df.columns if x not in atecml.data.NOT_FEATURE_COLUMNS]\n",
    "\n",
    "\n",
    "target = 'Fraud'\n",
    "DateFold={}\n",
    "\n",
    "DateFold[0] = set(atecml.data.filter_date(train_df,start_date='2017-09-05',end_date='2017-09-12').index)\n",
    "DateFold[1] = set(atecml.data.filter_date(train_df,start_date='2017-09-13',end_date='2017-09-20').index)\n",
    "DateFold[2] = set(atecml.data.filter_date(train_df,start_date='2017-09-21',end_date='2017-09-28').index)\n",
    "DateFold[3] = set(atecml.data.filter_date(train_df,start_date='2017-09-29',end_date='2017-10-06').index)\n",
    "DateFold[4] = set(atecml.data.filter_date(train_df,start_date='2017-10-07',end_date='2017-10-14').index)\n",
    "DateFold[5] = list(atecml.data.filter_date(train_df,start_date='2017-10-15',end_date='2017-11-24').index)\n",
    "\n",
    "all_list = set(train_df.index) - set(DateFold[5])\n",
    "len(all_list),len(DateFold[5])"
   ]
  },
  {
   "cell_type": "code",
   "execution_count": 10,
   "metadata": {},
   "outputs": [],
   "source": [
    "X = np.array(train_df[predictors])\n",
    "Y = np.array(train_df[target])\n",
    "\n",
    "val_index = DateFold[5] \n",
    "train_index = list(DateFold[3]) + list(DateFold[4])\n",
    "\n",
    "X_train = X[train_index]\n",
    "y_train = Y[train_index]\n",
    "\n",
    "X_val = X[val_index]\n",
    "y_val = Y[val_index]\n",
    "    \n",
    "X_test = np.array(val_df[predictors])\n"
   ]
  },
  {
   "cell_type": "code",
   "execution_count": 11,
   "metadata": {},
   "outputs": [
    {
     "name": "stdout",
     "output_type": "stream",
     "text": [
      "(250554, 466) (250554,)\n"
     ]
    }
   ],
   "source": [
    "print(X_train.shape, y_train.shape)"
   ]
  },
  {
   "cell_type": "code",
   "execution_count": 12,
   "metadata": {
    "scrolled": false
   },
   "outputs": [
    {
     "name": "stdout",
     "output_type": "stream",
     "text": [
      "设置参数\n",
      "交叉验证\n",
      "调参1：提高准确率\n",
      "[1]\tcv_agg's auc: 0.750856 + 0.06993\n",
      "[2]\tcv_agg's auc: 0.933385 + 0.0037631\n",
      "[3]\tcv_agg's auc: 0.950871 + 0.00274064\n",
      "[4]\tcv_agg's auc: 0.956118 + 0.0019865\n",
      "[5]\tcv_agg's auc: 0.961227 + 0.00267791\n",
      "[6]\tcv_agg's auc: 0.96355 + 0.00279506\n",
      "[7]\tcv_agg's auc: 0.964781 + 0.00311122\n",
      "[8]\tcv_agg's auc: 0.965972 + 0.0030792\n",
      "[9]\tcv_agg's auc: 0.966619 + 0.00267428\n",
      "[10]\tcv_agg's auc: 0.967899 + 0.00274367\n",
      "[11]\tcv_agg's auc: 0.968664 + 0.00251366\n",
      "[12]\tcv_agg's auc: 0.969584 + 0.00273821\n",
      "[13]\tcv_agg's auc: 0.970182 + 0.00222686\n",
      "[14]\tcv_agg's auc: 0.970817 + 0.00203878\n",
      "[15]\tcv_agg's auc: 0.971227 + 0.00189825\n",
      "[16]\tcv_agg's auc: 0.971499 + 0.00190475\n",
      "[17]\tcv_agg's auc: 0.971976 + 0.00174649\n",
      "[18]\tcv_agg's auc: 0.972206 + 0.00190165\n",
      "[19]\tcv_agg's auc: 0.972618 + 0.00188956\n",
      "[20]\tcv_agg's auc: 0.972925 + 0.00188168\n",
      "[21]\tcv_agg's auc: 0.973321 + 0.00181199\n",
      "[22]\tcv_agg's auc: 0.973652 + 0.00168735\n",
      "[23]\tcv_agg's auc: 0.973848 + 0.00170901\n",
      "[24]\tcv_agg's auc: 0.973931 + 0.00168504\n",
      "[25]\tcv_agg's auc: 0.974436 + 0.00148959\n",
      "[26]\tcv_agg's auc: 0.974655 + 0.00146636\n",
      "[27]\tcv_agg's auc: 0.974715 + 0.00143437\n",
      "[28]\tcv_agg's auc: 0.974998 + 0.00138131\n",
      "[29]\tcv_agg's auc: 0.975143 + 0.00134071\n",
      "[30]\tcv_agg's auc: 0.975325 + 0.00134078\n",
      "[31]\tcv_agg's auc: 0.975511 + 0.0012907\n",
      "[32]\tcv_agg's auc: 0.975693 + 0.00131691\n",
      "[33]\tcv_agg's auc: 0.975958 + 0.00136272\n",
      "[34]\tcv_agg's auc: 0.976053 + 0.00132482\n",
      "[35]\tcv_agg's auc: 0.976403 + 0.00115813\n",
      "[36]\tcv_agg's auc: 0.97659 + 0.00121631\n",
      "[37]\tcv_agg's auc: 0.976756 + 0.00121635\n",
      "[38]\tcv_agg's auc: 0.976911 + 0.00114482\n",
      "[39]\tcv_agg's auc: 0.977035 + 0.00108083\n",
      "[40]\tcv_agg's auc: 0.977193 + 0.00105713\n",
      "[41]\tcv_agg's auc: 0.977332 + 0.00110883\n",
      "[42]\tcv_agg's auc: 0.977435 + 0.00106551\n",
      "[43]\tcv_agg's auc: 0.977532 + 0.00111734\n",
      "[44]\tcv_agg's auc: 0.977642 + 0.0011199\n",
      "[45]\tcv_agg's auc: 0.977704 + 0.00114443\n",
      "[46]\tcv_agg's auc: 0.97779 + 0.00113743\n",
      "[47]\tcv_agg's auc: 0.977991 + 0.00114185\n",
      "[48]\tcv_agg's auc: 0.978039 + 0.00114674\n",
      "[49]\tcv_agg's auc: 0.978168 + 0.00109032\n",
      "[50]\tcv_agg's auc: 0.978299 + 0.00104464\n",
      "[51]\tcv_agg's auc: 0.978429 + 0.00102005\n",
      "[52]\tcv_agg's auc: 0.978512 + 0.00100284\n",
      "[53]\tcv_agg's auc: 0.978583 + 0.000983484\n",
      "[54]\tcv_agg's auc: 0.978656 + 0.000945474\n",
      "[55]\tcv_agg's auc: 0.97874 + 0.000914856\n",
      "[56]\tcv_agg's auc: 0.978867 + 0.000908358\n",
      "[57]\tcv_agg's auc: 0.978929 + 0.000903017\n",
      "[58]\tcv_agg's auc: 0.979037 + 0.000866962\n",
      "[59]\tcv_agg's auc: 0.979091 + 0.000867346\n",
      "[60]\tcv_agg's auc: 0.979208 + 0.000847917\n",
      "[61]\tcv_agg's auc: 0.979234 + 0.000839595\n",
      "[62]\tcv_agg's auc: 0.979348 + 0.000823724\n",
      "[63]\tcv_agg's auc: 0.979462 + 0.000794102\n",
      "[64]\tcv_agg's auc: 0.979515 + 0.000784923\n",
      "[65]\tcv_agg's auc: 0.979581 + 0.000809452\n",
      "[66]\tcv_agg's auc: 0.979599 + 0.000837705\n",
      "[67]\tcv_agg's auc: 0.979713 + 0.000762581\n",
      "[68]\tcv_agg's auc: 0.979731 + 0.000755706\n",
      "[69]\tcv_agg's auc: 0.979816 + 0.000754899\n",
      "[70]\tcv_agg's auc: 0.979882 + 0.000758063\n",
      "[71]\tcv_agg's auc: 0.979949 + 0.000721364\n",
      "[72]\tcv_agg's auc: 0.97999 + 0.000729909\n",
      "[73]\tcv_agg's auc: 0.980026 + 0.000732032\n",
      "[74]\tcv_agg's auc: 0.980055 + 0.000710248\n",
      "[75]\tcv_agg's auc: 0.980094 + 0.000694719\n",
      "[76]\tcv_agg's auc: 0.980151 + 0.000669742\n",
      "[77]\tcv_agg's auc: 0.980184 + 0.000665048\n",
      "[78]\tcv_agg's auc: 0.98023 + 0.000677545\n",
      "[79]\tcv_agg's auc: 0.980279 + 0.000683253\n",
      "[80]\tcv_agg's auc: 0.980344 + 0.000655813\n",
      "[81]\tcv_agg's auc: 0.9804 + 0.000661505\n",
      "[82]\tcv_agg's auc: 0.980459 + 0.000681886\n",
      "[83]\tcv_agg's auc: 0.980525 + 0.000648218\n",
      "[84]\tcv_agg's auc: 0.980616 + 0.000823867\n",
      "[85]\tcv_agg's auc: 0.980682 + 0.000778933\n",
      "[86]\tcv_agg's auc: 0.980715 + 0.000799214\n",
      "[87]\tcv_agg's auc: 0.980741 + 0.000813622\n",
      "[88]\tcv_agg's auc: 0.980804 + 0.00076614\n",
      "[89]\tcv_agg's auc: 0.980833 + 0.000739915\n",
      "[90]\tcv_agg's auc: 0.980852 + 0.000749005\n",
      "[91]\tcv_agg's auc: 0.980892 + 0.000728074\n",
      "[92]\tcv_agg's auc: 0.980978 + 0.000730345\n",
      "[93]\tcv_agg's auc: 0.981005 + 0.000725784\n",
      "[94]\tcv_agg's auc: 0.981058 + 0.000708262\n",
      "[95]\tcv_agg's auc: 0.981077 + 0.000682513\n",
      "[96]\tcv_agg's auc: 0.981149 + 0.000734179\n",
      "[97]\tcv_agg's auc: 0.98116 + 0.00072934\n",
      "[98]\tcv_agg's auc: 0.981194 + 0.000716029\n",
      "[99]\tcv_agg's auc: 0.981224 + 0.00073426\n",
      "[100]\tcv_agg's auc: 0.981244 + 0.000730136\n",
      "[1]\tcv_agg's auc: 0.856213 + 0.0337009\n",
      "[2]\tcv_agg's auc: 0.95725 + 0.00217595\n",
      "[3]\tcv_agg's auc: 0.965358 + 0.00148979\n",
      "[4]\tcv_agg's auc: 0.968934 + 0.00106599\n",
      "[5]\tcv_agg's auc: 0.971013 + 0.00226602\n",
      "[6]\tcv_agg's auc: 0.972108 + 0.00220695\n",
      "[7]\tcv_agg's auc: 0.974555 + 0.0015795\n",
      "[8]\tcv_agg's auc: 0.975808 + 0.00137622\n",
      "[9]\tcv_agg's auc: 0.97636 + 0.00109301\n",
      "[10]\tcv_agg's auc: 0.976947 + 0.00110385\n",
      "[11]\tcv_agg's auc: 0.977358 + 0.000844229\n",
      "[12]\tcv_agg's auc: 0.977652 + 0.000917253\n",
      "[13]\tcv_agg's auc: 0.978026 + 0.000882404\n",
      "[14]\tcv_agg's auc: 0.978279 + 0.000867262\n",
      "[15]\tcv_agg's auc: 0.978627 + 0.000864689\n",
      "[16]\tcv_agg's auc: 0.97908 + 0.000762413\n",
      "[17]\tcv_agg's auc: 0.979454 + 0.000815397\n",
      "[18]\tcv_agg's auc: 0.979599 + 0.000843504\n",
      "[19]\tcv_agg's auc: 0.980008 + 0.00074863\n",
      "[20]\tcv_agg's auc: 0.980233 + 0.000735112\n",
      "[21]\tcv_agg's auc: 0.980538 + 0.000847966\n",
      "[22]\tcv_agg's auc: 0.980737 + 0.000766267\n",
      "[23]\tcv_agg's auc: 0.980913 + 0.000747999\n",
      "[24]\tcv_agg's auc: 0.98108 + 0.00070396\n",
      "[25]\tcv_agg's auc: 0.981304 + 0.00052179\n",
      "[26]\tcv_agg's auc: 0.98147 + 0.000430038\n",
      "[27]\tcv_agg's auc: 0.981622 + 0.000345419\n",
      "[28]\tcv_agg's auc: 0.981738 + 0.000259344\n",
      "[29]\tcv_agg's auc: 0.981836 + 0.000236563\n",
      "[30]\tcv_agg's auc: 0.981944 + 0.000230816\n",
      "[31]\tcv_agg's auc: 0.98203 + 0.000271789\n"
     ]
    },
    {
     "ename": "KeyboardInterrupt",
     "evalue": "",
     "output_type": "error",
     "traceback": [
      "\u001b[0;31m---------------------------------------------------------------------------\u001b[0m",
      "\u001b[0;31mKeyboardInterrupt\u001b[0m                         Traceback (most recent call last)",
      "\u001b[0;32m<ipython-input-12-ff617d0d8df3>\u001b[0m in \u001b[0;36m<module>\u001b[0;34m()\u001b[0m\n\u001b[1;32m     29\u001b[0m                             \u001b[0mmetrics\u001b[0m\u001b[0;34m=\u001b[0m\u001b[0;34m[\u001b[0m\u001b[0;34m'auc'\u001b[0m\u001b[0;34m]\u001b[0m\u001b[0;34m,\u001b[0m\u001b[0;34m\u001b[0m\u001b[0m\n\u001b[1;32m     30\u001b[0m                             \u001b[0mearly_stopping_rounds\u001b[0m\u001b[0;34m=\u001b[0m\u001b[0;36m10\u001b[0m\u001b[0;34m,\u001b[0m\u001b[0;34m\u001b[0m\u001b[0m\n\u001b[0;32m---> 31\u001b[0;31m                             \u001b[0mverbose_eval\u001b[0m\u001b[0;34m=\u001b[0m\u001b[0;32mTrue\u001b[0m\u001b[0;34m\u001b[0m\u001b[0m\n\u001b[0m\u001b[1;32m     32\u001b[0m                             )\n\u001b[1;32m     33\u001b[0m \u001b[0;34m\u001b[0m\u001b[0m\n",
      "\u001b[0;32m/usr/local/lib/python3.5/dist-packages/lightgbm/engine.py\u001b[0m in \u001b[0;36mcv\u001b[0;34m(params, train_set, num_boost_round, folds, nfold, stratified, shuffle, metrics, fobj, feval, init_model, feature_name, categorical_feature, early_stopping_rounds, fpreproc, verbose_eval, show_stdv, seed, callbacks)\u001b[0m\n\u001b[1;32m    449\u001b[0m                                     \u001b[0mend_iteration\u001b[0m\u001b[0;34m=\u001b[0m\u001b[0mnum_boost_round\u001b[0m\u001b[0;34m,\u001b[0m\u001b[0;34m\u001b[0m\u001b[0m\n\u001b[1;32m    450\u001b[0m                                     evaluation_result_list=None))\n\u001b[0;32m--> 451\u001b[0;31m         \u001b[0mcvfolds\u001b[0m\u001b[0;34m.\u001b[0m\u001b[0mupdate\u001b[0m\u001b[0;34m(\u001b[0m\u001b[0mfobj\u001b[0m\u001b[0;34m=\u001b[0m\u001b[0mfobj\u001b[0m\u001b[0;34m)\u001b[0m\u001b[0;34m\u001b[0m\u001b[0m\n\u001b[0m\u001b[1;32m    452\u001b[0m         \u001b[0mres\u001b[0m \u001b[0;34m=\u001b[0m \u001b[0m_agg_cv_result\u001b[0m\u001b[0;34m(\u001b[0m\u001b[0mcvfolds\u001b[0m\u001b[0;34m.\u001b[0m\u001b[0meval_valid\u001b[0m\u001b[0;34m(\u001b[0m\u001b[0mfeval\u001b[0m\u001b[0;34m)\u001b[0m\u001b[0;34m)\u001b[0m\u001b[0;34m\u001b[0m\u001b[0m\n\u001b[1;32m    453\u001b[0m         \u001b[0;32mfor\u001b[0m \u001b[0m_\u001b[0m\u001b[0;34m,\u001b[0m \u001b[0mkey\u001b[0m\u001b[0;34m,\u001b[0m \u001b[0mmean\u001b[0m\u001b[0;34m,\u001b[0m \u001b[0m_\u001b[0m\u001b[0;34m,\u001b[0m \u001b[0mstd\u001b[0m \u001b[0;32min\u001b[0m \u001b[0mres\u001b[0m\u001b[0;34m:\u001b[0m\u001b[0;34m\u001b[0m\u001b[0m\n",
      "\u001b[0;32m/usr/local/lib/python3.5/dist-packages/lightgbm/engine.py\u001b[0m in \u001b[0;36mhandlerFunction\u001b[0;34m(*args, **kwargs)\u001b[0m\n\u001b[1;32m    247\u001b[0m             \u001b[0mret\u001b[0m \u001b[0;34m=\u001b[0m \u001b[0;34m[\u001b[0m\u001b[0;34m]\u001b[0m\u001b[0;34m\u001b[0m\u001b[0m\n\u001b[1;32m    248\u001b[0m             \u001b[0;32mfor\u001b[0m \u001b[0mbooster\u001b[0m \u001b[0;32min\u001b[0m \u001b[0mself\u001b[0m\u001b[0;34m.\u001b[0m\u001b[0mboosters\u001b[0m\u001b[0;34m:\u001b[0m\u001b[0;34m\u001b[0m\u001b[0m\n\u001b[0;32m--> 249\u001b[0;31m                 \u001b[0mret\u001b[0m\u001b[0;34m.\u001b[0m\u001b[0mappend\u001b[0m\u001b[0;34m(\u001b[0m\u001b[0mgetattr\u001b[0m\u001b[0;34m(\u001b[0m\u001b[0mbooster\u001b[0m\u001b[0;34m,\u001b[0m \u001b[0mname\u001b[0m\u001b[0;34m)\u001b[0m\u001b[0;34m(\u001b[0m\u001b[0;34m*\u001b[0m\u001b[0margs\u001b[0m\u001b[0;34m,\u001b[0m \u001b[0;34m**\u001b[0m\u001b[0mkwargs\u001b[0m\u001b[0;34m)\u001b[0m\u001b[0;34m)\u001b[0m\u001b[0;34m\u001b[0m\u001b[0m\n\u001b[0m\u001b[1;32m    250\u001b[0m             \u001b[0;32mreturn\u001b[0m \u001b[0mret\u001b[0m\u001b[0;34m\u001b[0m\u001b[0m\n\u001b[1;32m    251\u001b[0m         \u001b[0;32mreturn\u001b[0m \u001b[0mhandlerFunction\u001b[0m\u001b[0;34m\u001b[0m\u001b[0m\n",
      "\u001b[0;32m/usr/local/lib/python3.5/dist-packages/lightgbm/basic.py\u001b[0m in \u001b[0;36mupdate\u001b[0;34m(self, train_set, fobj)\u001b[0m\n\u001b[1;32m   1526\u001b[0m             _safe_call(_LIB.LGBM_BoosterUpdateOneIter(\n\u001b[1;32m   1527\u001b[0m                 \u001b[0mself\u001b[0m\u001b[0;34m.\u001b[0m\u001b[0mhandle\u001b[0m\u001b[0;34m,\u001b[0m\u001b[0;34m\u001b[0m\u001b[0m\n\u001b[0;32m-> 1528\u001b[0;31m                 ctypes.byref(is_finished)))\n\u001b[0m\u001b[1;32m   1529\u001b[0m             \u001b[0mself\u001b[0m\u001b[0;34m.\u001b[0m\u001b[0m__is_predicted_cur_iter\u001b[0m \u001b[0;34m=\u001b[0m \u001b[0;34m[\u001b[0m\u001b[0;32mFalse\u001b[0m \u001b[0;32mfor\u001b[0m \u001b[0m_\u001b[0m \u001b[0;32min\u001b[0m \u001b[0mrange_\u001b[0m\u001b[0;34m(\u001b[0m\u001b[0mself\u001b[0m\u001b[0;34m.\u001b[0m\u001b[0m__num_dataset\u001b[0m\u001b[0;34m)\u001b[0m\u001b[0;34m]\u001b[0m\u001b[0;34m\u001b[0m\u001b[0m\n\u001b[1;32m   1530\u001b[0m             \u001b[0;32mreturn\u001b[0m \u001b[0mis_finished\u001b[0m\u001b[0;34m.\u001b[0m\u001b[0mvalue\u001b[0m \u001b[0;34m==\u001b[0m \u001b[0;36m1\u001b[0m\u001b[0;34m\u001b[0m\u001b[0m\n",
      "\u001b[0;31mKeyboardInterrupt\u001b[0m: "
     ]
    }
   ],
   "source": [
    "import lightgbm as lgb\n",
    "lgb_train = lgb.Dataset(X_train, y_train, free_raw_data=False)\n",
    "lgb_eval = lgb.Dataset(X_val, y_val, reference=lgb_train,free_raw_data=False)\n",
    "\n",
    "print('设置参数')\n",
    "params = {\n",
    "          'boosting_type': 'gbdt',\n",
    "          'objective': 'binary',\n",
    "          'metric': 'binary_logloss',\n",
    "          }\n",
    "\n",
    "### 交叉验证(调参)\n",
    "print('交叉验证')\n",
    "min_merror = float('Inf')\n",
    "best_params = {}\n",
    "\n",
    "# 准确率\n",
    "print(\"调参1：提高准确率\")\n",
    "for num_leaves in range(20,200,10):\n",
    "    for max_depth in range(3,10,3):\n",
    "        params['num_leaves'] = num_leaves\n",
    "        params['max_depth'] = max_depth\n",
    "\n",
    "        cv_results = lgb.cv(\n",
    "                            params,\n",
    "                            lgb_train,\n",
    "                            num_boost_round=500,\n",
    "                            seed=2018,\n",
    "                            nfold=5,\n",
    "                            metrics=['auc'],\n",
    "                            early_stopping_rounds=10,\n",
    "                            verbose_eval=True\n",
    "                            )\n",
    "            \n",
    "        mean_merror = pd.Series(cv_results['auc-mean']).min()\n",
    "        boost_rounds = pd.Series(cv_results['auc-mean']).argmin()\n",
    "            \n",
    "        if mean_merror < min_merror:\n",
    "            min_merror = mean_merror\n",
    "            best_params['num_leaves'] = num_leaves\n",
    "            best_params['max_depth'] = max_depth\n",
    "            \n",
    "params['num_leaves'] = best_params['num_leaves']\n",
    "params['max_depth'] = best_params['max_depth']"
   ]
  },
  {
   "cell_type": "code",
   "execution_count": null,
   "metadata": {},
   "outputs": [],
   "source": []
  },
  {
   "cell_type": "code",
   "execution_count": null,
   "metadata": {},
   "outputs": [],
   "source": []
  },
  {
   "cell_type": "code",
   "execution_count": null,
   "metadata": {},
   "outputs": [],
   "source": []
  },
  {
   "cell_type": "code",
   "execution_count": null,
   "metadata": {},
   "outputs": [],
   "source": []
  },
  {
   "cell_type": "code",
   "execution_count": null,
   "metadata": {},
   "outputs": [],
   "source": []
  },
  {
   "cell_type": "code",
   "execution_count": null,
   "metadata": {},
   "outputs": [],
   "source": []
  },
  {
   "cell_type": "code",
   "execution_count": null,
   "metadata": {},
   "outputs": [],
   "source": []
  },
  {
   "cell_type": "code",
   "execution_count": 5,
   "metadata": {},
   "outputs": [
    {
     "name": "stdout",
     "output_type": "stream",
     "text": [
      "16847.0 977884.0 58.04499317385885\n"
     ]
    }
   ],
   "source": [
    "num_pos = np.sum(train_df[target])  \n",
    "num_neg = x_train.shape[0]- num_pos\n",
    "scale_pos_weight =  num_neg/num_pos\n",
    "print(num_pos,num_neg,scale_pos_weight)"
   ]
  },
  {
   "cell_type": "code",
   "execution_count": null,
   "metadata": {},
   "outputs": [],
   "source": [
    "lgb_train = lgb.Dataset(X_train, y_train, free_raw_data=False)\n",
    "lgb_eval = lgb.Dataset(X_val, y_val, reference=lgb_train,free_raw_data=False)"
   ]
  },
  {
   "cell_type": "code",
   "execution_count": null,
   "metadata": {},
   "outputs": [],
   "source": []
  },
  {
   "cell_type": "code",
   "execution_count": null,
   "metadata": {},
   "outputs": [],
   "source": []
  },
  {
   "cell_type": "code",
   "execution_count": null,
   "metadata": {},
   "outputs": [],
   "source": []
  },
  {
   "cell_type": "code",
   "execution_count": null,
   "metadata": {},
   "outputs": [],
   "source": []
  },
  {
   "cell_type": "code",
   "execution_count": null,
   "metadata": {},
   "outputs": [],
   "source": []
  },
  {
   "cell_type": "code",
   "execution_count": null,
   "metadata": {},
   "outputs": [],
   "source": []
  },
  {
   "cell_type": "code",
   "execution_count": null,
   "metadata": {},
   "outputs": [],
   "source": [
    "num_boost_round = 2000\n",
    "num_early_stop = 100"
   ]
  },
  {
   "cell_type": "code",
   "execution_count": null,
   "metadata": {
    "scrolled": false
   },
   "outputs": [
    {
     "name": "stdout",
     "output_type": "stream",
     "text": [
      "{'min_child_samples': 20, 'metric': {'auc'}, 'num_leaves': 80, 'subsample': 0.85, 'task': 'train', 'nthread': 40, 'is_unbalance': True, 'learning_rate': 0.05, 'objective': 'binary', 'subsample_freq': 1, 'subsample_for_bin': 2000, 'boosting_type': 'dart', 'verbose': -1, 'use_missing': 'true', 'min_split_gain': 0, 'max_bin': 511, 'colsample_bytree': 0.7, 'max_depth': -1}\n",
      "0 fold, train 500685, val 360447\n",
      "train with lgb model\n",
      "Training until validation scores don't improve for 100 rounds.\n",
      "[50]\tvalid_0's auc: 0.967054\n",
      "[100]\tvalid_0's auc: 0.97075\n",
      "[150]\tvalid_0's auc: 0.973024\n",
      "[200]\tvalid_0's auc: 0.974198\n",
      "[250]\tvalid_0's auc: 0.975055\n",
      "[300]\tvalid_0's auc: 0.975691\n",
      "[350]\tvalid_0's auc: 0.976046\n",
      "[400]\tvalid_0's auc: 0.976443\n",
      "[450]\tvalid_0's auc: 0.97675\n",
      "[500]\tvalid_0's auc: 0.976812\n",
      "[550]\tvalid_0's auc: 0.976832\n",
      "[600]\tvalid_0's auc: 0.977054\n",
      "[650]\tvalid_0's auc: 0.977077\n",
      "[700]\tvalid_0's auc: 0.977027\n",
      "[750]\tvalid_0's auc: 0.976731\n",
      "Early stopping, best iteration is:\n",
      "[690]\tvalid_0's auc: 0.977111\n",
      "test with lgb model\n",
      "test with lgb model\n",
      "1 fold, train 509423, val 360447\n",
      "train with lgb model\n",
      "Training until validation scores don't improve for 100 rounds.\n",
      "[50]\tvalid_0's auc: 0.969522\n",
      "[100]\tvalid_0's auc: 0.971911\n",
      "[150]\tvalid_0's auc: 0.973478\n",
      "[200]\tvalid_0's auc: 0.97438\n",
      "[250]\tvalid_0's auc: 0.974841\n",
      "[300]\tvalid_0's auc: 0.975543\n",
      "[350]\tvalid_0's auc: 0.975635\n",
      "[400]\tvalid_0's auc: 0.976018\n",
      "[450]\tvalid_0's auc: 0.976209\n",
      "[500]\tvalid_0's auc: 0.97627\n",
      "[550]\tvalid_0's auc: 0.976312\n"
     ]
    }
   ],
   "source": [
    "\n",
    "dart_classifier = LGBClassifier(boost_type='dart',boost_round=num_boost_round,early_stop=num_early_stop,pos_weight= scale_pos_weight)\n",
    "dart_oof_train, dart_oof_test,dart_model_list = dart_classifier.get_oof(x_train, y_train, x_test)\n",
    "print(dart_oof_train.shape, dart_oof_test.shape)   \n",
    "\n",
    "\n",
    "gbdt_classifier = LGBClassifier(boost_type='gbdt',boost_round=num_boost_round,early_stop=num_early_stop,pos_weight= scale_pos_weight)\n",
    "gbdt_oof_train, gbdt_oof_test,gbdt_model_list = gbdt_classifier.get_oof(x_train, y_train, x_test)\n",
    "print(gbdt_oof_train.shape, gbdt_oof_test.shape)  \n",
    " \n"
   ]
  },
  {
   "cell_type": "code",
   "execution_count": null,
   "metadata": {},
   "outputs": [],
   "source": [
    "train_dart_r = gbdt_oof_train\n",
    "n = int(gbdt_oof_train.shape[0] * 0.8)\n",
    "y_pred, y_val = train_dart_r[n:], y_train[n:]\n",
    "_f1,_f2,_f3 = atecml.data.accuracy_validation(y_val,y_pred)\n"
   ]
  },
  {
   "cell_type": "code",
   "execution_count": null,
   "metadata": {},
   "outputs": [],
   "source": [
    "train_dart_r = dart_oof_train\n",
    "n = int(dart_oof_train.shape[0] * 0.8)\n",
    "y_pred, y_val = train_dart_r[n:], y_train[n:]\n",
    "_f1,_f2,_f3 = atecml.data.accuracy_validation(y_val,y_pred)"
   ]
  }
 ],
 "metadata": {
  "kernelspec": {
   "display_name": "Python 3",
   "language": "python",
   "name": "python3"
  },
  "language_info": {
   "codemirror_mode": {
    "name": "ipython",
    "version": 3
   },
   "file_extension": ".py",
   "mimetype": "text/x-python",
   "name": "python",
   "nbconvert_exporter": "python",
   "pygments_lexer": "ipython3",
   "version": "3.5.2"
  }
 },
 "nbformat": 4,
 "nbformat_minor": 2
}

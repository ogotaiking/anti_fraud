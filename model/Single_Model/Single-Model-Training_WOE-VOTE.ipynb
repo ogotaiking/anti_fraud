{
 "cells": [
  {
   "cell_type": "code",
   "execution_count": 1,
   "metadata": {},
   "outputs": [
    {
     "data": {
      "text/html": [
       "<style>.container { width:100% !important; }</style>"
      ],
      "text/plain": [
       "<IPython.core.display.HTML object>"
      ]
     },
     "metadata": {},
     "output_type": "display_data"
    }
   ],
   "source": [
    "from IPython.core.display import display, HTML\n",
    "display(HTML(\"<style>.container { width:100% !important; }</style>\"))\n",
    "%matplotlib inline\n",
    "import matplotlib\n",
    "import matplotlib.pyplot as plt\n",
    "import matplotlib.gridspec as gridspec\n",
    "import seaborn as sns\n",
    "import os\n",
    "\n",
    "import numpy as np\n",
    "import pandas as pd\n",
    "import tensorflow as tf\n",
    "\n",
    "import atecml.data\n",
    "\n",
    "from contextlib import contextmanager\n",
    "from tqdm import tqdm\n",
    "from sklearn.neighbors import KNeighborsClassifier\n",
    "from sklearn.preprocessing import StandardScaler, MinMaxScaler\n",
    "from sklearn.decomposition import PCA\n",
    "from sklearn.externals import joblib\n",
    "from sklearn.linear_model import LogisticRegressionCV\n",
    "#build Models...\n",
    "from sklearn.ensemble import RandomForestClassifier\n",
    "from sklearn.ensemble import ExtraTreesClassifier\n",
    "from sklearn.ensemble import GradientBoostingClassifier\n",
    "from sklearn.tree import DecisionTreeClassifier\n",
    "import lightgbm as lgb\n",
    "from xgboost import XGBClassifier\n",
    "from sklearn.model_selection import train_test_split\n",
    "from sklearn.externals import joblib\n",
    "from imblearn.over_sampling import SMOTE, ADASYN\n",
    "import random\n",
    "\n",
    "plt.style.use('ggplot')"
   ]
  },
  {
   "cell_type": "code",
   "execution_count": 2,
   "metadata": {},
   "outputs": [
    {
     "data": {
      "text/plain": [
       "(634284, 360447)"
      ]
     },
     "execution_count": 2,
     "metadata": {},
     "output_type": "execute_result"
    }
   ],
   "source": [
    "train_df = pd.read_pickle('./01_train.dat')\n",
    "\n",
    "predictors = [x for x in train_df.columns if x not in atecml.data.NOT_FEATURE_COLUMNS]\n",
    "DateFold={}\n",
    "\n",
    "DateFold[0] = set(atecml.data.filter_date(train_df,start_date='2017-09-05',end_date='2017-09-12').index)\n",
    "DateFold[1] = set(atecml.data.filter_date(train_df,start_date='2017-09-13',end_date='2017-09-20').index)\n",
    "DateFold[2] = set(atecml.data.filter_date(train_df,start_date='2017-09-21',end_date='2017-09-28').index)\n",
    "DateFold[3] = set(atecml.data.filter_date(train_df,start_date='2017-09-29',end_date='2017-10-06').index)\n",
    "DateFold[4] = set(atecml.data.filter_date(train_df,start_date='2017-10-07',end_date='2017-10-14').index)\n",
    "DateFold[5] = list(atecml.data.filter_date(train_df,start_date='2017-10-15',end_date='2017-11-24').index)\n",
    "\n",
    "all_list = set(train_df.index) - set(DateFold[5])\n",
    "len(all_list),len(DateFold[5])\n"
   ]
  },
  {
   "cell_type": "code",
   "execution_count": 3,
   "metadata": {},
   "outputs": [],
   "source": [
    "WOE_LIST = joblib.load('./woe_feature.dat')\n",
    "CATE_LIST = WOE_LIST + atecml.data.CATE_FEATURE_LIST\n",
    "categorical=[]\n",
    "for item in predictors:\n",
    "    if (item in CATE_LIST):\n",
    "        categorical.append(item)"
   ]
  },
  {
   "cell_type": "code",
   "execution_count": 28,
   "metadata": {},
   "outputs": [],
   "source": [
    "num_boosting_round = 3000\n",
    "early_stop_round = 100"
   ]
  },
  {
   "cell_type": "code",
   "execution_count": 46,
   "metadata": {},
   "outputs": [],
   "source": [
    "params = {\n",
    "    \n",
    "    'objective': 'binary',\n",
    "    'metric': 'auc',\n",
    "    'use_missing' : True,\n",
    "    #'is_unbalance': True,\n",
    "    'scale_pos_weight': 98,\n",
    "    'learning_rate': 0.05,\n",
    "    'num_leaves': 64,  # we should let it be smaller than 2^(max_depth)\n",
    "    'max_depth': -1,  # -1 means no limit\n",
    "    'min_child_samples': 600,  # Minimum number of data need in a child(min_data_in_leaf)\n",
    "    'max_bin': 255,  # Number of bucketed bin for feature values\n",
    "    'colsample_bytree': 0.7,\n",
    "    'subsample': 0.85,  # Subsample ratio of the training instance.\n",
    "    'subsample_freq': 1,  # frequence of subsample, <=0 means no enable\n",
    "    'min_child_weight': 0.05,  # Minimum sum of instance weight(hessian) needed in a child(leaf)\n",
    "    'subsample_for_bin': 200000,  # Number of samples for constructing bin\n",
    "    'min_split_gain': 0,  # lambda_l1, lambda_l2 and min_gain_to_split to regularization\n",
    "    'reg_alpha': 0.01,  # L1 regularization term on weights\n",
    "    'reg_lambda': 0.1,  # L2 regularization term on weights\n",
    "    'nthread': 40,\n",
    "    'n_estimators': num_boosting_round,\n",
    "    'verbose': -1,\n",
    "}\n",
    "\n",
    "rf = {\n",
    "    'boosting_type': 'rf',\n",
    "}\n",
    "rf.update(params)\n",
    "\n",
    "dart = {\n",
    "    'boosting_type': 'dart',\n",
    "}\n",
    "dart.update(params)\n",
    "\n",
    "gbdt = {\n",
    "    'boosting_type': 'gbdt',\n",
    "}\n",
    "gbdt.update(params)\n",
    "\n",
    "param_list = [rf,gbdt,dart]"
   ]
  },
  {
   "cell_type": "code",
   "execution_count": 47,
   "metadata": {
    "scrolled": true
   },
   "outputs": [
    {
     "name": "stderr",
     "output_type": "stream",
     "text": [
      "\r",
      "  0%|          | 0/5 [00:00<?, ?it/s]"
     ]
    },
    {
     "name": "stdout",
     "output_type": "stream",
     "text": [
      "starting fit model...\n",
      "Training until validation scores don't improve for 100 rounds.\n",
      "[100]\tvalid_0's auc: 0.895769\n",
      "Early stopping, best iteration is:\n",
      "[45]\tvalid_0's auc: 0.897065\n",
      "starting fit model...\n",
      "Training until validation scores don't improve for 100 rounds.\n",
      "[100]\tvalid_0's auc: 0.948038\n",
      "[200]\tvalid_0's auc: 0.970414\n",
      "[300]\tvalid_0's auc: 0.973596\n",
      "[400]\tvalid_0's auc: 0.974989\n",
      "[500]\tvalid_0's auc: 0.975403\n",
      "[600]\tvalid_0's auc: 0.975917\n",
      "[700]\tvalid_0's auc: 0.976087\n",
      "[800]\tvalid_0's auc: 0.976349\n",
      "[900]\tvalid_0's auc: 0.976258\n",
      "[1000]\tvalid_0's auc: 0.97639\n",
      "[1100]\tvalid_0's auc: 0.976307\n",
      "Early stopping, best iteration is:\n",
      "[1034]\tvalid_0's auc: 0.976486\n",
      "starting fit model...\n",
      "Training until validation scores don't improve for 100 rounds.\n",
      "[100]\tvalid_0's auc: 0.934861\n",
      "[200]\tvalid_0's auc: 0.940197\n",
      "[300]\tvalid_0's auc: 0.950968\n",
      "[400]\tvalid_0's auc: 0.961171\n",
      "[500]\tvalid_0's auc: 0.967543\n",
      "[600]\tvalid_0's auc: 0.970073\n",
      "[700]\tvalid_0's auc: 0.971229\n",
      "[800]\tvalid_0's auc: 0.972382\n",
      "[900]\tvalid_0's auc: 0.972928\n",
      "[1000]\tvalid_0's auc: 0.974182\n",
      "[1100]\tvalid_0's auc: 0.97448\n",
      "[1200]\tvalid_0's auc: 0.974684\n",
      "[1300]\tvalid_0's auc: 0.974897\n",
      "[1400]\tvalid_0's auc: 0.975509\n",
      "[1500]\tvalid_0's auc: 0.975715\n"
     ]
    },
    {
     "name": "stderr",
     "output_type": "stream",
     "text": [
      "\r",
      " 20%|██        | 1/5 [01:31<06:05, 91.44s/it]"
     ]
    },
    {
     "name": "stdout",
     "output_type": "stream",
     "text": [
      "Early stopping, best iteration is:\n",
      "[1453]\tvalid_0's auc: 0.97581\n",
      "starting fit model...\n",
      "Training until validation scores don't improve for 100 rounds.\n",
      "[100]\tvalid_0's auc: 0.933029\n",
      "Early stopping, best iteration is:\n",
      "[79]\tvalid_0's auc: 0.933426\n",
      "starting fit model...\n",
      "Training until validation scores don't improve for 100 rounds.\n",
      "[100]\tvalid_0's auc: 0.963989\n",
      "[200]\tvalid_0's auc: 0.978256\n",
      "[300]\tvalid_0's auc: 0.979655\n",
      "[400]\tvalid_0's auc: 0.980166\n",
      "[500]\tvalid_0's auc: 0.980548\n",
      "[600]\tvalid_0's auc: 0.980668\n",
      "[700]\tvalid_0's auc: 0.980643\n",
      "Early stopping, best iteration is:\n",
      "[615]\tvalid_0's auc: 0.980709\n",
      "starting fit model...\n",
      "Training until validation scores don't improve for 100 rounds.\n",
      "[100]\tvalid_0's auc: 0.948879\n",
      "[200]\tvalid_0's auc: 0.954907\n",
      "[300]\tvalid_0's auc: 0.964937\n",
      "[400]\tvalid_0's auc: 0.975463\n",
      "[500]\tvalid_0's auc: 0.978427\n",
      "[600]\tvalid_0's auc: 0.979117\n",
      "[700]\tvalid_0's auc: 0.979425\n",
      "[800]\tvalid_0's auc: 0.979695\n",
      "[900]\tvalid_0's auc: 0.979802\n",
      "[1000]\tvalid_0's auc: 0.980056\n",
      "[1100]\tvalid_0's auc: 0.980286\n",
      "[1200]\tvalid_0's auc: 0.980431\n",
      "[1300]\tvalid_0's auc: 0.980641\n",
      "[1400]\tvalid_0's auc: 0.980823\n",
      "[1500]\tvalid_0's auc: 0.981053\n",
      "[1600]\tvalid_0's auc: 0.981136\n",
      "[1700]\tvalid_0's auc: 0.981187\n",
      "[1800]\tvalid_0's auc: 0.981252\n",
      "[1900]\tvalid_0's auc: 0.981366\n"
     ]
    },
    {
     "name": "stderr",
     "output_type": "stream",
     "text": [
      "\r",
      " 40%|████      | 2/5 [03:08<04:39, 93.16s/it]"
     ]
    },
    {
     "name": "stdout",
     "output_type": "stream",
     "text": [
      "Early stopping, best iteration is:\n",
      "[1873]\tvalid_0's auc: 0.98142\n",
      "starting fit model...\n",
      "Training until validation scores don't improve for 100 rounds.\n",
      "[100]\tvalid_0's auc: 0.949874\n",
      "Early stopping, best iteration is:\n",
      "[71]\tvalid_0's auc: 0.950135\n",
      "starting fit model...\n",
      "Training until validation scores don't improve for 100 rounds.\n",
      "[100]\tvalid_0's auc: 0.97106\n",
      "[200]\tvalid_0's auc: 0.980469\n",
      "[300]\tvalid_0's auc: 0.982345\n",
      "[400]\tvalid_0's auc: 0.982952\n",
      "[500]\tvalid_0's auc: 0.983307\n",
      "[600]\tvalid_0's auc: 0.983735\n",
      "[700]\tvalid_0's auc: 0.984029\n",
      "[800]\tvalid_0's auc: 0.984306\n",
      "[900]\tvalid_0's auc: 0.98444\n",
      "[1000]\tvalid_0's auc: 0.984549\n",
      "[1100]\tvalid_0's auc: 0.98473\n",
      "[1200]\tvalid_0's auc: 0.984747\n",
      "[1300]\tvalid_0's auc: 0.984862\n",
      "[1400]\tvalid_0's auc: 0.984931\n",
      "[1500]\tvalid_0's auc: 0.984975\n",
      "[1600]\tvalid_0's auc: 0.98502\n",
      "[1700]\tvalid_0's auc: 0.985057\n",
      "Early stopping, best iteration is:\n",
      "[1668]\tvalid_0's auc: 0.985091\n",
      "starting fit model...\n",
      "Training until validation scores don't improve for 100 rounds.\n",
      "[100]\tvalid_0's auc: 0.963849\n",
      "[200]\tvalid_0's auc: 0.967786\n",
      "[300]\tvalid_0's auc: 0.971811\n",
      "[400]\tvalid_0's auc: 0.97761\n",
      "[500]\tvalid_0's auc: 0.979953\n",
      "[600]\tvalid_0's auc: 0.980762\n",
      "[700]\tvalid_0's auc: 0.98159\n",
      "[800]\tvalid_0's auc: 0.982118\n",
      "[900]\tvalid_0's auc: 0.982645\n",
      "[1000]\tvalid_0's auc: 0.982848\n",
      "[1100]\tvalid_0's auc: 0.983363\n",
      "[1200]\tvalid_0's auc: 0.983528\n",
      "[1300]\tvalid_0's auc: 0.983675\n",
      "[1400]\tvalid_0's auc: 0.983836\n",
      "[1500]\tvalid_0's auc: 0.983991\n",
      "[1600]\tvalid_0's auc: 0.984097\n",
      "[1700]\tvalid_0's auc: 0.984188\n",
      "[1800]\tvalid_0's auc: 0.984322\n"
     ]
    },
    {
     "name": "stderr",
     "output_type": "stream",
     "text": [
      "\r",
      " 60%|██████    | 3/5 [04:50<03:11, 95.84s/it]"
     ]
    },
    {
     "name": "stdout",
     "output_type": "stream",
     "text": [
      "Early stopping, best iteration is:\n",
      "[1799]\tvalid_0's auc: 0.984338\n",
      "starting fit model...\n",
      "Training until validation scores don't improve for 100 rounds.\n",
      "[100]\tvalid_0's auc: 0.954405\n",
      "Early stopping, best iteration is:\n",
      "[28]\tvalid_0's auc: 0.955367\n",
      "starting fit model...\n",
      "Training until validation scores don't improve for 100 rounds.\n",
      "[100]\tvalid_0's auc: 0.966649\n",
      "[200]\tvalid_0's auc: 0.976852\n",
      "[300]\tvalid_0's auc: 0.978602\n",
      "[400]\tvalid_0's auc: 0.978879\n",
      "[500]\tvalid_0's auc: 0.979479\n",
      "[600]\tvalid_0's auc: 0.979786\n",
      "[700]\tvalid_0's auc: 0.980113\n",
      "[800]\tvalid_0's auc: 0.980191\n",
      "Early stopping, best iteration is:\n",
      "[732]\tvalid_0's auc: 0.980327\n",
      "starting fit model...\n",
      "Training until validation scores don't improve for 100 rounds.\n",
      "[100]\tvalid_0's auc: 0.955603\n"
     ]
    },
    {
     "name": "stderr",
     "output_type": "stream",
     "text": [
      "\r",
      " 80%|████████  | 4/5 [05:24<01:17, 77.32s/it]"
     ]
    },
    {
     "name": "stdout",
     "output_type": "stream",
     "text": [
      "Early stopping, best iteration is:\n",
      "[13]\tvalid_0's auc: 0.95699\n",
      "starting fit model...\n",
      "Training until validation scores don't improve for 100 rounds.\n",
      "[100]\tvalid_0's auc: 0.917573\n",
      "Early stopping, best iteration is:\n",
      "[22]\tvalid_0's auc: 0.918103\n",
      "starting fit model...\n",
      "Training until validation scores don't improve for 100 rounds.\n",
      "[100]\tvalid_0's auc: 0.954577\n",
      "[200]\tvalid_0's auc: 0.980165\n",
      "[300]\tvalid_0's auc: 0.982454\n",
      "[400]\tvalid_0's auc: 0.983434\n",
      "[500]\tvalid_0's auc: 0.983903\n",
      "[600]\tvalid_0's auc: 0.98422\n",
      "[700]\tvalid_0's auc: 0.984387\n",
      "[800]\tvalid_0's auc: 0.984513\n",
      "[900]\tvalid_0's auc: 0.984613\n",
      "[1000]\tvalid_0's auc: 0.984592\n",
      "Early stopping, best iteration is:\n",
      "[907]\tvalid_0's auc: 0.98467\n",
      "starting fit model...\n",
      "Training until validation scores don't improve for 100 rounds.\n",
      "[100]\tvalid_0's auc: 0.937284\n",
      "[200]\tvalid_0's auc: 0.942646\n",
      "[300]\tvalid_0's auc: 0.955462\n",
      "[400]\tvalid_0's auc: 0.972116\n",
      "[500]\tvalid_0's auc: 0.978105\n",
      "[600]\tvalid_0's auc: 0.980052\n",
      "[700]\tvalid_0's auc: 0.981205\n",
      "[800]\tvalid_0's auc: 0.982174\n",
      "[900]\tvalid_0's auc: 0.982839\n",
      "[1000]\tvalid_0's auc: 0.983287\n",
      "[1100]\tvalid_0's auc: 0.983527\n",
      "[1200]\tvalid_0's auc: 0.98375\n",
      "[1300]\tvalid_0's auc: 0.983851\n"
     ]
    },
    {
     "name": "stderr",
     "output_type": "stream",
     "text": [
      "\r",
      "100%|██████████| 5/5 [06:44<00:00, 77.94s/it]"
     ]
    },
    {
     "name": "stdout",
     "output_type": "stream",
     "text": [
      "Early stopping, best iteration is:\n",
      "[1244]\tvalid_0's auc: 0.983944\n"
     ]
    },
    {
     "name": "stderr",
     "output_type": "stream",
     "text": [
      "\n"
     ]
    }
   ],
   "source": [
    "model_list  =[]\n",
    "\n",
    "for idx in tqdm(range(0,5)):\n",
    "    \n",
    "    Train_DataSet = train_df[train_df.index.isin(list(all_list - DateFold[idx]))].reset_index(drop=True)\n",
    "    Normal_DF = Train_DataSet[Train_DataSet['label']==0]\n",
    "    Fraud_DF = Train_DataSet[Train_DataSet['label']==1]\n",
    "    \n",
    "    number_record_fraud = len(Fraud_DF)\n",
    "    number_record_normal = len(Normal_DF)\n",
    "    #undersample\n",
    "    random_normal_indices = np.array(np.random.choice(Normal_DF.index,number_record_fraud,replace=False))\n",
    "    filter_list = list(random_normal_indices) + list(Fraud_DF.index)\n",
    "    under_sample_train = Train_DataSet[Train_DataSet.index.isin(filter_list)].reset_index(drop=True)\n",
    "    \n",
    "    Val_DataSet = train_df[train_df.index.isin(DateFold[idx])].reset_index(drop=True)\n",
    "    X_train = under_sample_train[predictors]\n",
    "    y_train = under_sample_train['Fraud']\n",
    "\n",
    "    X_test = Val_DataSet[predictors]\n",
    "    y_test = Val_DataSet['Fraud']\n",
    "    \n",
    "    for item_params in (param_list):\n",
    "        gbm = lgb.LGBMClassifier(**item_params)\n",
    "        print('starting fit model...')\n",
    "        gbm.fit(X_train, y_train, eval_set=[(X_test, y_test)],eval_metric='auc',early_stopping_rounds=early_stop_round,verbose=100,categorical_feature=categorical)\n",
    "        model_list.append(gbm)    \n",
    "\n",
    "    "
   ]
  },
  {
   "cell_type": "code",
   "execution_count": 56,
   "metadata": {},
   "outputs": [],
   "source": [
    "val_df = train_df[train_df.index.isin(DateFold[5])].reset_index(drop=True)\n",
    "val_df1 = val_df.head(180000)\n",
    "val_df2 = val_df[~val_df.index.isin(list(val_df1.index))]"
   ]
  },
  {
   "cell_type": "code",
   "execution_count": 59,
   "metadata": {},
   "outputs": [
    {
     "name": "stderr",
     "output_type": "stream",
     "text": [
      "100%|██████████| 15/15 [01:33<00:00,  6.12s/it]\n"
     ]
    }
   ],
   "source": [
    "val_r_neg=pd.DataFrame()\n",
    "for idx in tqdm(range(0,len(model_list))):\n",
    "    model_neg = model_list[idx]\n",
    "    val_neg = model_neg.predict_proba(val_df2[predictors])\n",
    "    val_r_neg[idx] = pd.DataFrame(val_neg)[1]\n",
    "    \n",
    "    "
   ]
  },
  {
   "cell_type": "code",
   "execution_count": 60,
   "metadata": {},
   "outputs": [
    {
     "name": "stdout",
     "output_type": "stream",
     "text": [
      "Ant-Score: 0.3941491553358055\n"
     ]
    },
    {
     "data": {
      "image/png": "[encoded data removed]",
      "text/plain": [
       "<Figure size 432x288 with 1 Axes>"
      ]
     },
     "metadata": {},
     "output_type": "display_data"
    }
   ],
   "source": [
    "#pos_mean = val_r_pos.mean(axis=1)\n",
    "neg_mean = val_r_neg.mean(axis=1)\n",
    "_,_,_ = atecml.data.accuracy_validation(val_df2['Fraud'],neg_mean)"
   ]
  },
  {
   "cell_type": "code",
   "execution_count": 61,
   "metadata": {},
   "outputs": [
    {
     "name": "stderr",
     "output_type": "stream",
     "text": [
      "100%|██████████| 15/15 [00:00<00:00, 78643.20it/s]\n"
     ]
    }
   ],
   "source": [
    "vote_list =[]\n",
    "for idx in tqdm(range(0,len(model_list))):\n",
    "    name = 'model_' + str(idx)\n",
    "    clf = model_list[idx]\n",
    "    vote_list.append((name,clf))"
   ]
  },
  {
   "cell_type": "code",
   "execution_count": null,
   "metadata": {},
   "outputs": [],
   "source": []
  },
  {
   "cell_type": "code",
   "execution_count": null,
   "metadata": {},
   "outputs": [],
   "source": [
    "from sklearn.ensemble import VotingClassifier\n",
    "voting_clf=VotingClassifier(estimators=vote_list,voting='soft',n_jobs=40)\n",
    "voting_clf.fit(val_df1[predictors],val_df1['Fraud'])"
   ]
  },
  {
   "cell_type": "code",
   "execution_count": null,
   "metadata": {},
   "outputs": [],
   "source": [
    "foo = voting_clf.predict_proba(val_df2[predictors])"
   ]
  },
  {
   "cell_type": "code",
   "execution_count": null,
   "metadata": {},
   "outputs": [],
   "source": [
    "_,_,_ = atecml.data.accuracy_validation(val_df2['Fraud'],pd.DataFrame(foo)[1])"
   ]
  },
  {
   "cell_type": "code",
   "execution_count": null,
   "metadata": {},
   "outputs": [],
   "source": []
  },
  {
   "cell_type": "code",
   "execution_count": null,
   "metadata": {},
   "outputs": [],
   "source": []
  },
  {
   "cell_type": "code",
   "execution_count": null,
   "metadata": {},
   "outputs": [],
   "source": []
  },
  {
   "cell_type": "code",
   "execution_count": null,
   "metadata": {},
   "outputs": [],
   "source": []
  },
  {
   "cell_type": "code",
   "execution_count": null,
   "metadata": {},
   "outputs": [],
   "source": []
  },
  {
   "cell_type": "code",
   "execution_count": null,
   "metadata": {},
   "outputs": [],
   "source": []
  },
  {
   "cell_type": "code",
   "execution_count": 13,
   "metadata": {},
   "outputs": [
    {
     "data": {
      "text/plain": [
       "['./score_neg.dat']"
      ]
     },
     "execution_count": 13,
     "metadata": {},
     "output_type": "execute_result"
    }
   ],
   "source": [
    "import joblib\n",
    "#joblib.dump(pos_model_list,'./pos_model_list.dat')\n",
    "#joblib.dump(score_posA,'./score_pos.dat')\n",
    "joblib.dump(neg_model_list,'./neg_model_list.dat')\n",
    "joblib.dump(score_negA,'./score_neg.dat')"
   ]
  },
  {
   "cell_type": "code",
   "execution_count": 17,
   "metadata": {},
   "outputs": [
    {
     "name": "stderr",
     "output_type": "stream",
     "text": [
      "100%|██████████| 5/5 [01:45<00:00, 21.16s/it]\n"
     ]
    }
   ],
   "source": [
    "val_df = train_df[train_df.index.isin(DateFold[5])].reset_index(drop=True)\n",
    "\n",
    "val_r_pos=pd.DataFrame()\n",
    "val_r_neg=pd.DataFrame()\n",
    "\n",
    "for idx in tqdm(range(0,len(neg_model_list))):\n",
    "    #model_pos = pos_model_list[idx]\n",
    "    model_neg = neg_model_list[idx]\n",
    "    #val_pos = model_pos.predict(val_df[predictors],num_iteration=model_pos.best_iteration)\n",
    "    val_neg = model_neg.predict(val_df[predictors],num_iteration=model_neg.best_iteration)\n",
    "    #val_r_pos[idx] = 1 - val_pos\n",
    "    val_r_neg[idx] = val_neg"
   ]
  },
  {
   "cell_type": "code",
   "execution_count": 18,
   "metadata": {},
   "outputs": [],
   "source": [
    "#pos_mean = val_r_pos.mean(axis=1)\n",
    "neg_mean = val_r_neg.mean(axis=1)"
   ]
  },
  {
   "cell_type": "code",
   "execution_count": 19,
   "metadata": {},
   "outputs": [
    {
     "name": "stdout",
     "output_type": "stream",
     "text": [
      "Ant-Score: 0.516549220585095\n"
     ]
    },
    {
     "data": {
      "image/png": "[encoded data removed]",
      "text/plain": [
       "<Figure size 432x288 with 1 Axes>"
      ]
     },
     "metadata": {},
     "output_type": "display_data"
    }
   ],
   "source": [
    "_,_,_ = atecml.data.accuracy_validation(val_df['Fraud'],neg_mean)"
   ]
  },
  {
   "cell_type": "code",
   "execution_count": 20,
   "metadata": {},
   "outputs": [],
   "source": [
    "from sklearn.ensemble import VotingClassifier"
   ]
  },
  {
   "cell_type": "code",
   "execution_count": 21,
   "metadata": {},
   "outputs": [],
   "source": [
    "voting_clf=VotingClassifier(estimators=[('a1',neg_model_list[0]),('rf',neg_model_list[1]),('svc',neg_model_list[2])],voting='soft')\n"
   ]
  },
  {
   "cell_type": "code",
   "execution_count": 25,
   "metadata": {},
   "outputs": [
    {
     "ename": "TypeError",
     "evalue": "Cannot clone object '<lightgbm.basic.Booster object at 0x7f429577b0b8>' (type <class 'lightgbm.basic.Booster'>): it does not seem to be a scikit-learn estimator as it does not implement a 'get_params' methods.",
     "output_type": "error",
     "traceback": [
      "\u001b[0;31m---------------------------------------------------------------------------\u001b[0m",
      "\u001b[0;31mTypeError\u001b[0m                                 Traceback (most recent call last)",
      "\u001b[0;32m<ipython-input-25-fa000d9e29a5>\u001b[0m in \u001b[0;36m<module>\u001b[0;34m()\u001b[0m\n\u001b[0;32m----> 1\u001b[0;31m \u001b[0mvoting_clf\u001b[0m\u001b[0;34m.\u001b[0m\u001b[0mfit\u001b[0m\u001b[0;34m(\u001b[0m\u001b[0mval_df\u001b[0m\u001b[0;34m[\u001b[0m\u001b[0mpredictors\u001b[0m\u001b[0;34m]\u001b[0m\u001b[0;34m,\u001b[0m\u001b[0mval_df\u001b[0m\u001b[0;34m[\u001b[0m\u001b[0;34m'Fraud'\u001b[0m\u001b[0;34m]\u001b[0m\u001b[0;34m)\u001b[0m\u001b[0;34m\u001b[0m\u001b[0m\n\u001b[0m",
      "\u001b[0;32m/usr/local/lib/python3.5/dist-packages/sklearn/ensemble/voting_classifier.py\u001b[0m in \u001b[0;36mfit\u001b[0;34m(self, X, y, sample_weight)\u001b[0m\n\u001b[1;32m    187\u001b[0m                 delayed(_parallel_fit_estimator)(clone(clf), X, transformed_y,\n\u001b[1;32m    188\u001b[0m                                                  sample_weight=sample_weight)\n\u001b[0;32m--> 189\u001b[0;31m                 for clf in clfs if clf is not None)\n\u001b[0m\u001b[1;32m    190\u001b[0m \u001b[0;34m\u001b[0m\u001b[0m\n\u001b[1;32m    191\u001b[0m         \u001b[0;32mreturn\u001b[0m \u001b[0mself\u001b[0m\u001b[0;34m\u001b[0m\u001b[0m\n",
      "\u001b[0;32m/usr/local/lib/python3.5/dist-packages/sklearn/externals/joblib/parallel.py\u001b[0m in \u001b[0;36m__call__\u001b[0;34m(self, iterable)\u001b[0m\n\u001b[1;32m    777\u001b[0m             \u001b[0;31m# was dispatched. In particular this covers the edge\u001b[0m\u001b[0;34m\u001b[0m\u001b[0;34m\u001b[0m\u001b[0m\n\u001b[1;32m    778\u001b[0m             \u001b[0;31m# case of Parallel used with an exhausted iterator.\u001b[0m\u001b[0;34m\u001b[0m\u001b[0;34m\u001b[0m\u001b[0m\n\u001b[0;32m--> 779\u001b[0;31m             \u001b[0;32mwhile\u001b[0m \u001b[0mself\u001b[0m\u001b[0;34m.\u001b[0m\u001b[0mdispatch_one_batch\u001b[0m\u001b[0;34m(\u001b[0m\u001b[0miterator\u001b[0m\u001b[0;34m)\u001b[0m\u001b[0;34m:\u001b[0m\u001b[0;34m\u001b[0m\u001b[0m\n\u001b[0m\u001b[1;32m    780\u001b[0m                 \u001b[0mself\u001b[0m\u001b[0;34m.\u001b[0m\u001b[0m_iterating\u001b[0m \u001b[0;34m=\u001b[0m \u001b[0;32mTrue\u001b[0m\u001b[0;34m\u001b[0m\u001b[0m\n\u001b[1;32m    781\u001b[0m             \u001b[0;32melse\u001b[0m\u001b[0;34m:\u001b[0m\u001b[0;34m\u001b[0m\u001b[0m\n",
      "\u001b[0;32m/usr/local/lib/python3.5/dist-packages/sklearn/externals/joblib/parallel.py\u001b[0m in \u001b[0;36mdispatch_one_batch\u001b[0;34m(self, iterator)\u001b[0m\n\u001b[1;32m    618\u001b[0m \u001b[0;34m\u001b[0m\u001b[0m\n\u001b[1;32m    619\u001b[0m         \u001b[0;32mwith\u001b[0m \u001b[0mself\u001b[0m\u001b[0;34m.\u001b[0m\u001b[0m_lock\u001b[0m\u001b[0;34m:\u001b[0m\u001b[0;34m\u001b[0m\u001b[0m\n\u001b[0;32m--> 620\u001b[0;31m             \u001b[0mtasks\u001b[0m \u001b[0;34m=\u001b[0m \u001b[0mBatchedCalls\u001b[0m\u001b[0;34m(\u001b[0m\u001b[0mitertools\u001b[0m\u001b[0;34m.\u001b[0m\u001b[0mislice\u001b[0m\u001b[0;34m(\u001b[0m\u001b[0miterator\u001b[0m\u001b[0;34m,\u001b[0m \u001b[0mbatch_size\u001b[0m\u001b[0;34m)\u001b[0m\u001b[0;34m)\u001b[0m\u001b[0;34m\u001b[0m\u001b[0m\n\u001b[0m\u001b[1;32m    621\u001b[0m             \u001b[0;32mif\u001b[0m \u001b[0mlen\u001b[0m\u001b[0;34m(\u001b[0m\u001b[0mtasks\u001b[0m\u001b[0;34m)\u001b[0m \u001b[0;34m==\u001b[0m \u001b[0;36m0\u001b[0m\u001b[0;34m:\u001b[0m\u001b[0;34m\u001b[0m\u001b[0m\n\u001b[1;32m    622\u001b[0m                 \u001b[0;31m# No more tasks available in the iterator: tell caller to stop.\u001b[0m\u001b[0;34m\u001b[0m\u001b[0;34m\u001b[0m\u001b[0m\n",
      "\u001b[0;32m/usr/local/lib/python3.5/dist-packages/sklearn/externals/joblib/parallel.py\u001b[0m in \u001b[0;36m__init__\u001b[0;34m(self, iterator_slice)\u001b[0m\n\u001b[1;32m    125\u001b[0m \u001b[0;34m\u001b[0m\u001b[0m\n\u001b[1;32m    126\u001b[0m     \u001b[0;32mdef\u001b[0m \u001b[0m__init__\u001b[0m\u001b[0;34m(\u001b[0m\u001b[0mself\u001b[0m\u001b[0;34m,\u001b[0m \u001b[0miterator_slice\u001b[0m\u001b[0;34m)\u001b[0m\u001b[0;34m:\u001b[0m\u001b[0;34m\u001b[0m\u001b[0m\n\u001b[0;32m--> 127\u001b[0;31m         \u001b[0mself\u001b[0m\u001b[0;34m.\u001b[0m\u001b[0mitems\u001b[0m \u001b[0;34m=\u001b[0m \u001b[0mlist\u001b[0m\u001b[0;34m(\u001b[0m\u001b[0miterator_slice\u001b[0m\u001b[0;34m)\u001b[0m\u001b[0;34m\u001b[0m\u001b[0m\n\u001b[0m\u001b[1;32m    128\u001b[0m         \u001b[0mself\u001b[0m\u001b[0;34m.\u001b[0m\u001b[0m_size\u001b[0m \u001b[0;34m=\u001b[0m \u001b[0mlen\u001b[0m\u001b[0;34m(\u001b[0m\u001b[0mself\u001b[0m\u001b[0;34m.\u001b[0m\u001b[0mitems\u001b[0m\u001b[0;34m)\u001b[0m\u001b[0;34m\u001b[0m\u001b[0m\n\u001b[1;32m    129\u001b[0m \u001b[0;34m\u001b[0m\u001b[0m\n",
      "\u001b[0;32m/usr/local/lib/python3.5/dist-packages/sklearn/ensemble/voting_classifier.py\u001b[0m in \u001b[0;36m<genexpr>\u001b[0;34m(.0)\u001b[0m\n\u001b[1;32m    187\u001b[0m                 delayed(_parallel_fit_estimator)(clone(clf), X, transformed_y,\n\u001b[1;32m    188\u001b[0m                                                  sample_weight=sample_weight)\n\u001b[0;32m--> 189\u001b[0;31m                 for clf in clfs if clf is not None)\n\u001b[0m\u001b[1;32m    190\u001b[0m \u001b[0;34m\u001b[0m\u001b[0m\n\u001b[1;32m    191\u001b[0m         \u001b[0;32mreturn\u001b[0m \u001b[0mself\u001b[0m\u001b[0;34m\u001b[0m\u001b[0m\n",
      "\u001b[0;32m/usr/local/lib/python3.5/dist-packages/sklearn/base.py\u001b[0m in \u001b[0;36mclone\u001b[0;34m(estimator, safe)\u001b[0m\n\u001b[1;32m     56\u001b[0m                             \u001b[0;34m\"it does not seem to be a scikit-learn estimator \"\u001b[0m\u001b[0;34m\u001b[0m\u001b[0m\n\u001b[1;32m     57\u001b[0m                             \u001b[0;34m\"as it does not implement a 'get_params' methods.\"\u001b[0m\u001b[0;34m\u001b[0m\u001b[0m\n\u001b[0;32m---> 58\u001b[0;31m                             % (repr(estimator), type(estimator)))\n\u001b[0m\u001b[1;32m     59\u001b[0m     \u001b[0mklass\u001b[0m \u001b[0;34m=\u001b[0m \u001b[0mestimator\u001b[0m\u001b[0;34m.\u001b[0m\u001b[0m__class__\u001b[0m\u001b[0;34m\u001b[0m\u001b[0m\n\u001b[1;32m     60\u001b[0m     \u001b[0mnew_object_params\u001b[0m \u001b[0;34m=\u001b[0m \u001b[0mestimator\u001b[0m\u001b[0;34m.\u001b[0m\u001b[0mget_params\u001b[0m\u001b[0;34m(\u001b[0m\u001b[0mdeep\u001b[0m\u001b[0;34m=\u001b[0m\u001b[0;32mFalse\u001b[0m\u001b[0;34m)\u001b[0m\u001b[0;34m\u001b[0m\u001b[0m\n",
      "\u001b[0;31mTypeError\u001b[0m: Cannot clone object '<lightgbm.basic.Booster object at 0x7f429577b0b8>' (type <class 'lightgbm.basic.Booster'>): it does not seem to be a scikit-learn estimator as it does not implement a 'get_params' methods."
     ]
    }
   ],
   "source": [
    "voting_clf.fit(val_df[predictors],val_df['Fraud'])"
   ]
  },
  {
   "cell_type": "code",
   "execution_count": 26,
   "metadata": {},
   "outputs": [],
   "source": [
    "foo = neg_model_list[1]"
   ]
  },
  {
   "cell_type": "code",
   "execution_count": 30,
   "metadata": {},
   "outputs": [
    {
     "data": {
      "text/plain": [
       "array([ 588,  523,  739, 1664,  632, 1595, 3183,  763,  795,  694, 1141,\n",
       "        752,  593, 1636, 2249,  536, 1290, 1753, 1773,  237,  405,  230,\n",
       "        307,  567,  814,  757,  749,  349,  384, 1078, 1126,  515,  538,\n",
       "        457,  459,    5,   11,   19,   13,    1,   18,   19,   34,    9,\n",
       "         22,   41,   34,  549,  445,  549,  390, 1024,  996,  809,  501,\n",
       "        366,  450,  621,   61,  184,   26,  265,  318,  169,  185,  200,\n",
       "        102,  132,  136,  105,  133,  184,  285,  215,  202,  299,  281,\n",
       "        228,  224,  623, 1100, 1862,  707,  939,  999,  979,    7,    3,\n",
       "         33,   63,  238,   91,   83,   65,  116,  168,  124,   73,  285,\n",
       "        376,  978,  317,  386,  470,  633, 1396,  158,  192,  182,  451,\n",
       "         56,   65,  175,   96,   61,   70,   80,   68,   71,  124,   90,\n",
       "         66,   61,  113,  128,   88,  151,  118,   64,  125,  131,  138,\n",
       "        117,  216,   69,   52,   82,  109,  103,   78,   79,  132,  116,\n",
       "        157,  152,  125,  102,  201,   83,   72,  179,   68,   53,  149,\n",
       "          4,    4,   85,    3,   30,   91,  597,  643,  667,  658,  499,\n",
       "        157,  221,  154,    8,    5,   15,   26,   43,   12,  132,   92,\n",
       "        210,  414,   38,   57,   43,   21,   29,  511,  491,  165,  133,\n",
       "          7,  133,   20,   12,  225,  170,  103,    1,  130,   11,    8,\n",
       "        145,  124,   27,   24,    9,  921,  560,  478,  689,  617,  829,\n",
       "       2035,  587,  653,  527,  666, 1880, 1278, 1162, 1720,  579,  616,\n",
       "        575,  738,  666,  731,  608,  650,  542,  505,  703,  705,  788,\n",
       "        906,  795, 2149, 1497, 1343, 1616, 2159,  768,  743,  909, 1112,\n",
       "       1782, 1768, 1817, 1651, 1793, 2377,  726,  768,  657,  815, 2103,\n",
       "        145,  158,    8,   34,    8,  530,  350,  537,  953,  960,  342,\n",
       "        504,  722,    8,   90,    6,  412,  267,  102,    8,    6,   11,\n",
       "         19,   57,  391,  333,  148,  279,  246,  274,  231,  223,  217,\n",
       "        225,  100,  187,  301,  388,  190,  171,  138,  118,  213,  229,\n",
       "          0,    0,    8,    0,    3,   94,    0,    1,   16,    6,    0,\n",
       "         57,    0,   53,   34,  148,    0,    2,   27,    2,    7,    0,\n",
       "          0,    7,    0,    0,  109,    0,   41,    5,    0,   43,   28,\n",
       "          0,    6,   26,    0,    0,    2,   89,    3,    5,    9,    0,\n",
       "          0,    0,    0,    4,    0,  124,    0,    3,    0,    0,    0,\n",
       "         11,  164,    4,    0,    0,   10,    7,   82,   32,    6,   11,\n",
       "          0,    2,   22,   12,    0,  125,   26,   27,    3,    9,   59,\n",
       "          0,    1,    1,   43,   59,    0,   18,    0,    1,    0,    3,\n",
       "          3,    0,    0,    0,    0,   14,   10,    9,    0,    9,    3,\n",
       "          2,    0,    5,    0,  150,   10,    4,  196,    0,    0,   12,\n",
       "          3,   93,    8,   12,    0,    0,    8,   12,   56,   33,    0,\n",
       "          3,   36,    1,    0,    2,    0,   83,  113,   67,    1,    0,\n",
       "          7,    0,   45,    4,    2,   25,   19,    9,    3,   12,   16,\n",
       "          0,    0,   14,    2,    6,    0,    8,    6,    0,   14,   12,\n",
       "          1,  159,   11,    0,    1,    0,    1,   40,    0,   14,   12,\n",
       "          3,   13,    0,    1,    5,   96,    4,    0,    5,    5,   45,\n",
       "         11, 4736])"
      ]
     },
     "execution_count": 30,
     "metadata": {},
     "output_type": "execute_result"
    }
   ],
   "source": [
    "foo.feature_importance()"
   ]
  },
  {
   "cell_type": "code",
   "execution_count": null,
   "metadata": {},
   "outputs": [],
   "source": [
    "test_df = pd.read_pickle('./01_test.dat')"
   ]
  },
  {
   "cell_type": "code",
   "execution_count": null,
   "metadata": {},
   "outputs": [],
   "source": [
    "test_r_pos=pd.DataFrame()\n",
    "test_r_neg=pd.DataFrame()\n",
    "\n",
    "for idx in tqdm(range(0,len(pos_model_list))):\n",
    "    #model_pos = pos_model_list[idx]\n",
    "    model_neg = neg_model_list[idx]\n",
    "    #test_pos = model_pos.predict(test_df[predictors],num_iteration=model_pos.best_iteration)\n",
    "    test_neg = model_neg.predict(test_df[predictors],num_iteration=model_neg.best_iteration)\n",
    "    #test_r_pos[idx] = 1 - test_pos\n",
    "    test_r_neg[idx] = test_neg"
   ]
  },
  {
   "cell_type": "code",
   "execution_count": null,
   "metadata": {},
   "outputs": [],
   "source": [
    "neg_mean = test_r_neg.mean(axis=1)"
   ]
  },
  {
   "cell_type": "code",
   "execution_count": null,
   "metadata": {},
   "outputs": [],
   "source": [
    "result=pd.DataFrame()\n",
    "result['id'] = test_df['id']\n",
    "result['score'] = neg_mean"
   ]
  },
  {
   "cell_type": "code",
   "execution_count": null,
   "metadata": {},
   "outputs": [],
   "source": [
    "result[['id','score']].to_csv('./submit_2018_07_05_01.csv',index=False)"
   ]
  },
  {
   "cell_type": "code",
   "execution_count": null,
   "metadata": {},
   "outputs": [],
   "source": [
    "result"
   ]
  },
  {
   "cell_type": "code",
   "execution_count": null,
   "metadata": {},
   "outputs": [],
   "source": []
  }
 ],
 "metadata": {
  "kernelspec": {
   "display_name": "Python 3",
   "language": "python",
   "name": "python3"
  },
  "language_info": {
   "codemirror_mode": {
    "name": "ipython",
    "version": 3
   },
   "file_extension": ".py",
   "mimetype": "text/x-python",
   "name": "python",
   "nbconvert_exporter": "python",
   "pygments_lexer": "ipython3",
   "version": "3.5.2"
  }
 },
 "nbformat": 4,
 "nbformat_minor": 2
}

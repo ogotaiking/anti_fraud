{
 "cells": [
  {
   "cell_type": "code",
   "execution_count": 5,
   "metadata": {},
   "outputs": [],
   "source": [
    "feature = []\n",
    "for idx in range(20,36):\n",
    "    feature.append('f'+str(idx))\n",
    "for idx in range(46,54):\n",
    "    feature.append('f'+str(idx))\n",
    "for idx in range(111,154):\n",
    "    feature.append('f'+str(idx))"
   ]
  },
  {
   "cell_type": "code",
   "execution_count": 6,
   "metadata": {},
   "outputs": [
    {
     "data": {
      "text/plain": [
       "67"
      ]
     },
     "execution_count": 6,
     "metadata": {},
     "output_type": "execute_result"
    }
   ],
   "source": [
    "len(feature)"
   ]
  },
  {
   "cell_type": "code",
   "execution_count": 7,
   "metadata": {},
   "outputs": [
    {
     "data": {
      "text/plain": [
       "['f20',\n",
       " 'f21',\n",
       " 'f22',\n",
       " 'f23',\n",
       " 'f24',\n",
       " 'f25',\n",
       " 'f26',\n",
       " 'f27',\n",
       " 'f28',\n",
       " 'f29',\n",
       " 'f30',\n",
       " 'f31',\n",
       " 'f32',\n",
       " 'f33',\n",
       " 'f34',\n",
       " 'f35',\n",
       " 'f46',\n",
       " 'f47',\n",
       " 'f48',\n",
       " 'f49',\n",
       " 'f50',\n",
       " 'f51',\n",
       " 'f52',\n",
       " 'f53',\n",
       " 'f111',\n",
       " 'f112',\n",
       " 'f113',\n",
       " 'f114',\n",
       " 'f115',\n",
       " 'f116',\n",
       " 'f117',\n",
       " 'f118',\n",
       " 'f119',\n",
       " 'f120',\n",
       " 'f121',\n",
       " 'f122',\n",
       " 'f123',\n",
       " 'f124',\n",
       " 'f125',\n",
       " 'f126',\n",
       " 'f127',\n",
       " 'f128',\n",
       " 'f129',\n",
       " 'f130',\n",
       " 'f131',\n",
       " 'f132',\n",
       " 'f133',\n",
       " 'f134',\n",
       " 'f135',\n",
       " 'f136',\n",
       " 'f137',\n",
       " 'f138',\n",
       " 'f139',\n",
       " 'f140',\n",
       " 'f141',\n",
       " 'f142',\n",
       " 'f143',\n",
       " 'f144',\n",
       " 'f145',\n",
       " 'f146',\n",
       " 'f147',\n",
       " 'f148',\n",
       " 'f149',\n",
       " 'f150',\n",
       " 'f151',\n",
       " 'f152',\n",
       " 'f153']"
      ]
     },
     "execution_count": 7,
     "metadata": {},
     "output_type": "execute_result"
    }
   ],
   "source": [
    "feature"
   ]
  },
  {
   "cell_type": "code",
   "execution_count": null,
   "metadata": {},
   "outputs": [],
   "source": []
  }
 ],
 "metadata": {
  "kernelspec": {
   "display_name": "Python 3",
   "language": "python",
   "name": "python3"
  },
  "language_info": {
   "codemirror_mode": {
    "name": "ipython",
    "version": 3
   },
   "file_extension": ".py",
   "mimetype": "text/x-python",
   "name": "python",
   "nbconvert_exporter": "python",
   "pygments_lexer": "ipython3",
   "version": "3.5.2"
  }
 },
 "nbformat": 4,
 "nbformat_minor": 2
}

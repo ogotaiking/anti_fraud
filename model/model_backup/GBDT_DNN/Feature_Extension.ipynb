{
 "cells": [
  {
   "cell_type": "code",
   "execution_count": 1,
   "metadata": {},
   "outputs": [
    {
     "data": {
      "text/html": [
       "<style>.container { width:100% !important; }</style>"
      ],
      "text/plain": [
       "<IPython.core.display.HTML object>"
      ]
     },
     "metadata": {},
     "output_type": "display_data"
    }
   ],
   "source": [
    "from IPython.core.display import display, HTML\n",
    "display(HTML(\"<style>.container { width:100% !important; }</style>\"))\n",
    "%matplotlib inline\n",
    "import matplotlib\n",
    "import matplotlib.pyplot as plt\n",
    "import matplotlib.gridspec as gridspec\n",
    "import seaborn as sns\n",
    "import os\n",
    "\n",
    "import numpy as np\n",
    "import pandas as pd\n",
    "import tensorflow as tf\n",
    "\n",
    "import atecml.data\n",
    "\n",
    "from contextlib import contextmanager\n",
    "from tqdm import tqdm\n",
    "from sklearn.neighbors import KNeighborsClassifier\n",
    "from sklearn.preprocessing import StandardScaler, MinMaxScaler\n",
    "from imblearn.over_sampling import SMOTE, ADASYN\n",
    "from sklearn.externals import joblib\n",
    "\n",
    "plt.style.use('ggplot')"
   ]
  },
  {
   "cell_type": "code",
   "execution_count": 2,
   "metadata": {},
   "outputs": [],
   "source": [
    "def predict_proba_matrix(trained_model_list,df):\n",
    "    low_band = 0.05\n",
    "    high_band = 0.5\n",
    "    data = df.reset_index(drop=True)\n",
    "    verify_df =pd.DataFrame()\n",
    "    extend_feature = []\n",
    "    with atecml.data.timer('Validation.....'):\n",
    "        for idx in tqdm(range(len(trained_model_list))):\n",
    "            clf = trained_model_list[idx]\n",
    "            model_params = train_model[idx].split('__')\n",
    "            f_idx = int(model_params[3])\n",
    "            select_feature = feature_list[f_idx]\n",
    "            y_predict = clf.predict(data[select_feature])\n",
    "            if (model_params[1] == 'Fraud'):\n",
    "                verify_df['n'+str(idx)] = abs(y_predict)\n",
    "            else:\n",
    "                verify_df['n'+str(idx)] = abs(1- y_predict)\n",
    "            ext = pd.DataFrame(clf.apply(data[select_feature])).T\n",
    "            extend_feature.append(ext)\n",
    "                \n",
    "    v_var=verify_df.var(axis=1)\n",
    "    v_mean=verify_df.mean(axis=1)\n",
    "    v_skew=verify_df.skew(axis=1)\n",
    "    v_kurt=verify_df.T.kurt(axis=1)\n",
    "    verify_df['var'] = v_var\n",
    "    verify_df['mean'] = v_mean\n",
    "    verify_df['skew'] = v_skew\n",
    "    verify_df['kurt'] = v_kurt\n",
    "    \n",
    "    ext_df = pd.concat(extend_feature,ignore_index=True)\n",
    "    #ext_df = pd.concat([ext_df_tmp.T,data['id']],axis=1)\n",
    "            \n",
    "    result = pd.concat([verify_df,data['id']],axis=1)\n",
    "    filter_id_list = list(result[(result['mean'] > low_band) & (result['mean'] < high_band)]['id'])\n",
    "    residual_df = data[data['id'].isin(filter_id_list)].reset_index(drop=True)\n",
    "    \n",
    "    return result,residual_df,ext_df"
   ]
  },
  {
   "cell_type": "code",
   "execution_count": 3,
   "metadata": {},
   "outputs": [
    {
     "name": "stderr",
     "output_type": "stream",
     "text": [
      "  3%|▎         | 1/30 [00:00<00:03,  8.26it/s]"
     ]
    },
    {
     "name": "stdout",
     "output_type": "stream",
     "text": [
      "Load Feature List from persistant store...\n",
      "[2018-06-29 14:59:41][Classification: Model Training] Begin ...\n"
     ]
    },
    {
     "name": "stderr",
     "output_type": "stream",
     "text": [
      "100%|██████████| 30/30 [00:01<00:00, 19.49it/s]"
     ]
    },
    {
     "name": "stdout",
     "output_type": "stream",
     "text": [
      "[2018-06-29 14:59:42][Classification: Model Training] End   ...[Elapsed: 1.55s]\n"
     ]
    },
    {
     "name": "stderr",
     "output_type": "stream",
     "text": [
      "\n"
     ]
    }
   ],
   "source": [
    "#Loading Data....\n",
    "data = atecml.data.load_train()\n",
    "train_df = atecml.data.filter_date(data,start_date='2017-09-05',end_date='2017-10-15')\n",
    "val_df = atecml.data.filter_date(data,start_date='2017-10-16',end_date='2018-10-15')\n",
    "\n",
    "predictors = [x for x in train_df.columns if x not in atecml.data.NOT_FEATURE_SUM]\n",
    "\n",
    "#Loading Data....\n",
    "data = atecml.data.load_train()\n",
    "predictors = [x for x in data.columns if x not in atecml.data.NOT_FEATURE_SUM]\n",
    "\n",
    "\n",
    "feature_tree_num = 5\n",
    "train_model =[]\n",
    "target_list = ['Normal','Fraud']\n",
    "#target_list = ['Normal']\n",
    "#target_list = ['Fraud']\n",
    "\n",
    "for idx in range(0,1):\n",
    "    for item in ['dart','gbdt','rf']:\n",
    "        for feature_grp_idx in range(0,feature_tree_num):\n",
    "            for target in target_list:\n",
    "                train_id = item + '__'+target +'__'+str(idx) +'__' + str(feature_grp_idx)\n",
    "                train_model.append(train_id)\n",
    "\n",
    "                \n",
    "def model_load(model_name):\n",
    "    model_cache_name = './'+model_name+'.model'\n",
    "    if (os.path.exists(model_cache_name)):\n",
    "        clf = joblib.load(model_cache_name)\n",
    "    else:\n",
    "        print('ERROR...............')\n",
    "    return clf\n",
    "\n",
    "\n",
    "if (os.path.exists('./feature_list.dat')):\n",
    "    print('Load Feature List from persistant store...')\n",
    "    feature_list = joblib.load('./feature_list.dat')\n",
    "else:\n",
    "    print('Error: Feature Cache File missing...')\n",
    "\n",
    "\n",
    "trained_model_list =[]\n",
    "with atecml.data.timer('Classification: Model Training'):\n",
    "    for train_id in tqdm(range(len(train_model))):\n",
    "        fit_model = model_load(train_model[train_id])\n",
    "        trained_model_list.append(fit_model)\n",
    "\n",
    "\n"
   ]
  },
  {
   "cell_type": "code",
   "execution_count": 4,
   "metadata": {},
   "outputs": [
    {
     "name": "stderr",
     "output_type": "stream",
     "text": [
      "\r",
      "  0%|          | 0/30 [00:00<?, ?it/s]"
     ]
    },
    {
     "name": "stdout",
     "output_type": "stream",
     "text": [
      "[2018-06-29 14:59:53][Validation.....] Begin ...\n"
     ]
    },
    {
     "name": "stderr",
     "output_type": "stream",
     "text": [
      "100%|██████████| 30/30 [08:39<00:00, 16.52s/it]\n"
     ]
    },
    {
     "name": "stdout",
     "output_type": "stream",
     "text": [
      "[2018-06-29 15:08:32][Validation.....] End   ...[Elapsed: 519.30s]\n"
     ]
    }
   ],
   "source": [
    "verify_df = atecml.data.load_train()\n",
    "verify_data = atecml.data.filter_date(verify_df,start_date='2017-10-16',end_date='2018-10-15')\n",
    "result,res,ext = predict_proba_matrix(trained_model_list,verify_df)"
   ]
  },
  {
   "cell_type": "code",
   "execution_count": null,
   "metadata": {},
   "outputs": [],
   "source": [
    "df2 = pd.concat([ext.T,data],axis=1)"
   ]
  },
  {
   "cell_type": "code",
   "execution_count": null,
   "metadata": {},
   "outputs": [],
   "source": [
    "rename_dict = {}\n",
    "for idx in range(0,12000):\n",
    "    rename_dict[idx] = \"n\" + str(idx)\n",
    "df2.rename(columns=rename_dict,inplace=True)    \n",
    "df2.to_pickle('./ext.df')"
   ]
  },
  {
   "cell_type": "code",
   "execution_count": null,
   "metadata": {},
   "outputs": [],
   "source": []
  },
  {
   "cell_type": "code",
   "execution_count": null,
   "metadata": {},
   "outputs": [],
   "source": []
  },
  {
   "cell_type": "code",
   "execution_count": null,
   "metadata": {},
   "outputs": [],
   "source": [
    "a,b,c=atecml.data.accuracy_validation(verify_df['Fraud'],result['mean'])"
   ]
  },
  {
   "cell_type": "code",
   "execution_count": 14,
   "metadata": {},
   "outputs": [
    {
     "name": "stdout",
     "output_type": "stream",
     "text": [
      "62304\n",
      "4714\n",
      "Ant-Score: 0.7839626644039033\n"
     ]
    },
    {
     "data": {
      "image/png": "[encoded data removed]",
      "text/plain": [
       "<Figure size 432x288 with 1 Axes>"
      ]
     },
     "metadata": {},
     "output_type": "display_data"
    }
   ],
   "source": [
    "low_band=0.05\n",
    "high_band = 0.5\n",
    "\n",
    "filter_id_list = list(result[(result['mean'] > low_band) & (result['mean'] < high_band)]['id'])\n",
    "print(len(filter_id_list))\n",
    "\n",
    "temp_df = verify_df[~verify_df['id'].isin(filter_id_list)].reset_index(drop=True)\n",
    "temp_df_proba = result[~result['id'].isin(filter_id_list)].reset_index(drop=True)\n",
    "print(len(temp_df[temp_df['Fraud']==1]['id']))\n",
    "a,b,c=atecml.data.accuracy_validation(temp_df['Fraud'],temp_df_proba['mean'])"
   ]
  },
  {
   "cell_type": "code",
   "execution_count": null,
   "metadata": {},
   "outputs": [],
   "source": [
    "res_df = verify_df[verify_df['id'].isin(filter_id_list)].reset_index(drop=True)\n",
    "res_df_proba = result[result['id'].isin(filter_id_list)].reset_index(drop=True)\n",
    "a,b,c=atecml.data.accuracy_validation(res_df['Fraud'],res_df_proba['mean'])"
   ]
  },
  {
   "cell_type": "code",
   "execution_count": null,
   "metadata": {},
   "outputs": [],
   "source": [
    "res_train = pd.concat([result[result['id'].isin(list(res['id']))].reset_index(drop=True),res],axis=1)\n",
    "res_train.to_pickle('./res.dat')"
   ]
  },
  {
   "cell_type": "code",
   "execution_count": null,
   "metadata": {},
   "outputs": [],
   "source": [
    "a =set(res_train[res_train['Fraud']==1]['NaN_LIST'])\n",
    "b =set(res_train['NaN_LIST'])"
   ]
  },
  {
   "cell_type": "code",
   "execution_count": null,
   "metadata": {},
   "outputs": [],
   "source": []
  },
  {
   "cell_type": "code",
   "execution_count": null,
   "metadata": {},
   "outputs": [],
   "source": []
  },
  {
   "cell_type": "code",
   "execution_count": null,
   "metadata": {},
   "outputs": [],
   "source": [
    "idx = 1\n",
    "clf = trained_model_list[idx]\n",
    "model_params = train_model[idx].split('__')\n",
    "f_idx = int(model_params[3])\n",
    "select_feature = feature_list[f_idx]\n",
    "a1 = pd.DataFrame(clf.apply(data[select_feature]))"
   ]
  },
  {
   "cell_type": "code",
   "execution_count": null,
   "metadata": {},
   "outputs": [],
   "source": [
    "idx = 2\n",
    "clf = trained_model_list[idx]\n",
    "model_params = train_model[idx].split('__')\n",
    "f_idx = int(model_params[3])\n",
    "select_feature = feature_list[f_idx]\n",
    "a2 = pd.DataFrame(clf.apply(data[select_feature]))"
   ]
  },
  {
   "cell_type": "code",
   "execution_count": null,
   "metadata": {},
   "outputs": [],
   "source": [
    "pd.concat([a1.T,a2.T],ignore_index=True)"
   ]
  },
  {
   "cell_type": "code",
   "execution_count": null,
   "metadata": {},
   "outputs": [],
   "source": []
  },
  {
   "cell_type": "code",
   "execution_count": null,
   "metadata": {},
   "outputs": [],
   "source": []
  },
  {
   "cell_type": "code",
   "execution_count": null,
   "metadata": {},
   "outputs": [],
   "source": []
  },
  {
   "cell_type": "code",
   "execution_count": null,
   "metadata": {},
   "outputs": [],
   "source": []
  },
  {
   "cell_type": "code",
   "execution_count": null,
   "metadata": {},
   "outputs": [],
   "source": []
  },
  {
   "cell_type": "code",
   "execution_count": null,
   "metadata": {},
   "outputs": [],
   "source": [
    "def lgb_modelfit_nocv(params, dtrain, dvalid, predictors, target='target', objective='binary', metrics='binary_error', model_type='gbdt',\n",
    "                 feval=None, early_stopping_rounds=20, num_boost_round=3000, verbose_eval=50, categorical_features=None):\n",
    "    \n",
    "    lgb_params = {\n",
    "        'boosting_type': model_type,\n",
    "        'objective': objective,\n",
    "        'metric': metrics,\n",
    "        'objective': 'regression',\n",
    "        'use_missing' : 'true',\n",
    "        'learning_rate': 0.05,\n",
    "        'num_leaves': 64,  # we should let it be smaller than 2^(max_depth)\n",
    "        'max_depth': -1,  # -1 means no limit\n",
    "        'min_child_samples': 600,  # Minimum number of data need in a child(min_data_in_leaf)\n",
    "        'max_bin': 100,  # Number of bucketed bin for feature values\n",
    "        'colsample_bytree': 0.9,\n",
    "        'subsample': 0.85,  # Subsample ratio of the training instance.\n",
    "        'subsample_freq': 1,  # frequence of subsample, <=0 means no enable\n",
    "        'min_child_weight': 0.05,  # Minimum sum of instance weight(hessian) needed in a child(leaf)\n",
    "        'subsample_for_bin': 200000,  # Number of samples for constructing bin\n",
    "        'min_split_gain': 0,  # lambda_l1, lambda_l2 and min_gain_to_split to regularization\n",
    "        'reg_alpha': 0.01,  # L1 regularization term on weights\n",
    "        'reg_lambda': 0.1,  # L2 regularization term on weights\n",
    "        'nthread': 40,\n",
    "        'verbose': 0,\n",
    "        #'n_estimators' : 600,\n",
    "        'metric':{'l2', 'auc'}\n",
    "    }\n",
    "\n",
    "    lgb_params.update(params)\n",
    "    print(\"preparing validation datasets\")\n",
    "\n",
    "    xgtrain = lgb.Dataset(dtrain[predictors].values, label=dtrain[target].values,\n",
    "                          feature_name=predictors,\n",
    "                          categorical_feature=categorical_features\n",
    "                          )\n",
    "    xgvalid = lgb.Dataset(dvalid[predictors].values, label=dvalid[target].values,\n",
    "                          feature_name=predictors,\n",
    "                          categorical_feature=categorical_features\n",
    "                          )\n",
    "\n",
    "    evals_results = {}\n",
    "\n",
    "    bst1 = lgb.train(lgb_params, \n",
    "                     xgtrain, \n",
    "                     valid_sets=[xgtrain, xgvalid], \n",
    "                     valid_names=['train','valid'], \n",
    "                     evals_result=evals_results, \n",
    "                     num_boost_round=num_boost_round,\n",
    "                     early_stopping_rounds=early_stopping_rounds,\n",
    "                     verbose_eval=verbose_eval, \n",
    "                     feval=feval)\n",
    "\n",
    "    return bst1\n",
    "\n",
    "def model_validation(train_df,val_df,predictors,target,params):\n",
    "    categorical=[]\n",
    "    for item in predictors:\n",
    "        if (item in atecml.data.CATE_FEATURE_LIST):\n",
    "            categorical.append(item)\n",
    "            \n",
    "    if (target == 'Normal'):\n",
    "        params = {\n",
    "            'scale_pos_weight' : 0.12,\n",
    "        } \n",
    "    else:\n",
    "        params = {\n",
    "            'scale_pos_weight' : 8,\n",
    "        }\n",
    "    bst = lgb_modelfit_nocv(params, \n",
    "                        train_df, \n",
    "                        val_df, \n",
    "                        predictors, \n",
    "                        target, \n",
    "                        model_type='rf',\n",
    "                        objective='regression', \n",
    "                        #metrics ='binary',\n",
    "                        metrics={'auc'},\n",
    "                        early_stopping_rounds=1000, \n",
    "                        verbose_eval=50, \n",
    "                        num_boost_round=10000, \n",
    "                        categorical_features=categorical\n",
    "                        )\n",
    "    y_predict = bst.predict(val_df[predictors])\n",
    "    if (target == 'Normal'):\n",
    "        y_predict = 1 - y_predict\n",
    "    atec_Score,b,c=atecml.data.accuracy_validation(val_df['Fraud'],y_predict)\n",
    "    return bst,atec_Score"
   ]
  },
  {
   "cell_type": "code",
   "execution_count": null,
   "metadata": {},
   "outputs": [],
   "source": [
    "data = pd.read_pickle('./res.dat')\n",
    "train_df = atecml.data.filter_date(data,start_date='2017-09-05',end_date='2017-10-13')\n",
    "val_df = atecml.data.filter_date(data,start_date='2017-10-14',end_date='2018-10-15')\n",
    "predictors = [x for x in train_df.columns if x not in atecml.data.NOT_FEATURE_SUM]\n"
   ]
  },
  {
   "cell_type": "code",
   "execution_count": null,
   "metadata": {
    "scrolled": false
   },
   "outputs": [],
   "source": [
    "import lightgbm as lgb\n",
    "\n",
    "model_pos,score_pos = model_validation(train_df,val_df,predictors,'Normal',{})\n",
    "model_neg,score_neg = model_validation(train_df,val_df,predictors,'Fraud',{})"
   ]
  },
  {
   "cell_type": "code",
   "execution_count": null,
   "metadata": {},
   "outputs": [],
   "source": []
  },
  {
   "cell_type": "code",
   "execution_count": null,
   "metadata": {},
   "outputs": [],
   "source": []
  },
  {
   "cell_type": "code",
   "execution_count": null,
   "metadata": {},
   "outputs": [],
   "source": []
  },
  {
   "cell_type": "code",
   "execution_count": null,
   "metadata": {},
   "outputs": [],
   "source": []
  },
  {
   "cell_type": "code",
   "execution_count": null,
   "metadata": {},
   "outputs": [],
   "source": []
  },
  {
   "cell_type": "code",
   "execution_count": null,
   "metadata": {},
   "outputs": [],
   "source": []
  },
  {
   "cell_type": "code",
   "execution_count": null,
   "metadata": {},
   "outputs": [],
   "source": []
  },
  {
   "cell_type": "code",
   "execution_count": null,
   "metadata": {},
   "outputs": [],
   "source": []
  },
  {
   "cell_type": "code",
   "execution_count": null,
   "metadata": {},
   "outputs": [],
   "source": []
  },
  {
   "cell_type": "code",
   "execution_count": null,
   "metadata": {},
   "outputs": [],
   "source": []
  },
  {
   "cell_type": "code",
   "execution_count": null,
   "metadata": {},
   "outputs": [],
   "source": []
  },
  {
   "cell_type": "code",
   "execution_count": null,
   "metadata": {},
   "outputs": [],
   "source": []
  },
  {
   "cell_type": "code",
   "execution_count": null,
   "metadata": {
    "scrolled": false
   },
   "outputs": [],
   "source": [
    "idx = 1\n",
    "clf = trained_model_list[idx]\n",
    "model_params = train_model[idx].split('__')\n",
    "f_idx = int(model_params[3])\n",
    "select_feature = feature_list[f_idx]\n"
   ]
  },
  {
   "cell_type": "code",
   "execution_count": null,
   "metadata": {},
   "outputs": [],
   "source": [
    "sklearn.cluster.KMeans(n_clusters=8,\n",
    "     init='k-means++', \n",
    "    n_init=10, \n",
    "    max_iter=300, \n",
    "    tol=0.0001, \n",
    "    precompute_distances='auto', \n",
    "    verbose=0, \n",
    "    random_state=None, \n",
    "    copy_x=True, \n",
    "    n_jobs=1, \n",
    "    algorithm='auto'\n",
    "    )"
   ]
  },
  {
   "cell_type": "code",
   "execution_count": null,
   "metadata": {},
   "outputs": [],
   "source": [
    "res_feature_list = []\n",
    "for idx in range(0,60):\n",
    "    res_feature_list.append('n'+str(idx))\n",
    "    \n",
    "\n",
    "from sklearn.cluster import KMeans\n",
    "from sklearn.metrics import silhouette_score\n",
    "\n",
    "cluster_n = 5\n",
    "estimator = KMeans(n_clusters=cluster_n,max_iter=50000,n_jobs=-1,algorithm='elkan')\n",
    "estimator.fit(res_train[res_feature_list])"
   ]
  },
  {
   "cell_type": "code",
   "execution_count": null,
   "metadata": {},
   "outputs": [],
   "source": []
  },
  {
   "cell_type": "code",
   "execution_count": null,
   "metadata": {},
   "outputs": [],
   "source": [
    "neg_rate = len(res_train[res_train['Fraud']==1])/len(res_train)"
   ]
  },
  {
   "cell_type": "code",
   "execution_count": null,
   "metadata": {},
   "outputs": [],
   "source": [
    "neg_rate"
   ]
  },
  {
   "cell_type": "code",
   "execution_count": null,
   "metadata": {},
   "outputs": [],
   "source": [
    "res_train['cluster'] = estimator.labels_ "
   ]
  },
  {
   "cell_type": "code",
   "execution_count": null,
   "metadata": {},
   "outputs": [],
   "source": [
    "cluster_ratio = []\n",
    "for idx in range(0,cluster_n):\n",
    "    ratio = res_train[res_train['cluster'] ==idx]['Fraud'].sum() /res_train[res_train['cluster'] ==idx]['Fraud'].count() / neg_rate\n",
    "    cluster_ratio.append(ratio)"
   ]
  },
  {
   "cell_type": "code",
   "execution_count": null,
   "metadata": {},
   "outputs": [],
   "source": [
    "cluster_ratio"
   ]
  },
  {
   "cell_type": "code",
   "execution_count": null,
   "metadata": {},
   "outputs": [],
   "source": [
    "foo = res_train.index.map(lambda x : res_train['mean'][x]*cluster_ratio[res_train['cluster'][x]])"
   ]
  },
  {
   "cell_type": "code",
   "execution_count": null,
   "metadata": {},
   "outputs": [],
   "source": [
    "a,b,c=atecml.data.accuracy_validation(res_df['Fraud'],foo)"
   ]
  },
  {
   "cell_type": "code",
   "execution_count": null,
   "metadata": {},
   "outputs": [],
   "source": []
  },
  {
   "cell_type": "code",
   "execution_count": null,
   "metadata": {},
   "outputs": [],
   "source": [
    "res_train"
   ]
  },
  {
   "cell_type": "code",
   "execution_count": null,
   "metadata": {},
   "outputs": [],
   "source": []
  },
  {
   "cell_type": "code",
   "execution_count": null,
   "metadata": {},
   "outputs": [],
   "source": []
  },
  {
   "cell_type": "code",
   "execution_count": null,
   "metadata": {},
   "outputs": [],
   "source": [
    "temp_df = verify_data[verify_data['id'].isin(filter_id_list)].reset_index(drop=True)\n",
    "temp_df_proba = result[result['id'].isin(filter_id_list)].reset_index(drop=True)\n",
    "a,b,c=atecml.data.accuracy_validation(temp_df['Fraud'],temp_df_proba['mean'])"
   ]
  },
  {
   "cell_type": "code",
   "execution_count": null,
   "metadata": {},
   "outputs": [],
   "source": []
  },
  {
   "cell_type": "code",
   "execution_count": null,
   "metadata": {},
   "outputs": [],
   "source": [
    "low_band = 0.3\n",
    "high_band = 0.7\n",
    "\n",
    "filter_id_list = list(result[(result['mean'] > low_band) & (result['mean'] < high_band)]['id'])\n",
    "\n",
    "temp_df = verify_data[~verify_data['id'].isin(filter_id_list)].reset_index(drop=True)\n",
    "temp_df_proba = result[~result['id'].isin(filter_id_list)].reset_index(drop=True)\n",
    "a,b,c=atecml.data.accuracy_validation(temp_df['Fraud'],temp_df_proba['mean'])"
   ]
  },
  {
   "cell_type": "code",
   "execution_count": null,
   "metadata": {},
   "outputs": [],
   "source": [
    "temp_df = verify_data[verify_data['id'].isin(filter_id_list)].reset_index(drop=True)\n",
    "temp_df_proba = result[result['id'].isin(filter_id_list)].reset_index(drop=True)\n",
    "a,b,c=atecml.data.accuracy_validation(temp_df['Fraud'],temp_df_proba['mean'])"
   ]
  },
  {
   "cell_type": "code",
   "execution_count": null,
   "metadata": {},
   "outputs": [],
   "source": []
  },
  {
   "cell_type": "code",
   "execution_count": null,
   "metadata": {},
   "outputs": [],
   "source": []
  },
  {
   "cell_type": "code",
   "execution_count": null,
   "metadata": {},
   "outputs": [],
   "source": [
    "a,b,c=atecml.data.accuracy_validation(verify_data['Fraud'],result['mean'])"
   ]
  },
  {
   "cell_type": "code",
   "execution_count": null,
   "metadata": {},
   "outputs": [],
   "source": [
    "verify_df = atecml.data.load_train()\n",
    "verify_data = atecml.data.filter_date(verify_df,start_date='2017-10-16',end_date='2018-10-15')\n",
    "verify_data.reset_index(drop=True,inplace=True)"
   ]
  },
  {
   "cell_type": "code",
   "execution_count": null,
   "metadata": {},
   "outputs": [],
   "source": [
    "verify_df =pd.DataFrame()\n",
    "with atecml.data.timer('Validation: Modelfit'):\n",
    "    for idx in tqdm(range(len(trained_model_list))):\n",
    "        clf = trained_model_list[idx]\n",
    "        model_params = train_model[idx].split('__')\n",
    "        f_idx = int(model_params[3])\n",
    "        select_feature = feature_list[f_idx]\n",
    "        y_predict = clf.predict(verify_data[select_feature])\n",
    "        if (model_params[1] == 'Fraud'):\n",
    "            verify_df[idx] = abs(y_predict)\n",
    "        else:\n",
    "            verify_df[idx] = abs(1- y_predict)"
   ]
  },
  {
   "cell_type": "code",
   "execution_count": null,
   "metadata": {},
   "outputs": [],
   "source": [
    "verify_proba_4dnn = pd.concat([verify_df,verify_data['Fraud']],axis=1)\n",
    "verify_proba_4dnn.to_pickle('./verify_proba.dat')\n",
    "verify_df['mean']=verify_df.T.mean()"
   ]
  },
  {
   "cell_type": "code",
   "execution_count": null,
   "metadata": {},
   "outputs": [],
   "source": [
    "a,b,c=atecml.data.accuracy_validation(verify_data['Fraud'],verify_df['mean'])"
   ]
  },
  {
   "cell_type": "code",
   "execution_count": null,
   "metadata": {},
   "outputs": [],
   "source": []
  },
  {
   "cell_type": "code",
   "execution_count": null,
   "metadata": {},
   "outputs": [],
   "source": [
    "#build Train_Proba Matrix for DNN:\n",
    "train_df = atecml.data.load_train()\n",
    "train_df = atecml.data.filter_date(train_df,start_date='2016-10-16',end_date='2017-10-15')\n",
    "train_proba =pd.DataFrame()\n",
    "with atecml.data.timer('Regenerate: Train Proba.....'):\n",
    "    for idx in tqdm(range(len(trained_model_list))):\n",
    "        clf = trained_model_list[idx]\n",
    "        model_params = train_model[idx].split('__')\n",
    "        f_idx = int(model_params[3])\n",
    "        select_feature = feature_list[f_idx]\n",
    "        \n",
    "        y_predict = clf.predict(train_df[select_feature])\n",
    "        if (model_params[1] == 'Fraud'):\n",
    "            train_proba[idx] = y_predict\n",
    "        else:\n",
    "            train_proba[idx] = 1 - y_predict   "
   ]
  },
  {
   "cell_type": "code",
   "execution_count": null,
   "metadata": {},
   "outputs": [],
   "source": [
    "train_proba_4dnn = pd.concat([train_proba,train_df['Fraud']],axis=1)\n",
    "train_proba_4dnn.to_pickle('./train_proba.dat')"
   ]
  },
  {
   "cell_type": "code",
   "execution_count": null,
   "metadata": {},
   "outputs": [],
   "source": []
  },
  {
   "cell_type": "code",
   "execution_count": null,
   "metadata": {},
   "outputs": [],
   "source": [
    "test_df = atecml.data.load_test()\n",
    "predict_df =pd.DataFrame()\n",
    "with atecml.data.timer('Validation: Modelfit'):\n",
    "    for idx in tqdm(range(len(trained_model_list))):\n",
    "        clf = trained_model_list[idx]\n",
    "        model_params = train_model[idx].split('__')\n",
    "        f_idx = int(model_params[3])\n",
    "        select_feature = feature_list[f_idx]\n",
    "        \n",
    "        \n",
    "        y_predict = clf.predict(test_df[select_feature])\n",
    "        if (model_params[1] == 'Fraud'):\n",
    "            predict_df[idx] = y_predict\n",
    "        else:\n",
    "            predict_df[idx] = 1 - y_predict  \n",
    "            \n",
    "predict_df.to_pickle('./test_proba.dat')            "
   ]
  },
  {
   "cell_type": "code",
   "execution_count": null,
   "metadata": {},
   "outputs": [],
   "source": [
    "predict_df['mean']=predict_df.T.mean()"
   ]
  },
  {
   "cell_type": "code",
   "execution_count": null,
   "metadata": {},
   "outputs": [],
   "source": [
    "result = pd.DataFrame()\n",
    "result['id'] = test_df['id']\n",
    "result['score'] =1- predict_df['mean']\n"
   ]
  },
  {
   "cell_type": "code",
   "execution_count": null,
   "metadata": {},
   "outputs": [],
   "source": [
    "result['score'] = result['score'].apply(lambda x: x if (x >0) else 0)\n",
    "result.to_csv('./submit_2018_06_27_7.csv',index=False)"
   ]
  },
  {
   "cell_type": "code",
   "execution_count": null,
   "metadata": {},
   "outputs": [],
   "source": []
  }
 ],
 "metadata": {
  "kernelspec": {
   "display_name": "Python 3",
   "language": "python",
   "name": "python3"
  },
  "language_info": {
   "codemirror_mode": {
    "name": "ipython",
    "version": 3
   },
   "file_extension": ".py",
   "mimetype": "text/x-python",
   "name": "python",
   "nbconvert_exporter": "python",
   "pygments_lexer": "ipython3",
   "version": "3.5.2"
  }
 },
 "nbformat": 4,
 "nbformat_minor": 2
}

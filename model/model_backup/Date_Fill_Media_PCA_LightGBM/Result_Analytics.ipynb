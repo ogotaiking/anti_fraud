{
 "cells": [
  {
   "cell_type": "code",
   "execution_count": 1,
   "metadata": {},
   "outputs": [
    {
     "data": {
      "text/html": [
       "<style>.container { width:100% !important; }</style>"
      ],
      "text/plain": [
       "<IPython.core.display.HTML object>"
      ]
     },
     "metadata": {},
     "output_type": "display_data"
    }
   ],
   "source": [
    "from IPython.core.display import display, HTML\n",
    "display(HTML(\"<style>.container { width:100% !important; }</style>\"))\n",
    "%matplotlib inline\n",
    "import matplotlib\n",
    "import matplotlib.pyplot as plt\n",
    "import matplotlib.gridspec as gridspec\n",
    "import seaborn as sns\n",
    "import os\n",
    "\n",
    "import numpy as np\n",
    "import pandas as pd\n",
    "import tensorflow as tf\n",
    "\n",
    "import atecml.data\n",
    "\n",
    "from contextlib import contextmanager\n",
    "from tqdm import tqdm\n",
    "from sklearn.neighbors import KNeighborsClassifier\n",
    "from sklearn.preprocessing import StandardScaler, MinMaxScaler\n",
    "from imblearn.over_sampling import SMOTE, ADASYN\n",
    "\n",
    "plt.style.use('ggplot')"
   ]
  },
  {
   "cell_type": "code",
   "execution_count": 2,
   "metadata": {},
   "outputs": [],
   "source": [
    "train_df,test_df = atecml.data.load()\n",
    "predictors = [x for x in train_df.columns if x not in atecml.data.NOT_FEATURE_COLUMNS]\n",
    "target = 'Fraud'"
   ]
  },
  {
   "cell_type": "code",
   "execution_count": 64,
   "metadata": {},
   "outputs": [],
   "source": [
    "from sklearn.decomposition import PCA\n",
    "from sklearn.externals import joblib\n",
    "from sklearn.linear_model import LogisticRegressionCV\n",
    "#build Models...\n",
    "from sklearn.ensemble import RandomForestClassifier\n",
    "from sklearn.ensemble import ExtraTreesClassifier\n",
    "from sklearn.ensemble import GradientBoostingClassifier\n",
    "from sklearn.tree import DecisionTreeClassifier\n",
    "from lightgbm import LGBMClassifier\n",
    "from xgboost import XGBClassifier\n",
    "from sklearn.model_selection import train_test_split\n",
    "from sklearn.externals import joblib\n",
    "\n",
    "model = {}\n",
    "\n",
    "#model[\"LR\"] = LogisticRegressionCV(max_iter=1000,n_jobs=-1)\n",
    "#model[\"RandomForest\"] = RandomForestClassifier(n_estimators=1000, max_depth=50, n_jobs=-1)\n",
    "#model[\"ExtraTree\"] =ExtraTreesClassifier(n_estimators=1000, max_depth=50, n_jobs=-1)\n",
    "model[\"LightGBM\"] = LGBMClassifier(n_estimators=10000, max_depth=50)\n",
    "#model[\"GBDT\"] =GradientBoostingClassifier(n_estimators=1000, max_depth=50)\n",
    "#model[\"XGBOOST\"] =XGBClassifier(n_estimators=10, max_depth=5,nthread=80)"
   ]
  },
  {
   "cell_type": "code",
   "execution_count": 65,
   "metadata": {},
   "outputs": [],
   "source": [
    "def model_load(model_name):\n",
    "    model_cache_name = './'+model_name+'.model'\n",
    "    if (os.path.exists(model_cache_name)):\n",
    "        clf = joblib.load(model_cache_name)\n",
    "    else:\n",
    "        print('ERROR...............')\n",
    "    return clf\n",
    "        "
   ]
  },
  {
   "cell_type": "code",
   "execution_count": 66,
   "metadata": {},
   "outputs": [],
   "source": [
    "train_model =[]\n",
    "for idx in range(0,19):\n",
    "    for item in model.keys():\n",
    "        for target in ['Normal','Fraud']:\n",
    "            train_id = item + '__'+target +'__'+str(idx)\n",
    "            train_model.append(train_id)"
   ]
  },
  {
   "cell_type": "code",
   "execution_count": 67,
   "metadata": {},
   "outputs": [
    {
     "data": {
      "text/plain": [
       "['LightGBM__Normal__0',\n",
       " 'LightGBM__Fraud__0',\n",
       " 'LightGBM__Normal__1',\n",
       " 'LightGBM__Fraud__1',\n",
       " 'LightGBM__Normal__2',\n",
       " 'LightGBM__Fraud__2',\n",
       " 'LightGBM__Normal__3',\n",
       " 'LightGBM__Fraud__3',\n",
       " 'LightGBM__Normal__4',\n",
       " 'LightGBM__Fraud__4',\n",
       " 'LightGBM__Normal__5',\n",
       " 'LightGBM__Fraud__5',\n",
       " 'LightGBM__Normal__6',\n",
       " 'LightGBM__Fraud__6',\n",
       " 'LightGBM__Normal__7',\n",
       " 'LightGBM__Fraud__7',\n",
       " 'LightGBM__Normal__8',\n",
       " 'LightGBM__Fraud__8',\n",
       " 'LightGBM__Normal__9',\n",
       " 'LightGBM__Fraud__9',\n",
       " 'LightGBM__Normal__10',\n",
       " 'LightGBM__Fraud__10',\n",
       " 'LightGBM__Normal__11',\n",
       " 'LightGBM__Fraud__11',\n",
       " 'LightGBM__Normal__12',\n",
       " 'LightGBM__Fraud__12',\n",
       " 'LightGBM__Normal__13',\n",
       " 'LightGBM__Fraud__13',\n",
       " 'LightGBM__Normal__14',\n",
       " 'LightGBM__Fraud__14',\n",
       " 'LightGBM__Normal__15',\n",
       " 'LightGBM__Fraud__15',\n",
       " 'LightGBM__Normal__16',\n",
       " 'LightGBM__Fraud__16',\n",
       " 'LightGBM__Normal__17',\n",
       " 'LightGBM__Fraud__17',\n",
       " 'LightGBM__Normal__18',\n",
       " 'LightGBM__Fraud__18']"
      ]
     },
     "execution_count": 67,
     "metadata": {},
     "output_type": "execute_result"
    }
   ],
   "source": [
    "train_model"
   ]
  },
  {
   "cell_type": "code",
   "execution_count": 68,
   "metadata": {},
   "outputs": [
    {
     "name": "stderr",
     "output_type": "stream",
     "text": [
      "100%|██████████| 38/38 [00:00<00:00, 38.82it/s]\n"
     ]
    }
   ],
   "source": [
    "trained_model_list =[]\n",
    "for train_id in tqdm(range(len(train_model))):\n",
    "    fit_model = model_load(train_model[train_id])\n",
    "    trained_model_list.append(fit_model)"
   ]
  },
  {
   "cell_type": "code",
   "execution_count": 69,
   "metadata": {},
   "outputs": [
    {
     "name": "stderr",
     "output_type": "stream",
     "text": [
      "\r",
      "  0%|          | 0/21 [00:00<?, ?it/s]"
     ]
    },
    {
     "name": "stdout",
     "output_type": "stream",
     "text": [
      "[2018-06-24 12:09:24][Fillna by DateMedian] Begin ...\n"
     ]
    },
    {
     "name": "stderr",
     "output_type": "stream",
     "text": [
      "100%|██████████| 21/21 [00:06<00:00,  3.18it/s]\n"
     ]
    },
    {
     "name": "stdout",
     "output_type": "stream",
     "text": [
      "[2018-06-24 12:09:32][Fillna by DateMedian] End   ...[Elapsed: 7.70s]\n"
     ]
    }
   ],
   "source": [
    "verify_df = atecml.data.load_train()\n",
    "verify_data = atecml.data.filter_date(verify_df,start_date='2017-10-16',end_date='2018-10-15')\n",
    "verify_data = atecml.data.fillna_by_DateMedian(verify_data)\n",
    "pca_recover = joblib.load('./pca.model')\n",
    "pca_verify_data = pca_recover.transform(verify_data[predictors])"
   ]
  },
  {
   "cell_type": "code",
   "execution_count": 70,
   "metadata": {},
   "outputs": [
    {
     "name": "stderr",
     "output_type": "stream",
     "text": [
      "\r",
      "  0%|          | 0/38 [00:00<?, ?it/s]"
     ]
    },
    {
     "name": "stdout",
     "output_type": "stream",
     "text": [
      "[2018-06-24 12:09:37][Validation: Modelfit] Begin ...\n"
     ]
    },
    {
     "name": "stderr",
     "output_type": "stream",
     "text": [
      "100%|██████████| 38/38 [01:18<00:00,  2.01s/it]"
     ]
    },
    {
     "name": "stdout",
     "output_type": "stream",
     "text": [
      "[2018-06-24 12:10:56][Validation: Modelfit] End   ...[Elapsed: 78.93s]\n"
     ]
    },
    {
     "name": "stderr",
     "output_type": "stream",
     "text": [
      "\n"
     ]
    }
   ],
   "source": [
    "verify_df =pd.DataFrame()\n",
    "with atecml.data.timer('Validation: Modelfit'):\n",
    "    for idx in tqdm(range(len(trained_model_list))):\n",
    "        clf = trained_model_list[idx]\n",
    "        y_predict = clf.predict_proba(pca_verify_data)\n",
    "        model_params = train_model[idx].split('__')\n",
    "        if (model_params[1] == 'Fraud'):\n",
    "            verify_df[idx] = pd.DataFrame(y_predict)[1]\n",
    "        else:\n",
    "            verify_df[idx] = pd.DataFrame(y_predict)[0]"
   ]
  },
  {
   "cell_type": "code",
   "execution_count": null,
   "metadata": {},
   "outputs": [],
   "source": []
  },
  {
   "cell_type": "code",
   "execution_count": 71,
   "metadata": {},
   "outputs": [],
   "source": [
    "verify_df['mean']=verify_df.T.mean()"
   ]
  },
  {
   "cell_type": "code",
   "execution_count": 72,
   "metadata": {},
   "outputs": [
    {
     "name": "stdout",
     "output_type": "stream",
     "text": [
      "0.1732146829810901\n"
     ]
    },
    {
     "data": {
      "image/png": "[encoded data removed]",
      "text/plain": [
       "<Figure size 432x288 with 1 Axes>"
      ]
     },
     "metadata": {},
     "output_type": "display_data"
    }
   ],
   "source": [
    "a,b,c=atecml.data.accuracy_validation(verify_data[target],verify_df['mean'])"
   ]
  },
  {
   "cell_type": "code",
   "execution_count": 62,
   "metadata": {},
   "outputs": [],
   "source": [
    "verify_df.drop('mean',axis=1,inplace=True)"
   ]
  },
  {
   "cell_type": "code",
   "execution_count": 63,
   "metadata": {},
   "outputs": [
    {
     "data": {
      "text/plain": [
       "<matplotlib.axes._subplots.AxesSubplot at 0x7fe733072358>"
      ]
     },
     "execution_count": 63,
     "metadata": {},
     "output_type": "execute_result"
    },
    {
     "data": {
      "image/png": "[encoded data removed]",
      "text/plain": [
       "<Figure size 432x288 with 1 Axes>"
      ]
     },
     "metadata": {},
     "output_type": "display_data"
    }
   ],
   "source": [
    "(verify_df.T.mean() - verify_df.T.std()).plot()"
   ]
  },
  {
   "cell_type": "code",
   "execution_count": 51,
   "metadata": {},
   "outputs": [
    {
     "name": "stderr",
     "output_type": "stream",
     "text": [
      "\r",
      "  0%|          | 0/32 [00:00<?, ?it/s]"
     ]
    },
    {
     "name": "stdout",
     "output_type": "stream",
     "text": [
      "[2018-06-24 12:05:37][Fillna by DateMedian] Begin ...\n"
     ]
    },
    {
     "name": "stderr",
     "output_type": "stream",
     "text": [
      "100%|██████████| 32/32 [00:11<00:00,  2.73it/s]\n"
     ]
    },
    {
     "name": "stdout",
     "output_type": "stream",
     "text": [
      "[2018-06-24 12:05:50][Fillna by DateMedian] End   ...[Elapsed: 12.83s]\n"
     ]
    }
   ],
   "source": [
    "test_df = atecml.data.load_test()\n",
    "test_df = atecml.data.fillna_by_DateMedian(test_df)"
   ]
  },
  {
   "cell_type": "code",
   "execution_count": 52,
   "metadata": {},
   "outputs": [
    {
     "name": "stderr",
     "output_type": "stream",
     "text": [
      "\r",
      "  0%|          | 0/76 [00:00<?, ?it/s]"
     ]
    },
    {
     "name": "stdout",
     "output_type": "stream",
     "text": [
      "[2018-06-24 12:05:59][Prediction: Modelfit] Begin ...\n"
     ]
    },
    {
     "name": "stderr",
     "output_type": "stream",
     "text": [
      "100%|██████████| 76/76 [02:04<00:00,  1.63s/it]\n"
     ]
    },
    {
     "name": "stdout",
     "output_type": "stream",
     "text": [
      "[2018-06-24 12:08:03][Prediction: Modelfit] End   ...[Elapsed: 124.12s]\n"
     ]
    }
   ],
   "source": [
    "pca_predict_data = pca_recover.transform(test_df[predictors])\n",
    "\n",
    "predict_df =pd.DataFrame()\n",
    "with atecml.data.timer('Prediction: Modelfit'):\n",
    "    for idx in tqdm(range(len(trained_model_list))):\n",
    "        clf = trained_model_list[idx]\n",
    "        y_predict = clf.predict_proba(pca_predict_data)\n",
    "        model_params = train_model[idx].split('__')\n",
    "        if (model_params[1] == 'Fraud'):\n",
    "            predict_df[idx] = pd.DataFrame(y_predict)[1]\n",
    "        else:\n",
    "            predict_df[idx] = pd.DataFrame(y_predict)[0]\n",
    "\n",
    "predict_df['mean']=predict_df.T.mean()\n",
    "result=pd.concat([test_df['id'],predict_df['mean']],axis=1)\n",
    "result.set_index('id').to_csv('./submit_20180623.csv')                                                    "
   ]
  },
  {
   "cell_type": "code",
   "execution_count": null,
   "metadata": {},
   "outputs": [],
   "source": []
  }
 ],
 "metadata": {
  "kernelspec": {
   "display_name": "Python 3",
   "language": "python",
   "name": "python3"
  },
  "language_info": {
   "codemirror_mode": {
    "name": "ipython",
    "version": 3
   },
   "file_extension": ".py",
   "mimetype": "text/x-python",
   "name": "python",
   "nbconvert_exporter": "python",
   "pygments_lexer": "ipython3",
   "version": "3.5.2"
  }
 },
 "nbformat": 4,
 "nbformat_minor": 2
}

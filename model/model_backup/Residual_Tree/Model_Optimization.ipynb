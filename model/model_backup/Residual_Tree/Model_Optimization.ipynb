{
 "cells": [
  {
   "cell_type": "code",
   "execution_count": 1,
   "metadata": {},
   "outputs": [
    {
     "data": {
      "text/html": [
       "<style>.container { width:100% !important; }</style>"
      ],
      "text/plain": [
       "<IPython.core.display.HTML object>"
      ]
     },
     "metadata": {},
     "output_type": "display_data"
    }
   ],
   "source": [
    "from IPython.core.display import display, HTML\n",
    "display(HTML(\"<style>.container { width:100% !important; }</style>\"))\n",
    "%matplotlib inline\n",
    "import matplotlib\n",
    "import matplotlib.pyplot as plt\n",
    "import matplotlib.gridspec as gridspec\n",
    "import seaborn as sns\n",
    "import os\n",
    "\n",
    "import numpy as np\n",
    "import pandas as pd\n",
    "import tensorflow as tf\n",
    "\n",
    "import atecml.data\n",
    "\n",
    "from contextlib import contextmanager\n",
    "from tqdm import tqdm\n",
    "from sklearn.neighbors import KNeighborsClassifier\n",
    "from sklearn.preprocessing import StandardScaler, MinMaxScaler\n",
    "from sklearn.decomposition import PCA\n",
    "from sklearn.externals import joblib\n",
    "from sklearn.linear_model import LogisticRegressionCV\n",
    "#build Models...\n",
    "from sklearn.ensemble import RandomForestClassifier\n",
    "from sklearn.ensemble import ExtraTreesClassifier\n",
    "from sklearn.ensemble import GradientBoostingClassifier\n",
    "from sklearn.tree import DecisionTreeClassifier\n",
    "import lightgbm as lgb\n",
    "from xgboost import XGBClassifier\n",
    "from sklearn.model_selection import train_test_split\n",
    "from sklearn.externals import joblib\n",
    "from imblearn.over_sampling import SMOTE, ADASYN\n",
    "import random\n",
    "\n",
    "plt.style.use('ggplot')"
   ]
  },
  {
   "cell_type": "code",
   "execution_count": 139,
   "metadata": {},
   "outputs": [],
   "source": [
    "def lgb_modelfit_nocv(params, dtrain, dvalid, predictors, target='target', objective='binary', metrics='binary_error',\n",
    "                 feval=None, early_stopping_rounds=20, num_boost_round=3000, verbose_eval=10, categorical_features=None):\n",
    "    lgb_params = {\n",
    "        'boosting_type': 'dart',\n",
    "        #'drop_rate' : 0.2, #Dart Only, DropoutRate\n",
    "        'objective': objective,\n",
    "        'use_missing' : 'true',\n",
    "        'learning_rate': 0.15,\n",
    "        'is_unbalance': 'true',  #because training data is unbalance (replaced with scale_pos_weight)\n",
    "        'num_leaves': 64,  # we should let it be smaller than 2^(max_depth)\n",
    "        'max_depth': -1,  # -1 means no limit\n",
    "        'min_child_samples': 600,  # Minimum number of data need in a child(min_data_in_leaf)\n",
    "        'max_bin': 255,  # Number of bucketed bin for feature values\n",
    "        'feature_fraction': 0.35,\n",
    "        'subsample': 0.7,  # Subsample ratio of the training instance.\n",
    "        'subsample_freq': 1,  # frequence of subsample, <=0 means no enable\n",
    "        'min_child_weight': 0.05,  # Minimum sum of instance weight(hessian) needed in a child(leaf)\n",
    "        'subsample_for_bin': 200000,  # Number of samples for constructing bin\n",
    "        'min_split_gain': 0,  # lambda_l1, lambda_l2 and min_gain_to_split to regularization\n",
    "        'reg_alpha': 5,  # L1 regularization term on weights\n",
    "        'reg_lambda': 10,  # L2 regularization term on weights\n",
    "        'nthread': 40,\n",
    "        'verbose': 0,\n",
    "        'metric':metrics\n",
    "    }\n",
    "\n",
    "    lgb_params.update(params)\n",
    "    print(\"preparing validation datasets\")\n",
    "\n",
    "    xgtrain = lgb.Dataset(dtrain[predictors].values, label=dtrain[target].values,\n",
    "                          feature_name=predictors,\n",
    "                          categorical_feature=categorical_features\n",
    "                          )\n",
    "    xgvalid = lgb.Dataset(dvalid[predictors].values, label=dvalid[target].values,\n",
    "                          feature_name=predictors,\n",
    "                          categorical_feature=categorical_features\n",
    "                          )\n",
    "\n",
    "    evals_results = {}\n",
    "\n",
    "    bst1 = lgb.train(lgb_params, \n",
    "                     xgtrain, \n",
    "                     valid_sets=[xgtrain, xgvalid], \n",
    "                     valid_names=['train','valid'], \n",
    "                     evals_result=evals_results, \n",
    "                     num_boost_round=num_boost_round,\n",
    "                     early_stopping_rounds=early_stopping_rounds,\n",
    "                     verbose_eval=10, \n",
    "                     feval=feval)\n",
    "\n",
    "    n_estimators = bst1.best_iteration\n",
    "    print(\"\\nModel Report\")\n",
    "    print(\"n_estimators : \", n_estimators)\n",
    "    #print(metrics+\":\", evals_results['valid'][metrics][n_estimators-1])    \n",
    "    return bst1\n",
    "\n",
    "def model_validation(train_df,val_df,predictors,target,params):\n",
    "    categorical = ['f5']\n",
    "    bst = lgb_modelfit_nocv(params, \n",
    "                        train_df, \n",
    "                        val_df, \n",
    "                        predictors, \n",
    "                        target, \n",
    "                        objective='binary', \n",
    "                        metrics='auc',\n",
    "                        early_stopping_rounds=100, \n",
    "                        verbose_eval=30, \n",
    "                        num_boost_round=5000, \n",
    "                        categorical_features=categorical)\n",
    "    y_predict = bst.predict(val_df[predictors])\n",
    "    if (target == 'Normal'):\n",
    "        y_predict = 1 - y_predict\n",
    "    atec_Score,b,c=atecml.data.accuracy_validation(val_df['Fraud'],y_predict)\n",
    "    return bst,atec_Score"
   ]
  },
  {
   "cell_type": "markdown",
   "metadata": {},
   "source": [
    "# 不做Fillna和oversample处理"
   ]
  },
  {
   "cell_type": "code",
   "execution_count": 140,
   "metadata": {},
   "outputs": [],
   "source": [
    "data = atecml.data.load_train()\n",
    "train_df = atecml.data.filter_date(data,start_date='2017-09-15',end_date='2017-09-22')\n",
    "val_df = atecml.data.filter_date(data,start_date='2017-09-23',end_date='2018-09-24')\n",
    "\n",
    "predictors = [x for x in train_df.columns if x not in atecml.data.NOT_FEATURE_SUM]"
   ]
  },
  {
   "cell_type": "markdown",
   "metadata": {},
   "source": [
    "## 欺诈判断"
   ]
  },
  {
   "cell_type": "code",
   "execution_count": 141,
   "metadata": {
    "scrolled": false
   },
   "outputs": [
    {
     "name": "stdout",
     "output_type": "stream",
     "text": [
      "preparing validation datasets\n",
      "Training until validation scores don't improve for 100 rounds.\n",
      "[10]\ttrain's auc: 0.986171\tvalid's auc: 0.960418\n",
      "[20]\ttrain's auc: 0.98983\tvalid's auc: 0.968555\n",
      "[30]\ttrain's auc: 0.991961\tvalid's auc: 0.971641\n",
      "[40]\ttrain's auc: 0.993259\tvalid's auc: 0.97287\n",
      "[50]\ttrain's auc: 0.99366\tvalid's auc: 0.973953\n",
      "[60]\ttrain's auc: 0.99435\tvalid's auc: 0.973626\n",
      "[70]\ttrain's auc: 0.994741\tvalid's auc: 0.975574\n",
      "[80]\ttrain's auc: 0.995069\tvalid's auc: 0.975458\n",
      "[90]\ttrain's auc: 0.995187\tvalid's auc: 0.975237\n",
      "[100]\ttrain's auc: 0.995457\tvalid's auc: 0.975377\n",
      "[110]\ttrain's auc: 0.99546\tvalid's auc: 0.975667\n",
      "[120]\ttrain's auc: 0.995699\tvalid's auc: 0.975255\n",
      "[130]\ttrain's auc: 0.995816\tvalid's auc: 0.975028\n",
      "[140]\ttrain's auc: 0.996046\tvalid's auc: 0.974679\n",
      "[150]\ttrain's auc: 0.996213\tvalid's auc: 0.97505\n",
      "[160]\ttrain's auc: 0.996173\tvalid's auc: 0.974768\n",
      "[170]\ttrain's auc: 0.996495\tvalid's auc: 0.974798\n",
      "Early stopping, best iteration is:\n",
      "[78]\ttrain's auc: 0.994971\tvalid's auc: 0.975888\n",
      "\n",
      "Model Report\n",
      "n_estimators :  78\n",
      "Ant-Score: 0.37587966985230237\n"
     ]
    },
    {
     "data": {
      "image/png": "[encoded data removed]",
      "text/plain": [
       "<Figure size 432x288 with 1 Axes>"
      ]
     },
     "metadata": {},
     "output_type": "display_data"
    },
    {
     "name": "stdout",
     "output_type": "stream",
     "text": [
      "preparing validation datasets\n",
      "Training until validation scores don't improve for 100 rounds.\n",
      "[10]\ttrain's auc: 0.97704\tvalid's auc: 0.95198\n",
      "[20]\ttrain's auc: 0.982477\tvalid's auc: 0.96124\n",
      "[30]\ttrain's auc: 0.986016\tvalid's auc: 0.964544\n",
      "[40]\ttrain's auc: 0.988182\tvalid's auc: 0.966567\n",
      "[50]\ttrain's auc: 0.989359\tvalid's auc: 0.967739\n",
      "[60]\ttrain's auc: 0.990347\tvalid's auc: 0.967857\n",
      "[70]\ttrain's auc: 0.991043\tvalid's auc: 0.969029\n",
      "[80]\ttrain's auc: 0.991546\tvalid's auc: 0.968974\n",
      "[90]\ttrain's auc: 0.991798\tvalid's auc: 0.968932\n",
      "[100]\ttrain's auc: 0.992175\tvalid's auc: 0.969047\n",
      "[110]\ttrain's auc: 0.992257\tvalid's auc: 0.969413\n",
      "[120]\ttrain's auc: 0.99271\tvalid's auc: 0.969183\n",
      "[130]\ttrain's auc: 0.99304\tvalid's auc: 0.96891\n",
      "[140]\ttrain's auc: 0.993307\tvalid's auc: 0.968725\n",
      "[150]\ttrain's auc: 0.993581\tvalid's auc: 0.969161\n",
      "[160]\ttrain's auc: 0.993537\tvalid's auc: 0.969051\n",
      "[170]\ttrain's auc: 0.994007\tvalid's auc: 0.968684\n",
      "[180]\ttrain's auc: 0.99425\tvalid's auc: 0.968695\n",
      "[190]\ttrain's auc: 0.994733\tvalid's auc: 0.968648\n",
      "[200]\ttrain's auc: 0.994957\tvalid's auc: 0.96888\n",
      "[210]\ttrain's auc: 0.994984\tvalid's auc: 0.969194\n",
      "Early stopping, best iteration is:\n",
      "[112]\ttrain's auc: 0.992374\tvalid's auc: 0.96948\n",
      "\n",
      "Model Report\n",
      "n_estimators :  112\n",
      "Ant-Score: 0.27042788879235446\n"
     ]
    },
    {
     "data": {
      "image/png": "[encoded data removed]",
      "text/plain": [
       "<Figure size 432x288 with 1 Axes>"
      ]
     },
     "metadata": {},
     "output_type": "display_data"
    }
   ],
   "source": [
    "params = {\n",
    "    'save_binary': 'true'\n",
    "    #'colsample_bytree': 0.9,\n",
    "    #'min_child_weight': 0,\n",
    "    #'min_child_samples': 100,  # Minimum number of data need in a child(min_data_in_leaf)\n",
    "    #'max_bin': 100,  # Number of bucketed bin for feature values\n",
    "    #'subsample': 0.7,  # Subsample ratio of the training instance.\n",
    "    #'subsample_freq': 1,  # frequence of subsample, <=0 means no enable\n",
    "}\n",
    "\n",
    "model_neg,score_neg = model_validation(train_df,val_df,predictors,'Fraud',params)\n",
    "model_pos,score_pos = model_validation(train_df,val_df,predictors,'Normal',params)"
   ]
  },
  {
   "cell_type": "code",
   "execution_count": 142,
   "metadata": {},
   "outputs": [
    {
     "name": "stdout",
     "output_type": "stream",
     "text": [
      "Pos-Atec-Score: 0.27042788879235446\n",
      "Neg-Atec-Score: 0.37587966985230237\n"
     ]
    }
   ],
   "source": [
    "print(\"Pos-Atec-Score:\",score_pos)\n",
    "print(\"Neg-Atec-Score:\",score_neg)"
   ]
  },
  {
   "cell_type": "code",
   "execution_count": null,
   "metadata": {},
   "outputs": [],
   "source": []
  },
  {
   "cell_type": "code",
   "execution_count": null,
   "metadata": {},
   "outputs": [],
   "source": []
  },
  {
   "cell_type": "code",
   "execution_count": null,
   "metadata": {},
   "outputs": [],
   "source": []
  },
  {
   "cell_type": "code",
   "execution_count": null,
   "metadata": {},
   "outputs": [],
   "source": []
  },
  {
   "cell_type": "code",
   "execution_count": null,
   "metadata": {},
   "outputs": [],
   "source": []
  },
  {
   "cell_type": "code",
   "execution_count": null,
   "metadata": {},
   "outputs": [],
   "source": []
  },
  {
   "cell_type": "markdown",
   "metadata": {},
   "source": [
    "# Optimization"
   ]
  },
  {
   "cell_type": "code",
   "execution_count": 87,
   "metadata": {},
   "outputs": [],
   "source": [
    "from sklearn.metrics import roc_auc_score,roc_curve,auc\n",
    "from skopt.space import Real, Integer\n",
    "from skopt.utils import use_named_args\n",
    "import itertools\n",
    "from skopt import gp_minimize\n",
    "import gc\n",
    "\n",
    "data = atecml.data.load_train()\n",
    "train_df = atecml.data.filter_date(data,start_date='2017-09-01',end_date='2017-10-15')\n",
    "val_df = atecml.data.filter_date(data,start_date='2017-10-16',end_date='2018-10-15')\n",
    "target='Fraud'\n",
    "predictors = [x for x in train_df.columns if x not in atecml.data.NOT_FEATURE_SUM]\n",
    "\n",
    "# from that dimension (`'log-uniform'` for the learning rate)\n",
    "space  = [Integer(3, 10, name='max_depth'),\n",
    "          Integer(6, 30, name='num_leaves'),\n",
    "          Integer(50, 1500, name='min_child_samples'),\n",
    "          Real(0.3, 1,  name='feature_fraction'),\n",
    "          Real(0.6, 0.9, name='subsample'),\n",
    "         ]\n"
   ]
  },
  {
   "cell_type": "code",
   "execution_count": 101,
   "metadata": {},
   "outputs": [],
   "source": [
    "def objective(values):\n",
    "\n",
    "    params = {'max_depth': values[0], \n",
    "        'num_leaves': values[1], \n",
    "        'min_child_samples': values[2], \n",
    "        'feature_fraction': values[3],\n",
    "        'subsample': values[4],\n",
    "        'boosting_type': 'dart',\n",
    "        #'drop_rate' : 0.2, #Dart Only, DropoutRate\n",
    "        'objective': 'binary',\n",
    "        'use_missing' : 'true',\n",
    "        'learning_rate': 0.1,\n",
    "        'is_unbalance': 'true',  #because training data is unbalance (replaced with scale_pos_weight)\n",
    "        'max_bin': 64,  # Number of bucketed bin for feature values\n",
    "        'subsample_freq': 1,  # frequence of subsample, <=0 means no enable\n",
    "        'min_child_weight': 5,  # Minimum sum of instance weight(hessian) needed in a child(leaf)\n",
    "        'subsample_for_bin': 200000,  # Number of samples for constructing bin\n",
    "        'min_split_gain': 0,  # lambda_l1, lambda_l2 and min_gain_to_split to regularization\n",
    "        'reg_alpha': 5,  # L1 regularization term on weights\n",
    "        'reg_lambda': 10,  # L2 regularization term on weights\n",
    "        'nthread': -1,\n",
    "        'verbose': 0,\n",
    "        'metric':'auc'\n",
    "        }\n",
    "    \n",
    "\n",
    "    print('\\nNext set of params.....',params)\n",
    "    \n",
    "    categorical = ['f5']\n",
    "    \n",
    "    \n",
    "    early_stopping_rounds = 50\n",
    "    num_boost_round       = 1000\n",
    "    \n",
    "        # Fit model on feature_set and calculate validation AUROC\n",
    "    xgtrain = lgb.Dataset(train_df[predictors].values, label=train_df[target].values,\n",
    "                          feature_name=predictors,\n",
    "                          categorical_feature=categorical\n",
    "                          )\n",
    "    xgvalid = lgb.Dataset(val_df[predictors].values, label=val_df[target].values,\n",
    "                          feature_name=predictors,\n",
    "                          categorical_feature=categorical\n",
    "                          )\n",
    "    \n",
    "    evals_results = {}\n",
    "    model_lgb     = lgb.train(params,xgtrain,valid_sets=[xgtrain, xgvalid], \n",
    "                              valid_names=['train','valid'], \n",
    "                               evals_result=evals_results, \n",
    "                               num_boost_round=num_boost_round,\n",
    "                                early_stopping_rounds=early_stopping_rounds,\n",
    "                               verbose_eval=None, feval=None)\n",
    "    \n",
    "    y_test = val_df[target].values\n",
    "    y_pred = model_lgb.predict(val_df[predictors])\n",
    "    \n",
    "    fpr, tpr, thresholds  = roc_curve(y_test,y_pred)\n",
    "    roc_auc = auc(fpr, tpr)\n",
    "    roc_result = pd.DataFrame()\n",
    "    roc_result['fpr'] = pd.Series(fpr)\n",
    "    roc_result['tpr'] = pd.Series(tpr)\n",
    "    roc_result['thresholds'] = pd.Series(thresholds)\n",
    "    TPR1= float(roc_result[roc_result['fpr']<=0.001002].tail(1)['tpr'])\n",
    "    TPR2=float(roc_result[roc_result['fpr']<=0.005002].tail(1)['tpr'])\n",
    "    TPR3=float(roc_result[roc_result['fpr']<=0.010002].tail(1)['tpr'])\n",
    "    ATEC_SCORE = -(0.4*TPR1 + 0.3*TPR2 + 0.3 * TPR3)\n",
    "    \n",
    "    print('\\nAUC.....',roc_auc,\"Atec-Score\",-ATEC_SCORE,\".....iter.....\", model_lgb.current_iteration())\n",
    "    \n",
    "    gc.collect()\n",
    "    \n",
    "    return  ATEC_SCORE\n"
   ]
  },
  {
   "cell_type": "code",
   "execution_count": 90,
   "metadata": {
    "scrolled": false
   },
   "outputs": [
    {
     "name": "stdout",
     "output_type": "stream",
     "text": [
      "\n",
      "Next set of params..... {'reg_alpha': 0.5, 'metric': 'auc', 'objective': 'binary', 'min_split_gain': 0, 'max_bin': 255, 'nthread': -1, 'is_unbalance': 'true', 'min_child_samples': 693, 'subsample_freq': 1, 'use_missing': 'true', 'min_child_weight': 5, 'learning_rate': 0.15, 'feature_fraction': 0.893076217148888, 'max_depth': 7, 'boosting_type': 'dart', 'num_leaves': 26, 'subsample_for_bin': 2000, 'subsample': 0.7870691090357917, 'reg_lambda': 0.1}\n",
      "\n",
      "AUC..... 0.9852311398533866 Atec-Score 0.4783092324805339 .....iter..... 317\n",
      "\n",
      "Next set of params..... {'reg_alpha': 0.5, 'metric': 'auc', 'objective': 'binary', 'min_split_gain': 0, 'max_bin': 255, 'nthread': -1, 'is_unbalance': 'true', 'min_child_samples': 93, 'subsample_freq': 1, 'use_missing': 'true', 'min_child_weight': 5, 'learning_rate': 0.15, 'feature_fraction': 0.49085940620607926, 'max_depth': 6, 'boosting_type': 'dart', 'num_leaves': 13, 'subsample_for_bin': 2000, 'subsample': 0.743299535196405, 'reg_lambda': 0.1}\n",
      "\n",
      "AUC..... 0.9828603482139073 Atec-Score 0.44952169076751947 .....iter..... 125\n",
      "\n",
      "Next set of params..... {'reg_alpha': 0.5, 'metric': 'auc', 'objective': 'binary', 'min_split_gain': 0, 'max_bin': 255, 'nthread': -1, 'is_unbalance': 'true', 'min_child_samples': 345, 'subsample_freq': 1, 'use_missing': 'true', 'min_child_weight': 5, 'learning_rate': 0.15, 'feature_fraction': 0.8852551344761643, 'max_depth': 9, 'boosting_type': 'dart', 'num_leaves': 18, 'subsample_for_bin': 2000, 'subsample': 0.7012188481251805, 'reg_lambda': 0.1}\n",
      "\n",
      "AUC..... 0.9843759789633698 Atec-Score 0.4791323692992213 .....iter..... 230\n",
      "\n",
      "Next set of params..... {'reg_alpha': 0.5, 'metric': 'auc', 'objective': 'binary', 'min_split_gain': 0, 'max_bin': 255, 'nthread': -1, 'is_unbalance': 'true', 'min_child_samples': 768, 'subsample_freq': 1, 'use_missing': 'true', 'min_child_weight': 5, 'learning_rate': 0.15, 'feature_fraction': 0.3982455462888516, 'max_depth': 8, 'boosting_type': 'dart', 'num_leaves': 15, 'subsample_for_bin': 2000, 'subsample': 0.861026177507531, 'reg_lambda': 0.1}\n",
      "\n",
      "AUC..... 0.9846917793675549 Atec-Score 0.4699666295884316 .....iter..... 290\n",
      "\n",
      "Next set of params..... {'reg_alpha': 0.5, 'metric': 'auc', 'objective': 'binary', 'min_split_gain': 0, 'max_bin': 255, 'nthread': -1, 'is_unbalance': 'true', 'min_child_samples': 440, 'subsample_freq': 1, 'use_missing': 'true', 'min_child_weight': 5, 'learning_rate': 0.15, 'feature_fraction': 0.7752156710832723, 'max_depth': 6, 'boosting_type': 'dart', 'num_leaves': 25, 'subsample_for_bin': 2000, 'subsample': 0.8161897964177751, 'reg_lambda': 0.1}\n",
      "\n",
      "AUC..... 0.9850822272076921 Atec-Score 0.4896329254727475 .....iter..... 230\n",
      "\n",
      "Next set of params..... {'reg_alpha': 0.5, 'metric': 'auc', 'objective': 'binary', 'min_split_gain': 0, 'max_bin': 255, 'nthread': -1, 'is_unbalance': 'true', 'min_child_samples': 619, 'subsample_freq': 1, 'use_missing': 'true', 'min_child_weight': 5, 'learning_rate': 0.15, 'feature_fraction': 0.3741353250314545, 'max_depth': 7, 'boosting_type': 'dart', 'num_leaves': 19, 'subsample_for_bin': 2000, 'subsample': 0.7420801258039973, 'reg_lambda': 0.1}\n",
      "\n",
      "AUC..... 0.984738781072821 Atec-Score 0.47390433815350386 .....iter..... 322\n",
      "\n",
      "Next set of params..... {'reg_alpha': 0.5, 'metric': 'auc', 'objective': 'binary', 'min_split_gain': 0, 'max_bin': 255, 'nthread': -1, 'is_unbalance': 'true', 'min_child_samples': 212, 'subsample_freq': 1, 'use_missing': 'true', 'min_child_weight': 5, 'learning_rate': 0.15, 'feature_fraction': 0.39465272138381646, 'max_depth': 4, 'boosting_type': 'dart', 'num_leaves': 24, 'subsample_for_bin': 2000, 'subsample': 0.6972423023379642, 'reg_lambda': 0.1}\n",
      "\n",
      "AUC..... 0.9839203653210031 Atec-Score 0.46318131256952166 .....iter..... 343\n",
      "\n",
      "Next set of params..... {'reg_alpha': 0.5, 'metric': 'auc', 'objective': 'binary', 'min_split_gain': 0, 'max_bin': 255, 'nthread': -1, 'is_unbalance': 'true', 'min_child_samples': 340, 'subsample_freq': 1, 'use_missing': 'true', 'min_child_weight': 5, 'learning_rate': 0.15, 'feature_fraction': 0.9318189328705833, 'max_depth': 4, 'boosting_type': 'dart', 'num_leaves': 11, 'subsample_for_bin': 2000, 'subsample': 0.7349849969733683, 'reg_lambda': 0.1}\n",
      "\n",
      "AUC..... 0.9834500092759456 Atec-Score 0.46231368186874305 .....iter..... 187\n",
      "\n",
      "Next set of params..... {'reg_alpha': 0.5, 'metric': 'auc', 'objective': 'binary', 'min_split_gain': 0, 'max_bin': 255, 'nthread': -1, 'is_unbalance': 'true', 'min_child_samples': 124, 'subsample_freq': 1, 'use_missing': 'true', 'min_child_weight': 5, 'learning_rate': 0.15, 'feature_fraction': 0.9788663474227242, 'max_depth': 7, 'boosting_type': 'dart', 'num_leaves': 28, 'subsample_for_bin': 2000, 'subsample': 0.7959420107393813, 'reg_lambda': 0.1}\n",
      "\n",
      "AUC..... 0.9851520501431527 Atec-Score 0.48627363737486096 .....iter..... 284\n",
      "\n",
      "Next set of params..... {'reg_alpha': 0.5, 'metric': 'auc', 'objective': 'binary', 'min_split_gain': 0, 'max_bin': 255, 'nthread': -1, 'is_unbalance': 'true', 'min_child_samples': 613, 'subsample_freq': 1, 'use_missing': 'true', 'min_child_weight': 5, 'learning_rate': 0.15, 'feature_fraction': 0.7254814681008275, 'max_depth': 4, 'boosting_type': 'dart', 'num_leaves': 15, 'subsample_for_bin': 2000, 'subsample': 0.6975141687025057, 'reg_lambda': 0.1}\n",
      "\n",
      "AUC..... 0.9838486974153273 Atec-Score 0.4604226918798665 .....iter..... 275\n"
     ]
    }
   ],
   "source": [
    "res_gp = gp_minimize(objective, space, n_calls=10, random_state=0,n_random_starts=10)"
   ]
  },
  {
   "cell_type": "code",
   "execution_count": 104,
   "metadata": {},
   "outputs": [
    {
     "name": "stdout",
     "output_type": "stream",
     "text": [
      "[6, 25, 440, 0.7752156710832723, 0.8161897964177751]\n"
     ]
    }
   ],
   "source": [
    "print(res_gp.x)"
   ]
  },
  {
   "cell_type": "code",
   "execution_count": null,
   "metadata": {},
   "outputs": [],
   "source": []
  },
  {
   "cell_type": "code",
   "execution_count": null,
   "metadata": {},
   "outputs": [],
   "source": []
  },
  {
   "cell_type": "code",
   "execution_count": null,
   "metadata": {},
   "outputs": [],
   "source": []
  },
  {
   "cell_type": "code",
   "execution_count": null,
   "metadata": {},
   "outputs": [],
   "source": []
  },
  {
   "cell_type": "code",
   "execution_count": null,
   "metadata": {},
   "outputs": [],
   "source": []
  },
  {
   "cell_type": "code",
   "execution_count": null,
   "metadata": {},
   "outputs": [],
   "source": []
  },
  {
   "cell_type": "code",
   "execution_count": null,
   "metadata": {},
   "outputs": [],
   "source": []
  },
  {
   "cell_type": "code",
   "execution_count": null,
   "metadata": {},
   "outputs": [],
   "source": []
  },
  {
   "cell_type": "code",
   "execution_count": null,
   "metadata": {},
   "outputs": [],
   "source": []
  },
  {
   "cell_type": "code",
   "execution_count": null,
   "metadata": {},
   "outputs": [],
   "source": []
  },
  {
   "cell_type": "code",
   "execution_count": null,
   "metadata": {},
   "outputs": [],
   "source": []
  },
  {
   "cell_type": "code",
   "execution_count": null,
   "metadata": {},
   "outputs": [],
   "source": []
  },
  {
   "cell_type": "markdown",
   "metadata": {},
   "source": [
    "# 按照日期来填充每日的中位数和SMOTE过采样gcForest"
   ]
  },
  {
   "cell_type": "code",
   "execution_count": null,
   "metadata": {},
   "outputs": [],
   "source": [
    "config = {}\n",
    "ca_config = {}\n",
    "ca_config[\"random_state\"] = 0\n",
    "ca_config[\"max_layers\"] = 100\n",
    "ca_config[\"early_stopping_rounds\"] = 3\n",
    "ca_config[\"n_classes\"] = 10\n",
    "ca_config[\"estimators\"] = []\n",
    "ca_config[\"estimators\"].append(\n",
    "        {\"n_folds\": 5, \"type\": \"XGBClassifier\", \"n_estimators\": 10, \"max_depth\": 5,\n",
    "         \"objective\": \"multi:softprob\", \"silent\": True, \"nthread\": -1, \"learning_rate\": 0.1} )\n",
    "ca_config[\"estimators\"].append({\"n_folds\": 5, \"type\": \"RandomForestClassifier\", \"n_estimators\": 10, \"max_depth\": None, \"n_jobs\": -1})\n",
    "ca_config[\"estimators\"].append({\"n_folds\": 5, \"type\": \"ExtraTreesClassifier\", \"n_estimators\": 10, \"max_depth\": None, \"n_jobs\": -1})\n",
    "ca_config[\"estimators\"].append({\"n_folds\": 5, \"type\": \"LogisticRegression\"})\n",
    "config[\"cascade\"] = ca_config\n"
   ]
  },
  {
   "cell_type": "code",
   "execution_count": null,
   "metadata": {},
   "outputs": [],
   "source": [
    "X_train_enc = gc.fit_transform(X_train, y_train)\n",
    "# X_enc is the concatenated predict_proba result of each estimators of the last layer of the GCForest model\n",
    "# X_enc.shape =\n",
    "#   (n_datas, n_estimators * n_classes): If cascade is provided\n",
    "#   (n_datas, n_estimators * n_classes, dimX, dimY): If only finegrained part is provided\n",
    "# You can also pass X_test, y_test to fit_transform method, then the accracy on test data will be logged when training.\n",
    "# X_train_enc, X_test_enc = gc.fit_transform(X_train, y_train, X_test=X_test, y_test=y_test)\n",
    "# WARNING: if you set gc.set_keep_model_in_mem(True), you would have to use\n",
    "# gc.fit_transform(X_train, y_train, X_test=X_test, y_test=y_test) to evaluate your model.\n",
    "\n",
    "y_pred = gc.predict(X_test)\n",
    "acc = accuracy_score(y_test, y_pred)\n",
    "print(\"Test Accuracy of GcForest = {:.2f} %\".format(acc * 100))\n",
    "\n",
    "# You can try passing X_enc to another classfier on top of gcForest.e.g. xgboost/RF.\n",
    "X_test_enc = gc.transform(X_test)\n",
    "X_train_enc = X_train_enc.reshape((X_train_enc.shape[0], -1))\n",
    "X_test_enc = X_test_enc.reshape((X_test_enc.shape[0], -1))\n",
    "X_train_origin = X_train.reshape((X_train.shape[0], -1))\n",
    "X_test_origin = X_test.reshape((X_test.shape[0], -1))\n",
    "X_train_enc = np.hstack((X_train_origin, X_train_enc))\n",
    "X_test_enc = np.hstack((X_test_origin, X_test_enc))\n",
    "print(\"X_train_enc.shape={}, X_test_enc.shape={}\".format(X_train_enc.shape, X_test_enc.shape))\n",
    "clf = RandomForestClassifier(n_estimators=1000, max_depth=None, n_jobs=-1)\n",
    "clf.fit(X_train_enc, y_train)\n",
    "y_pred = clf.predict(X_test_enc)\n",
    "acc = accuracy_score(y_test, y_pred)\n",
    "print(\"Test Accuracy of Other classifier using gcforest's X_encode = {:.2f} %\".format(acc * 100))\n"
   ]
  },
  {
   "cell_type": "code",
   "execution_count": null,
   "metadata": {},
   "outputs": [],
   "source": [
    "fi = pd.DataFrame()\n",
    "fi['imp']= clf1.feature_importances_\n",
    "fi['feature'] = predictors\n",
    "fi.sort_values('imp',ascending=False)"
   ]
  },
  {
   "cell_type": "code",
   "execution_count": null,
   "metadata": {},
   "outputs": [],
   "source": []
  },
  {
   "cell_type": "code",
   "execution_count": null,
   "metadata": {},
   "outputs": [],
   "source": []
  }
 ],
 "metadata": {
  "kernelspec": {
   "display_name": "Python 3",
   "language": "python",
   "name": "python3"
  },
  "language_info": {
   "codemirror_mode": {
    "name": "ipython",
    "version": 3
   },
   "file_extension": ".py",
   "mimetype": "text/x-python",
   "name": "python",
   "nbconvert_exporter": "python",
   "pygments_lexer": "ipython3",
   "version": "3.5.2"
  }
 },
 "nbformat": 4,
 "nbformat_minor": 2
}

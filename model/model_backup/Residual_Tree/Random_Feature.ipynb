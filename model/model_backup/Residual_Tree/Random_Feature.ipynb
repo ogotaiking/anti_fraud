{
 "cells": [
  {
   "cell_type": "code",
   "execution_count": 1,
   "metadata": {},
   "outputs": [
    {
     "data": {
      "text/html": [
       "<style>.container { width:100% !important; }</style>"
      ],
      "text/plain": [
       "<IPython.core.display.HTML object>"
      ]
     },
     "metadata": {},
     "output_type": "display_data"
    }
   ],
   "source": [
    "from IPython.core.display import display, HTML\n",
    "display(HTML(\"<style>.container { width:100% !important; }</style>\"))\n",
    "%matplotlib inline\n",
    "import matplotlib\n",
    "import matplotlib.pyplot as plt\n",
    "import matplotlib.gridspec as gridspec\n",
    "import seaborn as sns\n",
    "import os\n",
    "\n",
    "import numpy as np\n",
    "import pandas as pd\n",
    "import tensorflow as tf\n",
    "\n",
    "import atecml.data\n",
    "\n",
    "from contextlib import contextmanager\n",
    "from tqdm import tqdm\n",
    "from sklearn.neighbors import KNeighborsClassifier\n",
    "from sklearn.preprocessing import StandardScaler, MinMaxScaler\n",
    "from sklearn.decomposition import PCA\n",
    "from sklearn.externals import joblib\n",
    "from sklearn.linear_model import LogisticRegressionCV\n",
    "#build Models...\n",
    "from sklearn.ensemble import RandomForestClassifier\n",
    "from sklearn.ensemble import ExtraTreesClassifier\n",
    "from sklearn.ensemble import GradientBoostingClassifier\n",
    "from sklearn.tree import DecisionTreeClassifier\n",
    "import lightgbm as lgb\n",
    "from xgboost import XGBClassifier\n",
    "from sklearn.model_selection import train_test_split\n",
    "from sklearn.externals import joblib\n",
    "from imblearn.over_sampling import SMOTE, ADASYN\n",
    "import copy as copy\n",
    "import random\n",
    "\n",
    "plt.style.use('ggplot')"
   ]
  },
  {
   "cell_type": "code",
   "execution_count": 14,
   "metadata": {},
   "outputs": [],
   "source": [
    "def lgb_modelfit_nocv(params, dtrain, dvalid, predictors, target='target', objective='binary', metrics='binary_error',\n",
    "                 feval=None, early_stopping_rounds=20, num_boost_round=3000, verbose_eval=10, categorical_features=None):\n",
    "    lgb_params = {\n",
    "        'boosting_type': 'rf',\n",
    "        #'drop_rate' : 0.2, #Dart Only, DropoutRate\n",
    "        'objective': objective,\n",
    "        'use_missing' : 'true',\n",
    "        'learning_rate': 0.15,\n",
    "        #'is_unbalance': 'true',  #because training data is unbalance (replaced with scale_pos_weight)\n",
    "        'num_leaves': 64,  # we should let it be smaller than 2^(max_depth)\n",
    "        'max_depth': -1,  # -1 means no limit\n",
    "        'min_child_samples': 600,  # Minimum number of data need in a child(min_data_in_leaf)\n",
    "        'max_bin': 255,  # Number of bucketed bin for feature values\n",
    "        'feature_fraction': 0.7,\n",
    "        'subsample': 0.85,  # Subsample ratio of the training instance.\n",
    "        'subsample_freq': 1,  # frequence of subsample, <=0 means no enable\n",
    "        'min_child_weight': 0.05,  # Minimum sum of instance weight(hessian) needed in a child(leaf)\n",
    "        'subsample_for_bin': 2000,  # Number of samples for constructing bin\n",
    "        'min_split_gain': 0,  # lambda_l1, lambda_l2 and min_gain_to_split to regularization\n",
    "        'reg_alpha': 5,  # L1 regularization term on weights\n",
    "        'reg_lambda': 10,  # L2 regularization term on weights\n",
    "        'nthread': 40,\n",
    "        'verbose': 0,\n",
    "        'scale_pos_weight' : 0.01,\n",
    "        'metric':metrics\n",
    "    }\n",
    "\n",
    "    lgb_params.update(params)\n",
    "    print(\"preparing validation datasets\")\n",
    "\n",
    "    xgtrain = lgb.Dataset(dtrain[predictors].values, label=dtrain[target].values,\n",
    "                          feature_name=predictors,\n",
    "                          categorical_feature=categorical_features\n",
    "                          )\n",
    "    xgvalid = lgb.Dataset(dvalid[predictors].values, label=dvalid[target].values,\n",
    "                          feature_name=predictors,\n",
    "                          categorical_feature=categorical_features\n",
    "                          )\n",
    "\n",
    "    evals_results = {}\n",
    "\n",
    "    bst1 = lgb.train(lgb_params, \n",
    "                     xgtrain, \n",
    "                     valid_sets=[xgtrain, xgvalid], \n",
    "                     valid_names=['train','valid'], \n",
    "                     evals_result=evals_results, \n",
    "                     num_boost_round=num_boost_round,\n",
    "                     early_stopping_rounds=early_stopping_rounds,\n",
    "                     verbose_eval=verbose_eval, \n",
    "                     feval=feval)\n",
    "\n",
    "    return bst1\n",
    "\n",
    "def model_validation(train_df,val_df,predictors,target,params):\n",
    "    categorical=[]\n",
    "    for item in predictors:\n",
    "        if (item in atecml.data.CATE_FEATURE_LIST):\n",
    "            categorical.append(item)\n",
    "            \n",
    "    if (target == 'Normal'):\n",
    "        params = {\n",
    "            'scale_pos_weight' : 0.01,\n",
    "        } \n",
    "    else:\n",
    "        params = {\n",
    "            'scale_pos_weight' : 99,\n",
    "        }\n",
    "    bst = lgb_modelfit_nocv(params, \n",
    "                        train_df, \n",
    "                        val_df, \n",
    "                        predictors, \n",
    "                        target, \n",
    "                        objective='binary', \n",
    "                        metrics='auc',\n",
    "                        early_stopping_rounds=100, \n",
    "                        verbose_eval=50, \n",
    "                        num_boost_round=50, \n",
    "                        categorical_features=categorical\n",
    "                        )\n",
    "    y_predict = bst.predict(val_df[predictors])\n",
    "    if (target == 'Normal'):\n",
    "        y_predict = 1 - y_predict\n",
    "    atec_Score,b,c=atecml.data.accuracy_validation(val_df['Fraud'],y_predict)\n",
    "    return bst,atec_Score"
   ]
  },
  {
   "cell_type": "code",
   "execution_count": 15,
   "metadata": {},
   "outputs": [],
   "source": [
    "data = atecml.data.load_train()\n",
    "\n"
   ]
  },
  {
   "cell_type": "code",
   "execution_count": 16,
   "metadata": {},
   "outputs": [
    {
     "data": {
      "text/plain": [
       "\"def feature_extraction(df):\\n    date_list = list(set(df['date']))\\n    tdf_list = []\\n    with atecml.data.timer('Generate New F210 by DateMean'):\\n        for idx in tqdm(range(len(date_list))):\\n            date = date_list[idx]\\n            tdf = df[df['date'] == date]\\n            tdf['new_f210']  =tdf['f210'] - tdf['f210'].mean()\\n            tdf_list.append(tdf)\\n        result = pd.concat(tdf_list)\\n    return result.sort_index()\\n\\ndata = feature_extraction(data)\\n\""
      ]
     },
     "execution_count": 16,
     "metadata": {},
     "output_type": "execute_result"
    }
   ],
   "source": [
    "'''def feature_extraction(df):\n",
    "    date_list = list(set(df['date']))\n",
    "    tdf_list = []\n",
    "    with atecml.data.timer('Generate New F210 by DateMean'):\n",
    "        for idx in tqdm(range(len(date_list))):\n",
    "            date = date_list[idx]\n",
    "            tdf = df[df['date'] == date]\n",
    "            tdf['new_f210']  =tdf['f210'] - tdf['f210'].mean()\n",
    "            tdf_list.append(tdf)\n",
    "        result = pd.concat(tdf_list)\n",
    "    return result.sort_index()\n",
    "\n",
    "data = feature_extraction(data)\n",
    "'''"
   ]
  },
  {
   "cell_type": "code",
   "execution_count": 17,
   "metadata": {},
   "outputs": [],
   "source": [
    "train_df = atecml.data.filter_date(data,start_date='2017-09-05',end_date='2017-10-15')\n",
    "val_df = atecml.data.filter_date(data,start_date='2017-10-16',end_date='2018-10-15')"
   ]
  },
  {
   "cell_type": "code",
   "execution_count": 18,
   "metadata": {
    "scrolled": false
   },
   "outputs": [],
   "source": [
    "predictors = [x for x in train_df.columns if x not in atecml.data.NOT_FEATURE_SUM]\n",
    "#model_pos,score_pos = model_validation(train_df,val_df,predictors,'Normal',{})\n",
    "#model_neg,score_neg = model_validation(train_df,val_df,predictors,'Fraud',{})"
   ]
  },
  {
   "cell_type": "code",
   "execution_count": 19,
   "metadata": {},
   "outputs": [],
   "source": [
    "predictors = [x for x in train_df.columns if x not in atecml.data.NOT_FEATURE_SUM]\n",
    "imp_feature = ['f7', 'f210', 'f248', 'f5', 'f82', 'f6', 'f238', 'f30', 'f234', 'f244', 'f106', 'f253', 'f215', 'f84', 'f52', 'f15', 'f243', 'f31', 'f29', 'f53']\n",
    "predictors_wo_imp = [x for x in predictors if x not in imp_feature]"
   ]
  },
  {
   "cell_type": "code",
   "execution_count": 20,
   "metadata": {},
   "outputs": [
    {
     "name": "stdout",
     "output_type": "stream",
     "text": [
      "Generate Random Feature List...\n"
     ]
    }
   ],
   "source": [
    "feature_tree_num = 100\n",
    "print('Generate Random Feature List...')\n",
    "feature_list = {}\n",
    "for idx in range(0,feature_tree_num):\n",
    "    feature_set = set(random.sample(predictors,70))\n",
    "    feature_list[idx] = list(feature_set)\n",
    "    #feature_set = set(random.sample(predictors_wo_imp,40))\n",
    "    #feature_list[idx] = imp_feature + list(feature_set)\n",
    "#joblib.dump(feature_list,'./feature_list.dat')\n"
   ]
  },
  {
   "cell_type": "code",
   "execution_count": null,
   "metadata": {},
   "outputs": [],
   "source": []
  },
  {
   "cell_type": "code",
   "execution_count": null,
   "metadata": {},
   "outputs": [],
   "source": []
  },
  {
   "cell_type": "code",
   "execution_count": 21,
   "metadata": {},
   "outputs": [],
   "source": [
    "idx =3"
   ]
  },
  {
   "cell_type": "code",
   "execution_count": 22,
   "metadata": {
    "scrolled": false
   },
   "outputs": [
    {
     "name": "stdout",
     "output_type": "stream",
     "text": [
      "preparing validation datasets\n",
      "Training until validation scores don't improve for 100 rounds.\n",
      "[50]\ttrain's auc: 0.950329\tvalid's auc: 0.949222\n",
      "Did not meet early stopping. Best iteration is:\n",
      "[46]\ttrain's auc: 0.950383\tvalid's auc: 0.949126\n",
      "Ant-Score: 0.18976640711902112\n"
     ]
    },
    {
     "data": {
      "image/png": "[encoded data removed]",
      "text/plain": [
       "<Figure size 432x288 with 1 Axes>"
      ]
     },
     "metadata": {},
     "output_type": "display_data"
    },
    {
     "name": "stdout",
     "output_type": "stream",
     "text": [
      "preparing validation datasets\n",
      "Training until validation scores don't improve for 100 rounds.\n",
      "[50]\ttrain's auc: 0.975113\tvalid's auc: 0.969471\n",
      "Did not meet early stopping. Best iteration is:\n",
      "[44]\ttrain's auc: 0.975211\tvalid's auc: 0.969327\n",
      "Ant-Score: 0.33741935483870966\n"
     ]
    },
    {
     "data": {
      "image/png": "[encoded data removed]",
      "text/plain": [
       "<Figure size 432x288 with 1 Axes>"
      ]
     },
     "metadata": {},
     "output_type": "display_data"
    }
   ],
   "source": [
    "model_pos,score_pos = model_validation(train_df,val_df,feature_list[idx],'Normal',{})\n",
    "model_neg,score_neg = model_validation(train_df,val_df,feature_list[idx],'Fraud',{})"
   ]
  },
  {
   "cell_type": "code",
   "execution_count": null,
   "metadata": {},
   "outputs": [],
   "source": [
    "val_pos = model_pos.predict(val_df[predictors],num_iteration=model_pos.best_iteration)\n",
    "val_neg = model_neg.predict(val_df[predictors],num_iteration=model_neg.best_iteration)\n",
    "val_r=pd.DataFrame()\n",
    "val_r['score_pos'] = 1-val_pos\n",
    "val_r['score_neg'] = val_neg\n"
   ]
  },
  {
   "cell_type": "code",
   "execution_count": null,
   "metadata": {},
   "outputs": [],
   "source": [
    "val_r['score'] = val_r['score_pos']*0.1  + val_r['score_neg'] *0.9\n",
    "a,b,c = atecml.data.accuracy_validation(val_df['Fraud'],val_r['score'])"
   ]
  },
  {
   "cell_type": "code",
   "execution_count": null,
   "metadata": {},
   "outputs": [],
   "source": []
  },
  {
   "cell_type": "code",
   "execution_count": null,
   "metadata": {},
   "outputs": [],
   "source": []
  },
  {
   "cell_type": "code",
   "execution_count": null,
   "metadata": {},
   "outputs": [],
   "source": []
  },
  {
   "cell_type": "code",
   "execution_count": null,
   "metadata": {},
   "outputs": [],
   "source": [
    "test_df = atecml.data.load_test()\n",
    "y_proba_pos = model_pos.predict(test_df[predictors],num_iteration=model_pos.best_iteration)\n",
    "y_proba_neg = model_neg.predict(test_df[predictors],num_iteration=model_neg.best_iteration)"
   ]
  },
  {
   "cell_type": "code",
   "execution_count": null,
   "metadata": {},
   "outputs": [],
   "source": [
    "result=pd.DataFrame()\n",
    "result['id'] = test_df['id']\n",
    "result['score_pos'] = 1-y_proba_pos\n",
    "result['score_neg'] = y_proba_neg\n",
    "result['score'] = result['score_pos']*0.1  + result['score_neg'] *0.9"
   ]
  },
  {
   "cell_type": "code",
   "execution_count": null,
   "metadata": {},
   "outputs": [],
   "source": [
    "result[['id','score']].to_csv('./submit_2018_06_26_02.csv',index=False)"
   ]
  },
  {
   "cell_type": "code",
   "execution_count": null,
   "metadata": {},
   "outputs": [],
   "source": []
  },
  {
   "cell_type": "code",
   "execution_count": null,
   "metadata": {},
   "outputs": [],
   "source": []
  }
 ],
 "metadata": {
  "kernelspec": {
   "display_name": "Python 3",
   "language": "python",
   "name": "python3"
  },
  "language_info": {
   "codemirror_mode": {
    "name": "ipython",
    "version": 3
   },
   "file_extension": ".py",
   "mimetype": "text/x-python",
   "name": "python",
   "nbconvert_exporter": "python",
   "pygments_lexer": "ipython3",
   "version": "3.5.2"
  }
 },
 "nbformat": 4,
 "nbformat_minor": 2
}

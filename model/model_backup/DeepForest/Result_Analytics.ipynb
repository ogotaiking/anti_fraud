{
 "cells": [
  {
   "cell_type": "code",
   "execution_count": 1,
   "metadata": {},
   "outputs": [
    {
     "data": {
      "text/html": [
       "<style>.container { width:100% !important; }</style>"
      ],
      "text/plain": [
       "<IPython.core.display.HTML object>"
      ]
     },
     "metadata": {},
     "output_type": "display_data"
    }
   ],
   "source": [
    "from IPython.core.display import display, HTML\n",
    "display(HTML(\"<style>.container { width:100% !important; }</style>\"))\n",
    "%matplotlib inline\n",
    "import matplotlib\n",
    "import matplotlib.pyplot as plt\n",
    "import matplotlib.gridspec as gridspec\n",
    "import seaborn as sns\n",
    "import os\n",
    "\n",
    "import numpy as np\n",
    "import pandas as pd\n",
    "import tensorflow as tf\n",
    "\n",
    "import atecml.data\n",
    "\n",
    "from contextlib import contextmanager\n",
    "from tqdm import tqdm\n",
    "from sklearn.neighbors import KNeighborsClassifier\n",
    "from sklearn.preprocessing import StandardScaler, MinMaxScaler\n",
    "from imblearn.over_sampling import SMOTE, ADASYN\n",
    "\n",
    "plt.style.use('ggplot')"
   ]
  },
  {
   "cell_type": "code",
   "execution_count": 2,
   "metadata": {},
   "outputs": [],
   "source": [
    "train_df,test_df = atecml.data.load()\n",
    "predictors = [x for x in train_df.columns if x not in atecml.data.NOT_FEATURE_COLUMNS]\n",
    "target = 'Fraud'"
   ]
  },
  {
   "cell_type": "code",
   "execution_count": 9,
   "metadata": {},
   "outputs": [
    {
     "name": "stdout",
     "output_type": "stream",
     "text": [
      "Load Feature List from persistant store...\n"
     ]
    }
   ],
   "source": [
    "from sklearn.decomposition import PCA\n",
    "from sklearn.externals import joblib\n",
    "from sklearn.linear_model import LogisticRegressionCV\n",
    "#build Models...\n",
    "from sklearn.ensemble import RandomForestClassifier\n",
    "from sklearn.ensemble import ExtraTreesClassifier\n",
    "from sklearn.ensemble import GradientBoostingClassifier\n",
    "from sklearn.tree import DecisionTreeClassifier\n",
    "from lightgbm import LGBMClassifier\n",
    "from xgboost import XGBClassifier\n",
    "from sklearn.model_selection import train_test_split\n",
    "from sklearn.externals import joblib\n",
    "\n",
    "feature_tree_num = 50\n",
    "if (os.path.exists('./feature_list.dat')):\n",
    "    print('Load Feature List from persistant store...')\n",
    "    feature_list = joblib.load('./feature_list.dat')\n",
    "    \n",
    "model = {}\n",
    "\n",
    "gbdt_params = {'boosting_type': 'gbdt',\n",
    "                      'max_depth': 50,\n",
    "                      'n_estimators': 100,\n",
    "                      'use_missing' : True,\n",
    "                      'categorical_feature': 4,\n",
    "                      'is_unbalance': True,\n",
    "                      'seed': 42,\n",
    "                      'nthread': -1}\n",
    "goss_params = {'boosting_type': 'goss',\n",
    "                      'max_depth': 50,\n",
    "                      'n_estimators': 100,\n",
    "                      'use_missing' : True,\n",
    "                      'categorical_feature': 4,\n",
    "                      'is_unbalance': True,\n",
    "                      'seed': 42,\n",
    "                      'nthread': -1}\n",
    "\n",
    "dart_params = {'boosting_type': 'dart',\n",
    "                      'max_depth': 50,\n",
    "                      'n_estimators': 100,\n",
    "                      'use_missing' : True,\n",
    "                      'categorical_feature': 4,\n",
    "                      'is_unbalance': True,\n",
    "                      'seed': 42,\n",
    "                      'nthread': -1}\n",
    "\n",
    "model[\"GBDT\"] = LGBMClassifier(**gbdt_params)\n",
    "#model[\"GOSS\"] = LGBMClassifier(**goss_params)\n",
    "#model[\"DART\"] = LGBMClassifier(**dart_params)\n"
   ]
  },
  {
   "cell_type": "code",
   "execution_count": 10,
   "metadata": {},
   "outputs": [],
   "source": [
    "def model_load(model_name):\n",
    "    model_cache_name = './'+model_name+'.model'\n",
    "    if (os.path.exists(model_cache_name)):\n",
    "        clf = joblib.load(model_cache_name)\n",
    "    else:\n",
    "        print('ERROR...............')\n",
    "    return clf\n",
    "        "
   ]
  },
  {
   "cell_type": "code",
   "execution_count": 11,
   "metadata": {},
   "outputs": [],
   "source": [
    "train_model =[]\n",
    "for idx in range(0,1):\n",
    "    for item in model.keys():\n",
    "        for feature_grp_idx in range(0,feature_tree_num):\n",
    "            for target in ['Fraud']:\n",
    "                train_id = item + '__'+target +'__'+str(idx) +'__' + str(feature_grp_idx)\n",
    "                train_model.append(train_id)"
   ]
  },
  {
   "cell_type": "code",
   "execution_count": 12,
   "metadata": {
    "scrolled": false
   },
   "outputs": [
    {
     "data": {
      "text/plain": [
       "['GBDT__Fraud__0__0',\n",
       " 'GBDT__Fraud__0__1',\n",
       " 'GBDT__Fraud__0__2',\n",
       " 'GBDT__Fraud__0__3',\n",
       " 'GBDT__Fraud__0__4',\n",
       " 'GBDT__Fraud__0__5',\n",
       " 'GBDT__Fraud__0__6',\n",
       " 'GBDT__Fraud__0__7',\n",
       " 'GBDT__Fraud__0__8',\n",
       " 'GBDT__Fraud__0__9',\n",
       " 'GBDT__Fraud__0__10',\n",
       " 'GBDT__Fraud__0__11',\n",
       " 'GBDT__Fraud__0__12',\n",
       " 'GBDT__Fraud__0__13',\n",
       " 'GBDT__Fraud__0__14',\n",
       " 'GBDT__Fraud__0__15',\n",
       " 'GBDT__Fraud__0__16',\n",
       " 'GBDT__Fraud__0__17',\n",
       " 'GBDT__Fraud__0__18',\n",
       " 'GBDT__Fraud__0__19',\n",
       " 'GBDT__Fraud__0__20',\n",
       " 'GBDT__Fraud__0__21',\n",
       " 'GBDT__Fraud__0__22',\n",
       " 'GBDT__Fraud__0__23',\n",
       " 'GBDT__Fraud__0__24',\n",
       " 'GBDT__Fraud__0__25',\n",
       " 'GBDT__Fraud__0__26',\n",
       " 'GBDT__Fraud__0__27',\n",
       " 'GBDT__Fraud__0__28',\n",
       " 'GBDT__Fraud__0__29',\n",
       " 'GBDT__Fraud__0__30',\n",
       " 'GBDT__Fraud__0__31',\n",
       " 'GBDT__Fraud__0__32',\n",
       " 'GBDT__Fraud__0__33',\n",
       " 'GBDT__Fraud__0__34',\n",
       " 'GBDT__Fraud__0__35',\n",
       " 'GBDT__Fraud__0__36',\n",
       " 'GBDT__Fraud__0__37',\n",
       " 'GBDT__Fraud__0__38',\n",
       " 'GBDT__Fraud__0__39',\n",
       " 'GBDT__Fraud__0__40',\n",
       " 'GBDT__Fraud__0__41',\n",
       " 'GBDT__Fraud__0__42',\n",
       " 'GBDT__Fraud__0__43',\n",
       " 'GBDT__Fraud__0__44',\n",
       " 'GBDT__Fraud__0__45',\n",
       " 'GBDT__Fraud__0__46',\n",
       " 'GBDT__Fraud__0__47',\n",
       " 'GBDT__Fraud__0__48',\n",
       " 'GBDT__Fraud__0__49']"
      ]
     },
     "execution_count": 12,
     "metadata": {},
     "output_type": "execute_result"
    }
   ],
   "source": [
    "train_model"
   ]
  },
  {
   "cell_type": "code",
   "execution_count": 13,
   "metadata": {},
   "outputs": [
    {
     "name": "stderr",
     "output_type": "stream",
     "text": [
      "  4%|▍         | 2/50 [00:00<00:03, 14.96it/s]"
     ]
    },
    {
     "name": "stdout",
     "output_type": "stream",
     "text": [
      "[2018-06-25 17:24:35][Classification: Model Training] Begin ...\n"
     ]
    },
    {
     "name": "stderr",
     "output_type": "stream",
     "text": [
      "100%|██████████| 50/50 [00:01<00:00, 33.67it/s]"
     ]
    },
    {
     "name": "stdout",
     "output_type": "stream",
     "text": [
      "[2018-06-25 17:24:37][Classification: Model Training] End   ...[Elapsed: 1.49s]\n"
     ]
    },
    {
     "name": "stderr",
     "output_type": "stream",
     "text": [
      "\n"
     ]
    }
   ],
   "source": [
    "trained_model_list =[]\n",
    "with atecml.data.timer('Classification: Model Training'):\n",
    "    for train_id in tqdm(range(len(train_model))):\n",
    "        fit_model = model_load(train_model[train_id])\n",
    "        trained_model_list.append(fit_model)"
   ]
  },
  {
   "cell_type": "code",
   "execution_count": 14,
   "metadata": {},
   "outputs": [],
   "source": [
    "verify_df = atecml.data.load_train()\n",
    "verify_data = atecml.data.filter_date(verify_df,start_date='2017-10-16',end_date='2018-10-15')\n",
    "verify_data.reset_index(drop=True,inplace=True)"
   ]
  },
  {
   "cell_type": "code",
   "execution_count": 15,
   "metadata": {},
   "outputs": [
    {
     "name": "stderr",
     "output_type": "stream",
     "text": [
      "\r",
      "  0%|          | 0/50 [00:00<?, ?it/s]"
     ]
    },
    {
     "name": "stdout",
     "output_type": "stream",
     "text": [
      "[2018-06-25 17:24:57][Validation: Modelfit] Begin ...\n"
     ]
    },
    {
     "name": "stderr",
     "output_type": "stream",
     "text": [
      "100%|██████████| 50/50 [01:09<00:00,  1.41s/it]"
     ]
    },
    {
     "name": "stdout",
     "output_type": "stream",
     "text": [
      "[2018-06-25 17:26:06][Validation: Modelfit] End   ...[Elapsed: 69.46s]\n"
     ]
    },
    {
     "name": "stderr",
     "output_type": "stream",
     "text": [
      "\n"
     ]
    }
   ],
   "source": [
    "verify_df =pd.DataFrame()\n",
    "verify_proba =pd.DataFrame()\n",
    "with atecml.data.timer('Validation: Modelfit'):\n",
    "    for idx in tqdm(range(len(trained_model_list))):\n",
    "        clf = trained_model_list[idx]\n",
    "        model_params = train_model[idx].split('__')\n",
    "        f_idx = int(model_params[3])\n",
    "        select_feature = feature_list[f_idx]\n",
    "        y_predict = clf.predict_proba(verify_data[select_feature])\n",
    "        verify_proba['n1_'+str(idx)] = pd.DataFrame(y_predict)[0]\n",
    "        verify_proba['n2_'+str(idx)] = pd.DataFrame(y_predict)[1]\n",
    "        if (model_params[1] == 'Fraud'):\n",
    "            verify_df[idx] = pd.DataFrame(y_predict)[1]\n",
    "        else:\n",
    "            verify_df[idx] = pd.DataFrame(y_predict)[0]"
   ]
  },
  {
   "cell_type": "code",
   "execution_count": 16,
   "metadata": {},
   "outputs": [],
   "source": [
    "verify_proba_4dnn = pd.concat([verify_proba,verify_data['Fraud']],axis=1)\n",
    "verify_proba_4dnn.to_pickle('./verify_proba.dat')\n",
    "verify_df['mean']=verify_df.T.mean()"
   ]
  },
  {
   "cell_type": "code",
   "execution_count": 17,
   "metadata": {},
   "outputs": [
    {
     "name": "stdout",
     "output_type": "stream",
     "text": [
      "0.4781979977753059\n"
     ]
    },
    {
     "data": {
      "image/png": "[encoded data removed]",
      "text/plain": [
       "<Figure size 432x288 with 1 Axes>"
      ]
     },
     "metadata": {},
     "output_type": "display_data"
    }
   ],
   "source": [
    "a,b,c=atecml.data.accuracy_validation(verify_data[target],verify_df['mean'])"
   ]
  },
  {
   "cell_type": "code",
   "execution_count": null,
   "metadata": {},
   "outputs": [],
   "source": []
  },
  {
   "cell_type": "code",
   "execution_count": 18,
   "metadata": {},
   "outputs": [
    {
     "name": "stderr",
     "output_type": "stream",
     "text": [
      "\r",
      "  0%|          | 0/50 [00:00<?, ?it/s]"
     ]
    },
    {
     "name": "stdout",
     "output_type": "stream",
     "text": [
      "[2018-06-25 17:26:14][Validation: Modelfit] Begin ...\n"
     ]
    },
    {
     "name": "stderr",
     "output_type": "stream",
     "text": [
      "100%|██████████| 50/50 [02:12<00:00,  2.63s/it]"
     ]
    },
    {
     "name": "stdout",
     "output_type": "stream",
     "text": [
      "[2018-06-25 17:28:26][Validation: Modelfit] End   ...[Elapsed: 132.50s]\n"
     ]
    },
    {
     "name": "stderr",
     "output_type": "stream",
     "text": [
      "\n"
     ]
    }
   ],
   "source": [
    "#build Train_Proba Matrix for DNN:\n",
    "train_df = atecml.data.load_train()\n",
    "train_df = atecml.data.filter_date(train_df,start_date='2016-10-16',end_date='2017-10-15')\n",
    "train_proba =pd.DataFrame()\n",
    "train_proba_4ana =pd.DataFrame()\n",
    "with atecml.data.timer('Validation: Modelfit'):\n",
    "    for idx in tqdm(range(len(trained_model_list))):\n",
    "        clf = trained_model_list[idx]\n",
    "        model_params = train_model[idx].split('__')       \n",
    "        f_idx = int(model_params[3])\n",
    "        select_feature = feature_list[f_idx]\n",
    "        y_predict = clf.predict_proba(train_df[select_feature])\n",
    "        train_proba['n1_'+str(idx)] = pd.DataFrame(y_predict)[0]\n",
    "        train_proba['n2_'+str(idx)] = pd.DataFrame(y_predict)[1]\n",
    "        if (model_params[1] == 'Fraud'):\n",
    "            train_proba_4ana[idx] = pd.DataFrame(y_predict)[1]\n",
    "        else:\n",
    "            train_proba_4ana[idx] = pd.DataFrame(y_predict)[0]        "
   ]
  },
  {
   "cell_type": "code",
   "execution_count": 19,
   "metadata": {},
   "outputs": [],
   "source": [
    "train_proba_4dnn = pd.concat([train_proba,train_df['Fraud']],axis=1)\n",
    "train_proba_4dnn.to_pickle('./train_proba.dat')"
   ]
  },
  {
   "cell_type": "code",
   "execution_count": null,
   "metadata": {},
   "outputs": [],
   "source": []
  },
  {
   "cell_type": "code",
   "execution_count": 20,
   "metadata": {},
   "outputs": [
    {
     "name": "stderr",
     "output_type": "stream",
     "text": [
      "\r",
      "  0%|          | 0/50 [00:00<?, ?it/s]"
     ]
    },
    {
     "name": "stdout",
     "output_type": "stream",
     "text": [
      "[2018-06-25 17:28:31][Prediction: Modelfit] Begin ...\n"
     ]
    },
    {
     "name": "stderr",
     "output_type": "stream",
     "text": [
      "100%|██████████| 50/50 [01:36<00:00,  1.87s/it]\n"
     ]
    },
    {
     "name": "stdout",
     "output_type": "stream",
     "text": [
      "[2018-06-25 17:30:08][Prediction: Modelfit] End   ...[Elapsed: 96.81s]\n"
     ]
    }
   ],
   "source": [
    "test_df = atecml.data.load_test()\n",
    "predict_df =pd.DataFrame()\n",
    "predict_probaDNN =pd.DataFrame()\n",
    "with atecml.data.timer('Prediction: Modelfit'):\n",
    "    for idx in tqdm(range(len(trained_model_list))):\n",
    "        clf = trained_model_list[idx]\n",
    "        model_params = train_model[idx].split('__')\n",
    "        f_idx = int(model_params[3])\n",
    "        select_feature = feature_list[f_idx]\n",
    "        y_predict = clf.predict_proba(test_df[select_feature])\n",
    "        predict_probaDNN['n1_'+str(idx)] = pd.DataFrame(y_predict)[0]\n",
    "        predict_probaDNN['n2_'+str(idx)] = pd.DataFrame(y_predict)[1]        \n",
    "        if (model_params[1] == 'Fraud'):\n",
    "            predict_df[idx] = pd.DataFrame(y_predict)[1]\n",
    "        else:\n",
    "            predict_df[idx] = pd.DataFrame(y_predict)[0]\n",
    "            \n",
    "predict_probaDNN.to_pickle('./test_proba.dat')            "
   ]
  },
  {
   "cell_type": "code",
   "execution_count": null,
   "metadata": {},
   "outputs": [],
   "source": []
  },
  {
   "cell_type": "code",
   "execution_count": 35,
   "metadata": {},
   "outputs": [],
   "source": [
    "new_train_df = pd.concat([train_proba_4dnn,train_df[predictors]],axis=1)"
   ]
  },
  {
   "cell_type": "code",
   "execution_count": 44,
   "metadata": {},
   "outputs": [],
   "source": [
    "params = {'boosting_type': 'gbdt',\n",
    "               'n_estimators': 500,\n",
    "               'use_missing' : True,\n",
    "               'categorical_feature': 0,\n",
    "               'is_unbalance': True,\n",
    "               'max_depth': -1,\n",
    "               'num_leaves': 80,\n",
    "               'learning_rate': 0.05,\n",
    "               'max_bin': 512,\n",
    "               'subsample_for_bin': 200,\n",
    "               'subsample': 0.8,\n",
    "               'subsample_freq': 1,\n",
    "               'colsample_bytree': 0.8,\n",
    "               'reg_alpha': 5,\n",
    "               'reg_lambda': 10,\n",
    "               'min_split_gain': 0.5,\n",
    "               'min_child_weight': 1,\n",
    "               'min_child_samples': 5,\n",
    "               'scale_pos_weight': 1,\n",
    "               'num_class' : 1,\n",
    "               'metric' : 'binary_error',\n",
    "               'seed': 42,\n",
    "               'nthread': -1\n",
    "              }\n",
    "\n",
    "summary_model = LGBMClassifier(**params)\n",
    "sum_predictors = [x for x in new_train_df.columns if x not in atecml.data.NOT_FEATURE_COLUMNS]\n",
    "target = 'Fraud'"
   ]
  },
  {
   "cell_type": "code",
   "execution_count": 50,
   "metadata": {
    "scrolled": false
   },
   "outputs": [
    {
     "data": {
      "text/plain": [
       "LGBMClassifier(boosting_type='gbdt', categorical_feature=0, class_weight=None,\n",
       "        colsample_bytree=0.8, is_unbalance=True, learning_rate=0.05,\n",
       "        max_bin=512, max_depth=-1, metric='binary_error',\n",
       "        min_child_samples=5, min_child_weight=1, min_split_gain=0.5,\n",
       "        n_estimators=500, n_jobs=-1, nthread=-1, num_class=1,\n",
       "        num_leaves=80, objective=None, random_state=None, reg_alpha=5,\n",
       "        reg_lambda=10, scale_pos_weight=1, seed=42, silent=True,\n",
       "        subsample=0.8, subsample_for_bin=200, subsample_freq=1,\n",
       "        use_missing=True)"
      ]
     },
     "execution_count": 50,
     "metadata": {},
     "output_type": "execute_result"
    }
   ],
   "source": [
    "summary_model.fit(new_verify_df[sum_predictors],verify_data[target])"
   ]
  },
  {
   "cell_type": "code",
   "execution_count": 51,
   "metadata": {},
   "outputs": [],
   "source": [
    "new_verify_df = pd.concat([verify_proba_4dnn,verify_data[predictors]],axis=1)"
   ]
  },
  {
   "cell_type": "code",
   "execution_count": 52,
   "metadata": {},
   "outputs": [],
   "source": [
    "y_predict = summary_model.predict_proba(new_verify_df[sum_predictors])"
   ]
  },
  {
   "cell_type": "code",
   "execution_count": 53,
   "metadata": {},
   "outputs": [
    {
     "name": "stdout",
     "output_type": "stream",
     "text": [
      "0.9498109010011124\n"
     ]
    },
    {
     "data": {
      "image/png": "[encoded data removed]",
      "text/plain": [
       "<Figure size 432x288 with 1 Axes>"
      ]
     },
     "metadata": {},
     "output_type": "display_data"
    }
   ],
   "source": [
    "a,b,c=atecml.data.accuracy_validation(verify_data[target],pd.DataFrame(y_predict)[1])"
   ]
  },
  {
   "cell_type": "code",
   "execution_count": 55,
   "metadata": {},
   "outputs": [],
   "source": [
    "new_test_df = pd.concat([predict_probaDNN,test_df[predictors]],axis=1)\n",
    "result_proba = summary_model.predict_proba(new_test_df[sum_predictors])\n",
    "result = pd.DataFrame()\n",
    "result['id'] = test_df['id']\n",
    "result['score'] = pd.DataFrame(result_proba)[1]\n",
    "result.set_index('id').to_csv('./submit_20180625_5.csv')    "
   ]
  },
  {
   "cell_type": "code",
   "execution_count": null,
   "metadata": {},
   "outputs": [],
   "source": []
  },
  {
   "cell_type": "code",
   "execution_count": null,
   "metadata": {},
   "outputs": [],
   "source": []
  },
  {
   "cell_type": "code",
   "execution_count": null,
   "metadata": {},
   "outputs": [],
   "source": []
  },
  {
   "cell_type": "code",
   "execution_count": null,
   "metadata": {},
   "outputs": [],
   "source": [
    "import random\n"
   ]
  },
  {
   "cell_type": "code",
   "execution_count": null,
   "metadata": {},
   "outputs": [],
   "source": [
    "feature_list = {}\n",
    "for idx in range(0,1000):\n",
    "    feature_list[idx] = random.sample(predictors,20)"
   ]
  },
  {
   "cell_type": "code",
   "execution_count": null,
   "metadata": {},
   "outputs": [],
   "source": [
    "joblib.dump(feature_list,'./feature_list')"
   ]
  },
  {
   "cell_type": "code",
   "execution_count": null,
   "metadata": {},
   "outputs": [],
   "source": [
    "a = joblib.load('./feature_list')"
   ]
  },
  {
   "cell_type": "code",
   "execution_count": null,
   "metadata": {},
   "outputs": [],
   "source": [
    "a[1] == feature_list[1]"
   ]
  },
  {
   "cell_type": "code",
   "execution_count": null,
   "metadata": {},
   "outputs": [],
   "source": []
  }
 ],
 "metadata": {
  "kernelspec": {
   "display_name": "Python 3",
   "language": "python",
   "name": "python3"
  },
  "language_info": {
   "codemirror_mode": {
    "name": "ipython",
    "version": 3
   },
   "file_extension": ".py",
   "mimetype": "text/x-python",
   "name": "python",
   "nbconvert_exporter": "python",
   "pygments_lexer": "ipython3",
   "version": "3.5.2"
  }
 },
 "nbformat": 4,
 "nbformat_minor": 2
}

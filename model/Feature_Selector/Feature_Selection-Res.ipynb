{
 "cells": [
  {
   "cell_type": "code",
   "execution_count": 1,
   "metadata": {},
   "outputs": [
    {
     "data": {
      "text/html": [
       "<style>.container { width:100% !important; }</style>"
      ],
      "text/plain": [
       "<IPython.core.display.HTML object>"
      ]
     },
     "metadata": {},
     "output_type": "display_data"
    }
   ],
   "source": [
    "from IPython.core.display import display, HTML\n",
    "display(HTML(\"<style>.container { width:100% !important; }</style>\"))\n",
    "%matplotlib inline\n",
    "import matplotlib\n",
    "import matplotlib.pyplot as plt\n",
    "import matplotlib.gridspec as gridspec\n",
    "import seaborn as sns\n",
    "\n",
    "\n",
    "import numpy as np\n",
    "import pandas as pd\n",
    "import tensorflow as tf\n",
    "\n",
    "import atecml.data\n",
    "import atecml.fs\n",
    "\n",
    "from contextlib import contextmanager\n",
    "from tqdm import tqdm\n",
    "from time import strftime,time\n",
    "from sklearn.neighbors import KNeighborsClassifier\n",
    "from sklearn.preprocessing import StandardScaler, MinMaxScaler\n",
    "import joblib\n",
    "\n",
    "plt.style.use('ggplot')"
   ]
  },
  {
   "cell_type": "code",
   "execution_count": 2,
   "metadata": {},
   "outputs": [],
   "source": [
    "train_df = pd.read_pickle('../DeepForest/res.dat')\n",
    "predictors = [x for x in train_df.columns if x not in atecml.data.NOT_FEATURE_COLUMNS]\n",
    "target ='Fraud'"
   ]
  },
  {
   "cell_type": "code",
   "execution_count": 3,
   "metadata": {},
   "outputs": [],
   "source": [
    "fs = atecml.fs.FeatureSelector(data=train_df[predictors],labels=train_df[target])\n",
    "#fs = joblib.load('./fs.model')"
   ]
  },
  {
   "cell_type": "markdown",
   "metadata": {},
   "source": [
    "# 处理缺失值"
   ]
  },
  {
   "cell_type": "code",
   "execution_count": 4,
   "metadata": {},
   "outputs": [
    {
     "name": "stdout",
     "output_type": "stream",
     "text": [
      "12 features with greater than 0.90 missing values.\n",
      "\n"
     ]
    }
   ],
   "source": [
    "fs.identify_missing(missing_threshold=0.9)"
   ]
  },
  {
   "cell_type": "code",
   "execution_count": 5,
   "metadata": {},
   "outputs": [
    {
     "data": {
      "image/png": "[encoded data removed]",
      "text/plain": [
       "<Figure size 700x500 with 1 Axes>"
      ]
     },
     "metadata": {},
     "output_type": "display_data"
    }
   ],
   "source": [
    "#缺失率分布\n",
    "fs.plot_missing()"
   ]
  },
  {
   "cell_type": "code",
   "execution_count": 6,
   "metadata": {},
   "outputs": [
    {
     "data": {
      "text/html": [
       "<div>\n",
       "<style scoped>\n",
       "    .dataframe tbody tr th:only-of-type {\n",
       "        vertical-align: middle;\n",
       "    }\n",
       "\n",
       "    .dataframe tbody tr th {\n",
       "        vertical-align: top;\n",
       "    }\n",
       "\n",
       "    .dataframe thead th {\n",
       "        text-align: right;\n",
       "    }\n",
       "</style>\n",
       "<table border=\"1\" class=\"dataframe\">\n",
       "  <thead>\n",
       "    <tr style=\"text-align: right;\">\n",
       "      <th></th>\n",
       "      <th>missing_fraction</th>\n",
       "    </tr>\n",
       "  </thead>\n",
       "  <tbody>\n",
       "    <tr>\n",
       "      <th>f47</th>\n",
       "      <td>0.979078</td>\n",
       "    </tr>\n",
       "    <tr>\n",
       "      <th>f36</th>\n",
       "      <td>0.979078</td>\n",
       "    </tr>\n",
       "    <tr>\n",
       "      <th>f37</th>\n",
       "      <td>0.979078</td>\n",
       "    </tr>\n",
       "    <tr>\n",
       "      <th>f38</th>\n",
       "      <td>0.979078</td>\n",
       "    </tr>\n",
       "    <tr>\n",
       "      <th>f39</th>\n",
       "      <td>0.979078</td>\n",
       "    </tr>\n",
       "    <tr>\n",
       "      <th>f40</th>\n",
       "      <td>0.979078</td>\n",
       "    </tr>\n",
       "    <tr>\n",
       "      <th>f41</th>\n",
       "      <td>0.979078</td>\n",
       "    </tr>\n",
       "    <tr>\n",
       "      <th>f42</th>\n",
       "      <td>0.979078</td>\n",
       "    </tr>\n",
       "    <tr>\n",
       "      <th>f43</th>\n",
       "      <td>0.979078</td>\n",
       "    </tr>\n",
       "    <tr>\n",
       "      <th>f44</th>\n",
       "      <td>0.979078</td>\n",
       "    </tr>\n",
       "    <tr>\n",
       "      <th>f45</th>\n",
       "      <td>0.979078</td>\n",
       "    </tr>\n",
       "    <tr>\n",
       "      <th>f46</th>\n",
       "      <td>0.979078</td>\n",
       "    </tr>\n",
       "    <tr>\n",
       "      <th>f106</th>\n",
       "      <td>0.628306</td>\n",
       "    </tr>\n",
       "    <tr>\n",
       "      <th>f103</th>\n",
       "      <td>0.628306</td>\n",
       "    </tr>\n",
       "  </tbody>\n",
       "</table>\n",
       "</div>"
      ],
      "text/plain": [
       "      missing_fraction\n",
       "f47           0.979078\n",
       "f36           0.979078\n",
       "f37           0.979078\n",
       "f38           0.979078\n",
       "f39           0.979078\n",
       "f40           0.979078\n",
       "f41           0.979078\n",
       "f42           0.979078\n",
       "f43           0.979078\n",
       "f44           0.979078\n",
       "f45           0.979078\n",
       "f46           0.979078\n",
       "f106          0.628306\n",
       "f103          0.628306"
      ]
     },
     "execution_count": 6,
     "metadata": {},
     "output_type": "execute_result"
    }
   ],
   "source": [
    "fs.missing_stats.head(14)"
   ]
  },
  {
   "cell_type": "code",
   "execution_count": 7,
   "metadata": {},
   "outputs": [
    {
     "data": {
      "text/plain": [
       "['f36',\n",
       " 'f37',\n",
       " 'f38',\n",
       " 'f39',\n",
       " 'f40',\n",
       " 'f41',\n",
       " 'f42',\n",
       " 'f43',\n",
       " 'f44',\n",
       " 'f45',\n",
       " 'f46',\n",
       " 'f47']"
      ]
     },
     "execution_count": 7,
     "metadata": {},
     "output_type": "execute_result"
    }
   ],
   "source": [
    "missing_features = fs.ops ['missing']\n",
    "missing_features"
   ]
  },
  {
   "cell_type": "markdown",
   "metadata": {},
   "source": [
    "# 处理高相关的特征"
   ]
  },
  {
   "cell_type": "code",
   "execution_count": 8,
   "metadata": {},
   "outputs": [
    {
     "name": "stdout",
     "output_type": "stream",
     "text": [
      "104 features with a correlation magnitude greater than 0.98.\n",
      "\n"
     ]
    }
   ],
   "source": [
    "fs.identify_collinear(correlation_threshold = 0.98)"
   ]
  },
  {
   "cell_type": "code",
   "execution_count": 9,
   "metadata": {},
   "outputs": [
    {
     "data": {
      "image/png": "[encoded data removed]",
      "text/plain": [
       "<Figure size 1000x800 with 2 Axes>"
      ]
     },
     "metadata": {},
     "output_type": "display_data"
    }
   ],
   "source": [
    "fs.plot_collinear()"
   ]
  },
  {
   "cell_type": "code",
   "execution_count": 10,
   "metadata": {},
   "outputs": [],
   "source": [
    "# list of collinear features to remove\n",
    "collinear_features = fs.ops['collinear']"
   ]
  },
  {
   "cell_type": "code",
   "execution_count": null,
   "metadata": {},
   "outputs": [
    {
     "data": {
      "text/html": [
       "<div>\n",
       "<style scoped>\n",
       "    .dataframe tbody tr th:only-of-type {\n",
       "        vertical-align: middle;\n",
       "    }\n",
       "\n",
       "    .dataframe tbody tr th {\n",
       "        vertical-align: top;\n",
       "    }\n",
       "\n",
       "    .dataframe thead th {\n",
       "        text-align: right;\n",
       "    }\n",
       "</style>\n",
       "<table border=\"1\" class=\"dataframe\">\n",
       "  <thead>\n",
       "    <tr style=\"text-align: right;\">\n",
       "      <th></th>\n",
       "      <th>corr_feature</th>\n",
       "      <th>corr_value</th>\n",
       "      <th>drop_feature</th>\n",
       "    </tr>\n",
       "  </thead>\n",
       "  <tbody>\n",
       "    <tr>\n",
       "      <th>0</th>\n",
       "      <td>f21</td>\n",
       "      <td>0.988655</td>\n",
       "      <td>f23</td>\n",
       "    </tr>\n",
       "    <tr>\n",
       "      <th>1</th>\n",
       "      <td>f24</td>\n",
       "      <td>0.991306</td>\n",
       "      <td>f26</td>\n",
       "    </tr>\n",
       "    <tr>\n",
       "      <th>2</th>\n",
       "      <td>f25</td>\n",
       "      <td>0.996315</td>\n",
       "      <td>f27</td>\n",
       "    </tr>\n",
       "    <tr>\n",
       "      <th>3</th>\n",
       "      <td>f33</td>\n",
       "      <td>0.983364</td>\n",
       "      <td>f49</td>\n",
       "    </tr>\n",
       "    <tr>\n",
       "      <th>4</th>\n",
       "      <td>f34</td>\n",
       "      <td>0.985308</td>\n",
       "      <td>f50</td>\n",
       "    </tr>\n",
       "  </tbody>\n",
       "</table>\n",
       "</div>"
      ],
      "text/plain": [
       "  corr_feature  corr_value drop_feature\n",
       "0          f21    0.988655          f23\n",
       "1          f24    0.991306          f26\n",
       "2          f25    0.996315          f27\n",
       "3          f33    0.983364          f49\n",
       "4          f34    0.985308          f50"
      ]
     },
     "execution_count": 11,
     "metadata": {},
     "output_type": "execute_result"
    }
   ],
   "source": [
    "# dataframe of collinear features\n",
    "fs.record_collinear.head()"
   ]
  },
  {
   "cell_type": "markdown",
   "metadata": {},
   "source": [
    "# 根据GBM训练查找Zero Important Feature"
   ]
  },
  {
   "cell_type": "code",
   "execution_count": null,
   "metadata": {},
   "outputs": [
    {
     "name": "stdout",
     "output_type": "stream",
     "text": [
      "Training Gradient Boosting Model\n",
      "\n",
      "Training until validation scores don't improve for 100 rounds.\n",
      "Early stopping, best iteration is:\n",
      "[683]\tvalid_0's auc: 0.943179\n",
      "Training until validation scores don't improve for 100 rounds.\n",
      "Did not meet early stopping. Best iteration is:\n",
      "[999]\tvalid_0's auc: 0.939071\n",
      "Training until validation scores don't improve for 100 rounds.\n",
      "Early stopping, best iteration is:\n",
      "[650]\tvalid_0's auc: 0.940294\n",
      "Training until validation scores don't improve for 100 rounds.\n",
      "Did not meet early stopping. Best iteration is:\n",
      "[946]\tvalid_0's auc: 0.932294\n",
      "Training until validation scores don't improve for 100 rounds.\n",
      "Did not meet early stopping. Best iteration is:\n",
      "[920]\tvalid_0's auc: 0.944618\n",
      "Training until validation scores don't improve for 100 rounds.\n",
      "Early stopping, best iteration is:\n",
      "[562]\tvalid_0's auc: 0.939203\n",
      "Training until validation scores don't improve for 100 rounds.\n",
      "Early stopping, best iteration is:\n",
      "[551]\tvalid_0's auc: 0.938922\n"
     ]
    }
   ],
   "source": [
    "fs.identify_zero_importance (task = 'classification', eval_metric = 'auc', n_iterations = 10, early_stopping = True)\n",
    "#joblib.dump(fs,'./fs.model')"
   ]
  },
  {
   "cell_type": "code",
   "execution_count": null,
   "metadata": {},
   "outputs": [],
   "source": [
    "zero_importance_features = fs.ops['zero_importance']"
   ]
  },
  {
   "cell_type": "code",
   "execution_count": null,
   "metadata": {},
   "outputs": [],
   "source": [
    "#绘制特征重要性\n",
    "fs.plot_feature_importances(threshold=0.99,plot_n=40)"
   ]
  },
  {
   "cell_type": "markdown",
   "metadata": {},
   "source": [
    "# 查看低重要性的特征[PCA]"
   ]
  },
  {
   "cell_type": "code",
   "execution_count": null,
   "metadata": {},
   "outputs": [],
   "source": [
    "#查看低重要性的特征[PCA]\n",
    "fs.identify_low_importance(cumulative_importance=0.99)"
   ]
  },
  {
   "cell_type": "code",
   "execution_count": null,
   "metadata": {},
   "outputs": [],
   "source": [
    "low_importance_features = fs.ops['low_importance']"
   ]
  },
  {
   "cell_type": "code",
   "execution_count": null,
   "metadata": {},
   "outputs": [],
   "source": [
    "fs.feature_importances.head(20)"
   ]
  },
  {
   "cell_type": "code",
   "execution_count": null,
   "metadata": {},
   "outputs": [],
   "source": [
    "list(fs.feature_importances.head(20)['feature'])"
   ]
  },
  {
   "cell_type": "markdown",
   "metadata": {},
   "source": [
    "# 单一的唯一价值特征"
   ]
  },
  {
   "cell_type": "code",
   "execution_count": null,
   "metadata": {},
   "outputs": [],
   "source": [
    "fs.identify_single_unique()"
   ]
  },
  {
   "cell_type": "markdown",
   "metadata": {},
   "source": [
    "# 总结"
   ]
  },
  {
   "cell_type": "code",
   "execution_count": null,
   "metadata": {},
   "outputs": [],
   "source": [
    "remove_feature = set(missing_features + collinear_features + zero_importance_features + low_importance_features)"
   ]
  },
  {
   "cell_type": "code",
   "execution_count": 28,
   "metadata": {},
   "outputs": [
    {
     "data": {
      "text/plain": [
       "['./fs.model',\n",
       " './fs.model_01.npy',\n",
       " './fs.model_02.npy',\n",
       " './fs.model_03.npy',\n",
       " './fs.model_04.npy',\n",
       " './fs.model_05.npy',\n",
       " './fs.model_06.npy',\n",
       " './fs.model_07.npy',\n",
       " './fs.model_08.npy',\n",
       " './fs.model_09.npy',\n",
       " './fs.model_10.npy',\n",
       " './fs.model_11.npy',\n",
       " './fs.model_12.npy',\n",
       " './fs.model_13.npy',\n",
       " './fs.model_14.npy',\n",
       " './fs.model_15.npy',\n",
       " './fs.model_16.npy',\n",
       " './fs.model_17.npy',\n",
       " './fs.model_18.npy',\n",
       " './fs.model_19.npy',\n",
       " './fs.model_20.npy',\n",
       " './fs.model_21.npy',\n",
       " './fs.model_22.npy',\n",
       " './fs.model_23.npy',\n",
       " './fs.model_24.npy',\n",
       " './fs.model_25.npy',\n",
       " './fs.model_26.npy',\n",
       " './fs.model_27.npy',\n",
       " './fs.model_28.npy',\n",
       " './fs.model_29.npy',\n",
       " './fs.model_30.npy',\n",
       " './fs.model_31.npy',\n",
       " './fs.model_32.npy',\n",
       " './fs.model_33.npy',\n",
       " './fs.model_34.npy',\n",
       " './fs.model_35.npy',\n",
       " './fs.model_36.npy',\n",
       " './fs.model_37.npy']"
      ]
     },
     "execution_count": 28,
     "metadata": {},
     "output_type": "execute_result"
    }
   ],
   "source": [
    "#joblib.dump(fs,'./fs.model')"
   ]
  },
  {
   "cell_type": "code",
   "execution_count": 29,
   "metadata": {},
   "outputs": [],
   "source": [
    "#Add the following line to Lib/data.py\n",
    "NOT_IMP_FEATURE =['f114', 'f231', 'f280', 'f154', 'f251', 'f208', 'f127', 'f292', 'f157', 'f223', 'f189', 'f229', 'f255', 'f51', 'f230', 'f253', 'f27', 'f143', 'f39', 'f120', 'f209', 'f67', 'f146', 'f142', 'f59', 'f121', 'f22', 'f151', 'f248', 'f293', 'f125', 'f232', 'f165', 'f200', 'f290', 'f40', 'f225', 'f35', 'f136', 'f69', 'f138', 'f135', 'f26', 'f49', 'f163', 'f145', 'f227', 'f139', 'f252', 'f118', 'f164', 'f113', 'f116', 'f119', 'f222', 'f242', 'f297', 'f206', 'f152', 'f47', 'f243', 'f218', 'f46', 'f207', 'f131', 'f214', 'f140', 'f115', 'f130', 'f228', 'f213', 'f45', 'f294', 'f37', 'f250', 'f238', 'f70', 'f249', 'f272', 'f126', 'f281', 'f124', 'f42', 'f128', 'f122', 'f38', 'f148', 'f166', 'f137', 'f147', 'f123', 'f133', 'f60', 'f149', 'f217', 'f112', 'f268', 'f144', 'f287', 'f220', 'f36', 'f109', 'f44', 'f221', 'f50', 'f216', 'f226', 'f153', 'f48', 'f111', 'f54', 'f129', 'f23', 'f75', 'f233', 'f43', 'f41', 'f224', 'f247', 'f74', 'f63', 'f117', 'f196', 'f289', 'f211', 'f246', 'f141', 'f295', 'f286', 'f288', 'f71', 'f212', 'f132', 'f150']"
   ]
  },
  {
   "cell_type": "markdown",
   "metadata": {},
   "source": [
    "# 处理Categorical 特征"
   ]
  },
  {
   "cell_type": "code",
   "execution_count": 51,
   "metadata": {
    "scrolled": false
   },
   "outputs": [],
   "source": [
    "unique_dict = {}\n",
    "NOT_FEATURE = atecml.data.NOT_FEATURE_COLUMNS+ NOT_IMP_FEATURE\n",
    "features = [x for x in train_df.columns if x not in NOT_FEATURE]\n",
    "\n",
    "Category_Feature_list =[]\n",
    "for item in  features:\n",
    "    col_unique_count = len(train_df[item].unique())\n",
    "    unique_dict[item] = col_unique_count\n",
    "    if (col_unique_count < 16):\n",
    "        Category_Feature_list.append(item)\n"
   ]
  },
  {
   "cell_type": "code",
   "execution_count": 52,
   "metadata": {},
   "outputs": [
    {
     "data": {
      "text/plain": [
       "['f1',\n",
       " 'f2',\n",
       " 'f3',\n",
       " 'f4',\n",
       " 'f6',\n",
       " 'f7',\n",
       " 'f8',\n",
       " 'f9',\n",
       " 'f10',\n",
       " 'f11',\n",
       " 'f12',\n",
       " 'f13',\n",
       " 'f14',\n",
       " 'f15',\n",
       " 'f16',\n",
       " 'f17',\n",
       " 'f18',\n",
       " 'f19',\n",
       " 'f28',\n",
       " 'f29',\n",
       " 'f61',\n",
       " 'f87',\n",
       " 'f88',\n",
       " 'f89',\n",
       " 'f90',\n",
       " 'f98',\n",
       " 'f99',\n",
       " 'f155',\n",
       " 'f156',\n",
       " 'f158',\n",
       " 'f159',\n",
       " 'f160',\n",
       " 'f167',\n",
       " 'f168',\n",
       " 'f169',\n",
       " 'f170',\n",
       " 'f171',\n",
       " 'f172',\n",
       " 'f173',\n",
       " 'f174',\n",
       " 'f175',\n",
       " 'f176',\n",
       " 'f177',\n",
       " 'f179',\n",
       " 'f180',\n",
       " 'f181',\n",
       " 'f182',\n",
       " 'f183',\n",
       " 'f186',\n",
       " 'f187',\n",
       " 'f188',\n",
       " 'f190',\n",
       " 'f191',\n",
       " 'f194',\n",
       " 'f195',\n",
       " 'f197',\n",
       " 'f198',\n",
       " 'f199',\n",
       " 'f201',\n",
       " 'f202',\n",
       " 'f203',\n",
       " 'f254',\n",
       " 'f256',\n",
       " 'f257',\n",
       " 'f258',\n",
       " 'f267',\n",
       " 'f269',\n",
       " 'f273',\n",
       " 'f274',\n",
       " 'f275',\n",
       " 'f276',\n",
       " 'f277']"
      ]
     },
     "execution_count": 52,
     "metadata": {},
     "output_type": "execute_result"
    }
   ],
   "source": [
    "Category_Feature_list"
   ]
  },
  {
   "cell_type": "code",
   "execution_count": null,
   "metadata": {},
   "outputs": [],
   "source": []
  }
 ],
 "metadata": {
  "kernelspec": {
   "display_name": "Python 3",
   "language": "python",
   "name": "python3"
  },
  "language_info": {
   "codemirror_mode": {
    "name": "ipython",
    "version": 3
   },
   "file_extension": ".py",
   "mimetype": "text/x-python",
   "name": "python",
   "nbconvert_exporter": "python",
   "pygments_lexer": "ipython3",
   "version": "3.5.2"
  }
 },
 "nbformat": 4,
 "nbformat_minor": 2
}

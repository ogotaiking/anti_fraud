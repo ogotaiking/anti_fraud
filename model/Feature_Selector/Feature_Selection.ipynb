{
 "cells": [
  {
   "cell_type": "code",
   "execution_count": 1,
   "metadata": {},
   "outputs": [
    {
     "data": {
      "text/html": [
       "<style>.container { width:100% !important; }</style>"
      ],
      "text/plain": [
       "<IPython.core.display.HTML object>"
      ]
     },
     "metadata": {},
     "output_type": "display_data"
    }
   ],
   "source": [
    "from IPython.core.display import display, HTML\n",
    "display(HTML(\"<style>.container { width:100% !important; }</style>\"))\n",
    "%matplotlib inline\n",
    "import matplotlib\n",
    "import matplotlib.pyplot as plt\n",
    "import matplotlib.gridspec as gridspec\n",
    "import seaborn as sns\n",
    "\n",
    "\n",
    "import numpy as np\n",
    "import pandas as pd\n",
    "import tensorflow as tf\n",
    "\n",
    "import atecml.data\n",
    "import atecml.fs\n",
    "\n",
    "from contextlib import contextmanager\n",
    "from tqdm import tqdm\n",
    "from time import strftime,time\n",
    "from sklearn.neighbors import KNeighborsClassifier\n",
    "from sklearn.preprocessing import StandardScaler, MinMaxScaler\n",
    "import joblib\n",
    "\n",
    "plt.style.use('ggplot')"
   ]
  },
  {
   "cell_type": "code",
   "execution_count": 2,
   "metadata": {},
   "outputs": [],
   "source": [
    "train_df,test_df = atecml.data.load()\n",
    "predictors = [x for x in train_df.columns if x not in atecml.data.NOT_FEATURE_COLUMNS]\n",
    "target ='Fraud'"
   ]
  },
  {
   "cell_type": "code",
   "execution_count": 3,
   "metadata": {},
   "outputs": [],
   "source": [
    "fs = atecml.fs.FeatureSelector(data=train_df[predictors],labels=train_df[target])\n",
    "#fs = joblib.load('./fs.model')"
   ]
  },
  {
   "cell_type": "markdown",
   "metadata": {},
   "source": [
    "# 处理缺失值"
   ]
  },
  {
   "cell_type": "code",
   "execution_count": 7,
   "metadata": {},
   "outputs": [
    {
     "name": "stdout",
     "output_type": "stream",
     "text": [
      "162 features with greater than 0.20 missing values.\n",
      "\n"
     ]
    }
   ],
   "source": [
    "fs.identify_missing(missing_threshold=0.2)"
   ]
  },
  {
   "cell_type": "code",
   "execution_count": 5,
   "metadata": {},
   "outputs": [
    {
     "data": {
      "image/png": "[encoded data removed]",
      "text/plain": [
       "<Figure size 700x500 with 1 Axes>"
      ]
     },
     "metadata": {},
     "output_type": "display_data"
    }
   ],
   "source": [
    "#缺失率分布\n",
    "fs.plot_missing()"
   ]
  },
  {
   "cell_type": "code",
   "execution_count": 6,
   "metadata": {},
   "outputs": [
    {
     "data": {
      "text/html": [
       "<div>\n",
       "<style scoped>\n",
       "    .dataframe tbody tr th:only-of-type {\n",
       "        vertical-align: middle;\n",
       "    }\n",
       "\n",
       "    .dataframe tbody tr th {\n",
       "        vertical-align: top;\n",
       "    }\n",
       "\n",
       "    .dataframe thead th {\n",
       "        text-align: right;\n",
       "    }\n",
       "</style>\n",
       "<table border=\"1\" class=\"dataframe\">\n",
       "  <thead>\n",
       "    <tr style=\"text-align: right;\">\n",
       "      <th></th>\n",
       "      <th>missing_fraction</th>\n",
       "    </tr>\n",
       "  </thead>\n",
       "  <tbody>\n",
       "    <tr>\n",
       "      <th>f47</th>\n",
       "      <td>0.930685</td>\n",
       "    </tr>\n",
       "    <tr>\n",
       "      <th>f36</th>\n",
       "      <td>0.930685</td>\n",
       "    </tr>\n",
       "    <tr>\n",
       "      <th>f37</th>\n",
       "      <td>0.930685</td>\n",
       "    </tr>\n",
       "    <tr>\n",
       "      <th>f38</th>\n",
       "      <td>0.930685</td>\n",
       "    </tr>\n",
       "    <tr>\n",
       "      <th>f39</th>\n",
       "      <td>0.930685</td>\n",
       "    </tr>\n",
       "    <tr>\n",
       "      <th>f40</th>\n",
       "      <td>0.930685</td>\n",
       "    </tr>\n",
       "    <tr>\n",
       "      <th>f41</th>\n",
       "      <td>0.930685</td>\n",
       "    </tr>\n",
       "    <tr>\n",
       "      <th>f42</th>\n",
       "      <td>0.930685</td>\n",
       "    </tr>\n",
       "    <tr>\n",
       "      <th>f43</th>\n",
       "      <td>0.930685</td>\n",
       "    </tr>\n",
       "    <tr>\n",
       "      <th>f44</th>\n",
       "      <td>0.930685</td>\n",
       "    </tr>\n",
       "    <tr>\n",
       "      <th>f45</th>\n",
       "      <td>0.930685</td>\n",
       "    </tr>\n",
       "    <tr>\n",
       "      <th>f46</th>\n",
       "      <td>0.930685</td>\n",
       "    </tr>\n",
       "    <tr>\n",
       "      <th>f33</th>\n",
       "      <td>0.343698</td>\n",
       "    </tr>\n",
       "    <tr>\n",
       "      <th>f35</th>\n",
       "      <td>0.343698</td>\n",
       "    </tr>\n",
       "    <tr>\n",
       "      <th>f34</th>\n",
       "      <td>0.343698</td>\n",
       "    </tr>\n",
       "    <tr>\n",
       "      <th>f32</th>\n",
       "      <td>0.343698</td>\n",
       "    </tr>\n",
       "    <tr>\n",
       "      <th>f50</th>\n",
       "      <td>0.343471</td>\n",
       "    </tr>\n",
       "    <tr>\n",
       "      <th>f51</th>\n",
       "      <td>0.343471</td>\n",
       "    </tr>\n",
       "    <tr>\n",
       "      <th>f54</th>\n",
       "      <td>0.343471</td>\n",
       "    </tr>\n",
       "    <tr>\n",
       "      <th>f55</th>\n",
       "      <td>0.343471</td>\n",
       "    </tr>\n",
       "    <tr>\n",
       "      <th>f56</th>\n",
       "      <td>0.343471</td>\n",
       "    </tr>\n",
       "    <tr>\n",
       "      <th>f57</th>\n",
       "      <td>0.343471</td>\n",
       "    </tr>\n",
       "    <tr>\n",
       "      <th>f58</th>\n",
       "      <td>0.343471</td>\n",
       "    </tr>\n",
       "    <tr>\n",
       "      <th>f59</th>\n",
       "      <td>0.343471</td>\n",
       "    </tr>\n",
       "    <tr>\n",
       "      <th>f60</th>\n",
       "      <td>0.343471</td>\n",
       "    </tr>\n",
       "    <tr>\n",
       "      <th>f61</th>\n",
       "      <td>0.343471</td>\n",
       "    </tr>\n",
       "    <tr>\n",
       "      <th>f62</th>\n",
       "      <td>0.343471</td>\n",
       "    </tr>\n",
       "    <tr>\n",
       "      <th>f63</th>\n",
       "      <td>0.343471</td>\n",
       "    </tr>\n",
       "    <tr>\n",
       "      <th>f49</th>\n",
       "      <td>0.343471</td>\n",
       "    </tr>\n",
       "    <tr>\n",
       "      <th>f48</th>\n",
       "      <td>0.343471</td>\n",
       "    </tr>\n",
       "    <tr>\n",
       "      <th>f106</th>\n",
       "      <td>0.287801</td>\n",
       "    </tr>\n",
       "    <tr>\n",
       "      <th>f105</th>\n",
       "      <td>0.287801</td>\n",
       "    </tr>\n",
       "    <tr>\n",
       "      <th>f104</th>\n",
       "      <td>0.287801</td>\n",
       "    </tr>\n",
       "    <tr>\n",
       "      <th>f103</th>\n",
       "      <td>0.287801</td>\n",
       "    </tr>\n",
       "    <tr>\n",
       "      <th>f102</th>\n",
       "      <td>0.287801</td>\n",
       "    </tr>\n",
       "    <tr>\n",
       "      <th>f72</th>\n",
       "      <td>0.275355</td>\n",
       "    </tr>\n",
       "    <tr>\n",
       "      <th>f108</th>\n",
       "      <td>0.275355</td>\n",
       "    </tr>\n",
       "    <tr>\n",
       "      <th>f109</th>\n",
       "      <td>0.275355</td>\n",
       "    </tr>\n",
       "    <tr>\n",
       "      <th>f110</th>\n",
       "      <td>0.275355</td>\n",
       "    </tr>\n",
       "    <tr>\n",
       "      <th>f73</th>\n",
       "      <td>0.275355</td>\n",
       "    </tr>\n",
       "    <tr>\n",
       "      <th>f107</th>\n",
       "      <td>0.275355</td>\n",
       "    </tr>\n",
       "    <tr>\n",
       "      <th>f160</th>\n",
       "      <td>0.275355</td>\n",
       "    </tr>\n",
       "    <tr>\n",
       "      <th>f159</th>\n",
       "      <td>0.275355</td>\n",
       "    </tr>\n",
       "    <tr>\n",
       "      <th>f158</th>\n",
       "      <td>0.275355</td>\n",
       "    </tr>\n",
       "    <tr>\n",
       "      <th>f157</th>\n",
       "      <td>0.275355</td>\n",
       "    </tr>\n",
       "    <tr>\n",
       "      <th>f156</th>\n",
       "      <td>0.275355</td>\n",
       "    </tr>\n",
       "    <tr>\n",
       "      <th>f155</th>\n",
       "      <td>0.275355</td>\n",
       "    </tr>\n",
       "    <tr>\n",
       "      <th>f75</th>\n",
       "      <td>0.275355</td>\n",
       "    </tr>\n",
       "    <tr>\n",
       "      <th>f74</th>\n",
       "      <td>0.275355</td>\n",
       "    </tr>\n",
       "    <tr>\n",
       "      <th>f98</th>\n",
       "      <td>0.271948</td>\n",
       "    </tr>\n",
       "  </tbody>\n",
       "</table>\n",
       "</div>"
      ],
      "text/plain": [
       "      missing_fraction\n",
       "f47           0.930685\n",
       "f36           0.930685\n",
       "f37           0.930685\n",
       "f38           0.930685\n",
       "f39           0.930685\n",
       "f40           0.930685\n",
       "f41           0.930685\n",
       "f42           0.930685\n",
       "f43           0.930685\n",
       "f44           0.930685\n",
       "f45           0.930685\n",
       "f46           0.930685\n",
       "f33           0.343698\n",
       "f35           0.343698\n",
       "f34           0.343698\n",
       "f32           0.343698\n",
       "f50           0.343471\n",
       "f51           0.343471\n",
       "f54           0.343471\n",
       "f55           0.343471\n",
       "f56           0.343471\n",
       "f57           0.343471\n",
       "f58           0.343471\n",
       "f59           0.343471\n",
       "f60           0.343471\n",
       "f61           0.343471\n",
       "f62           0.343471\n",
       "f63           0.343471\n",
       "f49           0.343471\n",
       "f48           0.343471\n",
       "f106          0.287801\n",
       "f105          0.287801\n",
       "f104          0.287801\n",
       "f103          0.287801\n",
       "f102          0.287801\n",
       "f72           0.275355\n",
       "f108          0.275355\n",
       "f109          0.275355\n",
       "f110          0.275355\n",
       "f73           0.275355\n",
       "f107          0.275355\n",
       "f160          0.275355\n",
       "f159          0.275355\n",
       "f158          0.275355\n",
       "f157          0.275355\n",
       "f156          0.275355\n",
       "f155          0.275355\n",
       "f75           0.275355\n",
       "f74           0.275355\n",
       "f98           0.271948"
      ]
     },
     "execution_count": 6,
     "metadata": {},
     "output_type": "execute_result"
    }
   ],
   "source": [
    "fs.missing_stats.head(50)"
   ]
  },
  {
   "cell_type": "code",
   "execution_count": 8,
   "metadata": {},
   "outputs": [
    {
     "data": {
      "text/plain": [
       "['f5',\n",
       " 'f20',\n",
       " 'f21',\n",
       " 'f22',\n",
       " 'f23',\n",
       " 'f24',\n",
       " 'f25',\n",
       " 'f26',\n",
       " 'f27',\n",
       " 'f28',\n",
       " 'f29',\n",
       " 'f30',\n",
       " 'f31',\n",
       " 'f32',\n",
       " 'f33',\n",
       " 'f34',\n",
       " 'f35',\n",
       " 'f36',\n",
       " 'f37',\n",
       " 'f38',\n",
       " 'f39',\n",
       " 'f40',\n",
       " 'f41',\n",
       " 'f42',\n",
       " 'f43',\n",
       " 'f44',\n",
       " 'f45',\n",
       " 'f46',\n",
       " 'f47',\n",
       " 'f48',\n",
       " 'f49',\n",
       " 'f50',\n",
       " 'f51',\n",
       " 'f52',\n",
       " 'f53',\n",
       " 'f54',\n",
       " 'f55',\n",
       " 'f56',\n",
       " 'f57',\n",
       " 'f58',\n",
       " 'f59',\n",
       " 'f60',\n",
       " 'f61',\n",
       " 'f62',\n",
       " 'f63',\n",
       " 'f64',\n",
       " 'f65',\n",
       " 'f66',\n",
       " 'f67',\n",
       " 'f68',\n",
       " 'f69',\n",
       " 'f70',\n",
       " 'f71',\n",
       " 'f72',\n",
       " 'f73',\n",
       " 'f74',\n",
       " 'f75',\n",
       " 'f76',\n",
       " 'f77',\n",
       " 'f78',\n",
       " 'f79',\n",
       " 'f80',\n",
       " 'f81',\n",
       " 'f82',\n",
       " 'f83',\n",
       " 'f84',\n",
       " 'f85',\n",
       " 'f86',\n",
       " 'f87',\n",
       " 'f88',\n",
       " 'f89',\n",
       " 'f90',\n",
       " 'f91',\n",
       " 'f92',\n",
       " 'f93',\n",
       " 'f94',\n",
       " 'f95',\n",
       " 'f96',\n",
       " 'f97',\n",
       " 'f98',\n",
       " 'f99',\n",
       " 'f100',\n",
       " 'f101',\n",
       " 'f102',\n",
       " 'f103',\n",
       " 'f104',\n",
       " 'f105',\n",
       " 'f106',\n",
       " 'f107',\n",
       " 'f108',\n",
       " 'f109',\n",
       " 'f110',\n",
       " 'f111',\n",
       " 'f112',\n",
       " 'f113',\n",
       " 'f114',\n",
       " 'f115',\n",
       " 'f116',\n",
       " 'f117',\n",
       " 'f118',\n",
       " 'f119',\n",
       " 'f120',\n",
       " 'f121',\n",
       " 'f122',\n",
       " 'f123',\n",
       " 'f124',\n",
       " 'f125',\n",
       " 'f126',\n",
       " 'f127',\n",
       " 'f128',\n",
       " 'f129',\n",
       " 'f130',\n",
       " 'f131',\n",
       " 'f132',\n",
       " 'f133',\n",
       " 'f134',\n",
       " 'f135',\n",
       " 'f136',\n",
       " 'f137',\n",
       " 'f138',\n",
       " 'f139',\n",
       " 'f140',\n",
       " 'f141',\n",
       " 'f142',\n",
       " 'f143',\n",
       " 'f144',\n",
       " 'f145',\n",
       " 'f146',\n",
       " 'f147',\n",
       " 'f148',\n",
       " 'f149',\n",
       " 'f150',\n",
       " 'f151',\n",
       " 'f152',\n",
       " 'f153',\n",
       " 'f154',\n",
       " 'f155',\n",
       " 'f156',\n",
       " 'f157',\n",
       " 'f158',\n",
       " 'f159',\n",
       " 'f160',\n",
       " 'f278',\n",
       " 'f279',\n",
       " 'f280',\n",
       " 'f281',\n",
       " 'f282',\n",
       " 'f283',\n",
       " 'f284',\n",
       " 'f285',\n",
       " 'f286',\n",
       " 'f287',\n",
       " 'f288',\n",
       " 'f289',\n",
       " 'f290',\n",
       " 'f291',\n",
       " 'f292',\n",
       " 'f293',\n",
       " 'f294',\n",
       " 'f295',\n",
       " 'f296',\n",
       " 'f297']"
      ]
     },
     "execution_count": 8,
     "metadata": {},
     "output_type": "execute_result"
    }
   ],
   "source": [
    "missing_features = fs.ops ['missing']\n",
    "missing_features"
   ]
  },
  {
   "cell_type": "markdown",
   "metadata": {},
   "source": [
    "# 处理高相关的特征"
   ]
  },
  {
   "cell_type": "code",
   "execution_count": 10,
   "metadata": {},
   "outputs": [
    {
     "name": "stdout",
     "output_type": "stream",
     "text": [
      "114 features with a correlation magnitude greater than 0.98.\n",
      "\n"
     ]
    }
   ],
   "source": [
    "fs.identify_collinear(correlation_threshold = 0.98)"
   ]
  },
  {
   "cell_type": "code",
   "execution_count": 11,
   "metadata": {},
   "outputs": [
    {
     "data": {
      "image/png": "[encoded data removed]",
      "text/plain": [
       "<Figure size 1000x800 with 2 Axes>"
      ]
     },
     "metadata": {},
     "output_type": "display_data"
    }
   ],
   "source": [
    "fs.plot_collinear()"
   ]
  },
  {
   "cell_type": "code",
   "execution_count": 18,
   "metadata": {},
   "outputs": [],
   "source": [
    "# list of collinear features to remove\n",
    "collinear_features = fs.ops['collinear']"
   ]
  },
  {
   "cell_type": "code",
   "execution_count": 19,
   "metadata": {},
   "outputs": [
    {
     "data": {
      "text/html": [
       "<div>\n",
       "<style scoped>\n",
       "    .dataframe tbody tr th:only-of-type {\n",
       "        vertical-align: middle;\n",
       "    }\n",
       "\n",
       "    .dataframe tbody tr th {\n",
       "        vertical-align: top;\n",
       "    }\n",
       "\n",
       "    .dataframe thead th {\n",
       "        text-align: right;\n",
       "    }\n",
       "</style>\n",
       "<table border=\"1\" class=\"dataframe\">\n",
       "  <thead>\n",
       "    <tr style=\"text-align: right;\">\n",
       "      <th></th>\n",
       "      <th>corr_feature</th>\n",
       "      <th>corr_value</th>\n",
       "      <th>drop_feature</th>\n",
       "    </tr>\n",
       "  </thead>\n",
       "  <tbody>\n",
       "    <tr>\n",
       "      <th>0</th>\n",
       "      <td>f20</td>\n",
       "      <td>0.982183</td>\n",
       "      <td>f22</td>\n",
       "    </tr>\n",
       "    <tr>\n",
       "      <th>1</th>\n",
       "      <td>f21</td>\n",
       "      <td>0.993540</td>\n",
       "      <td>f23</td>\n",
       "    </tr>\n",
       "    <tr>\n",
       "      <th>2</th>\n",
       "      <td>f24</td>\n",
       "      <td>0.986126</td>\n",
       "      <td>f26</td>\n",
       "    </tr>\n",
       "    <tr>\n",
       "      <th>3</th>\n",
       "      <td>f25</td>\n",
       "      <td>0.993587</td>\n",
       "      <td>f27</td>\n",
       "    </tr>\n",
       "    <tr>\n",
       "      <th>4</th>\n",
       "      <td>f34</td>\n",
       "      <td>0.980320</td>\n",
       "      <td>f35</td>\n",
       "    </tr>\n",
       "  </tbody>\n",
       "</table>\n",
       "</div>"
      ],
      "text/plain": [
       "  corr_feature  corr_value drop_feature\n",
       "0          f20    0.982183          f22\n",
       "1          f21    0.993540          f23\n",
       "2          f24    0.986126          f26\n",
       "3          f25    0.993587          f27\n",
       "4          f34    0.980320          f35"
      ]
     },
     "execution_count": 19,
     "metadata": {},
     "output_type": "execute_result"
    }
   ],
   "source": [
    "# dataframe of collinear features\n",
    "fs.record_collinear.head()"
   ]
  },
  {
   "cell_type": "markdown",
   "metadata": {},
   "source": [
    "# 根据GBM训练查找Zero Important Feature"
   ]
  },
  {
   "cell_type": "code",
   "execution_count": 13,
   "metadata": {},
   "outputs": [],
   "source": [
    "#fs.identify_zero_importance (task = 'classification', eval_metric = 'auc', n_iterations = 10, early_stopping = True)\n",
    "#joblib.dump(fs,'./fs.model')"
   ]
  },
  {
   "cell_type": "code",
   "execution_count": 14,
   "metadata": {},
   "outputs": [],
   "source": [
    "zero_importance_features = fs.ops['zero_importance']"
   ]
  },
  {
   "cell_type": "code",
   "execution_count": 34,
   "metadata": {},
   "outputs": [
    {
     "data": {
      "image/png": "[encoded data removed]",
      "text/plain": [
       "<Figure size 1000x600 with 1 Axes>"
      ]
     },
     "metadata": {},
     "output_type": "display_data"
    },
    {
     "data": {
      "image/png": "[encoded data removed]",
      "text/plain": [
       "<Figure size 600x400 with 1 Axes>"
      ]
     },
     "metadata": {},
     "output_type": "display_data"
    },
    {
     "name": "stdout",
     "output_type": "stream",
     "text": [
      "277 features required for 0.99 of cumulative importance\n"
     ]
    }
   ],
   "source": [
    "#绘制特征重要性\n",
    "fs.plot_feature_importances(threshold=0.99,plot_n=40)"
   ]
  },
  {
   "cell_type": "markdown",
   "metadata": {},
   "source": [
    "# 查看低重要性的特征[PCA]"
   ]
  },
  {
   "cell_type": "code",
   "execution_count": 17,
   "metadata": {},
   "outputs": [
    {
     "name": "stdout",
     "output_type": "stream",
     "text": [
      "276 features required for cumulative importance of 0.99 after one hot encoding.\n",
      "21 features do not contribute to cumulative importance of 0.99.\n",
      "\n"
     ]
    }
   ],
   "source": [
    "#查看低重要性的特征[PCA]\n",
    "fs.identify_low_importance(cumulative_importance=0.99)"
   ]
  },
  {
   "cell_type": "code",
   "execution_count": 21,
   "metadata": {},
   "outputs": [],
   "source": [
    "low_importance_features = fs.ops['low_importance']"
   ]
  },
  {
   "cell_type": "code",
   "execution_count": 32,
   "metadata": {},
   "outputs": [
    {
     "data": {
      "text/html": [
       "<div>\n",
       "<style scoped>\n",
       "    .dataframe tbody tr th:only-of-type {\n",
       "        vertical-align: middle;\n",
       "    }\n",
       "\n",
       "    .dataframe tbody tr th {\n",
       "        vertical-align: top;\n",
       "    }\n",
       "\n",
       "    .dataframe thead th {\n",
       "        text-align: right;\n",
       "    }\n",
       "</style>\n",
       "<table border=\"1\" class=\"dataframe\">\n",
       "  <thead>\n",
       "    <tr style=\"text-align: right;\">\n",
       "      <th></th>\n",
       "      <th>feature</th>\n",
       "      <th>importance</th>\n",
       "      <th>normalized_importance</th>\n",
       "      <th>cumulative_importance</th>\n",
       "    </tr>\n",
       "  </thead>\n",
       "  <tbody>\n",
       "    <tr>\n",
       "      <th>0</th>\n",
       "      <td>f7</td>\n",
       "      <td>610.9</td>\n",
       "      <td>0.034092</td>\n",
       "      <td>0.034092</td>\n",
       "    </tr>\n",
       "    <tr>\n",
       "      <th>1</th>\n",
       "      <td>f210</td>\n",
       "      <td>415.3</td>\n",
       "      <td>0.023177</td>\n",
       "      <td>0.057269</td>\n",
       "    </tr>\n",
       "    <tr>\n",
       "      <th>2</th>\n",
       "      <td>f248</td>\n",
       "      <td>307.4</td>\n",
       "      <td>0.017155</td>\n",
       "      <td>0.074424</td>\n",
       "    </tr>\n",
       "    <tr>\n",
       "      <th>3</th>\n",
       "      <td>f5</td>\n",
       "      <td>304.7</td>\n",
       "      <td>0.017004</td>\n",
       "      <td>0.091428</td>\n",
       "    </tr>\n",
       "    <tr>\n",
       "      <th>4</th>\n",
       "      <td>f82</td>\n",
       "      <td>281.7</td>\n",
       "      <td>0.015721</td>\n",
       "      <td>0.107149</td>\n",
       "    </tr>\n",
       "    <tr>\n",
       "      <th>5</th>\n",
       "      <td>f6</td>\n",
       "      <td>246.9</td>\n",
       "      <td>0.013779</td>\n",
       "      <td>0.120928</td>\n",
       "    </tr>\n",
       "    <tr>\n",
       "      <th>6</th>\n",
       "      <td>f238</td>\n",
       "      <td>245.2</td>\n",
       "      <td>0.013684</td>\n",
       "      <td>0.134611</td>\n",
       "    </tr>\n",
       "    <tr>\n",
       "      <th>7</th>\n",
       "      <td>f30</td>\n",
       "      <td>197.8</td>\n",
       "      <td>0.011039</td>\n",
       "      <td>0.145650</td>\n",
       "    </tr>\n",
       "    <tr>\n",
       "      <th>8</th>\n",
       "      <td>f234</td>\n",
       "      <td>196.3</td>\n",
       "      <td>0.010955</td>\n",
       "      <td>0.156605</td>\n",
       "    </tr>\n",
       "    <tr>\n",
       "      <th>9</th>\n",
       "      <td>f244</td>\n",
       "      <td>191.0</td>\n",
       "      <td>0.010659</td>\n",
       "      <td>0.167264</td>\n",
       "    </tr>\n",
       "    <tr>\n",
       "      <th>10</th>\n",
       "      <td>f106</td>\n",
       "      <td>190.1</td>\n",
       "      <td>0.010609</td>\n",
       "      <td>0.177873</td>\n",
       "    </tr>\n",
       "    <tr>\n",
       "      <th>11</th>\n",
       "      <td>f253</td>\n",
       "      <td>189.7</td>\n",
       "      <td>0.010587</td>\n",
       "      <td>0.188459</td>\n",
       "    </tr>\n",
       "    <tr>\n",
       "      <th>12</th>\n",
       "      <td>f215</td>\n",
       "      <td>183.0</td>\n",
       "      <td>0.010213</td>\n",
       "      <td>0.198672</td>\n",
       "    </tr>\n",
       "    <tr>\n",
       "      <th>13</th>\n",
       "      <td>f84</td>\n",
       "      <td>175.4</td>\n",
       "      <td>0.009788</td>\n",
       "      <td>0.208460</td>\n",
       "    </tr>\n",
       "    <tr>\n",
       "      <th>14</th>\n",
       "      <td>f52</td>\n",
       "      <td>170.1</td>\n",
       "      <td>0.009493</td>\n",
       "      <td>0.217953</td>\n",
       "    </tr>\n",
       "    <tr>\n",
       "      <th>15</th>\n",
       "      <td>f15</td>\n",
       "      <td>169.3</td>\n",
       "      <td>0.009448</td>\n",
       "      <td>0.227401</td>\n",
       "    </tr>\n",
       "    <tr>\n",
       "      <th>16</th>\n",
       "      <td>f243</td>\n",
       "      <td>167.7</td>\n",
       "      <td>0.009359</td>\n",
       "      <td>0.236760</td>\n",
       "    </tr>\n",
       "    <tr>\n",
       "      <th>17</th>\n",
       "      <td>f31</td>\n",
       "      <td>159.0</td>\n",
       "      <td>0.008873</td>\n",
       "      <td>0.245633</td>\n",
       "    </tr>\n",
       "    <tr>\n",
       "      <th>18</th>\n",
       "      <td>f29</td>\n",
       "      <td>158.9</td>\n",
       "      <td>0.008868</td>\n",
       "      <td>0.254501</td>\n",
       "    </tr>\n",
       "    <tr>\n",
       "      <th>19</th>\n",
       "      <td>f53</td>\n",
       "      <td>156.6</td>\n",
       "      <td>0.008739</td>\n",
       "      <td>0.263240</td>\n",
       "    </tr>\n",
       "  </tbody>\n",
       "</table>\n",
       "</div>"
      ],
      "text/plain": [
       "   feature  importance  normalized_importance  cumulative_importance\n",
       "0       f7       610.9               0.034092               0.034092\n",
       "1     f210       415.3               0.023177               0.057269\n",
       "2     f248       307.4               0.017155               0.074424\n",
       "3       f5       304.7               0.017004               0.091428\n",
       "4      f82       281.7               0.015721               0.107149\n",
       "5       f6       246.9               0.013779               0.120928\n",
       "6     f238       245.2               0.013684               0.134611\n",
       "7      f30       197.8               0.011039               0.145650\n",
       "8     f234       196.3               0.010955               0.156605\n",
       "9     f244       191.0               0.010659               0.167264\n",
       "10    f106       190.1               0.010609               0.177873\n",
       "11    f253       189.7               0.010587               0.188459\n",
       "12    f215       183.0               0.010213               0.198672\n",
       "13     f84       175.4               0.009788               0.208460\n",
       "14     f52       170.1               0.009493               0.217953\n",
       "15     f15       169.3               0.009448               0.227401\n",
       "16    f243       167.7               0.009359               0.236760\n",
       "17     f31       159.0               0.008873               0.245633\n",
       "18     f29       158.9               0.008868               0.254501\n",
       "19     f53       156.6               0.008739               0.263240"
      ]
     },
     "execution_count": 32,
     "metadata": {},
     "output_type": "execute_result"
    }
   ],
   "source": [
    "fs.feature_importances.head(20)"
   ]
  },
  {
   "cell_type": "code",
   "execution_count": 33,
   "metadata": {},
   "outputs": [
    {
     "data": {
      "text/plain": [
       "['f7',\n",
       " 'f210',\n",
       " 'f248',\n",
       " 'f5',\n",
       " 'f82',\n",
       " 'f6',\n",
       " 'f238',\n",
       " 'f30',\n",
       " 'f234',\n",
       " 'f244',\n",
       " 'f106',\n",
       " 'f253',\n",
       " 'f215',\n",
       " 'f84',\n",
       " 'f52',\n",
       " 'f15',\n",
       " 'f243',\n",
       " 'f31',\n",
       " 'f29',\n",
       " 'f53']"
      ]
     },
     "execution_count": 33,
     "metadata": {},
     "output_type": "execute_result"
    }
   ],
   "source": [
    "list(fs.feature_importances.head(20)['feature'])"
   ]
  },
  {
   "cell_type": "markdown",
   "metadata": {},
   "source": [
    "# 单一的唯一价值特征"
   ]
  },
  {
   "cell_type": "code",
   "execution_count": 20,
   "metadata": {},
   "outputs": [
    {
     "name": "stdout",
     "output_type": "stream",
     "text": [
      "0 features with a single unique value.\n",
      "\n"
     ]
    }
   ],
   "source": [
    "fs.identify_single_unique()"
   ]
  },
  {
   "cell_type": "markdown",
   "metadata": {},
   "source": [
    "# 总结"
   ]
  },
  {
   "cell_type": "code",
   "execution_count": 23,
   "metadata": {},
   "outputs": [],
   "source": [
    "remove_feature = set(missing_features + collinear_features + zero_importance_features + low_importance_features)"
   ]
  },
  {
   "cell_type": "code",
   "execution_count": 28,
   "metadata": {},
   "outputs": [
    {
     "data": {
      "text/plain": [
       "['./fs.model',\n",
       " './fs.model_01.npy',\n",
       " './fs.model_02.npy',\n",
       " './fs.model_03.npy',\n",
       " './fs.model_04.npy',\n",
       " './fs.model_05.npy',\n",
       " './fs.model_06.npy',\n",
       " './fs.model_07.npy',\n",
       " './fs.model_08.npy',\n",
       " './fs.model_09.npy',\n",
       " './fs.model_10.npy',\n",
       " './fs.model_11.npy',\n",
       " './fs.model_12.npy',\n",
       " './fs.model_13.npy',\n",
       " './fs.model_14.npy',\n",
       " './fs.model_15.npy',\n",
       " './fs.model_16.npy',\n",
       " './fs.model_17.npy',\n",
       " './fs.model_18.npy',\n",
       " './fs.model_19.npy',\n",
       " './fs.model_20.npy',\n",
       " './fs.model_21.npy',\n",
       " './fs.model_22.npy',\n",
       " './fs.model_23.npy',\n",
       " './fs.model_24.npy',\n",
       " './fs.model_25.npy',\n",
       " './fs.model_26.npy',\n",
       " './fs.model_27.npy',\n",
       " './fs.model_28.npy',\n",
       " './fs.model_29.npy',\n",
       " './fs.model_30.npy',\n",
       " './fs.model_31.npy',\n",
       " './fs.model_32.npy',\n",
       " './fs.model_33.npy',\n",
       " './fs.model_34.npy',\n",
       " './fs.model_35.npy',\n",
       " './fs.model_36.npy',\n",
       " './fs.model_37.npy']"
      ]
     },
     "execution_count": 28,
     "metadata": {},
     "output_type": "execute_result"
    }
   ],
   "source": [
    "joblib.dump(fs,'./fs.model')"
   ]
  },
  {
   "cell_type": "code",
   "execution_count": 29,
   "metadata": {},
   "outputs": [],
   "source": [
    "#Add the following line to Lib/data.py\n",
    "NOT_IMP_FEATURE =['f114', 'f231', 'f280', 'f154', 'f251', 'f208', 'f127', 'f292', 'f157', 'f223', 'f189', 'f229', 'f255', 'f51', 'f230', 'f253', 'f27', 'f143', 'f39', 'f120', 'f209', 'f67', 'f146', 'f142', 'f59', 'f121', 'f22', 'f151', 'f248', 'f293', 'f125', 'f232', 'f165', 'f200', 'f290', 'f40', 'f225', 'f35', 'f136', 'f69', 'f138', 'f135', 'f26', 'f49', 'f163', 'f145', 'f227', 'f139', 'f252', 'f118', 'f164', 'f113', 'f116', 'f119', 'f222', 'f242', 'f297', 'f206', 'f152', 'f47', 'f243', 'f218', 'f46', 'f207', 'f131', 'f214', 'f140', 'f115', 'f130', 'f228', 'f213', 'f45', 'f294', 'f37', 'f250', 'f238', 'f70', 'f249', 'f272', 'f126', 'f281', 'f124', 'f42', 'f128', 'f122', 'f38', 'f148', 'f166', 'f137', 'f147', 'f123', 'f133', 'f60', 'f149', 'f217', 'f112', 'f268', 'f144', 'f287', 'f220', 'f36', 'f109', 'f44', 'f221', 'f50', 'f216', 'f226', 'f153', 'f48', 'f111', 'f54', 'f129', 'f23', 'f75', 'f233', 'f43', 'f41', 'f224', 'f247', 'f74', 'f63', 'f117', 'f196', 'f289', 'f211', 'f246', 'f141', 'f295', 'f286', 'f288', 'f71', 'f212', 'f132', 'f150']"
   ]
  },
  {
   "cell_type": "markdown",
   "metadata": {},
   "source": [
    "# 处理Categorical 特征"
   ]
  },
  {
   "cell_type": "code",
   "execution_count": 51,
   "metadata": {
    "scrolled": false
   },
   "outputs": [],
   "source": [
    "unique_dict = {}\n",
    "NOT_FEATURE = atecml.data.NOT_FEATURE_COLUMNS+ NOT_IMP_FEATURE\n",
    "features = [x for x in train_df.columns if x not in NOT_FEATURE]\n",
    "\n",
    "Category_Feature_list =[]\n",
    "for item in  features:\n",
    "    col_unique_count = len(train_df[item].unique())\n",
    "    unique_dict[item] = col_unique_count\n",
    "    if (col_unique_count < 16):\n",
    "        Category_Feature_list.append(item)\n"
   ]
  },
  {
   "cell_type": "code",
   "execution_count": 52,
   "metadata": {},
   "outputs": [
    {
     "data": {
      "text/plain": [
       "['f1',\n",
       " 'f2',\n",
       " 'f3',\n",
       " 'f4',\n",
       " 'f6',\n",
       " 'f7',\n",
       " 'f8',\n",
       " 'f9',\n",
       " 'f10',\n",
       " 'f11',\n",
       " 'f12',\n",
       " 'f13',\n",
       " 'f14',\n",
       " 'f15',\n",
       " 'f16',\n",
       " 'f17',\n",
       " 'f18',\n",
       " 'f19',\n",
       " 'f28',\n",
       " 'f29',\n",
       " 'f61',\n",
       " 'f87',\n",
       " 'f88',\n",
       " 'f89',\n",
       " 'f90',\n",
       " 'f98',\n",
       " 'f99',\n",
       " 'f155',\n",
       " 'f156',\n",
       " 'f158',\n",
       " 'f159',\n",
       " 'f160',\n",
       " 'f167',\n",
       " 'f168',\n",
       " 'f169',\n",
       " 'f170',\n",
       " 'f171',\n",
       " 'f172',\n",
       " 'f173',\n",
       " 'f174',\n",
       " 'f175',\n",
       " 'f176',\n",
       " 'f177',\n",
       " 'f179',\n",
       " 'f180',\n",
       " 'f181',\n",
       " 'f182',\n",
       " 'f183',\n",
       " 'f186',\n",
       " 'f187',\n",
       " 'f188',\n",
       " 'f190',\n",
       " 'f191',\n",
       " 'f194',\n",
       " 'f195',\n",
       " 'f197',\n",
       " 'f198',\n",
       " 'f199',\n",
       " 'f201',\n",
       " 'f202',\n",
       " 'f203',\n",
       " 'f254',\n",
       " 'f256',\n",
       " 'f257',\n",
       " 'f258',\n",
       " 'f267',\n",
       " 'f269',\n",
       " 'f273',\n",
       " 'f274',\n",
       " 'f275',\n",
       " 'f276',\n",
       " 'f277']"
      ]
     },
     "execution_count": 52,
     "metadata": {},
     "output_type": "execute_result"
    }
   ],
   "source": [
    "Category_Feature_list"
   ]
  },
  {
   "cell_type": "code",
   "execution_count": null,
   "metadata": {},
   "outputs": [],
   "source": []
  }
 ],
 "metadata": {
  "kernelspec": {
   "display_name": "Python 3",
   "language": "python",
   "name": "python3"
  },
  "language_info": {
   "codemirror_mode": {
    "name": "ipython",
    "version": 3
   },
   "file_extension": ".py",
   "mimetype": "text/x-python",
   "name": "python",
   "nbconvert_exporter": "python",
   "pygments_lexer": "ipython3",
   "version": "3.5.2"
  }
 },
 "nbformat": 4,
 "nbformat_minor": 2
}

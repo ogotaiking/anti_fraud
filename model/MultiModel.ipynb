{
 "cells": [
  {
   "cell_type": "code",
   "execution_count": 1,
   "metadata": {},
   "outputs": [
    {
     "data": {
      "text/html": [
       "<style>.container { width:100% !important; }</style>"
      ],
      "text/plain": [
       "<IPython.core.display.HTML object>"
      ]
     },
     "metadata": {},
     "output_type": "display_data"
    }
   ],
   "source": [
    "from IPython.core.display import display, HTML\n",
    "display(HTML(\"<style>.container { width:100% !important; }</style>\"))\n",
    "%matplotlib inline\n",
    "import matplotlib\n",
    "import matplotlib.pyplot as plt\n",
    "import matplotlib.gridspec as gridspec\n",
    "import seaborn as sns\n",
    "import os\n",
    "\n",
    "import numpy as np\n",
    "import pandas as pd\n",
    "import tensorflow as tf\n",
    "\n",
    "import atecml.data\n",
    "\n",
    "from contextlib import contextmanager\n",
    "from tqdm import tqdm\n",
    "from sklearn.neighbors import KNeighborsClassifier\n",
    "from sklearn.preprocessing import StandardScaler, MinMaxScaler\n",
    "from imblearn.over_sampling import SMOTE, ADASYN\n",
    "\n",
    "plt.style.use('ggplot')"
   ]
  },
  {
   "cell_type": "code",
   "execution_count": 2,
   "metadata": {},
   "outputs": [],
   "source": [
    "@contextmanager\n",
    "def timer(func_name: str):\n",
    "    \"\"\"Elapsed Time\n",
    "    \"\"\"\n",
    "    start = time()\n",
    "    print('[{}][{}] Begin ...'.format(strftime('%Y-%m-%d %H:%M:%S'), func_name))\n",
    "    yield\n",
    "    print('[{}][{}] End   ...[Elapsed: {:.2f}s]'.format(strftime('%Y-%m-%d %H:%M:%S'), func_name, time()-start))"
   ]
  },
  {
   "cell_type": "code",
   "execution_count": 3,
   "metadata": {},
   "outputs": [],
   "source": [
    "train_df,test_df = atecml.data.load()"
   ]
  },
  {
   "cell_type": "code",
   "execution_count": 4,
   "metadata": {},
   "outputs": [],
   "source": [
    "predictors = [x for x in train_df.columns if x not in atecml.data.NOT_FEATURE_COLUMNS]\n",
    "target = 'Fraud'"
   ]
  },
  {
   "cell_type": "code",
   "execution_count": 5,
   "metadata": {},
   "outputs": [],
   "source": [
    "#0905-1015 for Train\n",
    "#1015-11xx for Verification\n",
    "\n",
    "train_df = atecml.data.filter_date(train_df,start_date='2017-09-05',end_date='2017-10-15')"
   ]
  },
  {
   "cell_type": "code",
   "execution_count": 6,
   "metadata": {},
   "outputs": [
    {
     "name": "stderr",
     "output_type": "stream",
     "text": [
      "\r",
      "  0%|          | 0/41 [00:00<?, ?it/s]"
     ]
    },
    {
     "name": "stdout",
     "output_type": "stream",
     "text": [
      "[2018-06-23 16:02:28][Fillna by DateMedian] Begin ...\n"
     ]
    },
    {
     "name": "stderr",
     "output_type": "stream",
     "text": [
      "100%|██████████| 41/41 [00:13<00:00,  2.92it/s]\n"
     ]
    },
    {
     "name": "stdout",
     "output_type": "stream",
     "text": [
      "[2018-06-23 16:02:45][Fillna by DateMedian] End   ...[Elapsed: 16.23s]\n"
     ]
    }
   ],
   "source": [
    "train_df = atecml.data.fillna_by_DateMedian(train_df)"
   ]
  },
  {
   "cell_type": "code",
   "execution_count": 7,
   "metadata": {},
   "outputs": [
    {
     "data": {
      "text/plain": [
       "\"\\nwith timer('PreProcessing: Normalization'):\\n    scaled_features = StandardScaler().fit_transform(train_df[predictors].values)\\n    scaled_features_df = pd.DataFrame(scaled_features, index=train_df.index, columns=predictors)\\n\""
      ]
     },
     "execution_count": 7,
     "metadata": {},
     "output_type": "execute_result"
    }
   ],
   "source": [
    "'''\n",
    "with timer('PreProcessing: Normalization'):\n",
    "    scaled_features = StandardScaler().fit_transform(train_df[predictors].values)\n",
    "    scaled_features_df = pd.DataFrame(scaled_features, index=train_df.index, columns=predictors)\n",
    "'''    "
   ]
  },
  {
   "cell_type": "code",
   "execution_count": null,
   "metadata": {},
   "outputs": [],
   "source": []
  },
  {
   "cell_type": "code",
   "execution_count": 8,
   "metadata": {},
   "outputs": [],
   "source": [
    "#build Models...\n",
    "from sklearn.ensemble import RandomForestClassifier\n",
    "from sklearn.ensemble import ExtraTreesClassifier\n",
    "from sklearn.ensemble import GradientBoostingClassifier\n",
    "from sklearn.tree import DecisionTreeClassifier\n",
    "from lightgbm import LGBMClassifier\n",
    "from xgboost import XGBClassifier\n",
    "from sklearn.model_selection import train_test_split\n",
    "from sklearn.externals import joblib\n",
    "\n",
    "model = {}\n",
    "\n",
    "#model[\"RandomForest\"] = RandomForestClassifier(n_estimators=1000, max_depth=50, n_jobs=-1)\n",
    "#model[\"ExtraTree\"] =ExtraTreesClassifier(n_estimators=1000, max_depth=50, n_jobs=-1)\n",
    "model[\"LightGBM\"] = LGBMClassifier(n_estimators=1000, max_depth=50)\n",
    "#model[\"GBDT\"] =GradientBoostingClassifier(n_estimators=1000, max_depth=50)\n",
    "#model[\"XGBOOST\"] =XGBClassifier(n_estimators=10, max_depth=5,nthread=80)\n",
    "\n",
    "\n",
    "def model_train(df, predictors,model_name):\n",
    "    model_cache_name = './'+model_name+'.model'\n",
    "    if (os.path.exists(model_cache_name)):\n",
    "        clf = joblib.load(model_cache_name)\n",
    "    else:\n",
    "        params = model_name.split('__')\n",
    "        model_key = params[0]\n",
    "        target = params[1]\n",
    "        clf = model[model_key]\n",
    "        with atecml.data.timer('> {} <: OverSample for imbalance data'.format(model_key)):\n",
    "            X_resampled, y_resampled = SMOTE().fit_sample(df[predictors],df[target])\n",
    "        with atecml.data.timer('> {} <: Training...'.format(model_key)):\n",
    "            clf.fit(X_resampled,y_resampled)\n",
    "        joblib.dump(clf,model_cache_name)\n",
    "    return clf\n",
    "    "
   ]
  },
  {
   "cell_type": "code",
   "execution_count": 9,
   "metadata": {},
   "outputs": [
    {
     "name": "stderr",
     "output_type": "stream",
     "text": [
      "  7%|▋         | 2/28 [00:00<00:01, 15.16it/s]"
     ]
    },
    {
     "name": "stdout",
     "output_type": "stream",
     "text": [
      "[2018-06-23 16:02:49][Classification: Model Training] Begin ...\n"
     ]
    },
    {
     "name": "stderr",
     "output_type": "stream",
     "text": [
      "100%|██████████| 28/28 [00:04<00:00,  5.59it/s]"
     ]
    },
    {
     "name": "stdout",
     "output_type": "stream",
     "text": [
      "[2018-06-23 16:02:54][Classification: Model Training] End   ...[Elapsed: 4.84s]\n"
     ]
    },
    {
     "name": "stderr",
     "output_type": "stream",
     "text": [
      "\n"
     ]
    }
   ],
   "source": [
    "train_model =[]\n",
    "for idx in range(0,14):\n",
    "    for item in model.keys():\n",
    "        for target in ['Normal','Fraud']:\n",
    "            train_id = item + '__'+target +'__'+str(idx)\n",
    "            train_model.append(train_id)\n",
    "\n",
    "trained_model_list =[]\n",
    "with atecml.data.timer('Classification: Model Training'):\n",
    "    for train_id in tqdm(range(len(train_model))):\n",
    "        fit_model = model_train(train_df,predictors,train_model[train_id])\n",
    "        trained_model_list.append(fit_model)"
   ]
  },
  {
   "cell_type": "code",
   "execution_count": 10,
   "metadata": {},
   "outputs": [],
   "source": [
    "verify_df = atecml.data.load_train()\n",
    "verify_data = atecml.data.filter_date(verify_df,start_date='2017-10-16',end_date='2018-10-15')"
   ]
  },
  {
   "cell_type": "code",
   "execution_count": 11,
   "metadata": {},
   "outputs": [
    {
     "name": "stderr",
     "output_type": "stream",
     "text": [
      "\r",
      "  0%|          | 0/21 [00:00<?, ?it/s]"
     ]
    },
    {
     "name": "stdout",
     "output_type": "stream",
     "text": [
      "[2018-06-23 16:03:02][Fillna by DateMedian] Begin ...\n"
     ]
    },
    {
     "name": "stderr",
     "output_type": "stream",
     "text": [
      "100%|██████████| 21/21 [00:06<00:00,  3.02it/s]\n"
     ]
    },
    {
     "name": "stdout",
     "output_type": "stream",
     "text": [
      "[2018-06-23 16:03:10][Fillna by DateMedian] End   ...[Elapsed: 8.05s]\n"
     ]
    },
    {
     "data": {
      "text/plain": [
       "\"\\nwith atecml.data.timer('Validation: verify_data fillna'):\\n    for idx in tqdm(range(len(predictors))):\\n        item = predictors[idx]\\n        verify_data[item].fillna(verify_data[item].min(), inplace=True)\\n\""
      ]
     },
     "execution_count": 11,
     "metadata": {},
     "output_type": "execute_result"
    }
   ],
   "source": [
    "verify_data = atecml.data.fillna_by_DateMedian(verify_data)\n",
    "\n",
    "'''\n",
    "with atecml.data.timer('Validation: verify_data fillna'):\n",
    "    for idx in tqdm(range(len(predictors))):\n",
    "        item = predictors[idx]\n",
    "        verify_data[item].fillna(verify_data[item].min(), inplace=True)\n",
    "'''"
   ]
  },
  {
   "cell_type": "code",
   "execution_count": 12,
   "metadata": {},
   "outputs": [
    {
     "name": "stderr",
     "output_type": "stream",
     "text": [
      "\r",
      "  0%|          | 0/28 [00:00<?, ?it/s]"
     ]
    },
    {
     "name": "stdout",
     "output_type": "stream",
     "text": [
      "[2018-06-23 16:03:12][Validation: Modelfit] Begin ...\n"
     ]
    },
    {
     "name": "stderr",
     "output_type": "stream",
     "text": [
      "100%|██████████| 28/28 [02:40<00:00,  5.70s/it]"
     ]
    },
    {
     "name": "stdout",
     "output_type": "stream",
     "text": [
      "[2018-06-23 16:05:53][Validation: Modelfit] End   ...[Elapsed: 160.25s]\n"
     ]
    },
    {
     "name": "stderr",
     "output_type": "stream",
     "text": [
      "\n"
     ]
    }
   ],
   "source": [
    "verify_df =pd.DataFrame()\n",
    "with atecml.data.timer('Validation: Modelfit'):\n",
    "    for idx in tqdm(range(len(trained_model_list))):\n",
    "        clf = trained_model_list[idx]\n",
    "        y_predict = clf.predict_proba(np.array(verify_data[predictors]))\n",
    "        model_params = train_model[idx].split('__')\n",
    "        if (model_params[1] == 'Fraud'):\n",
    "            verify_df[idx] = pd.DataFrame(y_predict)[1]\n",
    "        else:\n",
    "            verify_df[idx] = pd.DataFrame(y_predict)[0]"
   ]
  },
  {
   "cell_type": "code",
   "execution_count": 13,
   "metadata": {},
   "outputs": [],
   "source": [
    "verify_df['mean']=verify_df.T.mean()"
   ]
  },
  {
   "cell_type": "code",
   "execution_count": 14,
   "metadata": {},
   "outputs": [],
   "source": [
    "from sklearn.metrics import roc_curve, auc\n",
    "def performance(y_test,y_predict_proba):\n",
    "    \"\"\"\n",
    "    基于ROC的模型性能测量，并根据蚂蚁金服评分标准输出分数\n",
    "    \"\"\"\n",
    "    fpr, tpr, thresholds = roc_curve(y_test,y_predict_proba)\n",
    "    roc_auc = auc(fpr, tpr)\n",
    "    roc_result = pd.DataFrame()\n",
    "    roc_result['fpr'] = pd.Series(fpr)\n",
    "    roc_result['tpr'] = pd.Series(tpr)\n",
    "    roc_result['thresholds'] = pd.Series(thresholds)\n",
    "    TPR1= float(roc_result[roc_result['fpr']<=0.001002].tail(1)['tpr'])\n",
    "    TPR2=float(roc_result[roc_result['fpr']<=0.005002].tail(1)['tpr'])\n",
    "    TPR3=float(roc_result[roc_result['fpr']<=0.010002].tail(1)['tpr'])\n",
    "    FINAL_SCORE = 0.4*TPR1 + 0.3*TPR2 + 0.3 * TPR3\n",
    "    print(FINAL_SCORE)\n",
    "    plt.title('Receiver Operating Characteristic')\n",
    "    plt.plot(fpr, tpr, 'b',label='AUC = %0.2f'% roc_auc)\n",
    "    plt.legend(loc='lower right')\n",
    "    plt.xlim([-0.1,1.2])\n",
    "    plt.ylim([-0.1,1.2])\n",
    "    plt.ylabel('True Positive Rate')\n",
    "    plt.xlabel('False Positive Rate')\n",
    "    plt.show()\n",
    "    return (FINAL_SCORE,roc_result,roc_auc)"
   ]
  },
  {
   "cell_type": "code",
   "execution_count": 15,
   "metadata": {},
   "outputs": [
    {
     "name": "stdout",
     "output_type": "stream",
     "text": [
      "0.48731924360400447\n"
     ]
    },
    {
     "data": {
      "image/png": "[encoded data removed]",
      "text/plain": [
       "<Figure size 432x288 with 1 Axes>"
      ]
     },
     "metadata": {},
     "output_type": "display_data"
    }
   ],
   "source": [
    "a,b,c=performance(verify_data[target],verify_df['mean'])"
   ]
  },
  {
   "cell_type": "code",
   "execution_count": null,
   "metadata": {},
   "outputs": [],
   "source": []
  },
  {
   "cell_type": "code",
   "execution_count": 16,
   "metadata": {},
   "outputs": [
    {
     "name": "stderr",
     "output_type": "stream",
     "text": [
      "\r",
      "  0%|          | 0/32 [00:00<?, ?it/s]"
     ]
    },
    {
     "name": "stdout",
     "output_type": "stream",
     "text": [
      "[2018-06-23 16:06:00][Fillna by DateMedian] Begin ...\n"
     ]
    },
    {
     "name": "stderr",
     "output_type": "stream",
     "text": [
      "100%|██████████| 32/32 [00:11<00:00,  2.67it/s]\n"
     ]
    },
    {
     "name": "stdout",
     "output_type": "stream",
     "text": [
      "[2018-06-23 16:06:13][Fillna by DateMedian] End   ...[Elapsed: 13.18s]\n"
     ]
    }
   ],
   "source": [
    "test_df = atecml.data.load_test()\n",
    "test_df = atecml.data.fillna_by_DateMedian(test_df)"
   ]
  },
  {
   "cell_type": "code",
   "execution_count": 17,
   "metadata": {},
   "outputs": [
    {
     "name": "stderr",
     "output_type": "stream",
     "text": [
      "\r",
      "  0%|          | 0/28 [00:00<?, ?it/s]"
     ]
    },
    {
     "name": "stdout",
     "output_type": "stream",
     "text": [
      "[2018-06-23 16:06:17][Prediction: Modelfit] Begin ...\n"
     ]
    },
    {
     "name": "stderr",
     "output_type": "stream",
     "text": [
      "100%|██████████| 28/28 [03:49<00:00,  8.01s/it]"
     ]
    },
    {
     "name": "stdout",
     "output_type": "stream",
     "text": [
      "[2018-06-23 16:10:06][Prediction: Modelfit] End   ...[Elapsed: 229.44s]\n"
     ]
    },
    {
     "name": "stderr",
     "output_type": "stream",
     "text": [
      "\n"
     ]
    }
   ],
   "source": [
    "predict_df =pd.DataFrame()\n",
    "with atecml.data.timer('Prediction: Modelfit'):\n",
    "    for idx in tqdm(range(len(trained_model_list))):\n",
    "        clf = trained_model_list[idx]\n",
    "        y_predict = clf.predict_proba(np.array(test_df[predictors]))\n",
    "        model_params = train_model[idx].split('__')\n",
    "        if (model_params[1] == 'Fraud'):\n",
    "            predict_df[idx] = pd.DataFrame(y_predict)[1]\n",
    "        else:\n",
    "            predict_df[idx] = pd.DataFrame(y_predict)[0]"
   ]
  },
  {
   "cell_type": "code",
   "execution_count": 18,
   "metadata": {},
   "outputs": [],
   "source": [
    "predict_df['mean']=predict_df.T.mean()"
   ]
  },
  {
   "cell_type": "code",
   "execution_count": 19,
   "metadata": {},
   "outputs": [],
   "source": [
    "result=pd.concat([test_df['id'],predict_df['mean']],axis=1)"
   ]
  },
  {
   "cell_type": "code",
   "execution_count": 20,
   "metadata": {},
   "outputs": [],
   "source": [
    "result.set_index('id').to_csv('./submit_20180623.csv')"
   ]
  },
  {
   "cell_type": "code",
   "execution_count": null,
   "metadata": {},
   "outputs": [],
   "source": []
  },
  {
   "cell_type": "code",
   "execution_count": null,
   "metadata": {},
   "outputs": [],
   "source": []
  },
  {
   "cell_type": "code",
   "execution_count": null,
   "metadata": {},
   "outputs": [],
   "source": []
  },
  {
   "cell_type": "code",
   "execution_count": null,
   "metadata": {},
   "outputs": [],
   "source": []
  },
  {
   "cell_type": "code",
   "execution_count": null,
   "metadata": {},
   "outputs": [],
   "source": []
  }
 ],
 "metadata": {
  "kernelspec": {
   "display_name": "Python 3",
   "language": "python",
   "name": "python3"
  },
  "language_info": {
   "codemirror_mode": {
    "name": "ipython",
    "version": 3
   },
   "file_extension": ".py",
   "mimetype": "text/x-python",
   "name": "python",
   "nbconvert_exporter": "python",
   "pygments_lexer": "ipython3",
   "version": "3.5.2"
  }
 },
 "nbformat": 4,
 "nbformat_minor": 2
}

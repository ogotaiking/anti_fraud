{
 "cells": [
  {
   "cell_type": "code",
   "execution_count": 1,
   "metadata": {},
   "outputs": [
    {
     "data": {
      "text/html": [
       "<style>.container { width:100% !important; }</style>"
      ],
      "text/plain": [
       "<IPython.core.display.HTML object>"
      ]
     },
     "metadata": {},
     "output_type": "display_data"
    }
   ],
   "source": [
    "from IPython.core.display import display, HTML\n",
    "display(HTML(\"<style>.container { width:100% !important; }</style>\"))\n",
    "%matplotlib inline\n",
    "import matplotlib\n",
    "import matplotlib.pyplot as plt\n",
    "import matplotlib.gridspec as gridspec\n",
    "import seaborn as sns\n",
    "import os\n",
    "\n",
    "import numpy as np\n",
    "import pandas as pd\n",
    "import tensorflow as tf\n",
    "\n",
    "import atecml.data\n",
    "\n",
    "from contextlib import contextmanager\n",
    "from tqdm import tqdm\n",
    "from sklearn.neighbors import KNeighborsClassifier\n",
    "from sklearn.preprocessing import StandardScaler, MinMaxScaler\n",
    "from imblearn.over_sampling import SMOTE, ADASYN\n",
    "from sklearn.externals import joblib\n",
    "\n",
    "plt.style.use('ggplot')"
   ]
  },
  {
   "cell_type": "code",
   "execution_count": 2,
   "metadata": {},
   "outputs": [
    {
     "name": "stderr",
     "output_type": "stream",
     "text": [
      "100%|██████████| 6/6 [00:00<00:00, 41.90it/s]"
     ]
    },
    {
     "name": "stdout",
     "output_type": "stream",
     "text": [
      "Load Feature List from persistant store...\n",
      "[2018-06-27 16:52:30][Classification: Model Training] Begin ...\n",
      "[2018-06-27 16:52:30][Classification: Model Training] End   ...[Elapsed: 0.15s]\n"
     ]
    },
    {
     "name": "stderr",
     "output_type": "stream",
     "text": [
      "\n"
     ]
    }
   ],
   "source": [
    "#Loading Data....\n",
    "data = atecml.data.load_train()\n",
    "predictors = [x for x in data.columns if x not in atecml.data.NOT_FEATURE_SUM]\n",
    "\n",
    "\n",
    "feature_tree_num = 1\n",
    "train_model =[]\n",
    "for idx in range(0,1):\n",
    "    for item in ['dart','gbdt','rf']:\n",
    "        for feature_grp_idx in range(0,feature_tree_num):\n",
    "            for target in ['Normal','Fraud']:\n",
    "                train_id = item + '__'+target +'__'+str(idx) +'__' + str(feature_grp_idx)\n",
    "                train_model.append(train_id)\n",
    "\n",
    "                \n",
    "def model_load(model_name):\n",
    "    model_cache_name = './'+model_name+'.model'\n",
    "    if (os.path.exists(model_cache_name)):\n",
    "        clf = joblib.load(model_cache_name)\n",
    "    else:\n",
    "        print('ERROR...............')\n",
    "    return clf\n",
    "\n",
    "\n",
    "if (os.path.exists('./feature_list.dat')):\n",
    "    print('Load Feature List from persistant store...')\n",
    "    feature_list = joblib.load('./feature_list.dat')\n",
    "else:\n",
    "    print('Error: Feature Cache File missing...')\n",
    "\n",
    "\n",
    "trained_model_list =[]\n",
    "with atecml.data.timer('Classification: Model Training'):\n",
    "    for train_id in tqdm(range(len(train_model))):\n",
    "        fit_model = model_load(train_model[train_id])\n",
    "        trained_model_list.append(fit_model)\n"
   ]
  },
  {
   "cell_type": "code",
   "execution_count": 3,
   "metadata": {},
   "outputs": [
    {
     "data": {
      "text/plain": [
       "'\\nwith atecml.data.timer(\\'Feature Extraction\\'):\\n    for idx in tqdm(range(len(trained_model_list))):\\n        clf = trained_model_list[idx]\\n        model_params = train_model[idx].split(\\'__\\')\\n        f_idx = int(model_params[3])\\n        select_feature = feature_list[f_idx]\\n        enc = OneHotEncoder()\\n        print(train_model[idx],\"   > Fitting Encoder...\")\\n        enc.fit(clf.apply(data[select_feature]))\\n        print(train_model[idx],\"   > Encoder Transform...\")\\n        ext_feature =enc.transform(clf.apply(data[select_feature]))\\n        print(train_model[idx],\"   > Load Extension Features to DataFrame...\")\\n        ext_feature_df = pd.DataFrame(ext_feature.toarray()).T\\n        extend_array.append(ext_feature_df)\\n'"
      ]
     },
     "execution_count": 3,
     "metadata": {},
     "output_type": "execute_result"
    }
   ],
   "source": [
    "from sklearn.preprocessing import OneHotEncoder,LabelEncoder\n",
    "extend_array=pd.DataFrame()\n",
    "with atecml.data.timer('Feature Extraction'):\n",
    "    for idx in tqdm(range(len(trained_model_list))):\n",
    "        clf = trained_model_list[idx]\n",
    "        model_params = train_model[idx].split('__')\n",
    "        f_idx = int(model_params[3])\n",
    "        select_feature = feature_list[f_idx]\n",
    "        enc = OneHotEncoder()\n",
    "        print(train_model[idx],\"   > Fitting Encoder...\")\n",
    "        enc.fit(clf.apply(data[select_feature]))\n",
    "        print(train_model[idx],\"   > Encoder Transform...\")\n",
    "        ext_feature =enc.transform(clf.apply(data[select_feature]))\n",
    "        print(train_model[idx],\"   > Load Extension Features to DataFrame...\")\n",
    "        ext_feature_df = pd.DataFrame(ext_feature.toarray()).T\n",
    "        extend_array.append(ext_feature_df)\n"
   ]
  },
  {
   "cell_type": "code",
   "execution_count": 4,
   "metadata": {},
   "outputs": [],
   "source": [
    "extend_array=pd.DataFrame()"
   ]
  },
  {
   "cell_type": "code",
   "execution_count": 5,
   "metadata": {},
   "outputs": [],
   "source": [
    "idx = 1"
   ]
  },
  {
   "cell_type": "code",
   "execution_count": 10,
   "metadata": {},
   "outputs": [
    {
     "name": "stdout",
     "output_type": "stream",
     "text": [
      "dart__Fraud__0__0    > Fitting Encoder...\n",
      "dart__Fraud__0__0    > Encoder Transform...\n"
     ]
    }
   ],
   "source": [
    "clf = trained_model_list[idx]\n",
    "model_params = train_model[idx].split('__')\n",
    "f_idx = int(model_params[3])\n",
    "select_feature = feature_list[f_idx]\n",
    "\n",
    "enc = OneHotEncoder()\n",
    "print(train_model[idx],\"   > Fitting Encoder...\")\n",
    "enc.fit(clf.apply(data[select_feature]))\n",
    "print(train_model[idx],\"   > Encoder Transform...\")\n",
    "ext_feature =enc.transform(clf.apply(data[select_feature]))\n"
   ]
  },
  {
   "cell_type": "code",
   "execution_count": 11,
   "metadata": {},
   "outputs": [
    {
     "name": "stdout",
     "output_type": "stream",
     "text": [
      "dart__Fraud__0__0    > Load OneHotEncoder Result to np.array...\n"
     ]
    }
   ],
   "source": [
    "print(train_model[idx],\"   > Load OneHotEncoder Result to np.array...\")\n",
    "ext_feature_arr =ext_feature.toarray()"
   ]
  },
  {
   "cell_type": "code",
   "execution_count": 12,
   "metadata": {},
   "outputs": [
    {
     "name": "stdout",
     "output_type": "stream",
     "text": [
      "dart__Fraud__0__0    > Transform to DataFrame...\n"
     ]
    }
   ],
   "source": [
    "print(train_model[idx],\"   > Transform to DataFrame...\")\n",
    "ext_feature_df = pd.DataFrame(ext_feature_arr)"
   ]
  },
  {
   "cell_type": "code",
   "execution_count": 20,
   "metadata": {},
   "outputs": [],
   "source": [
    "extend_array =pd.concat([extend_array,ext_feature_df.T],axis=0)"
   ]
  },
  {
   "cell_type": "code",
   "execution_count": 17,
   "metadata": {},
   "outputs": [
    {
     "data": {
      "text/plain": [
       "Series([], dtype: object)"
      ]
     },
     "execution_count": 17,
     "metadata": {},
     "output_type": "execute_result"
    }
   ],
   "source": [
    "extend_array =pd.concat([extend_array,ext_feature_df.T],axis=0)"
   ]
  },
  {
   "cell_type": "code",
   "execution_count": 22,
   "metadata": {},
   "outputs": [
    {
     "data": {
      "text/plain": [
       "(994731, 2, 6400)"
      ]
     },
     "execution_count": 22,
     "metadata": {},
     "output_type": "execute_result"
    }
   ],
   "source": [
    "np.stack([ext_feature_arr,ext_feature_arr], axis=1).shape"
   ]
  },
  {
   "cell_type": "code",
   "execution_count": null,
   "metadata": {},
   "outputs": [],
   "source": [
    "\n",
    "ext_feature_df = pd.DataFrame().T"
   ]
  }
 ],
 "metadata": {
  "kernelspec": {
   "display_name": "Python 3",
   "language": "python",
   "name": "python3"
  },
  "language_info": {
   "codemirror_mode": {
    "name": "ipython",
    "version": 3
   },
   "file_extension": ".py",
   "mimetype": "text/x-python",
   "name": "python",
   "nbconvert_exporter": "python",
   "pygments_lexer": "ipython3",
   "version": "3.5.2"
  }
 },
 "nbformat": 4,
 "nbformat_minor": 2
}
